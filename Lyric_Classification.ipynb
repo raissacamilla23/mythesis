{
  "metadata": {
    "kernelspec": {
      "language": "python",
      "display_name": "Python 3",
      "name": "python3"
    },
    "language_info": {
      "pygments_lexer": "ipython3",
      "nbconvert_exporter": "python",
      "version": "3.6.4",
      "file_extension": ".py",
      "codemirror_mode": {
        "name": "ipython",
        "version": 3
      },
      "name": "python",
      "mimetype": "text/x-python"
    },
    "colab": {
      "provenance": [],
      "include_colab_link": true
    },
    "widgets": {
      "application/vnd.jupyter.widget-state+json": {
        "08939c381171420db3b391dfc18347c0": {
          "model_module": "@jupyter-widgets/controls",
          "model_name": "HBoxModel",
          "model_module_version": "1.5.0",
          "state": {
            "_dom_classes": [],
            "_model_module": "@jupyter-widgets/controls",
            "_model_module_version": "1.5.0",
            "_model_name": "HBoxModel",
            "_view_count": null,
            "_view_module": "@jupyter-widgets/controls",
            "_view_module_version": "1.5.0",
            "_view_name": "HBoxView",
            "box_style": "",
            "children": [
              "IPY_MODEL_2fe25df0daee48a2be7a06c380223b09",
              "IPY_MODEL_92a6ba8761de4153ae97e0dbda300808",
              "IPY_MODEL_4d9405b10d83427daffa31a0fd0327ef"
            ],
            "layout": "IPY_MODEL_75369ef19ea2429b94647c20b7e4cff5"
          }
        },
        "2fe25df0daee48a2be7a06c380223b09": {
          "model_module": "@jupyter-widgets/controls",
          "model_name": "HTMLModel",
          "model_module_version": "1.5.0",
          "state": {
            "_dom_classes": [],
            "_model_module": "@jupyter-widgets/controls",
            "_model_module_version": "1.5.0",
            "_model_name": "HTMLModel",
            "_view_count": null,
            "_view_module": "@jupyter-widgets/controls",
            "_view_module_version": "1.5.0",
            "_view_name": "HTMLView",
            "description": "",
            "description_tooltip": null,
            "layout": "IPY_MODEL_285ce51c1dc64f30a829f3656bb9e524",
            "placeholder": "​",
            "style": "IPY_MODEL_9595b925993b4a88a4681d9ef12ad0e1",
            "value": "Downloading (…)solve/main/vocab.txt: 100%"
          }
        },
        "92a6ba8761de4153ae97e0dbda300808": {
          "model_module": "@jupyter-widgets/controls",
          "model_name": "FloatProgressModel",
          "model_module_version": "1.5.0",
          "state": {
            "_dom_classes": [],
            "_model_module": "@jupyter-widgets/controls",
            "_model_module_version": "1.5.0",
            "_model_name": "FloatProgressModel",
            "_view_count": null,
            "_view_module": "@jupyter-widgets/controls",
            "_view_module_version": "1.5.0",
            "_view_name": "ProgressView",
            "bar_style": "success",
            "description": "",
            "description_tooltip": null,
            "layout": "IPY_MODEL_4578d64770b24a9b8fce5a898c14aab7",
            "max": 231508,
            "min": 0,
            "orientation": "horizontal",
            "style": "IPY_MODEL_eab52aeeacee4edaaa50e1799f00a230",
            "value": 231508
          }
        },
        "4d9405b10d83427daffa31a0fd0327ef": {
          "model_module": "@jupyter-widgets/controls",
          "model_name": "HTMLModel",
          "model_module_version": "1.5.0",
          "state": {
            "_dom_classes": [],
            "_model_module": "@jupyter-widgets/controls",
            "_model_module_version": "1.5.0",
            "_model_name": "HTMLModel",
            "_view_count": null,
            "_view_module": "@jupyter-widgets/controls",
            "_view_module_version": "1.5.0",
            "_view_name": "HTMLView",
            "description": "",
            "description_tooltip": null,
            "layout": "IPY_MODEL_859be3e03ed84fa6818e8e58cc2c8b67",
            "placeholder": "​",
            "style": "IPY_MODEL_86de8478313a4d7c8ee4143be31fbf6a",
            "value": " 232k/232k [00:00&lt;00:00, 2.25MB/s]"
          }
        },
        "75369ef19ea2429b94647c20b7e4cff5": {
          "model_module": "@jupyter-widgets/base",
          "model_name": "LayoutModel",
          "model_module_version": "1.2.0",
          "state": {
            "_model_module": "@jupyter-widgets/base",
            "_model_module_version": "1.2.0",
            "_model_name": "LayoutModel",
            "_view_count": null,
            "_view_module": "@jupyter-widgets/base",
            "_view_module_version": "1.2.0",
            "_view_name": "LayoutView",
            "align_content": null,
            "align_items": null,
            "align_self": null,
            "border": null,
            "bottom": null,
            "display": null,
            "flex": null,
            "flex_flow": null,
            "grid_area": null,
            "grid_auto_columns": null,
            "grid_auto_flow": null,
            "grid_auto_rows": null,
            "grid_column": null,
            "grid_gap": null,
            "grid_row": null,
            "grid_template_areas": null,
            "grid_template_columns": null,
            "grid_template_rows": null,
            "height": null,
            "justify_content": null,
            "justify_items": null,
            "left": null,
            "margin": null,
            "max_height": null,
            "max_width": null,
            "min_height": null,
            "min_width": null,
            "object_fit": null,
            "object_position": null,
            "order": null,
            "overflow": null,
            "overflow_x": null,
            "overflow_y": null,
            "padding": null,
            "right": null,
            "top": null,
            "visibility": null,
            "width": null
          }
        },
        "285ce51c1dc64f30a829f3656bb9e524": {
          "model_module": "@jupyter-widgets/base",
          "model_name": "LayoutModel",
          "model_module_version": "1.2.0",
          "state": {
            "_model_module": "@jupyter-widgets/base",
            "_model_module_version": "1.2.0",
            "_model_name": "LayoutModel",
            "_view_count": null,
            "_view_module": "@jupyter-widgets/base",
            "_view_module_version": "1.2.0",
            "_view_name": "LayoutView",
            "align_content": null,
            "align_items": null,
            "align_self": null,
            "border": null,
            "bottom": null,
            "display": null,
            "flex": null,
            "flex_flow": null,
            "grid_area": null,
            "grid_auto_columns": null,
            "grid_auto_flow": null,
            "grid_auto_rows": null,
            "grid_column": null,
            "grid_gap": null,
            "grid_row": null,
            "grid_template_areas": null,
            "grid_template_columns": null,
            "grid_template_rows": null,
            "height": null,
            "justify_content": null,
            "justify_items": null,
            "left": null,
            "margin": null,
            "max_height": null,
            "max_width": null,
            "min_height": null,
            "min_width": null,
            "object_fit": null,
            "object_position": null,
            "order": null,
            "overflow": null,
            "overflow_x": null,
            "overflow_y": null,
            "padding": null,
            "right": null,
            "top": null,
            "visibility": null,
            "width": null
          }
        },
        "9595b925993b4a88a4681d9ef12ad0e1": {
          "model_module": "@jupyter-widgets/controls",
          "model_name": "DescriptionStyleModel",
          "model_module_version": "1.5.0",
          "state": {
            "_model_module": "@jupyter-widgets/controls",
            "_model_module_version": "1.5.0",
            "_model_name": "DescriptionStyleModel",
            "_view_count": null,
            "_view_module": "@jupyter-widgets/base",
            "_view_module_version": "1.2.0",
            "_view_name": "StyleView",
            "description_width": ""
          }
        },
        "4578d64770b24a9b8fce5a898c14aab7": {
          "model_module": "@jupyter-widgets/base",
          "model_name": "LayoutModel",
          "model_module_version": "1.2.0",
          "state": {
            "_model_module": "@jupyter-widgets/base",
            "_model_module_version": "1.2.0",
            "_model_name": "LayoutModel",
            "_view_count": null,
            "_view_module": "@jupyter-widgets/base",
            "_view_module_version": "1.2.0",
            "_view_name": "LayoutView",
            "align_content": null,
            "align_items": null,
            "align_self": null,
            "border": null,
            "bottom": null,
            "display": null,
            "flex": null,
            "flex_flow": null,
            "grid_area": null,
            "grid_auto_columns": null,
            "grid_auto_flow": null,
            "grid_auto_rows": null,
            "grid_column": null,
            "grid_gap": null,
            "grid_row": null,
            "grid_template_areas": null,
            "grid_template_columns": null,
            "grid_template_rows": null,
            "height": null,
            "justify_content": null,
            "justify_items": null,
            "left": null,
            "margin": null,
            "max_height": null,
            "max_width": null,
            "min_height": null,
            "min_width": null,
            "object_fit": null,
            "object_position": null,
            "order": null,
            "overflow": null,
            "overflow_x": null,
            "overflow_y": null,
            "padding": null,
            "right": null,
            "top": null,
            "visibility": null,
            "width": null
          }
        },
        "eab52aeeacee4edaaa50e1799f00a230": {
          "model_module": "@jupyter-widgets/controls",
          "model_name": "ProgressStyleModel",
          "model_module_version": "1.5.0",
          "state": {
            "_model_module": "@jupyter-widgets/controls",
            "_model_module_version": "1.5.0",
            "_model_name": "ProgressStyleModel",
            "_view_count": null,
            "_view_module": "@jupyter-widgets/base",
            "_view_module_version": "1.2.0",
            "_view_name": "StyleView",
            "bar_color": null,
            "description_width": ""
          }
        },
        "859be3e03ed84fa6818e8e58cc2c8b67": {
          "model_module": "@jupyter-widgets/base",
          "model_name": "LayoutModel",
          "model_module_version": "1.2.0",
          "state": {
            "_model_module": "@jupyter-widgets/base",
            "_model_module_version": "1.2.0",
            "_model_name": "LayoutModel",
            "_view_count": null,
            "_view_module": "@jupyter-widgets/base",
            "_view_module_version": "1.2.0",
            "_view_name": "LayoutView",
            "align_content": null,
            "align_items": null,
            "align_self": null,
            "border": null,
            "bottom": null,
            "display": null,
            "flex": null,
            "flex_flow": null,
            "grid_area": null,
            "grid_auto_columns": null,
            "grid_auto_flow": null,
            "grid_auto_rows": null,
            "grid_column": null,
            "grid_gap": null,
            "grid_row": null,
            "grid_template_areas": null,
            "grid_template_columns": null,
            "grid_template_rows": null,
            "height": null,
            "justify_content": null,
            "justify_items": null,
            "left": null,
            "margin": null,
            "max_height": null,
            "max_width": null,
            "min_height": null,
            "min_width": null,
            "object_fit": null,
            "object_position": null,
            "order": null,
            "overflow": null,
            "overflow_x": null,
            "overflow_y": null,
            "padding": null,
            "right": null,
            "top": null,
            "visibility": null,
            "width": null
          }
        },
        "86de8478313a4d7c8ee4143be31fbf6a": {
          "model_module": "@jupyter-widgets/controls",
          "model_name": "DescriptionStyleModel",
          "model_module_version": "1.5.0",
          "state": {
            "_model_module": "@jupyter-widgets/controls",
            "_model_module_version": "1.5.0",
            "_model_name": "DescriptionStyleModel",
            "_view_count": null,
            "_view_module": "@jupyter-widgets/base",
            "_view_module_version": "1.2.0",
            "_view_name": "StyleView",
            "description_width": ""
          }
        },
        "31418e8d3d8844139ea8b75519feafeb": {
          "model_module": "@jupyter-widgets/controls",
          "model_name": "HBoxModel",
          "model_module_version": "1.5.0",
          "state": {
            "_dom_classes": [],
            "_model_module": "@jupyter-widgets/controls",
            "_model_module_version": "1.5.0",
            "_model_name": "HBoxModel",
            "_view_count": null,
            "_view_module": "@jupyter-widgets/controls",
            "_view_module_version": "1.5.0",
            "_view_name": "HBoxView",
            "box_style": "",
            "children": [
              "IPY_MODEL_da5f3ea359ba49ec99f699512679342d",
              "IPY_MODEL_3e572c9ea1854cb59ace76221de5c5ad",
              "IPY_MODEL_951f7c794e61456ba8241f1ad3f3ff3d"
            ],
            "layout": "IPY_MODEL_b903e9d8de1349c4b2f893fb1493b44b"
          }
        },
        "da5f3ea359ba49ec99f699512679342d": {
          "model_module": "@jupyter-widgets/controls",
          "model_name": "HTMLModel",
          "model_module_version": "1.5.0",
          "state": {
            "_dom_classes": [],
            "_model_module": "@jupyter-widgets/controls",
            "_model_module_version": "1.5.0",
            "_model_name": "HTMLModel",
            "_view_count": null,
            "_view_module": "@jupyter-widgets/controls",
            "_view_module_version": "1.5.0",
            "_view_name": "HTMLView",
            "description": "",
            "description_tooltip": null,
            "layout": "IPY_MODEL_3190e499d81e4e21aea58cc55b95a869",
            "placeholder": "​",
            "style": "IPY_MODEL_679bfa90d4f84573b8d66a898b365bf4",
            "value": "Downloading (…)okenizer_config.json: 100%"
          }
        },
        "3e572c9ea1854cb59ace76221de5c5ad": {
          "model_module": "@jupyter-widgets/controls",
          "model_name": "FloatProgressModel",
          "model_module_version": "1.5.0",
          "state": {
            "_dom_classes": [],
            "_model_module": "@jupyter-widgets/controls",
            "_model_module_version": "1.5.0",
            "_model_name": "FloatProgressModel",
            "_view_count": null,
            "_view_module": "@jupyter-widgets/controls",
            "_view_module_version": "1.5.0",
            "_view_name": "ProgressView",
            "bar_style": "success",
            "description": "",
            "description_tooltip": null,
            "layout": "IPY_MODEL_bbd5d7be3d08431a84267c178351c353",
            "max": 28,
            "min": 0,
            "orientation": "horizontal",
            "style": "IPY_MODEL_cadd178ac3774d92abd7e21d69b2dbab",
            "value": 28
          }
        },
        "951f7c794e61456ba8241f1ad3f3ff3d": {
          "model_module": "@jupyter-widgets/controls",
          "model_name": "HTMLModel",
          "model_module_version": "1.5.0",
          "state": {
            "_dom_classes": [],
            "_model_module": "@jupyter-widgets/controls",
            "_model_module_version": "1.5.0",
            "_model_name": "HTMLModel",
            "_view_count": null,
            "_view_module": "@jupyter-widgets/controls",
            "_view_module_version": "1.5.0",
            "_view_name": "HTMLView",
            "description": "",
            "description_tooltip": null,
            "layout": "IPY_MODEL_e4320f0718634517b6967e3a428ba191",
            "placeholder": "​",
            "style": "IPY_MODEL_5af32aa299fb4f73abbf0e3ea9e4885d",
            "value": " 28.0/28.0 [00:00&lt;00:00, 789B/s]"
          }
        },
        "b903e9d8de1349c4b2f893fb1493b44b": {
          "model_module": "@jupyter-widgets/base",
          "model_name": "LayoutModel",
          "model_module_version": "1.2.0",
          "state": {
            "_model_module": "@jupyter-widgets/base",
            "_model_module_version": "1.2.0",
            "_model_name": "LayoutModel",
            "_view_count": null,
            "_view_module": "@jupyter-widgets/base",
            "_view_module_version": "1.2.0",
            "_view_name": "LayoutView",
            "align_content": null,
            "align_items": null,
            "align_self": null,
            "border": null,
            "bottom": null,
            "display": null,
            "flex": null,
            "flex_flow": null,
            "grid_area": null,
            "grid_auto_columns": null,
            "grid_auto_flow": null,
            "grid_auto_rows": null,
            "grid_column": null,
            "grid_gap": null,
            "grid_row": null,
            "grid_template_areas": null,
            "grid_template_columns": null,
            "grid_template_rows": null,
            "height": null,
            "justify_content": null,
            "justify_items": null,
            "left": null,
            "margin": null,
            "max_height": null,
            "max_width": null,
            "min_height": null,
            "min_width": null,
            "object_fit": null,
            "object_position": null,
            "order": null,
            "overflow": null,
            "overflow_x": null,
            "overflow_y": null,
            "padding": null,
            "right": null,
            "top": null,
            "visibility": null,
            "width": null
          }
        },
        "3190e499d81e4e21aea58cc55b95a869": {
          "model_module": "@jupyter-widgets/base",
          "model_name": "LayoutModel",
          "model_module_version": "1.2.0",
          "state": {
            "_model_module": "@jupyter-widgets/base",
            "_model_module_version": "1.2.0",
            "_model_name": "LayoutModel",
            "_view_count": null,
            "_view_module": "@jupyter-widgets/base",
            "_view_module_version": "1.2.0",
            "_view_name": "LayoutView",
            "align_content": null,
            "align_items": null,
            "align_self": null,
            "border": null,
            "bottom": null,
            "display": null,
            "flex": null,
            "flex_flow": null,
            "grid_area": null,
            "grid_auto_columns": null,
            "grid_auto_flow": null,
            "grid_auto_rows": null,
            "grid_column": null,
            "grid_gap": null,
            "grid_row": null,
            "grid_template_areas": null,
            "grid_template_columns": null,
            "grid_template_rows": null,
            "height": null,
            "justify_content": null,
            "justify_items": null,
            "left": null,
            "margin": null,
            "max_height": null,
            "max_width": null,
            "min_height": null,
            "min_width": null,
            "object_fit": null,
            "object_position": null,
            "order": null,
            "overflow": null,
            "overflow_x": null,
            "overflow_y": null,
            "padding": null,
            "right": null,
            "top": null,
            "visibility": null,
            "width": null
          }
        },
        "679bfa90d4f84573b8d66a898b365bf4": {
          "model_module": "@jupyter-widgets/controls",
          "model_name": "DescriptionStyleModel",
          "model_module_version": "1.5.0",
          "state": {
            "_model_module": "@jupyter-widgets/controls",
            "_model_module_version": "1.5.0",
            "_model_name": "DescriptionStyleModel",
            "_view_count": null,
            "_view_module": "@jupyter-widgets/base",
            "_view_module_version": "1.2.0",
            "_view_name": "StyleView",
            "description_width": ""
          }
        },
        "bbd5d7be3d08431a84267c178351c353": {
          "model_module": "@jupyter-widgets/base",
          "model_name": "LayoutModel",
          "model_module_version": "1.2.0",
          "state": {
            "_model_module": "@jupyter-widgets/base",
            "_model_module_version": "1.2.0",
            "_model_name": "LayoutModel",
            "_view_count": null,
            "_view_module": "@jupyter-widgets/base",
            "_view_module_version": "1.2.0",
            "_view_name": "LayoutView",
            "align_content": null,
            "align_items": null,
            "align_self": null,
            "border": null,
            "bottom": null,
            "display": null,
            "flex": null,
            "flex_flow": null,
            "grid_area": null,
            "grid_auto_columns": null,
            "grid_auto_flow": null,
            "grid_auto_rows": null,
            "grid_column": null,
            "grid_gap": null,
            "grid_row": null,
            "grid_template_areas": null,
            "grid_template_columns": null,
            "grid_template_rows": null,
            "height": null,
            "justify_content": null,
            "justify_items": null,
            "left": null,
            "margin": null,
            "max_height": null,
            "max_width": null,
            "min_height": null,
            "min_width": null,
            "object_fit": null,
            "object_position": null,
            "order": null,
            "overflow": null,
            "overflow_x": null,
            "overflow_y": null,
            "padding": null,
            "right": null,
            "top": null,
            "visibility": null,
            "width": null
          }
        },
        "cadd178ac3774d92abd7e21d69b2dbab": {
          "model_module": "@jupyter-widgets/controls",
          "model_name": "ProgressStyleModel",
          "model_module_version": "1.5.0",
          "state": {
            "_model_module": "@jupyter-widgets/controls",
            "_model_module_version": "1.5.0",
            "_model_name": "ProgressStyleModel",
            "_view_count": null,
            "_view_module": "@jupyter-widgets/base",
            "_view_module_version": "1.2.0",
            "_view_name": "StyleView",
            "bar_color": null,
            "description_width": ""
          }
        },
        "e4320f0718634517b6967e3a428ba191": {
          "model_module": "@jupyter-widgets/base",
          "model_name": "LayoutModel",
          "model_module_version": "1.2.0",
          "state": {
            "_model_module": "@jupyter-widgets/base",
            "_model_module_version": "1.2.0",
            "_model_name": "LayoutModel",
            "_view_count": null,
            "_view_module": "@jupyter-widgets/base",
            "_view_module_version": "1.2.0",
            "_view_name": "LayoutView",
            "align_content": null,
            "align_items": null,
            "align_self": null,
            "border": null,
            "bottom": null,
            "display": null,
            "flex": null,
            "flex_flow": null,
            "grid_area": null,
            "grid_auto_columns": null,
            "grid_auto_flow": null,
            "grid_auto_rows": null,
            "grid_column": null,
            "grid_gap": null,
            "grid_row": null,
            "grid_template_areas": null,
            "grid_template_columns": null,
            "grid_template_rows": null,
            "height": null,
            "justify_content": null,
            "justify_items": null,
            "left": null,
            "margin": null,
            "max_height": null,
            "max_width": null,
            "min_height": null,
            "min_width": null,
            "object_fit": null,
            "object_position": null,
            "order": null,
            "overflow": null,
            "overflow_x": null,
            "overflow_y": null,
            "padding": null,
            "right": null,
            "top": null,
            "visibility": null,
            "width": null
          }
        },
        "5af32aa299fb4f73abbf0e3ea9e4885d": {
          "model_module": "@jupyter-widgets/controls",
          "model_name": "DescriptionStyleModel",
          "model_module_version": "1.5.0",
          "state": {
            "_model_module": "@jupyter-widgets/controls",
            "_model_module_version": "1.5.0",
            "_model_name": "DescriptionStyleModel",
            "_view_count": null,
            "_view_module": "@jupyter-widgets/base",
            "_view_module_version": "1.2.0",
            "_view_name": "StyleView",
            "description_width": ""
          }
        },
        "dc235987d6ef4b02badda239d17558c1": {
          "model_module": "@jupyter-widgets/controls",
          "model_name": "HBoxModel",
          "model_module_version": "1.5.0",
          "state": {
            "_dom_classes": [],
            "_model_module": "@jupyter-widgets/controls",
            "_model_module_version": "1.5.0",
            "_model_name": "HBoxModel",
            "_view_count": null,
            "_view_module": "@jupyter-widgets/controls",
            "_view_module_version": "1.5.0",
            "_view_name": "HBoxView",
            "box_style": "",
            "children": [
              "IPY_MODEL_09c6e04daf6f404597709ce28ce32480",
              "IPY_MODEL_17b573c164d44f199d05d92df103d226",
              "IPY_MODEL_f4fabf9fcdb34e25919cbf8c23223a94"
            ],
            "layout": "IPY_MODEL_31acd9ac16db425ea2c575aa6646713d"
          }
        },
        "09c6e04daf6f404597709ce28ce32480": {
          "model_module": "@jupyter-widgets/controls",
          "model_name": "HTMLModel",
          "model_module_version": "1.5.0",
          "state": {
            "_dom_classes": [],
            "_model_module": "@jupyter-widgets/controls",
            "_model_module_version": "1.5.0",
            "_model_name": "HTMLModel",
            "_view_count": null,
            "_view_module": "@jupyter-widgets/controls",
            "_view_module_version": "1.5.0",
            "_view_name": "HTMLView",
            "description": "",
            "description_tooltip": null,
            "layout": "IPY_MODEL_176a7ae7320540da86a3e42606cf0152",
            "placeholder": "​",
            "style": "IPY_MODEL_2c99618ad5cf4cc793d56e0efdab4a68",
            "value": "Downloading (…)lve/main/config.json: 100%"
          }
        },
        "17b573c164d44f199d05d92df103d226": {
          "model_module": "@jupyter-widgets/controls",
          "model_name": "FloatProgressModel",
          "model_module_version": "1.5.0",
          "state": {
            "_dom_classes": [],
            "_model_module": "@jupyter-widgets/controls",
            "_model_module_version": "1.5.0",
            "_model_name": "FloatProgressModel",
            "_view_count": null,
            "_view_module": "@jupyter-widgets/controls",
            "_view_module_version": "1.5.0",
            "_view_name": "ProgressView",
            "bar_style": "success",
            "description": "",
            "description_tooltip": null,
            "layout": "IPY_MODEL_ec76da5aca0c4463b00236332685a268",
            "max": 570,
            "min": 0,
            "orientation": "horizontal",
            "style": "IPY_MODEL_fced05ff131042d3bfa77ee75b2143ae",
            "value": 570
          }
        },
        "f4fabf9fcdb34e25919cbf8c23223a94": {
          "model_module": "@jupyter-widgets/controls",
          "model_name": "HTMLModel",
          "model_module_version": "1.5.0",
          "state": {
            "_dom_classes": [],
            "_model_module": "@jupyter-widgets/controls",
            "_model_module_version": "1.5.0",
            "_model_name": "HTMLModel",
            "_view_count": null,
            "_view_module": "@jupyter-widgets/controls",
            "_view_module_version": "1.5.0",
            "_view_name": "HTMLView",
            "description": "",
            "description_tooltip": null,
            "layout": "IPY_MODEL_193022492ac649dc96acbf0d52968915",
            "placeholder": "​",
            "style": "IPY_MODEL_f515bca24c1941c3aabef0eec458dae2",
            "value": " 570/570 [00:00&lt;00:00, 10.1kB/s]"
          }
        },
        "31acd9ac16db425ea2c575aa6646713d": {
          "model_module": "@jupyter-widgets/base",
          "model_name": "LayoutModel",
          "model_module_version": "1.2.0",
          "state": {
            "_model_module": "@jupyter-widgets/base",
            "_model_module_version": "1.2.0",
            "_model_name": "LayoutModel",
            "_view_count": null,
            "_view_module": "@jupyter-widgets/base",
            "_view_module_version": "1.2.0",
            "_view_name": "LayoutView",
            "align_content": null,
            "align_items": null,
            "align_self": null,
            "border": null,
            "bottom": null,
            "display": null,
            "flex": null,
            "flex_flow": null,
            "grid_area": null,
            "grid_auto_columns": null,
            "grid_auto_flow": null,
            "grid_auto_rows": null,
            "grid_column": null,
            "grid_gap": null,
            "grid_row": null,
            "grid_template_areas": null,
            "grid_template_columns": null,
            "grid_template_rows": null,
            "height": null,
            "justify_content": null,
            "justify_items": null,
            "left": null,
            "margin": null,
            "max_height": null,
            "max_width": null,
            "min_height": null,
            "min_width": null,
            "object_fit": null,
            "object_position": null,
            "order": null,
            "overflow": null,
            "overflow_x": null,
            "overflow_y": null,
            "padding": null,
            "right": null,
            "top": null,
            "visibility": null,
            "width": null
          }
        },
        "176a7ae7320540da86a3e42606cf0152": {
          "model_module": "@jupyter-widgets/base",
          "model_name": "LayoutModel",
          "model_module_version": "1.2.0",
          "state": {
            "_model_module": "@jupyter-widgets/base",
            "_model_module_version": "1.2.0",
            "_model_name": "LayoutModel",
            "_view_count": null,
            "_view_module": "@jupyter-widgets/base",
            "_view_module_version": "1.2.0",
            "_view_name": "LayoutView",
            "align_content": null,
            "align_items": null,
            "align_self": null,
            "border": null,
            "bottom": null,
            "display": null,
            "flex": null,
            "flex_flow": null,
            "grid_area": null,
            "grid_auto_columns": null,
            "grid_auto_flow": null,
            "grid_auto_rows": null,
            "grid_column": null,
            "grid_gap": null,
            "grid_row": null,
            "grid_template_areas": null,
            "grid_template_columns": null,
            "grid_template_rows": null,
            "height": null,
            "justify_content": null,
            "justify_items": null,
            "left": null,
            "margin": null,
            "max_height": null,
            "max_width": null,
            "min_height": null,
            "min_width": null,
            "object_fit": null,
            "object_position": null,
            "order": null,
            "overflow": null,
            "overflow_x": null,
            "overflow_y": null,
            "padding": null,
            "right": null,
            "top": null,
            "visibility": null,
            "width": null
          }
        },
        "2c99618ad5cf4cc793d56e0efdab4a68": {
          "model_module": "@jupyter-widgets/controls",
          "model_name": "DescriptionStyleModel",
          "model_module_version": "1.5.0",
          "state": {
            "_model_module": "@jupyter-widgets/controls",
            "_model_module_version": "1.5.0",
            "_model_name": "DescriptionStyleModel",
            "_view_count": null,
            "_view_module": "@jupyter-widgets/base",
            "_view_module_version": "1.2.0",
            "_view_name": "StyleView",
            "description_width": ""
          }
        },
        "ec76da5aca0c4463b00236332685a268": {
          "model_module": "@jupyter-widgets/base",
          "model_name": "LayoutModel",
          "model_module_version": "1.2.0",
          "state": {
            "_model_module": "@jupyter-widgets/base",
            "_model_module_version": "1.2.0",
            "_model_name": "LayoutModel",
            "_view_count": null,
            "_view_module": "@jupyter-widgets/base",
            "_view_module_version": "1.2.0",
            "_view_name": "LayoutView",
            "align_content": null,
            "align_items": null,
            "align_self": null,
            "border": null,
            "bottom": null,
            "display": null,
            "flex": null,
            "flex_flow": null,
            "grid_area": null,
            "grid_auto_columns": null,
            "grid_auto_flow": null,
            "grid_auto_rows": null,
            "grid_column": null,
            "grid_gap": null,
            "grid_row": null,
            "grid_template_areas": null,
            "grid_template_columns": null,
            "grid_template_rows": null,
            "height": null,
            "justify_content": null,
            "justify_items": null,
            "left": null,
            "margin": null,
            "max_height": null,
            "max_width": null,
            "min_height": null,
            "min_width": null,
            "object_fit": null,
            "object_position": null,
            "order": null,
            "overflow": null,
            "overflow_x": null,
            "overflow_y": null,
            "padding": null,
            "right": null,
            "top": null,
            "visibility": null,
            "width": null
          }
        },
        "fced05ff131042d3bfa77ee75b2143ae": {
          "model_module": "@jupyter-widgets/controls",
          "model_name": "ProgressStyleModel",
          "model_module_version": "1.5.0",
          "state": {
            "_model_module": "@jupyter-widgets/controls",
            "_model_module_version": "1.5.0",
            "_model_name": "ProgressStyleModel",
            "_view_count": null,
            "_view_module": "@jupyter-widgets/base",
            "_view_module_version": "1.2.0",
            "_view_name": "StyleView",
            "bar_color": null,
            "description_width": ""
          }
        },
        "193022492ac649dc96acbf0d52968915": {
          "model_module": "@jupyter-widgets/base",
          "model_name": "LayoutModel",
          "model_module_version": "1.2.0",
          "state": {
            "_model_module": "@jupyter-widgets/base",
            "_model_module_version": "1.2.0",
            "_model_name": "LayoutModel",
            "_view_count": null,
            "_view_module": "@jupyter-widgets/base",
            "_view_module_version": "1.2.0",
            "_view_name": "LayoutView",
            "align_content": null,
            "align_items": null,
            "align_self": null,
            "border": null,
            "bottom": null,
            "display": null,
            "flex": null,
            "flex_flow": null,
            "grid_area": null,
            "grid_auto_columns": null,
            "grid_auto_flow": null,
            "grid_auto_rows": null,
            "grid_column": null,
            "grid_gap": null,
            "grid_row": null,
            "grid_template_areas": null,
            "grid_template_columns": null,
            "grid_template_rows": null,
            "height": null,
            "justify_content": null,
            "justify_items": null,
            "left": null,
            "margin": null,
            "max_height": null,
            "max_width": null,
            "min_height": null,
            "min_width": null,
            "object_fit": null,
            "object_position": null,
            "order": null,
            "overflow": null,
            "overflow_x": null,
            "overflow_y": null,
            "padding": null,
            "right": null,
            "top": null,
            "visibility": null,
            "width": null
          }
        },
        "f515bca24c1941c3aabef0eec458dae2": {
          "model_module": "@jupyter-widgets/controls",
          "model_name": "DescriptionStyleModel",
          "model_module_version": "1.5.0",
          "state": {
            "_model_module": "@jupyter-widgets/controls",
            "_model_module_version": "1.5.0",
            "_model_name": "DescriptionStyleModel",
            "_view_count": null,
            "_view_module": "@jupyter-widgets/base",
            "_view_module_version": "1.2.0",
            "_view_name": "StyleView",
            "description_width": ""
          }
        },
        "5d9bbc0de6a046ac906c39f3e946dc48": {
          "model_module": "@jupyter-widgets/controls",
          "model_name": "HBoxModel",
          "model_module_version": "1.5.0",
          "state": {
            "_dom_classes": [],
            "_model_module": "@jupyter-widgets/controls",
            "_model_module_version": "1.5.0",
            "_model_name": "HBoxModel",
            "_view_count": null,
            "_view_module": "@jupyter-widgets/controls",
            "_view_module_version": "1.5.0",
            "_view_name": "HBoxView",
            "box_style": "",
            "children": [
              "IPY_MODEL_bed00869948f4fefb64329f7193b3626",
              "IPY_MODEL_d5c284609c8447718a93464f5bd4c9e0",
              "IPY_MODEL_2f2935842a664e58978bf4fe787d629c"
            ],
            "layout": "IPY_MODEL_ea2b7f64be2e422d82c2e7c5e5393ed5"
          }
        },
        "bed00869948f4fefb64329f7193b3626": {
          "model_module": "@jupyter-widgets/controls",
          "model_name": "HTMLModel",
          "model_module_version": "1.5.0",
          "state": {
            "_dom_classes": [],
            "_model_module": "@jupyter-widgets/controls",
            "_model_module_version": "1.5.0",
            "_model_name": "HTMLModel",
            "_view_count": null,
            "_view_module": "@jupyter-widgets/controls",
            "_view_module_version": "1.5.0",
            "_view_name": "HTMLView",
            "description": "",
            "description_tooltip": null,
            "layout": "IPY_MODEL_cecc3f16d02649cb960a79fe0966d4cf",
            "placeholder": "​",
            "style": "IPY_MODEL_829267687cb94b158d002211d79a5017",
            "value": "Downloading model.safetensors: 100%"
          }
        },
        "d5c284609c8447718a93464f5bd4c9e0": {
          "model_module": "@jupyter-widgets/controls",
          "model_name": "FloatProgressModel",
          "model_module_version": "1.5.0",
          "state": {
            "_dom_classes": [],
            "_model_module": "@jupyter-widgets/controls",
            "_model_module_version": "1.5.0",
            "_model_name": "FloatProgressModel",
            "_view_count": null,
            "_view_module": "@jupyter-widgets/controls",
            "_view_module_version": "1.5.0",
            "_view_name": "ProgressView",
            "bar_style": "success",
            "description": "",
            "description_tooltip": null,
            "layout": "IPY_MODEL_eb5544e83fa543238778fafea87a2618",
            "max": 440449768,
            "min": 0,
            "orientation": "horizontal",
            "style": "IPY_MODEL_da16bd15da8c46e3a468c69d2024b738",
            "value": 440449768
          }
        },
        "2f2935842a664e58978bf4fe787d629c": {
          "model_module": "@jupyter-widgets/controls",
          "model_name": "HTMLModel",
          "model_module_version": "1.5.0",
          "state": {
            "_dom_classes": [],
            "_model_module": "@jupyter-widgets/controls",
            "_model_module_version": "1.5.0",
            "_model_name": "HTMLModel",
            "_view_count": null,
            "_view_module": "@jupyter-widgets/controls",
            "_view_module_version": "1.5.0",
            "_view_name": "HTMLView",
            "description": "",
            "description_tooltip": null,
            "layout": "IPY_MODEL_541b45f7ea2e4987a23d31ed9e3818ab",
            "placeholder": "​",
            "style": "IPY_MODEL_1d0fafddb6e44cc786f440357a855dbc",
            "value": " 440M/440M [00:07&lt;00:00, 62.3MB/s]"
          }
        },
        "ea2b7f64be2e422d82c2e7c5e5393ed5": {
          "model_module": "@jupyter-widgets/base",
          "model_name": "LayoutModel",
          "model_module_version": "1.2.0",
          "state": {
            "_model_module": "@jupyter-widgets/base",
            "_model_module_version": "1.2.0",
            "_model_name": "LayoutModel",
            "_view_count": null,
            "_view_module": "@jupyter-widgets/base",
            "_view_module_version": "1.2.0",
            "_view_name": "LayoutView",
            "align_content": null,
            "align_items": null,
            "align_self": null,
            "border": null,
            "bottom": null,
            "display": null,
            "flex": null,
            "flex_flow": null,
            "grid_area": null,
            "grid_auto_columns": null,
            "grid_auto_flow": null,
            "grid_auto_rows": null,
            "grid_column": null,
            "grid_gap": null,
            "grid_row": null,
            "grid_template_areas": null,
            "grid_template_columns": null,
            "grid_template_rows": null,
            "height": null,
            "justify_content": null,
            "justify_items": null,
            "left": null,
            "margin": null,
            "max_height": null,
            "max_width": null,
            "min_height": null,
            "min_width": null,
            "object_fit": null,
            "object_position": null,
            "order": null,
            "overflow": null,
            "overflow_x": null,
            "overflow_y": null,
            "padding": null,
            "right": null,
            "top": null,
            "visibility": null,
            "width": null
          }
        },
        "cecc3f16d02649cb960a79fe0966d4cf": {
          "model_module": "@jupyter-widgets/base",
          "model_name": "LayoutModel",
          "model_module_version": "1.2.0",
          "state": {
            "_model_module": "@jupyter-widgets/base",
            "_model_module_version": "1.2.0",
            "_model_name": "LayoutModel",
            "_view_count": null,
            "_view_module": "@jupyter-widgets/base",
            "_view_module_version": "1.2.0",
            "_view_name": "LayoutView",
            "align_content": null,
            "align_items": null,
            "align_self": null,
            "border": null,
            "bottom": null,
            "display": null,
            "flex": null,
            "flex_flow": null,
            "grid_area": null,
            "grid_auto_columns": null,
            "grid_auto_flow": null,
            "grid_auto_rows": null,
            "grid_column": null,
            "grid_gap": null,
            "grid_row": null,
            "grid_template_areas": null,
            "grid_template_columns": null,
            "grid_template_rows": null,
            "height": null,
            "justify_content": null,
            "justify_items": null,
            "left": null,
            "margin": null,
            "max_height": null,
            "max_width": null,
            "min_height": null,
            "min_width": null,
            "object_fit": null,
            "object_position": null,
            "order": null,
            "overflow": null,
            "overflow_x": null,
            "overflow_y": null,
            "padding": null,
            "right": null,
            "top": null,
            "visibility": null,
            "width": null
          }
        },
        "829267687cb94b158d002211d79a5017": {
          "model_module": "@jupyter-widgets/controls",
          "model_name": "DescriptionStyleModel",
          "model_module_version": "1.5.0",
          "state": {
            "_model_module": "@jupyter-widgets/controls",
            "_model_module_version": "1.5.0",
            "_model_name": "DescriptionStyleModel",
            "_view_count": null,
            "_view_module": "@jupyter-widgets/base",
            "_view_module_version": "1.2.0",
            "_view_name": "StyleView",
            "description_width": ""
          }
        },
        "eb5544e83fa543238778fafea87a2618": {
          "model_module": "@jupyter-widgets/base",
          "model_name": "LayoutModel",
          "model_module_version": "1.2.0",
          "state": {
            "_model_module": "@jupyter-widgets/base",
            "_model_module_version": "1.2.0",
            "_model_name": "LayoutModel",
            "_view_count": null,
            "_view_module": "@jupyter-widgets/base",
            "_view_module_version": "1.2.0",
            "_view_name": "LayoutView",
            "align_content": null,
            "align_items": null,
            "align_self": null,
            "border": null,
            "bottom": null,
            "display": null,
            "flex": null,
            "flex_flow": null,
            "grid_area": null,
            "grid_auto_columns": null,
            "grid_auto_flow": null,
            "grid_auto_rows": null,
            "grid_column": null,
            "grid_gap": null,
            "grid_row": null,
            "grid_template_areas": null,
            "grid_template_columns": null,
            "grid_template_rows": null,
            "height": null,
            "justify_content": null,
            "justify_items": null,
            "left": null,
            "margin": null,
            "max_height": null,
            "max_width": null,
            "min_height": null,
            "min_width": null,
            "object_fit": null,
            "object_position": null,
            "order": null,
            "overflow": null,
            "overflow_x": null,
            "overflow_y": null,
            "padding": null,
            "right": null,
            "top": null,
            "visibility": null,
            "width": null
          }
        },
        "da16bd15da8c46e3a468c69d2024b738": {
          "model_module": "@jupyter-widgets/controls",
          "model_name": "ProgressStyleModel",
          "model_module_version": "1.5.0",
          "state": {
            "_model_module": "@jupyter-widgets/controls",
            "_model_module_version": "1.5.0",
            "_model_name": "ProgressStyleModel",
            "_view_count": null,
            "_view_module": "@jupyter-widgets/base",
            "_view_module_version": "1.2.0",
            "_view_name": "StyleView",
            "bar_color": null,
            "description_width": ""
          }
        },
        "541b45f7ea2e4987a23d31ed9e3818ab": {
          "model_module": "@jupyter-widgets/base",
          "model_name": "LayoutModel",
          "model_module_version": "1.2.0",
          "state": {
            "_model_module": "@jupyter-widgets/base",
            "_model_module_version": "1.2.0",
            "_model_name": "LayoutModel",
            "_view_count": null,
            "_view_module": "@jupyter-widgets/base",
            "_view_module_version": "1.2.0",
            "_view_name": "LayoutView",
            "align_content": null,
            "align_items": null,
            "align_self": null,
            "border": null,
            "bottom": null,
            "display": null,
            "flex": null,
            "flex_flow": null,
            "grid_area": null,
            "grid_auto_columns": null,
            "grid_auto_flow": null,
            "grid_auto_rows": null,
            "grid_column": null,
            "grid_gap": null,
            "grid_row": null,
            "grid_template_areas": null,
            "grid_template_columns": null,
            "grid_template_rows": null,
            "height": null,
            "justify_content": null,
            "justify_items": null,
            "left": null,
            "margin": null,
            "max_height": null,
            "max_width": null,
            "min_height": null,
            "min_width": null,
            "object_fit": null,
            "object_position": null,
            "order": null,
            "overflow": null,
            "overflow_x": null,
            "overflow_y": null,
            "padding": null,
            "right": null,
            "top": null,
            "visibility": null,
            "width": null
          }
        },
        "1d0fafddb6e44cc786f440357a855dbc": {
          "model_module": "@jupyter-widgets/controls",
          "model_name": "DescriptionStyleModel",
          "model_module_version": "1.5.0",
          "state": {
            "_model_module": "@jupyter-widgets/controls",
            "_model_module_version": "1.5.0",
            "_model_name": "DescriptionStyleModel",
            "_view_count": null,
            "_view_module": "@jupyter-widgets/base",
            "_view_module_version": "1.2.0",
            "_view_name": "StyleView",
            "description_width": ""
          }
        }
      }
    }
  },
  "nbformat_minor": 0,
  "nbformat": 4,
  "cells": [
    {
      "cell_type": "markdown",
      "metadata": {
        "id": "view-in-github",
        "colab_type": "text"
      },
      "source": [
        "<a href=\"https://colab.research.google.com/github/raissacamilla23/mythesis/blob/main/Lyric_Classification.ipynb\" target=\"_parent\"><img src=\"https://colab.research.google.com/assets/colab-badge.svg\" alt=\"Open In Colab\"/></a>"
      ]
    },
    {
      "cell_type": "markdown",
      "source": [
        "# Detecting bullying lyrics with PyTorch LSTM + Attention and BERT Transformer Project"
      ],
      "metadata": {
        "id": "JiIg_5F_5Qr9"
      }
    },
    {
      "cell_type": "markdown",
      "source": [
        "This project is about the analysis of lyrics about cyberbullying, with the goal of performing a Sentiment Analysis using LSTM w/ Attention and BERT on PyTorch to predict if a lyric is about cyberbullying or not. <br>\n",
        "In particular, bullying lyrics are divided in 4 categories: religion, age, race and gender.<br>\n",
        "The project is divided in the following sections:\n",
        "\n",
        "- Data Import\n",
        "- Text cleaning with custom defined functions\n",
        "- Naive Bayes baseline model Classifier\n",
        "- Data preparation for LSTM RNN: Tokenization\n",
        "- PyTorch LSTM RNN Classifier w/ Attention\n",
        "- Data preparation for BERT: Tokenization\n",
        "- PyTorch BERT Classifier\n",
        "- Results summary\n",
        "\n",
        "Similar NLP notebooks I made:\n",
        "- Twitter Sentiment Analysis with BERT + RoBERTa on COVID related lyrics:<br>\n",
        "    https://www.kaggle.com/ludovicocuoghi/twitter-sentiment-analysis-with-bert-roberta\n",
        "\n",
        "- Twitter Sentiment Analysis with non-labeled lyrics about Omicron with using Vader, NLTK, TextBLOB and Flair:<br>\n",
        "    https://www.kaggle.com/ludovicocuoghi/how-are-people-reacting-to-omicron-on-twitter"
      ],
      "metadata": {
        "id": "AiabNLkT5QsB"
      }
    },
    {
      "cell_type": "markdown",
      "source": [
        "# Main results summary:"
      ],
      "metadata": {
        "id": "J7bRgtas5QsC"
      }
    },
    {
      "cell_type": "markdown",
      "source": [
        "![cyberbullying class rep.png](attachment:090fad4b-7714-4d9b-be57-923c920dbe8c.png)"
      ],
      "metadata": {
        "execution": {
          "iopub.status.busy": "2022-01-23T16:13:11.109304Z",
          "iopub.execute_input": "2022-01-23T16:13:11.110016Z",
          "iopub.status.idle": "2022-01-23T16:13:11.118664Z",
          "shell.execute_reply.started": "2022-01-23T16:13:11.109967Z",
          "shell.execute_reply": "2022-01-23T16:13:11.117293Z"
        },
        "id": "ICWI1ESKsE0n"
      }
    },
    {
      "cell_type": "markdown",
      "source": [
        "![cyberbullying conf mat.png](attachment:6438c40d-3a97-4db7-a5ca-52e2e1332a08.png)"
      ],
      "metadata": {
        "execution": {
          "iopub.status.busy": "2022-01-23T16:13:11.831378Z",
          "iopub.execute_input": "2022-01-23T16:13:11.831681Z",
          "iopub.status.idle": "2022-01-23T16:13:11.837312Z",
          "shell.execute_reply.started": "2022-01-23T16:13:11.831647Z",
          "shell.execute_reply": "2022-01-23T16:13:11.83616Z"
        },
        "id": "CmMP25ZlsE0q"
      }
    },
    {
      "cell_type": "markdown",
      "source": [
        "**Naive Bayes baseline classifier performed quite well on the dataset, with an overall accuracy of 87% among all the classes.<br>\n",
        "On the other hand, the custom LSTM w/ attention RNN by PyTorch achieved an accuracy of 93%, where some classes have F1 score over 95%.**<br>\n",
        "**Finally, BERT performed the best, with an overall accuracy around 95% and F1 scores over 96%.**<br>\n",
        "Overall, the algorithms could properly distinguish the different topics of the bullying lyrics, and had little **more troubles** with the **less populated class \"not cyberbullying\" and the \"gender\" class (achieving lower precision and recall compared to other classes)**.<br>\n",
        "For this reason, it could be a good idea to **collect more data of this classes** and aim to achieve higher accuracy and F1 score."
      ],
      "metadata": {
        "id": "FKvhrmHDsE0s"
      }
    },
    {
      "cell_type": "code",
      "source": [
        "import os\n",
        "for dirname, _, filenames in os.walk('/kaggle/input'):\n",
        "    for filename in filenames:\n",
        "        print(os.path.join(dirname, filename))"
      ],
      "metadata": {
        "_uuid": "8f2839f25d086af736a60e9eeb907d3b93b6e0e5",
        "_cell_guid": "b1076dfc-b9ad-4769-8c92-a6c4dae69d19",
        "id": "pChhxDsk5QsD",
        "_kg_hide-input": true,
        "execution": {
          "iopub.status.busy": "2023-06-02T01:54:45.148845Z",
          "iopub.execute_input": "2023-06-02T01:54:45.149191Z",
          "iopub.status.idle": "2023-06-02T01:54:45.178621Z",
          "shell.execute_reply.started": "2023-06-02T01:54:45.149127Z",
          "shell.execute_reply": "2023-06-02T01:54:45.177806Z"
        },
        "trusted": true
      },
      "execution_count": 1,
      "outputs": []
    },
    {
      "cell_type": "markdown",
      "source": [
        "## Custom functions definition:"
      ],
      "metadata": {
        "id": "fiFscD6LsE0z"
      }
    },
    {
      "cell_type": "code",
      "source": [
        "def conf_matrix(y, y_pred, title, labels):\n",
        "    fig, ax =plt.subplots(figsize=(7.5,7.5))\n",
        "    ax=sns.heatmap(confusion_matrix(y, y_pred), annot=True, cmap=\"Purples\", fmt='g', cbar=False, annot_kws={\"size\":30})\n",
        "    plt.title(title, fontsize=25)\n",
        "    ax.xaxis.set_ticklabels(labels, fontsize=16)\n",
        "    ax.yaxis.set_ticklabels(labels, fontsize=14.5)\n",
        "    ax.set_ylabel('Test', fontsize=25)\n",
        "    ax.set_xlabel('Predicted', fontsize=25)\n",
        "    plt.show()"
      ],
      "metadata": {
        "_kg_hide-input": true,
        "execution": {
          "iopub.status.busy": "2023-06-02T01:54:45.184756Z",
          "iopub.execute_input": "2023-06-02T01:54:45.185395Z",
          "iopub.status.idle": "2023-06-02T01:54:45.193440Z",
          "shell.execute_reply.started": "2023-06-02T01:54:45.185352Z",
          "shell.execute_reply": "2023-06-02T01:54:45.192600Z"
        },
        "trusted": true,
        "id": "XKKDNBtisE01"
      },
      "execution_count": 2,
      "outputs": []
    },
    {
      "cell_type": "code",
      "source": [
        "pip install langdetect"
      ],
      "metadata": {
        "execution": {
          "iopub.status.busy": "2023-06-02T01:54:45.196376Z",
          "iopub.execute_input": "2023-06-02T01:54:45.196911Z",
          "iopub.status.idle": "2023-06-02T01:54:54.147482Z",
          "shell.execute_reply.started": "2023-06-02T01:54:45.196864Z",
          "shell.execute_reply": "2023-06-02T01:54:54.146535Z"
        },
        "trusted": true,
        "colab": {
          "base_uri": "https://localhost:8080/"
        },
        "id": "xf1gBXoNsE05",
        "outputId": "2a1caf8f-e11a-435f-c9cf-8ffcff34d380"
      },
      "execution_count": 3,
      "outputs": [
        {
          "output_type": "stream",
          "name": "stdout",
          "text": [
            "Collecting langdetect\n",
            "  Downloading langdetect-1.0.9.tar.gz (981 kB)\n",
            "\u001b[2K     \u001b[90m━━━━━━━━━━━━━━━━━━━━━━━━━━━━━━━━━━━━━━━\u001b[0m \u001b[32m981.5/981.5 kB\u001b[0m \u001b[31m5.0 MB/s\u001b[0m eta \u001b[36m0:00:00\u001b[0m\n",
            "\u001b[?25h  Preparing metadata (setup.py) ... \u001b[?25l\u001b[?25hdone\n",
            "Requirement already satisfied: six in /usr/local/lib/python3.10/dist-packages (from langdetect) (1.16.0)\n",
            "Building wheels for collected packages: langdetect\n",
            "  Building wheel for langdetect (setup.py) ... \u001b[?25l\u001b[?25hdone\n",
            "  Created wheel for langdetect: filename=langdetect-1.0.9-py3-none-any.whl size=993224 sha256=2e33f4022f116f78d991b30fa46b6bddc2743c8acc82706336b1c3a247936ab3\n",
            "  Stored in directory: /root/.cache/pip/wheels/95/03/7d/59ea870c70ce4e5a370638b5462a7711ab78fba2f655d05106\n",
            "Successfully built langdetect\n",
            "Installing collected packages: langdetect\n",
            "Successfully installed langdetect-1.0.9\n"
          ]
        }
      ]
    },
    {
      "cell_type": "code",
      "source": [
        "pip install contractions"
      ],
      "metadata": {
        "execution": {
          "iopub.status.busy": "2023-06-02T01:54:54.151160Z",
          "iopub.execute_input": "2023-06-02T01:54:54.151420Z",
          "iopub.status.idle": "2023-06-02T01:55:03.265460Z",
          "shell.execute_reply.started": "2023-06-02T01:54:54.151388Z",
          "shell.execute_reply": "2023-06-02T01:55:03.264506Z"
        },
        "trusted": true,
        "colab": {
          "base_uri": "https://localhost:8080/"
        },
        "id": "vM_lwG2SsE0-",
        "outputId": "469583ed-455b-4437-8e72-b6f4a84c1fd2"
      },
      "execution_count": 4,
      "outputs": [
        {
          "output_type": "stream",
          "name": "stdout",
          "text": [
            "Collecting contractions\n",
            "  Downloading contractions-0.1.73-py2.py3-none-any.whl (8.7 kB)\n",
            "Collecting textsearch>=0.0.21 (from contractions)\n",
            "  Downloading textsearch-0.0.24-py2.py3-none-any.whl (7.6 kB)\n",
            "Collecting anyascii (from textsearch>=0.0.21->contractions)\n",
            "  Downloading anyascii-0.3.2-py3-none-any.whl (289 kB)\n",
            "\u001b[2K     \u001b[90m━━━━━━━━━━━━━━━━━━━━━━━━━━━━━━━━━━━━━━━\u001b[0m \u001b[32m289.9/289.9 kB\u001b[0m \u001b[31m4.6 MB/s\u001b[0m eta \u001b[36m0:00:00\u001b[0m\n",
            "\u001b[?25hCollecting pyahocorasick (from textsearch>=0.0.21->contractions)\n",
            "  Downloading pyahocorasick-2.0.0-cp310-cp310-manylinux_2_5_x86_64.manylinux1_x86_64.manylinux_2_12_x86_64.manylinux2010_x86_64.whl (110 kB)\n",
            "\u001b[2K     \u001b[90m━━━━━━━━━━━━━━━━━━━━━━━━━━━━━━━━━━━━━━━\u001b[0m \u001b[32m110.8/110.8 kB\u001b[0m \u001b[31m8.0 MB/s\u001b[0m eta \u001b[36m0:00:00\u001b[0m\n",
            "\u001b[?25hInstalling collected packages: pyahocorasick, anyascii, textsearch, contractions\n",
            "Successfully installed anyascii-0.3.2 contractions-0.1.73 pyahocorasick-2.0.0 textsearch-0.0.24\n"
          ]
        }
      ]
    },
    {
      "cell_type": "code",
      "source": [
        "from google.colab import drive\n",
        "drive.mount('/content/drive')"
      ],
      "metadata": {
        "colab": {
          "base_uri": "https://localhost:8080/"
        },
        "id": "gjIPgaEGzWUa",
        "outputId": "a6b92f7a-2d8d-4074-965b-f8a61bbc3d0d"
      },
      "execution_count": 5,
      "outputs": [
        {
          "output_type": "stream",
          "name": "stdout",
          "text": [
            "Mounted at /content/drive\n"
          ]
        }
      ]
    },
    {
      "cell_type": "code",
      "source": [
        "!pip install transformers"
      ],
      "metadata": {
        "colab": {
          "base_uri": "https://localhost:8080/"
        },
        "id": "wa_yvI8Y0Fdv",
        "outputId": "9764f30c-b414-4f59-80c9-db2f6bfa6024"
      },
      "execution_count": 6,
      "outputs": [
        {
          "output_type": "stream",
          "name": "stdout",
          "text": [
            "Collecting transformers\n",
            "  Downloading transformers-4.33.2-py3-none-any.whl (7.6 MB)\n",
            "\u001b[2K     \u001b[90m━━━━━━━━━━━━━━━━━━━━━━━━━━━━━━━━━━━━━━━━\u001b[0m \u001b[32m7.6/7.6 MB\u001b[0m \u001b[31m17.1 MB/s\u001b[0m eta \u001b[36m0:00:00\u001b[0m\n",
            "\u001b[?25hRequirement already satisfied: filelock in /usr/local/lib/python3.10/dist-packages (from transformers) (3.12.2)\n",
            "Collecting huggingface-hub<1.0,>=0.15.1 (from transformers)\n",
            "  Downloading huggingface_hub-0.17.2-py3-none-any.whl (294 kB)\n",
            "\u001b[2K     \u001b[90m━━━━━━━━━━━━━━━━━━━━━━━━━━━━━━━━━━━━━━\u001b[0m \u001b[32m294.9/294.9 kB\u001b[0m \u001b[31m28.0 MB/s\u001b[0m eta \u001b[36m0:00:00\u001b[0m\n",
            "\u001b[?25hRequirement already satisfied: numpy>=1.17 in /usr/local/lib/python3.10/dist-packages (from transformers) (1.23.5)\n",
            "Requirement already satisfied: packaging>=20.0 in /usr/local/lib/python3.10/dist-packages (from transformers) (23.1)\n",
            "Requirement already satisfied: pyyaml>=5.1 in /usr/local/lib/python3.10/dist-packages (from transformers) (6.0.1)\n",
            "Requirement already satisfied: regex!=2019.12.17 in /usr/local/lib/python3.10/dist-packages (from transformers) (2023.6.3)\n",
            "Requirement already satisfied: requests in /usr/local/lib/python3.10/dist-packages (from transformers) (2.31.0)\n",
            "Collecting tokenizers!=0.11.3,<0.14,>=0.11.1 (from transformers)\n",
            "  Downloading tokenizers-0.13.3-cp310-cp310-manylinux_2_17_x86_64.manylinux2014_x86_64.whl (7.8 MB)\n",
            "\u001b[2K     \u001b[90m━━━━━━━━━━━━━━━━━━━━━━━━━━━━━━━━━━━━━━━━\u001b[0m \u001b[32m7.8/7.8 MB\u001b[0m \u001b[31m39.0 MB/s\u001b[0m eta \u001b[36m0:00:00\u001b[0m\n",
            "\u001b[?25hCollecting safetensors>=0.3.1 (from transformers)\n",
            "  Downloading safetensors-0.3.3-cp310-cp310-manylinux_2_17_x86_64.manylinux2014_x86_64.whl (1.3 MB)\n",
            "\u001b[2K     \u001b[90m━━━━━━━━━━━━━━━━━━━━━━━━━━━━━━━━━━━━━━━━\u001b[0m \u001b[32m1.3/1.3 MB\u001b[0m \u001b[31m45.4 MB/s\u001b[0m eta \u001b[36m0:00:00\u001b[0m\n",
            "\u001b[?25hRequirement already satisfied: tqdm>=4.27 in /usr/local/lib/python3.10/dist-packages (from transformers) (4.66.1)\n",
            "Requirement already satisfied: fsspec in /usr/local/lib/python3.10/dist-packages (from huggingface-hub<1.0,>=0.15.1->transformers) (2023.6.0)\n",
            "Requirement already satisfied: typing-extensions>=3.7.4.3 in /usr/local/lib/python3.10/dist-packages (from huggingface-hub<1.0,>=0.15.1->transformers) (4.5.0)\n",
            "Requirement already satisfied: charset-normalizer<4,>=2 in /usr/local/lib/python3.10/dist-packages (from requests->transformers) (3.2.0)\n",
            "Requirement already satisfied: idna<4,>=2.5 in /usr/local/lib/python3.10/dist-packages (from requests->transformers) (3.4)\n",
            "Requirement already satisfied: urllib3<3,>=1.21.1 in /usr/local/lib/python3.10/dist-packages (from requests->transformers) (2.0.4)\n",
            "Requirement already satisfied: certifi>=2017.4.17 in /usr/local/lib/python3.10/dist-packages (from requests->transformers) (2023.7.22)\n",
            "Installing collected packages: tokenizers, safetensors, huggingface-hub, transformers\n",
            "Successfully installed huggingface-hub-0.17.2 safetensors-0.3.3 tokenizers-0.13.3 transformers-4.33.2\n"
          ]
        }
      ]
    },
    {
      "cell_type": "markdown",
      "source": [
        "## Import libraries"
      ],
      "metadata": {
        "id": "8_5UE8W3sE1A"
      }
    },
    {
      "cell_type": "code",
      "source": [
        "import nltk\n",
        "nltk.download('stopwords')"
      ],
      "metadata": {
        "colab": {
          "base_uri": "https://localhost:8080/"
        },
        "id": "YeW_uX-c0hzX",
        "outputId": "055addf6-cd29-42ac-897c-c9134d7b7d05"
      },
      "execution_count": 7,
      "outputs": [
        {
          "output_type": "stream",
          "name": "stderr",
          "text": [
            "[nltk_data] Downloading package stopwords to /root/nltk_data...\n",
            "[nltk_data]   Unzipping corpora/stopwords.zip.\n"
          ]
        },
        {
          "output_type": "execute_result",
          "data": {
            "text/plain": [
              "True"
            ]
          },
          "metadata": {},
          "execution_count": 7
        }
      ]
    },
    {
      "cell_type": "code",
      "source": [
        "# Libraries for general purpose\n",
        "import pandas as pd\n",
        "import numpy as np\n",
        "import matplotlib.pyplot as plt\n",
        "import seaborn as sns\n",
        "\n",
        "# Text cleaning\n",
        "import re\n",
        "import string\n",
        "#import emoji\n",
        "import nltk\n",
        "from nltk.stem import WordNetLemmatizer, PorterStemmer\n",
        "from nltk.corpus import stopwords\n",
        "\n",
        "# Data preprocessing\n",
        "from sklearn import preprocessing\n",
        "from sklearn.model_selection import train_test_split\n",
        "from imblearn.over_sampling import RandomOverSampler\n",
        "from langdetect import detect, LangDetectException\n",
        "import contractions\n",
        "from nltk.tokenize import word_tokenize\n",
        "\n",
        "# Naive Bayes\n",
        "from sklearn.feature_extraction.text import CountVectorizer\n",
        "from sklearn.feature_extraction.text import TfidfTransformer\n",
        "from sklearn.naive_bayes import MultinomialNB\n",
        "\n",
        "# PyTorch LSTM\n",
        "import torch\n",
        "import torch.nn as nn\n",
        "import torch.nn.functional as F\n",
        "import torch.optim as optim\n",
        "from torch.utils.data import TensorDataset, DataLoader, RandomSampler, SequentialSampler\n",
        "\n",
        "# Tokenization for LSTM\n",
        "from collections import Counter\n",
        "from gensim.models import Word2Vec\n",
        "\n",
        "# Transformers library for BERT\n",
        "import transformers\n",
        "from transformers import BertModel\n",
        "from transformers import BertTokenizer\n",
        "from transformers import AdamW, get_linear_schedule_with_warmup\n",
        "from sklearn.metrics import classification_report, confusion_matrix\n",
        "\n",
        "import time\n",
        "\n",
        "# Set seed for reproducibility\n",
        "import random\n",
        "seed_value = 2042\n",
        "random.seed(seed_value)\n",
        "np.random.seed(seed_value)\n",
        "torch.manual_seed(seed_value)\n",
        "torch.cuda.manual_seed_all(seed_value)\n",
        "\n",
        "# Set style for plots\n",
        "sns.set_style(\"whitegrid\")\n",
        "sns.despine()\n",
        "plt.style.use(\"seaborn-whitegrid\")\n",
        "plt.rc(\"figure\", autolayout=True)\n",
        "plt.rc(\"axes\", labelweight=\"bold\", labelsize=\"large\", titleweight=\"bold\", titlepad=10)\n",
        "\n",
        "# Define stop words for text cleaning\n",
        "stop_words = set(stopwords.words('english'))\n",
        "\n",
        "# Initialize lemmatizer for text cleaning\n",
        "lemmatizer = WordNetLemmatizer()"
      ],
      "metadata": {
        "id": "D0GOzHmK5QsH",
        "outputId": "5a1464fa-37fb-4711-cdb9-fb0c464bdb98",
        "execution": {
          "iopub.status.busy": "2023-06-02T01:55:03.267318Z",
          "iopub.execute_input": "2023-06-02T01:55:03.267566Z",
          "iopub.status.idle": "2023-06-02T01:55:06.717286Z",
          "shell.execute_reply.started": "2023-06-02T01:55:03.267533Z",
          "shell.execute_reply": "2023-06-02T01:55:06.716524Z"
        },
        "trusted": true,
        "colab": {
          "base_uri": "https://localhost:8080/",
          "height": 89
        }
      },
      "execution_count": 8,
      "outputs": [
        {
          "output_type": "stream",
          "name": "stderr",
          "text": [
            "<ipython-input-8-564ccba03474>:59: MatplotlibDeprecationWarning: The seaborn styles shipped by Matplotlib are deprecated since 3.6, as they no longer correspond to the styles shipped by seaborn. However, they will remain available as 'seaborn-v0_8-<style>'. Alternatively, directly use the seaborn API instead.\n",
            "  plt.style.use(\"seaborn-whitegrid\")\n"
          ]
        },
        {
          "output_type": "display_data",
          "data": {
            "text/plain": [
              "<Figure size 640x480 with 0 Axes>"
            ]
          },
          "metadata": {}
        }
      ]
    },
    {
      "cell_type": "code",
      "source": [
        "nltk.download('wordnet')"
      ],
      "metadata": {
        "colab": {
          "base_uri": "https://localhost:8080/"
        },
        "id": "dkCo8soh4d-h",
        "outputId": "5d41b40a-ad00-4c3f-bf85-147e274812fc"
      },
      "execution_count": 9,
      "outputs": [
        {
          "output_type": "stream",
          "name": "stderr",
          "text": [
            "[nltk_data] Downloading package wordnet to /root/nltk_data...\n"
          ]
        },
        {
          "output_type": "execute_result",
          "data": {
            "text/plain": [
              "True"
            ]
          },
          "metadata": {},
          "execution_count": 9
        }
      ]
    },
    {
      "cell_type": "markdown",
      "source": [
        "## Data Import"
      ],
      "metadata": {
        "id": "yJeelraYsE1C"
      }
    },
    {
      "cell_type": "code",
      "source": [
        "df = pd.read_csv(\"/content/drive/MyDrive/MYTESIS/explicitlabelsongs.csv\")"
      ],
      "metadata": {
        "id": "aCVJ1XJi5QsI",
        "execution": {
          "iopub.status.busy": "2023-06-02T01:55:06.718963Z",
          "iopub.execute_input": "2023-06-02T01:55:06.719260Z",
          "iopub.status.idle": "2023-06-02T01:55:06.835451Z",
          "shell.execute_reply.started": "2023-06-02T01:55:06.719219Z",
          "shell.execute_reply": "2023-06-02T01:55:06.834613Z"
        },
        "trusted": true
      },
      "execution_count": 10,
      "outputs": []
    },
    {
      "cell_type": "code",
      "source": [
        "df.head()"
      ],
      "metadata": {
        "id": "NPhe4rM35QsJ",
        "outputId": "3880388d-22dc-4969-cf07-364d3574739c",
        "execution": {
          "iopub.status.busy": "2023-06-02T01:55:06.838891Z",
          "iopub.execute_input": "2023-06-02T01:55:06.839130Z",
          "iopub.status.idle": "2023-06-02T01:55:06.852652Z",
          "shell.execute_reply.started": "2023-06-02T01:55:06.839100Z",
          "shell.execute_reply": "2023-06-02T01:55:06.851746Z"
        },
        "trusted": true,
        "colab": {
          "base_uri": "https://localhost:8080/",
          "height": 206
        }
      },
      "execution_count": 11,
      "outputs": [
        {
          "output_type": "execute_result",
          "data": {
            "text/plain": [
              "           artist                song  \\\n",
              "0     Chris Brown          D.G.I.F.U.   \n",
              "1       Lil Wayne         High Beamin   \n",
              "2  Marilyn Manson  Unkillable Monster   \n",
              "3        Ice Cube  It's A Man's World   \n",
              "4   Ariana Grande   Thinking Bout You   \n",
              "\n",
              "                                                text explicit_label  \n",
              "0  [Verse 1: Tyga]   Ya'll know me, the still sam...       explicit  \n",
              "1  [B.G.]   Niggas be hating 'cause B.G. got it  ...       explicit  \n",
              "2  How the fuck are we supposed to know   When I'...       explicit  \n",
              "3  Women they're good for nothing no maybe one th...       explicit  \n",
              "4  [Verse 1]   I've been thinking 'bout you   Yea...       explicit  "
            ],
            "text/html": [
              "\n",
              "  <div id=\"df-0d2cba7d-47f1-4b24-952c-67d3bced3bdd\" class=\"colab-df-container\">\n",
              "    <div>\n",
              "<style scoped>\n",
              "    .dataframe tbody tr th:only-of-type {\n",
              "        vertical-align: middle;\n",
              "    }\n",
              "\n",
              "    .dataframe tbody tr th {\n",
              "        vertical-align: top;\n",
              "    }\n",
              "\n",
              "    .dataframe thead th {\n",
              "        text-align: right;\n",
              "    }\n",
              "</style>\n",
              "<table border=\"1\" class=\"dataframe\">\n",
              "  <thead>\n",
              "    <tr style=\"text-align: right;\">\n",
              "      <th></th>\n",
              "      <th>artist</th>\n",
              "      <th>song</th>\n",
              "      <th>text</th>\n",
              "      <th>explicit_label</th>\n",
              "    </tr>\n",
              "  </thead>\n",
              "  <tbody>\n",
              "    <tr>\n",
              "      <th>0</th>\n",
              "      <td>Chris Brown</td>\n",
              "      <td>D.G.I.F.U.</td>\n",
              "      <td>[Verse 1: Tyga]   Ya'll know me, the still sam...</td>\n",
              "      <td>explicit</td>\n",
              "    </tr>\n",
              "    <tr>\n",
              "      <th>1</th>\n",
              "      <td>Lil Wayne</td>\n",
              "      <td>High Beamin</td>\n",
              "      <td>[B.G.]   Niggas be hating 'cause B.G. got it  ...</td>\n",
              "      <td>explicit</td>\n",
              "    </tr>\n",
              "    <tr>\n",
              "      <th>2</th>\n",
              "      <td>Marilyn Manson</td>\n",
              "      <td>Unkillable Monster</td>\n",
              "      <td>How the fuck are we supposed to know   When I'...</td>\n",
              "      <td>explicit</td>\n",
              "    </tr>\n",
              "    <tr>\n",
              "      <th>3</th>\n",
              "      <td>Ice Cube</td>\n",
              "      <td>It's A Man's World</td>\n",
              "      <td>Women they're good for nothing no maybe one th...</td>\n",
              "      <td>explicit</td>\n",
              "    </tr>\n",
              "    <tr>\n",
              "      <th>4</th>\n",
              "      <td>Ariana Grande</td>\n",
              "      <td>Thinking Bout You</td>\n",
              "      <td>[Verse 1]   I've been thinking 'bout you   Yea...</td>\n",
              "      <td>explicit</td>\n",
              "    </tr>\n",
              "  </tbody>\n",
              "</table>\n",
              "</div>\n",
              "    <div class=\"colab-df-buttons\">\n",
              "\n",
              "  <div class=\"colab-df-container\">\n",
              "    <button class=\"colab-df-convert\" onclick=\"convertToInteractive('df-0d2cba7d-47f1-4b24-952c-67d3bced3bdd')\"\n",
              "            title=\"Convert this dataframe to an interactive table.\"\n",
              "            style=\"display:none;\">\n",
              "\n",
              "  <svg xmlns=\"http://www.w3.org/2000/svg\" height=\"24px\" viewBox=\"0 -960 960 960\">\n",
              "    <path d=\"M120-120v-720h720v720H120Zm60-500h600v-160H180v160Zm220 220h160v-160H400v160Zm0 220h160v-160H400v160ZM180-400h160v-160H180v160Zm440 0h160v-160H620v160ZM180-180h160v-160H180v160Zm440 0h160v-160H620v160Z\"/>\n",
              "  </svg>\n",
              "    </button>\n",
              "\n",
              "  <style>\n",
              "    .colab-df-container {\n",
              "      display:flex;\n",
              "      gap: 12px;\n",
              "    }\n",
              "\n",
              "    .colab-df-convert {\n",
              "      background-color: #E8F0FE;\n",
              "      border: none;\n",
              "      border-radius: 50%;\n",
              "      cursor: pointer;\n",
              "      display: none;\n",
              "      fill: #1967D2;\n",
              "      height: 32px;\n",
              "      padding: 0 0 0 0;\n",
              "      width: 32px;\n",
              "    }\n",
              "\n",
              "    .colab-df-convert:hover {\n",
              "      background-color: #E2EBFA;\n",
              "      box-shadow: 0px 1px 2px rgba(60, 64, 67, 0.3), 0px 1px 3px 1px rgba(60, 64, 67, 0.15);\n",
              "      fill: #174EA6;\n",
              "    }\n",
              "\n",
              "    .colab-df-buttons div {\n",
              "      margin-bottom: 4px;\n",
              "    }\n",
              "\n",
              "    [theme=dark] .colab-df-convert {\n",
              "      background-color: #3B4455;\n",
              "      fill: #D2E3FC;\n",
              "    }\n",
              "\n",
              "    [theme=dark] .colab-df-convert:hover {\n",
              "      background-color: #434B5C;\n",
              "      box-shadow: 0px 1px 3px 1px rgba(0, 0, 0, 0.15);\n",
              "      filter: drop-shadow(0px 1px 2px rgba(0, 0, 0, 0.3));\n",
              "      fill: #FFFFFF;\n",
              "    }\n",
              "  </style>\n",
              "\n",
              "    <script>\n",
              "      const buttonEl =\n",
              "        document.querySelector('#df-0d2cba7d-47f1-4b24-952c-67d3bced3bdd button.colab-df-convert');\n",
              "      buttonEl.style.display =\n",
              "        google.colab.kernel.accessAllowed ? 'block' : 'none';\n",
              "\n",
              "      async function convertToInteractive(key) {\n",
              "        const element = document.querySelector('#df-0d2cba7d-47f1-4b24-952c-67d3bced3bdd');\n",
              "        const dataTable =\n",
              "          await google.colab.kernel.invokeFunction('convertToInteractive',\n",
              "                                                    [key], {});\n",
              "        if (!dataTable) return;\n",
              "\n",
              "        const docLinkHtml = 'Like what you see? Visit the ' +\n",
              "          '<a target=\"_blank\" href=https://colab.research.google.com/notebooks/data_table.ipynb>data table notebook</a>'\n",
              "          + ' to learn more about interactive tables.';\n",
              "        element.innerHTML = '';\n",
              "        dataTable['output_type'] = 'display_data';\n",
              "        await google.colab.output.renderOutput(dataTable, element);\n",
              "        const docLink = document.createElement('div');\n",
              "        docLink.innerHTML = docLinkHtml;\n",
              "        element.appendChild(docLink);\n",
              "      }\n",
              "    </script>\n",
              "  </div>\n",
              "\n",
              "\n",
              "<div id=\"df-6f67d491-5566-4b9b-bc99-223ef3bf275c\">\n",
              "  <button class=\"colab-df-quickchart\" onclick=\"quickchart('df-6f67d491-5566-4b9b-bc99-223ef3bf275c')\"\n",
              "            title=\"Suggest charts.\"\n",
              "            style=\"display:none;\">\n",
              "\n",
              "<svg xmlns=\"http://www.w3.org/2000/svg\" height=\"24px\"viewBox=\"0 0 24 24\"\n",
              "     width=\"24px\">\n",
              "    <g>\n",
              "        <path d=\"M19 3H5c-1.1 0-2 .9-2 2v14c0 1.1.9 2 2 2h14c1.1 0 2-.9 2-2V5c0-1.1-.9-2-2-2zM9 17H7v-7h2v7zm4 0h-2V7h2v10zm4 0h-2v-4h2v4z\"/>\n",
              "    </g>\n",
              "</svg>\n",
              "  </button>\n",
              "\n",
              "<style>\n",
              "  .colab-df-quickchart {\n",
              "      --bg-color: #E8F0FE;\n",
              "      --fill-color: #1967D2;\n",
              "      --hover-bg-color: #E2EBFA;\n",
              "      --hover-fill-color: #174EA6;\n",
              "      --disabled-fill-color: #AAA;\n",
              "      --disabled-bg-color: #DDD;\n",
              "  }\n",
              "\n",
              "  [theme=dark] .colab-df-quickchart {\n",
              "      --bg-color: #3B4455;\n",
              "      --fill-color: #D2E3FC;\n",
              "      --hover-bg-color: #434B5C;\n",
              "      --hover-fill-color: #FFFFFF;\n",
              "      --disabled-bg-color: #3B4455;\n",
              "      --disabled-fill-color: #666;\n",
              "  }\n",
              "\n",
              "  .colab-df-quickchart {\n",
              "    background-color: var(--bg-color);\n",
              "    border: none;\n",
              "    border-radius: 50%;\n",
              "    cursor: pointer;\n",
              "    display: none;\n",
              "    fill: var(--fill-color);\n",
              "    height: 32px;\n",
              "    padding: 0;\n",
              "    width: 32px;\n",
              "  }\n",
              "\n",
              "  .colab-df-quickchart:hover {\n",
              "    background-color: var(--hover-bg-color);\n",
              "    box-shadow: 0 1px 2px rgba(60, 64, 67, 0.3), 0 1px 3px 1px rgba(60, 64, 67, 0.15);\n",
              "    fill: var(--button-hover-fill-color);\n",
              "  }\n",
              "\n",
              "  .colab-df-quickchart-complete:disabled,\n",
              "  .colab-df-quickchart-complete:disabled:hover {\n",
              "    background-color: var(--disabled-bg-color);\n",
              "    fill: var(--disabled-fill-color);\n",
              "    box-shadow: none;\n",
              "  }\n",
              "\n",
              "  .colab-df-spinner {\n",
              "    border: 2px solid var(--fill-color);\n",
              "    border-color: transparent;\n",
              "    border-bottom-color: var(--fill-color);\n",
              "    animation:\n",
              "      spin 1s steps(1) infinite;\n",
              "  }\n",
              "\n",
              "  @keyframes spin {\n",
              "    0% {\n",
              "      border-color: transparent;\n",
              "      border-bottom-color: var(--fill-color);\n",
              "      border-left-color: var(--fill-color);\n",
              "    }\n",
              "    20% {\n",
              "      border-color: transparent;\n",
              "      border-left-color: var(--fill-color);\n",
              "      border-top-color: var(--fill-color);\n",
              "    }\n",
              "    30% {\n",
              "      border-color: transparent;\n",
              "      border-left-color: var(--fill-color);\n",
              "      border-top-color: var(--fill-color);\n",
              "      border-right-color: var(--fill-color);\n",
              "    }\n",
              "    40% {\n",
              "      border-color: transparent;\n",
              "      border-right-color: var(--fill-color);\n",
              "      border-top-color: var(--fill-color);\n",
              "    }\n",
              "    60% {\n",
              "      border-color: transparent;\n",
              "      border-right-color: var(--fill-color);\n",
              "    }\n",
              "    80% {\n",
              "      border-color: transparent;\n",
              "      border-right-color: var(--fill-color);\n",
              "      border-bottom-color: var(--fill-color);\n",
              "    }\n",
              "    90% {\n",
              "      border-color: transparent;\n",
              "      border-bottom-color: var(--fill-color);\n",
              "    }\n",
              "  }\n",
              "</style>\n",
              "\n",
              "  <script>\n",
              "    async function quickchart(key) {\n",
              "      const quickchartButtonEl =\n",
              "        document.querySelector('#' + key + ' button');\n",
              "      quickchartButtonEl.disabled = true;  // To prevent multiple clicks.\n",
              "      quickchartButtonEl.classList.add('colab-df-spinner');\n",
              "      try {\n",
              "        const charts = await google.colab.kernel.invokeFunction(\n",
              "            'suggestCharts', [key], {});\n",
              "      } catch (error) {\n",
              "        console.error('Error during call to suggestCharts:', error);\n",
              "      }\n",
              "      quickchartButtonEl.classList.remove('colab-df-spinner');\n",
              "      quickchartButtonEl.classList.add('colab-df-quickchart-complete');\n",
              "    }\n",
              "    (() => {\n",
              "      let quickchartButtonEl =\n",
              "        document.querySelector('#df-6f67d491-5566-4b9b-bc99-223ef3bf275c button');\n",
              "      quickchartButtonEl.style.display =\n",
              "        google.colab.kernel.accessAllowed ? 'block' : 'none';\n",
              "    })();\n",
              "  </script>\n",
              "</div>\n",
              "    </div>\n",
              "  </div>\n"
            ]
          },
          "metadata": {},
          "execution_count": 11
        }
      ]
    },
    {
      "cell_type": "code",
      "source": [
        "df.info()"
      ],
      "metadata": {
        "execution": {
          "iopub.status.busy": "2023-06-02T01:55:06.854309Z",
          "iopub.execute_input": "2023-06-02T01:55:06.854815Z",
          "iopub.status.idle": "2023-06-02T01:55:06.878423Z",
          "shell.execute_reply.started": "2023-06-02T01:55:06.854770Z",
          "shell.execute_reply": "2023-06-02T01:55:06.877515Z"
        },
        "trusted": true,
        "colab": {
          "base_uri": "https://localhost:8080/"
        },
        "id": "WxmbyrttsE1H",
        "outputId": "d0e31a43-3703-424f-9b68-9a5bf68dfd2a"
      },
      "execution_count": 12,
      "outputs": [
        {
          "output_type": "stream",
          "name": "stdout",
          "text": [
            "<class 'pandas.core.frame.DataFrame'>\n",
            "RangeIndex: 5768 entries, 0 to 5767\n",
            "Data columns (total 4 columns):\n",
            " #   Column          Non-Null Count  Dtype \n",
            "---  ------          --------------  ----- \n",
            " 0   artist          5768 non-null   object\n",
            " 1   song            5768 non-null   object\n",
            " 2   text            5768 non-null   object\n",
            " 3   explicit_label  5768 non-null   object\n",
            "dtypes: object(4)\n",
            "memory usage: 180.4+ KB\n"
          ]
        }
      ]
    },
    {
      "cell_type": "markdown",
      "source": [
        "First we rename the columns using shorter words for easier reference."
      ],
      "metadata": {
        "id": "mr93YK7csE1I"
      }
    },
    {
      "cell_type": "code",
      "source": [
        "df = df.rename(columns={ 'text': 'lyric','explicit_label': 'label'})"
      ],
      "metadata": {
        "id": "AwUN352x5QsK",
        "execution": {
          "iopub.status.busy": "2023-06-02T01:55:06.879820Z",
          "iopub.execute_input": "2023-06-02T01:55:06.880184Z",
          "iopub.status.idle": "2023-06-02T01:55:06.887777Z",
          "shell.execute_reply.started": "2023-06-02T01:55:06.880130Z",
          "shell.execute_reply": "2023-06-02T01:55:06.886991Z"
        },
        "trusted": true
      },
      "execution_count": 13,
      "outputs": []
    },
    {
      "cell_type": "markdown",
      "source": [
        "### Are there duplicated lyrics?"
      ],
      "metadata": {
        "id": "u9wTHjTcc1D7"
      }
    },
    {
      "cell_type": "code",
      "source": [
        "df.duplicated().sum()"
      ],
      "metadata": {
        "execution": {
          "iopub.status.busy": "2023-06-02T01:55:06.889344Z",
          "iopub.execute_input": "2023-06-02T01:55:06.889655Z",
          "iopub.status.idle": "2023-06-02T01:55:06.938405Z",
          "shell.execute_reply.started": "2023-06-02T01:55:06.889617Z",
          "shell.execute_reply": "2023-06-02T01:55:06.937570Z"
        },
        "trusted": true,
        "colab": {
          "base_uri": "https://localhost:8080/"
        },
        "id": "6UDlOl7SsE1O",
        "outputId": "c5212479-7f47-40a8-e3d0-2500a88b842a"
      },
      "execution_count": 14,
      "outputs": [
        {
          "output_type": "execute_result",
          "data": {
            "text/plain": [
              "229"
            ]
          },
          "metadata": {},
          "execution_count": 14
        }
      ]
    },
    {
      "cell_type": "markdown",
      "source": [
        "There are some duplicated lyrics, we will remove them."
      ],
      "metadata": {
        "id": "b-bOQP7_sE1Q"
      }
    },
    {
      "cell_type": "code",
      "source": [
        "df = df[~df.duplicated()]"
      ],
      "metadata": {
        "id": "4u7mn7wkchxj",
        "execution": {
          "iopub.status.busy": "2023-06-02T01:55:06.939706Z",
          "iopub.execute_input": "2023-06-02T01:55:06.940080Z",
          "iopub.status.idle": "2023-06-02T01:55:06.979559Z",
          "shell.execute_reply.started": "2023-06-02T01:55:06.940038Z",
          "shell.execute_reply": "2023-06-02T01:55:06.978738Z"
        },
        "trusted": true
      },
      "execution_count": 15,
      "outputs": []
    },
    {
      "cell_type": "code",
      "source": [
        "df.info()"
      ],
      "metadata": {
        "id": "oedUGlQ9crg2",
        "outputId": "2a0af2e8-017d-4539-b8ca-17dcc8b013ac",
        "execution": {
          "iopub.status.busy": "2023-06-02T01:55:06.981110Z",
          "iopub.execute_input": "2023-06-02T01:55:06.981405Z",
          "iopub.status.idle": "2023-06-02T01:55:07.005087Z",
          "shell.execute_reply.started": "2023-06-02T01:55:06.981362Z",
          "shell.execute_reply": "2023-06-02T01:55:07.004340Z"
        },
        "trusted": true,
        "colab": {
          "base_uri": "https://localhost:8080/"
        }
      },
      "execution_count": 16,
      "outputs": [
        {
          "output_type": "stream",
          "name": "stdout",
          "text": [
            "<class 'pandas.core.frame.DataFrame'>\n",
            "Int64Index: 5539 entries, 0 to 5767\n",
            "Data columns (total 4 columns):\n",
            " #   Column  Non-Null Count  Dtype \n",
            "---  ------  --------------  ----- \n",
            " 0   artist  5539 non-null   object\n",
            " 1   song    5539 non-null   object\n",
            " 2   lyric   5539 non-null   object\n",
            " 3   label   5539 non-null   object\n",
            "dtypes: object(4)\n",
            "memory usage: 216.4+ KB\n"
          ]
        }
      ]
    },
    {
      "cell_type": "markdown",
      "source": [
        "### Are the classes balanced?"
      ],
      "metadata": {
        "id": "e_CkplAfsE1S"
      }
    },
    {
      "cell_type": "code",
      "source": [
        "df.label.value_counts()"
      ],
      "metadata": {
        "id": "c82luV2N5QsN",
        "outputId": "09f06c37-8353-4599-d76d-2ae40f0352dc",
        "execution": {
          "iopub.status.busy": "2023-06-02T01:55:07.009700Z",
          "iopub.execute_input": "2023-06-02T01:55:07.009944Z",
          "iopub.status.idle": "2023-06-02T01:55:07.024715Z",
          "shell.execute_reply.started": "2023-06-02T01:55:07.009912Z",
          "shell.execute_reply": "2023-06-02T01:55:07.023741Z"
        },
        "trusted": true,
        "colab": {
          "base_uri": "https://localhost:8080/"
        }
      },
      "execution_count": 17,
      "outputs": [
        {
          "output_type": "execute_result",
          "data": {
            "text/plain": [
              "non_explicit    2884\n",
              "explicit        2655\n",
              "Name: label, dtype: int64"
            ]
          },
          "metadata": {},
          "execution_count": 17
        }
      ]
    },
    {
      "cell_type": "markdown",
      "source": [
        "The classes look balanced."
      ],
      "metadata": {
        "id": "x3SVRbUhsE1T"
      }
    },
    {
      "cell_type": "markdown",
      "source": [
        "# lyrics text deep cleaning"
      ],
      "metadata": {
        "execution": {
          "iopub.status.busy": "2022-01-19T09:34:52.112005Z",
          "iopub.execute_input": "2022-01-19T09:34:52.112295Z",
          "iopub.status.idle": "2022-01-19T09:34:53.14386Z",
          "shell.execute_reply.started": "2022-01-19T09:34:52.112262Z",
          "shell.execute_reply": "2022-01-19T09:34:53.142913Z"
        },
        "id": "DGmYrF4d5QsP"
      }
    },
    {
      "cell_type": "markdown",
      "source": [
        "Next, we will define custom functions to clean the texts of the lyrics."
      ],
      "metadata": {
        "id": "P2w9pFEosE1U"
      }
    },
    {
      "cell_type": "code",
      "source": [
        "import nltk\n",
        "nltk.download('punkt')"
      ],
      "metadata": {
        "colab": {
          "base_uri": "https://localhost:8080/"
        },
        "id": "WEVpk7TF4R6Z",
        "outputId": "3c48c64c-9825-4681-ab28-cc7f75e6c2fd"
      },
      "execution_count": 18,
      "outputs": [
        {
          "output_type": "stream",
          "name": "stderr",
          "text": [
            "[nltk_data] Downloading package punkt to /root/nltk_data...\n",
            "[nltk_data]   Unzipping tokenizers/punkt.zip.\n"
          ]
        },
        {
          "output_type": "execute_result",
          "data": {
            "text/plain": [
              "True"
            ]
          },
          "metadata": {},
          "execution_count": 18
        }
      ]
    },
    {
      "cell_type": "code",
      "source": [
        "# Clean emojis from text\n",
        "#def strip_emoji(text):\n",
        " #   return emoji.get_emoji_regexp().sub(\"\", text)\n",
        "\n",
        "# Remove punctuations, stopwords, links, mentions and new line characters\n",
        "def strip_all_entities(lyric):\n",
        "    lyric = re.sub(r'\\r|\\n', ' ', lyric.lower())  # Replace newline and carriage return with space, and convert to lowercase\n",
        "    lyric = re.sub(r\"(?:\\@|https?\\://)\\S+\", \"\", lyric)  # Remove links and mentions\n",
        "    lyric = re.sub(r'[^\\x00-\\x7f]', '', lyric)  # Remove non-ASCII characters\n",
        "    banned_list = string.punctuation\n",
        "    table = str.maketrans('', '', banned_list)\n",
        "    lyric = lyric.translate(table)\n",
        "    lyric = ' '.join(word for word in lyric.split() if word not in stop_words)\n",
        "    return lyric\n",
        "\n",
        "# Clean hashtags at the end of the sentence, and keep those in the middle of the sentence by removing just the # symbol\n",
        "#def clean_hashtags(lyric):\n",
        "    # Remove hashtags at the end of the sentence\n",
        " #   new_lyr = re.sub(r'(\\s+#[\\w-]+)+\\s*$', '', lyric).strip()\n",
        "\n",
        "    # Remove the # symbol from hashtags in the middle of the sentence\n",
        "  #  new_lyric = re.sub(r'#([\\w-]+)', r'\\1', new_lyric).strip()\n",
        "\n",
        "   # return new_lyric\n",
        "\n",
        "# Filter special characters such as & and $ present in some words\n",
        "def filter_chars(lyric):\n",
        "    return ' '.join('' if ('$' in word) or ('&' in word) else word for word in lyric.split())\n",
        "\n",
        "# Remove multiple spaces\n",
        "def remove_mult_spaces(lyric):\n",
        "    return re.sub(r\"\\s\\s+\", \" \", lyric)\n",
        "\n",
        "# Function to check if the text is in English, and return an empty string if it's not\n",
        "def filter_non_english(lyric):\n",
        "    try:\n",
        "        lang = detect(lyric)\n",
        "    except LangDetectException:\n",
        "        lang = \"unknown\"\n",
        "    return lyric if lang == \"en\" else \"\"\n",
        "\n",
        "# Expand contractions\n",
        "def expand_contractions(lyric):\n",
        "    return contractions.fix(lyric)\n",
        "\n",
        "# Remove numbers\n",
        "def remove_numbers(lyric):\n",
        "    return re.sub(r'\\d+', '', lyric)\n",
        "\n",
        "# Lemmatize words\n",
        "def lemmatize(lyric):\n",
        "    words = word_tokenize(lyric)\n",
        "    lemmatized_words = [lemmatizer.lemmatize(word) for word in words]\n",
        "    return ' '.join(lemmatized_words)\n",
        "\n",
        "# Remove short words\n",
        "def remove_short_words(lyric, min_len=2):\n",
        "    words = lyric.split()\n",
        "    long_words = [word for word in words if len(word) >= min_len]\n",
        "    return ' '.join(long_words)\n",
        "\n",
        "# Replace elongated words with their base form\n",
        "def replace_elongated_words(lyric):\n",
        "    regex_pattern = r'\\b(\\w+)((\\w)\\3{2,})(\\w*)\\b'\n",
        "    return re.sub(regex_pattern, r'\\1\\3\\4', lyric)\n",
        "\n",
        "# Remove repeated punctuation\n",
        "def remove_repeated_punctuation(lyric):\n",
        "    return re.sub(r'[\\?\\.\\!]+(?=[\\?\\.\\!])', '', lyric)\n",
        "\n",
        "# Remove extra whitespace\n",
        "def remove_extra_whitespace(lyric):\n",
        "    return ' '.join(lyric.split())\n",
        "\n",
        "#def remove_url_shorteners(text):\n",
        " #   return re.sub(r'(?:http[s]?://)?(?:www\\.)?(?:bit\\.ly|goo\\.gl|t\\.co|tinyurl\\.com|tr\\.im|is\\.gd|cli\\.gs|u\\.nu|url\\.ie|tiny\\.cc|alturl\\.com|ow\\.ly|bit\\.do|adoro\\.to)\\S+', '', text)\n",
        "\n",
        "# Remove spaces at the beginning and end of the lyric\n",
        "def remove_spaces_lyric(lyric):\n",
        "    return lyric.strip()\n",
        "\n",
        "# Remove short lyrics\n",
        "#def remove_short_lyrics(lyric, min_words=3):\n",
        " #   words = lyric.split()\n",
        "  #  return lyric if len(words) >= min_words else \"\"\n",
        "\n",
        "# Function to call all the cleaning functions in the correct order\n",
        "def clean_lyric(lyric):\n",
        " #   lyric = strip_emoji(lyric)\n",
        "    lyric = expand_contractions(lyric)\n",
        "    lyric = filter_non_english(lyric)\n",
        "    lyric = strip_all_entities(lyric)\n",
        "  #  lyric = clean_hashtags(lyric)\n",
        "    lyric = filter_chars(lyric)\n",
        "    lyric = remove_mult_spaces(lyric)\n",
        "    lyric = remove_numbers(lyric)\n",
        "    lyric = lemmatize(lyric)\n",
        "    lyric = remove_short_words(lyric)\n",
        "    lyric = replace_elongated_words(lyric)\n",
        "    lyric = remove_repeated_punctuation(lyric)\n",
        "    lyric = remove_extra_whitespace(lyric)\n",
        "   # lyric = remove_url_shorteners(lyric)\n",
        "    lyric = remove_spaces_lyric(lyric)\n",
        " #   lyric = remove_short_lyrics(lyric)\n",
        "    lyric = ' '.join(lyric.split())  # Remove multiple spaces between words\n",
        "    return lyric"
      ],
      "metadata": {
        "id": "E5E1UwMc5QsQ",
        "execution": {
          "iopub.status.busy": "2023-06-02T01:55:07.026969Z",
          "iopub.execute_input": "2023-06-02T01:55:07.027276Z",
          "iopub.status.idle": "2023-06-02T01:55:07.050047Z",
          "shell.execute_reply.started": "2023-06-02T01:55:07.027237Z",
          "shell.execute_reply": "2023-06-02T01:55:07.049136Z"
        },
        "trusted": true
      },
      "execution_count": 19,
      "outputs": []
    },
    {
      "cell_type": "code",
      "source": [
        "df['lyric_clean'] = [clean_lyric(lyric) for lyric in df['lyric']]"
      ],
      "metadata": {
        "execution": {
          "iopub.status.busy": "2023-06-02T01:55:07.051363Z",
          "iopub.execute_input": "2023-06-02T01:55:07.051999Z",
          "iopub.status.idle": "2023-06-02T02:03:23.943346Z",
          "shell.execute_reply.started": "2023-06-02T01:55:07.051957Z",
          "shell.execute_reply": "2023-06-02T02:03:23.942525Z"
        },
        "trusted": true,
        "id": "ymBnTi4WsE1W"
      },
      "execution_count": 20,
      "outputs": []
    },
    {
      "cell_type": "code",
      "source": [
        "df.head()"
      ],
      "metadata": {
        "execution": {
          "iopub.status.busy": "2023-06-02T02:03:23.944862Z",
          "iopub.execute_input": "2023-06-02T02:03:23.945239Z",
          "iopub.status.idle": "2023-06-02T02:03:23.956483Z",
          "shell.execute_reply.started": "2023-06-02T02:03:23.945183Z",
          "shell.execute_reply": "2023-06-02T02:03:23.955607Z"
        },
        "trusted": true,
        "colab": {
          "base_uri": "https://localhost:8080/",
          "height": 206
        },
        "id": "4sYz7EsGsE1X",
        "outputId": "5c02ec77-73c2-4401-c039-57fd5ee3c854"
      },
      "execution_count": 21,
      "outputs": [
        {
          "output_type": "execute_result",
          "data": {
            "text/plain": [
              "           artist                song  \\\n",
              "0     Chris Brown          D.G.I.F.U.   \n",
              "1       Lil Wayne         High Beamin   \n",
              "2  Marilyn Manson  Unkillable Monster   \n",
              "3        Ice Cube  It's A Man's World   \n",
              "4   Ariana Grande   Thinking Bout You   \n",
              "\n",
              "                                               lyric     label  \\\n",
              "0  [Verse 1: Tyga]   Ya'll know me, the still sam...  explicit   \n",
              "1  [B.G.]   Niggas be hating 'cause B.G. got it  ...  explicit   \n",
              "2  How the fuck are we supposed to know   When I'...  explicit   \n",
              "3  Women they're good for nothing no maybe one th...  explicit   \n",
              "4  [Verse 1]   I've been thinking 'bout you   Yea...  explicit   \n",
              "\n",
              "                                         lyric_clean  \n",
              "0  verse tyga yall know still og young tyg hated ...  \n",
              "1  bg nigga hating bg got top line got ride humme...  \n",
              "2  fuck supposed know monster way refuse die fuck...  \n",
              "3  woman good nothing maybe one thing serve need ...  \n",
              "4  verse thinking bout yeah missing hell oh need ...  "
            ],
            "text/html": [
              "\n",
              "  <div id=\"df-1592402a-2807-4903-9ae3-fdf894d3c801\" class=\"colab-df-container\">\n",
              "    <div>\n",
              "<style scoped>\n",
              "    .dataframe tbody tr th:only-of-type {\n",
              "        vertical-align: middle;\n",
              "    }\n",
              "\n",
              "    .dataframe tbody tr th {\n",
              "        vertical-align: top;\n",
              "    }\n",
              "\n",
              "    .dataframe thead th {\n",
              "        text-align: right;\n",
              "    }\n",
              "</style>\n",
              "<table border=\"1\" class=\"dataframe\">\n",
              "  <thead>\n",
              "    <tr style=\"text-align: right;\">\n",
              "      <th></th>\n",
              "      <th>artist</th>\n",
              "      <th>song</th>\n",
              "      <th>lyric</th>\n",
              "      <th>label</th>\n",
              "      <th>lyric_clean</th>\n",
              "    </tr>\n",
              "  </thead>\n",
              "  <tbody>\n",
              "    <tr>\n",
              "      <th>0</th>\n",
              "      <td>Chris Brown</td>\n",
              "      <td>D.G.I.F.U.</td>\n",
              "      <td>[Verse 1: Tyga]   Ya'll know me, the still sam...</td>\n",
              "      <td>explicit</td>\n",
              "      <td>verse tyga yall know still og young tyg hated ...</td>\n",
              "    </tr>\n",
              "    <tr>\n",
              "      <th>1</th>\n",
              "      <td>Lil Wayne</td>\n",
              "      <td>High Beamin</td>\n",
              "      <td>[B.G.]   Niggas be hating 'cause B.G. got it  ...</td>\n",
              "      <td>explicit</td>\n",
              "      <td>bg nigga hating bg got top line got ride humme...</td>\n",
              "    </tr>\n",
              "    <tr>\n",
              "      <th>2</th>\n",
              "      <td>Marilyn Manson</td>\n",
              "      <td>Unkillable Monster</td>\n",
              "      <td>How the fuck are we supposed to know   When I'...</td>\n",
              "      <td>explicit</td>\n",
              "      <td>fuck supposed know monster way refuse die fuck...</td>\n",
              "    </tr>\n",
              "    <tr>\n",
              "      <th>3</th>\n",
              "      <td>Ice Cube</td>\n",
              "      <td>It's A Man's World</td>\n",
              "      <td>Women they're good for nothing no maybe one th...</td>\n",
              "      <td>explicit</td>\n",
              "      <td>woman good nothing maybe one thing serve need ...</td>\n",
              "    </tr>\n",
              "    <tr>\n",
              "      <th>4</th>\n",
              "      <td>Ariana Grande</td>\n",
              "      <td>Thinking Bout You</td>\n",
              "      <td>[Verse 1]   I've been thinking 'bout you   Yea...</td>\n",
              "      <td>explicit</td>\n",
              "      <td>verse thinking bout yeah missing hell oh need ...</td>\n",
              "    </tr>\n",
              "  </tbody>\n",
              "</table>\n",
              "</div>\n",
              "    <div class=\"colab-df-buttons\">\n",
              "\n",
              "  <div class=\"colab-df-container\">\n",
              "    <button class=\"colab-df-convert\" onclick=\"convertToInteractive('df-1592402a-2807-4903-9ae3-fdf894d3c801')\"\n",
              "            title=\"Convert this dataframe to an interactive table.\"\n",
              "            style=\"display:none;\">\n",
              "\n",
              "  <svg xmlns=\"http://www.w3.org/2000/svg\" height=\"24px\" viewBox=\"0 -960 960 960\">\n",
              "    <path d=\"M120-120v-720h720v720H120Zm60-500h600v-160H180v160Zm220 220h160v-160H400v160Zm0 220h160v-160H400v160ZM180-400h160v-160H180v160Zm440 0h160v-160H620v160ZM180-180h160v-160H180v160Zm440 0h160v-160H620v160Z\"/>\n",
              "  </svg>\n",
              "    </button>\n",
              "\n",
              "  <style>\n",
              "    .colab-df-container {\n",
              "      display:flex;\n",
              "      gap: 12px;\n",
              "    }\n",
              "\n",
              "    .colab-df-convert {\n",
              "      background-color: #E8F0FE;\n",
              "      border: none;\n",
              "      border-radius: 50%;\n",
              "      cursor: pointer;\n",
              "      display: none;\n",
              "      fill: #1967D2;\n",
              "      height: 32px;\n",
              "      padding: 0 0 0 0;\n",
              "      width: 32px;\n",
              "    }\n",
              "\n",
              "    .colab-df-convert:hover {\n",
              "      background-color: #E2EBFA;\n",
              "      box-shadow: 0px 1px 2px rgba(60, 64, 67, 0.3), 0px 1px 3px 1px rgba(60, 64, 67, 0.15);\n",
              "      fill: #174EA6;\n",
              "    }\n",
              "\n",
              "    .colab-df-buttons div {\n",
              "      margin-bottom: 4px;\n",
              "    }\n",
              "\n",
              "    [theme=dark] .colab-df-convert {\n",
              "      background-color: #3B4455;\n",
              "      fill: #D2E3FC;\n",
              "    }\n",
              "\n",
              "    [theme=dark] .colab-df-convert:hover {\n",
              "      background-color: #434B5C;\n",
              "      box-shadow: 0px 1px 3px 1px rgba(0, 0, 0, 0.15);\n",
              "      filter: drop-shadow(0px 1px 2px rgba(0, 0, 0, 0.3));\n",
              "      fill: #FFFFFF;\n",
              "    }\n",
              "  </style>\n",
              "\n",
              "    <script>\n",
              "      const buttonEl =\n",
              "        document.querySelector('#df-1592402a-2807-4903-9ae3-fdf894d3c801 button.colab-df-convert');\n",
              "      buttonEl.style.display =\n",
              "        google.colab.kernel.accessAllowed ? 'block' : 'none';\n",
              "\n",
              "      async function convertToInteractive(key) {\n",
              "        const element = document.querySelector('#df-1592402a-2807-4903-9ae3-fdf894d3c801');\n",
              "        const dataTable =\n",
              "          await google.colab.kernel.invokeFunction('convertToInteractive',\n",
              "                                                    [key], {});\n",
              "        if (!dataTable) return;\n",
              "\n",
              "        const docLinkHtml = 'Like what you see? Visit the ' +\n",
              "          '<a target=\"_blank\" href=https://colab.research.google.com/notebooks/data_table.ipynb>data table notebook</a>'\n",
              "          + ' to learn more about interactive tables.';\n",
              "        element.innerHTML = '';\n",
              "        dataTable['output_type'] = 'display_data';\n",
              "        await google.colab.output.renderOutput(dataTable, element);\n",
              "        const docLink = document.createElement('div');\n",
              "        docLink.innerHTML = docLinkHtml;\n",
              "        element.appendChild(docLink);\n",
              "      }\n",
              "    </script>\n",
              "  </div>\n",
              "\n",
              "\n",
              "<div id=\"df-b4ed3768-fbd2-4821-8ca4-5d5d378374eb\">\n",
              "  <button class=\"colab-df-quickchart\" onclick=\"quickchart('df-b4ed3768-fbd2-4821-8ca4-5d5d378374eb')\"\n",
              "            title=\"Suggest charts.\"\n",
              "            style=\"display:none;\">\n",
              "\n",
              "<svg xmlns=\"http://www.w3.org/2000/svg\" height=\"24px\"viewBox=\"0 0 24 24\"\n",
              "     width=\"24px\">\n",
              "    <g>\n",
              "        <path d=\"M19 3H5c-1.1 0-2 .9-2 2v14c0 1.1.9 2 2 2h14c1.1 0 2-.9 2-2V5c0-1.1-.9-2-2-2zM9 17H7v-7h2v7zm4 0h-2V7h2v10zm4 0h-2v-4h2v4z\"/>\n",
              "    </g>\n",
              "</svg>\n",
              "  </button>\n",
              "\n",
              "<style>\n",
              "  .colab-df-quickchart {\n",
              "      --bg-color: #E8F0FE;\n",
              "      --fill-color: #1967D2;\n",
              "      --hover-bg-color: #E2EBFA;\n",
              "      --hover-fill-color: #174EA6;\n",
              "      --disabled-fill-color: #AAA;\n",
              "      --disabled-bg-color: #DDD;\n",
              "  }\n",
              "\n",
              "  [theme=dark] .colab-df-quickchart {\n",
              "      --bg-color: #3B4455;\n",
              "      --fill-color: #D2E3FC;\n",
              "      --hover-bg-color: #434B5C;\n",
              "      --hover-fill-color: #FFFFFF;\n",
              "      --disabled-bg-color: #3B4455;\n",
              "      --disabled-fill-color: #666;\n",
              "  }\n",
              "\n",
              "  .colab-df-quickchart {\n",
              "    background-color: var(--bg-color);\n",
              "    border: none;\n",
              "    border-radius: 50%;\n",
              "    cursor: pointer;\n",
              "    display: none;\n",
              "    fill: var(--fill-color);\n",
              "    height: 32px;\n",
              "    padding: 0;\n",
              "    width: 32px;\n",
              "  }\n",
              "\n",
              "  .colab-df-quickchart:hover {\n",
              "    background-color: var(--hover-bg-color);\n",
              "    box-shadow: 0 1px 2px rgba(60, 64, 67, 0.3), 0 1px 3px 1px rgba(60, 64, 67, 0.15);\n",
              "    fill: var(--button-hover-fill-color);\n",
              "  }\n",
              "\n",
              "  .colab-df-quickchart-complete:disabled,\n",
              "  .colab-df-quickchart-complete:disabled:hover {\n",
              "    background-color: var(--disabled-bg-color);\n",
              "    fill: var(--disabled-fill-color);\n",
              "    box-shadow: none;\n",
              "  }\n",
              "\n",
              "  .colab-df-spinner {\n",
              "    border: 2px solid var(--fill-color);\n",
              "    border-color: transparent;\n",
              "    border-bottom-color: var(--fill-color);\n",
              "    animation:\n",
              "      spin 1s steps(1) infinite;\n",
              "  }\n",
              "\n",
              "  @keyframes spin {\n",
              "    0% {\n",
              "      border-color: transparent;\n",
              "      border-bottom-color: var(--fill-color);\n",
              "      border-left-color: var(--fill-color);\n",
              "    }\n",
              "    20% {\n",
              "      border-color: transparent;\n",
              "      border-left-color: var(--fill-color);\n",
              "      border-top-color: var(--fill-color);\n",
              "    }\n",
              "    30% {\n",
              "      border-color: transparent;\n",
              "      border-left-color: var(--fill-color);\n",
              "      border-top-color: var(--fill-color);\n",
              "      border-right-color: var(--fill-color);\n",
              "    }\n",
              "    40% {\n",
              "      border-color: transparent;\n",
              "      border-right-color: var(--fill-color);\n",
              "      border-top-color: var(--fill-color);\n",
              "    }\n",
              "    60% {\n",
              "      border-color: transparent;\n",
              "      border-right-color: var(--fill-color);\n",
              "    }\n",
              "    80% {\n",
              "      border-color: transparent;\n",
              "      border-right-color: var(--fill-color);\n",
              "      border-bottom-color: var(--fill-color);\n",
              "    }\n",
              "    90% {\n",
              "      border-color: transparent;\n",
              "      border-bottom-color: var(--fill-color);\n",
              "    }\n",
              "  }\n",
              "</style>\n",
              "\n",
              "  <script>\n",
              "    async function quickchart(key) {\n",
              "      const quickchartButtonEl =\n",
              "        document.querySelector('#' + key + ' button');\n",
              "      quickchartButtonEl.disabled = true;  // To prevent multiple clicks.\n",
              "      quickchartButtonEl.classList.add('colab-df-spinner');\n",
              "      try {\n",
              "        const charts = await google.colab.kernel.invokeFunction(\n",
              "            'suggestCharts', [key], {});\n",
              "      } catch (error) {\n",
              "        console.error('Error during call to suggestCharts:', error);\n",
              "      }\n",
              "      quickchartButtonEl.classList.remove('colab-df-spinner');\n",
              "      quickchartButtonEl.classList.add('colab-df-quickchart-complete');\n",
              "    }\n",
              "    (() => {\n",
              "      let quickchartButtonEl =\n",
              "        document.querySelector('#df-b4ed3768-fbd2-4821-8ca4-5d5d378374eb button');\n",
              "      quickchartButtonEl.style.display =\n",
              "        google.colab.kernel.accessAllowed ? 'block' : 'none';\n",
              "    })();\n",
              "  </script>\n",
              "</div>\n",
              "    </div>\n",
              "  </div>\n"
            ]
          },
          "metadata": {},
          "execution_count": 21
        }
      ]
    },
    {
      "cell_type": "markdown",
      "source": [
        "### Are there duplicate lyrics after the cleaning?"
      ],
      "metadata": {
        "id": "FU3sM382sE1X"
      }
    },
    {
      "cell_type": "code",
      "source": [
        "print(f'There are around {int(df[\"lyric_clean\"].duplicated().sum())} duplicated lyrics, we will remove them.')"
      ],
      "metadata": {
        "execution": {
          "iopub.status.busy": "2023-06-02T02:03:23.958070Z",
          "iopub.execute_input": "2023-06-02T02:03:23.958348Z",
          "iopub.status.idle": "2023-06-02T02:03:23.976094Z",
          "shell.execute_reply.started": "2023-06-02T02:03:23.958311Z",
          "shell.execute_reply": "2023-06-02T02:03:23.975338Z"
        },
        "trusted": true,
        "colab": {
          "base_uri": "https://localhost:8080/"
        },
        "id": "mzAEcptJsE1Y",
        "outputId": "acf80a5a-850d-4abd-c2e9-0c0dbb7a72c4"
      },
      "execution_count": 22,
      "outputs": [
        {
          "output_type": "stream",
          "name": "stdout",
          "text": [
            "There are around 66 duplicated lyrics, we will remove them.\n"
          ]
        }
      ]
    },
    {
      "cell_type": "code",
      "source": [
        "df.drop_duplicates(\"lyric_clean\", inplace=True)"
      ],
      "metadata": {
        "execution": {
          "iopub.status.busy": "2023-06-02T02:03:23.977743Z",
          "iopub.execute_input": "2023-06-02T02:03:23.978088Z",
          "iopub.status.idle": "2023-06-02T02:03:24.007089Z",
          "shell.execute_reply.started": "2023-06-02T02:03:23.978047Z",
          "shell.execute_reply": "2023-06-02T02:03:24.006308Z"
        },
        "trusted": true,
        "id": "UjxUIhB2sE1Y"
      },
      "execution_count": 23,
      "outputs": []
    },
    {
      "cell_type": "markdown",
      "source": [
        "We removed the duplicated cleaned lyrics. How is the class balance after the cleaning?"
      ],
      "metadata": {
        "id": "xwdu_5f4sE1Z"
      }
    },
    {
      "cell_type": "code",
      "source": [
        "df.label.value_counts()"
      ],
      "metadata": {
        "execution": {
          "iopub.status.busy": "2023-06-02T02:03:24.008492Z",
          "iopub.execute_input": "2023-06-02T02:03:24.008795Z",
          "iopub.status.idle": "2023-06-02T02:03:24.020196Z",
          "shell.execute_reply.started": "2023-06-02T02:03:24.008751Z",
          "shell.execute_reply": "2023-06-02T02:03:24.019209Z"
        },
        "trusted": true,
        "colab": {
          "base_uri": "https://localhost:8080/"
        },
        "id": "snIITIbksE1Z",
        "outputId": "f0c3794a-571b-4ec5-85fa-88badbf732ef"
      },
      "execution_count": 24,
      "outputs": [
        {
          "output_type": "execute_result",
          "data": {
            "text/plain": [
              "non_explicit    2860\n",
              "explicit        2613\n",
              "Name: label, dtype: int64"
            ]
          },
          "metadata": {},
          "execution_count": 24
        }
      ]
    },
    {
      "cell_type": "markdown",
      "source": [
        "We can see that lots of lyrics of the class \"other_cyberbullying\" have been removed. Since the class is very unbalanced compared to the other classes and looks too \"generic\", we decide to remove the lyrics labeled belonging to this class.<br>\n",
        "EDIT: by performing some tests, the f1 score for predicting the \"other_cyberbullying\" resulted to be around 60%, a value far lower compared to the othter f1 scores (around 95% using LSTM model). This supports the decision of removing this generic class."
      ],
      "metadata": {
        "id": "TZX5830_sE1a"
      }
    },
    {
      "cell_type": "code",
      "source": [
        "#df = df[df[\"sentiment\"]!=\"other_cyberbullying\"]"
      ],
      "metadata": {
        "execution": {
          "iopub.status.busy": "2023-06-02T02:03:24.021691Z",
          "iopub.execute_input": "2023-06-02T02:03:24.022039Z",
          "iopub.status.idle": "2023-06-02T02:03:24.037187Z",
          "shell.execute_reply.started": "2023-06-02T02:03:24.021997Z",
          "shell.execute_reply": "2023-06-02T02:03:24.036422Z"
        },
        "trusted": true,
        "id": "Kgu8mOiUsE1b"
      },
      "execution_count": null,
      "outputs": []
    },
    {
      "cell_type": "markdown",
      "source": [
        "Then we also define a list of the classes names, which will be useful for the future plots."
      ],
      "metadata": {
        "id": "WQJ9J1jgsE1g"
      }
    },
    {
      "cell_type": "code",
      "source": [
        "label = [\"explicit\",\"inplicit\"]"
      ],
      "metadata": {
        "execution": {
          "iopub.status.busy": "2023-06-02T02:03:24.038366Z",
          "iopub.execute_input": "2023-06-02T02:03:24.039132Z",
          "iopub.status.idle": "2023-06-02T02:03:24.044996Z",
          "shell.execute_reply.started": "2023-06-02T02:03:24.039092Z",
          "shell.execute_reply": "2023-06-02T02:03:24.044134Z"
        },
        "trusted": true,
        "id": "C29sctmAsE1h"
      },
      "execution_count": 25,
      "outputs": []
    },
    {
      "cell_type": "markdown",
      "source": [
        "# lyrics length analysis"
      ],
      "metadata": {
        "id": "-Ad3kxLlsE1i"
      }
    },
    {
      "cell_type": "markdown",
      "source": [
        "Now we will define a new dataframe column containing the length of the cleaned lyrics in terms of number of words."
      ],
      "metadata": {
        "id": "y58Oz422sE1i"
      }
    },
    {
      "cell_type": "code",
      "source": [
        "df['text_len'] = [len(lyric.split()) for lyric in df.lyric_clean]"
      ],
      "metadata": {
        "id": "vQsHVXTA5QsV",
        "execution": {
          "iopub.status.busy": "2023-06-02T02:03:24.046599Z",
          "iopub.execute_input": "2023-06-02T02:03:24.046896Z",
          "iopub.status.idle": "2023-06-02T02:03:24.106733Z",
          "shell.execute_reply.started": "2023-06-02T02:03:24.046857Z",
          "shell.execute_reply": "2023-06-02T02:03:24.105946Z"
        },
        "trusted": true
      },
      "execution_count": 26,
      "outputs": []
    },
    {
      "cell_type": "code",
      "source": [
        "plt.figure(figsize=(7,5))\n",
        "ax = sns.countplot(x='text_len', data=df[df['text_len']<10], palette='mako')\n",
        "plt.title('Count of tweets with less than 10 words', fontsize=20)\n",
        "plt.yticks([])\n",
        "ax.bar_label(ax.containers[0])\n",
        "plt.ylabel('count')\n",
        "plt.xlabel('')\n",
        "plt.show()"
      ],
      "metadata": {
        "id": "HZcu8uGh5QsW",
        "outputId": "aa508c62-4060-4a93-d244-698e9c6c4bdc",
        "_kg_hide-input": true,
        "execution": {
          "iopub.status.busy": "2023-06-02T02:03:24.109739Z",
          "iopub.execute_input": "2023-06-02T02:03:24.109947Z",
          "iopub.status.idle": "2023-06-02T02:03:24.451036Z",
          "shell.execute_reply.started": "2023-06-02T02:03:24.109919Z",
          "shell.execute_reply": "2023-06-02T02:03:24.450262Z"
        },
        "trusted": true,
        "colab": {
          "base_uri": "https://localhost:8080/",
          "height": 506
        }
      },
      "execution_count": 27,
      "outputs": [
        {
          "output_type": "display_data",
          "data": {
            "text/plain": [
              "<Figure size 700x500 with 1 Axes>"
            ],
            "image/png": "[encoded data removed]"
          },
          "metadata": {}
        }
      ]
    },
    {
      "cell_type": "markdown",
      "source": [
        "### What about long lyrics?"
      ],
      "metadata": {
        "id": "fmN9566u5QsX"
      }
    },
    {
      "cell_type": "code",
      "source": [
        "df.sort_values(by=['text_len'], ascending=False)"
      ],
      "metadata": {
        "id": "2Dv2aZRv5QsY",
        "outputId": "a5e5c0b0-1267-4618-fa9f-2739d82f9c51",
        "execution": {
          "iopub.status.busy": "2023-06-02T02:03:24.452453Z",
          "iopub.execute_input": "2023-06-02T02:03:24.453325Z",
          "iopub.status.idle": "2023-06-02T02:03:24.486382Z",
          "shell.execute_reply.started": "2023-06-02T02:03:24.453279Z",
          "shell.execute_reply": "2023-06-02T02:03:24.485591Z"
        },
        "trusted": true,
        "colab": {
          "base_uri": "https://localhost:8080/",
          "height": 424
        }
      },
      "execution_count": 28,
      "outputs": [
        {
          "output_type": "execute_result",
          "data": {
            "text/plain": [
              "                                                 artist  \\\n",
              "2060                                  Flatbush Zombies    \n",
              "2752                                    Kendrick Lamar    \n",
              "2586                                            Eminem    \n",
              "2316   JAY-Z', {'label': 'spotify:artist:0A7g2YbCA9F...   \n",
              "1613                                            Eminem    \n",
              "...                                                 ...   \n",
              "1844                                         Nate Dogg    \n",
              "1661                                      David Guetta    \n",
              "2270   50 Cent', {'label': 'spotify:artist:1UE4l8O8P...   \n",
              "1060                                      The Neptunes    \n",
              "254                                                Ween   \n",
              "\n",
              "                        song  \\\n",
              "2060  Your Favorite Rap Song   \n",
              "2752              Mortal Man   \n",
              "2586         Campaign Speech   \n",
              "2316          Reservoir Dogs   \n",
              "1613             Wicked Ways   \n",
              "...                      ...   \n",
              "1844              Dedication   \n",
              "1661           What the Fuck   \n",
              "2270               Emotional   \n",
              "1060                   Intro   \n",
              "254              Ode To Rene   \n",
              "\n",
              "                                                  lyric     label  \\\n",
              "2060  Your Favorite Rap Song Lyrics Oh  I swear All ...  explicit   \n",
              "2752  Translations Español Italiano English Portuguê...  explicit   \n",
              "2586  Campaign Speech Lyrics Jumped out of the 2nd f...  explicit   \n",
              "2316  Reservoir Dogs Lyrics Fuck -- shit is real rig...  explicit   \n",
              "1613  Wicked Ways Lyrics I'm getting by with my wick...  explicit   \n",
              "...                                                 ...       ...   \n",
              "1844  Dedication Lyrics This is dedicated to the nig...  explicit   \n",
              "1661  What the Fuck Lyrics What the fuck What the fu...  explicit   \n",
              "2270  Emotional Lyrics I get emotional You might als...  explicit   \n",
              "1060  Intro Lyrics1  2  3  41  2  3  41  2  3  4  1C...  explicit   \n",
              "254   We gotta be tight, why'know   Ok, here it goes...  explicit   \n",
              "\n",
              "                                            lyric_clean  text_len  \n",
              "2060  favorite rap song lyric oh swear ever wanted s...      1257  \n",
              "2752  translation espaold italiano english portugus ...      1045  \n",
              "2586  campaign speech lyric jumped nd floor record s...       811  \n",
              "2316  reservoir dog lyric fuck shit real right rocaf...       631  \n",
              "1613  wicked way lyric getting wicked way loading ta...       616  \n",
              "...                                                 ...       ...  \n",
              "1844  dedication lyric dedicated nigga really day on...        16  \n",
              "1661  fuck lyric fuck fuck fuck fuck fuck might also...        11  \n",
              "2270  emotional lyric get emotional might also like ...         8  \n",
              "1060            intro lyric clone might also like embed         7  \n",
              "254                                                             0  \n",
              "\n",
              "[5473 rows x 6 columns]"
            ],
            "text/html": [
              "\n",
              "  <div id=\"df-157b9a0c-4dcf-4ff4-802e-1fa2ab8d53cb\" class=\"colab-df-container\">\n",
              "    <div>\n",
              "<style scoped>\n",
              "    .dataframe tbody tr th:only-of-type {\n",
              "        vertical-align: middle;\n",
              "    }\n",
              "\n",
              "    .dataframe tbody tr th {\n",
              "        vertical-align: top;\n",
              "    }\n",
              "\n",
              "    .dataframe thead th {\n",
              "        text-align: right;\n",
              "    }\n",
              "</style>\n",
              "<table border=\"1\" class=\"dataframe\">\n",
              "  <thead>\n",
              "    <tr style=\"text-align: right;\">\n",
              "      <th></th>\n",
              "      <th>artist</th>\n",
              "      <th>song</th>\n",
              "      <th>lyric</th>\n",
              "      <th>label</th>\n",
              "      <th>lyric_clean</th>\n",
              "      <th>text_len</th>\n",
              "    </tr>\n",
              "  </thead>\n",
              "  <tbody>\n",
              "    <tr>\n",
              "      <th>2060</th>\n",
              "      <td>Flatbush Zombies</td>\n",
              "      <td>Your Favorite Rap Song</td>\n",
              "      <td>Your Favorite Rap Song Lyrics Oh  I swear All ...</td>\n",
              "      <td>explicit</td>\n",
              "      <td>favorite rap song lyric oh swear ever wanted s...</td>\n",
              "      <td>1257</td>\n",
              "    </tr>\n",
              "    <tr>\n",
              "      <th>2752</th>\n",
              "      <td>Kendrick Lamar</td>\n",
              "      <td>Mortal Man</td>\n",
              "      <td>Translations Español Italiano English Portuguê...</td>\n",
              "      <td>explicit</td>\n",
              "      <td>translation espaold italiano english portugus ...</td>\n",
              "      <td>1045</td>\n",
              "    </tr>\n",
              "    <tr>\n",
              "      <th>2586</th>\n",
              "      <td>Eminem</td>\n",
              "      <td>Campaign Speech</td>\n",
              "      <td>Campaign Speech Lyrics Jumped out of the 2nd f...</td>\n",
              "      <td>explicit</td>\n",
              "      <td>campaign speech lyric jumped nd floor record s...</td>\n",
              "      <td>811</td>\n",
              "    </tr>\n",
              "    <tr>\n",
              "      <th>2316</th>\n",
              "      <td>JAY-Z', {'label': 'spotify:artist:0A7g2YbCA9F...</td>\n",
              "      <td>Reservoir Dogs</td>\n",
              "      <td>Reservoir Dogs Lyrics Fuck -- shit is real rig...</td>\n",
              "      <td>explicit</td>\n",
              "      <td>reservoir dog lyric fuck shit real right rocaf...</td>\n",
              "      <td>631</td>\n",
              "    </tr>\n",
              "    <tr>\n",
              "      <th>1613</th>\n",
              "      <td>Eminem</td>\n",
              "      <td>Wicked Ways</td>\n",
              "      <td>Wicked Ways Lyrics I'm getting by with my wick...</td>\n",
              "      <td>explicit</td>\n",
              "      <td>wicked way lyric getting wicked way loading ta...</td>\n",
              "      <td>616</td>\n",
              "    </tr>\n",
              "    <tr>\n",
              "      <th>...</th>\n",
              "      <td>...</td>\n",
              "      <td>...</td>\n",
              "      <td>...</td>\n",
              "      <td>...</td>\n",
              "      <td>...</td>\n",
              "      <td>...</td>\n",
              "    </tr>\n",
              "    <tr>\n",
              "      <th>1844</th>\n",
              "      <td>Nate Dogg</td>\n",
              "      <td>Dedication</td>\n",
              "      <td>Dedication Lyrics This is dedicated to the nig...</td>\n",
              "      <td>explicit</td>\n",
              "      <td>dedication lyric dedicated nigga really day on...</td>\n",
              "      <td>16</td>\n",
              "    </tr>\n",
              "    <tr>\n",
              "      <th>1661</th>\n",
              "      <td>David Guetta</td>\n",
              "      <td>What the Fuck</td>\n",
              "      <td>What the Fuck Lyrics What the fuck What the fu...</td>\n",
              "      <td>explicit</td>\n",
              "      <td>fuck lyric fuck fuck fuck fuck fuck might also...</td>\n",
              "      <td>11</td>\n",
              "    </tr>\n",
              "    <tr>\n",
              "      <th>2270</th>\n",
              "      <td>50 Cent', {'label': 'spotify:artist:1UE4l8O8P...</td>\n",
              "      <td>Emotional</td>\n",
              "      <td>Emotional Lyrics I get emotional You might als...</td>\n",
              "      <td>explicit</td>\n",
              "      <td>emotional lyric get emotional might also like ...</td>\n",
              "      <td>8</td>\n",
              "    </tr>\n",
              "    <tr>\n",
              "      <th>1060</th>\n",
              "      <td>The Neptunes</td>\n",
              "      <td>Intro</td>\n",
              "      <td>Intro Lyrics1  2  3  41  2  3  41  2  3  4  1C...</td>\n",
              "      <td>explicit</td>\n",
              "      <td>intro lyric clone might also like embed</td>\n",
              "      <td>7</td>\n",
              "    </tr>\n",
              "    <tr>\n",
              "      <th>254</th>\n",
              "      <td>Ween</td>\n",
              "      <td>Ode To Rene</td>\n",
              "      <td>We gotta be tight, why'know   Ok, here it goes...</td>\n",
              "      <td>explicit</td>\n",
              "      <td></td>\n",
              "      <td>0</td>\n",
              "    </tr>\n",
              "  </tbody>\n",
              "</table>\n",
              "<p>5473 rows × 6 columns</p>\n",
              "</div>\n",
              "    <div class=\"colab-df-buttons\">\n",
              "\n",
              "  <div class=\"colab-df-container\">\n",
              "    <button class=\"colab-df-convert\" onclick=\"convertToInteractive('df-157b9a0c-4dcf-4ff4-802e-1fa2ab8d53cb')\"\n",
              "            title=\"Convert this dataframe to an interactive table.\"\n",
              "            style=\"display:none;\">\n",
              "\n",
              "  <svg xmlns=\"http://www.w3.org/2000/svg\" height=\"24px\" viewBox=\"0 -960 960 960\">\n",
              "    <path d=\"M120-120v-720h720v720H120Zm60-500h600v-160H180v160Zm220 220h160v-160H400v160Zm0 220h160v-160H400v160ZM180-400h160v-160H180v160Zm440 0h160v-160H620v160ZM180-180h160v-160H180v160Zm440 0h160v-160H620v160Z\"/>\n",
              "  </svg>\n",
              "    </button>\n",
              "\n",
              "  <style>\n",
              "    .colab-df-container {\n",
              "      display:flex;\n",
              "      gap: 12px;\n",
              "    }\n",
              "\n",
              "    .colab-df-convert {\n",
              "      background-color: #E8F0FE;\n",
              "      border: none;\n",
              "      border-radius: 50%;\n",
              "      cursor: pointer;\n",
              "      display: none;\n",
              "      fill: #1967D2;\n",
              "      height: 32px;\n",
              "      padding: 0 0 0 0;\n",
              "      width: 32px;\n",
              "    }\n",
              "\n",
              "    .colab-df-convert:hover {\n",
              "      background-color: #E2EBFA;\n",
              "      box-shadow: 0px 1px 2px rgba(60, 64, 67, 0.3), 0px 1px 3px 1px rgba(60, 64, 67, 0.15);\n",
              "      fill: #174EA6;\n",
              "    }\n",
              "\n",
              "    .colab-df-buttons div {\n",
              "      margin-bottom: 4px;\n",
              "    }\n",
              "\n",
              "    [theme=dark] .colab-df-convert {\n",
              "      background-color: #3B4455;\n",
              "      fill: #D2E3FC;\n",
              "    }\n",
              "\n",
              "    [theme=dark] .colab-df-convert:hover {\n",
              "      background-color: #434B5C;\n",
              "      box-shadow: 0px 1px 3px 1px rgba(0, 0, 0, 0.15);\n",
              "      filter: drop-shadow(0px 1px 2px rgba(0, 0, 0, 0.3));\n",
              "      fill: #FFFFFF;\n",
              "    }\n",
              "  </style>\n",
              "\n",
              "    <script>\n",
              "      const buttonEl =\n",
              "        document.querySelector('#df-157b9a0c-4dcf-4ff4-802e-1fa2ab8d53cb button.colab-df-convert');\n",
              "      buttonEl.style.display =\n",
              "        google.colab.kernel.accessAllowed ? 'block' : 'none';\n",
              "\n",
              "      async function convertToInteractive(key) {\n",
              "        const element = document.querySelector('#df-157b9a0c-4dcf-4ff4-802e-1fa2ab8d53cb');\n",
              "        const dataTable =\n",
              "          await google.colab.kernel.invokeFunction('convertToInteractive',\n",
              "                                                    [key], {});\n",
              "        if (!dataTable) return;\n",
              "\n",
              "        const docLinkHtml = 'Like what you see? Visit the ' +\n",
              "          '<a target=\"_blank\" href=https://colab.research.google.com/notebooks/data_table.ipynb>data table notebook</a>'\n",
              "          + ' to learn more about interactive tables.';\n",
              "        element.innerHTML = '';\n",
              "        dataTable['output_type'] = 'display_data';\n",
              "        await google.colab.output.renderOutput(dataTable, element);\n",
              "        const docLink = document.createElement('div');\n",
              "        docLink.innerHTML = docLinkHtml;\n",
              "        element.appendChild(docLink);\n",
              "      }\n",
              "    </script>\n",
              "  </div>\n",
              "\n",
              "\n",
              "<div id=\"df-abb989e1-5d27-48fa-94bb-9ce4ce717434\">\n",
              "  <button class=\"colab-df-quickchart\" onclick=\"quickchart('df-abb989e1-5d27-48fa-94bb-9ce4ce717434')\"\n",
              "            title=\"Suggest charts.\"\n",
              "            style=\"display:none;\">\n",
              "\n",
              "<svg xmlns=\"http://www.w3.org/2000/svg\" height=\"24px\"viewBox=\"0 0 24 24\"\n",
              "     width=\"24px\">\n",
              "    <g>\n",
              "        <path d=\"M19 3H5c-1.1 0-2 .9-2 2v14c0 1.1.9 2 2 2h14c1.1 0 2-.9 2-2V5c0-1.1-.9-2-2-2zM9 17H7v-7h2v7zm4 0h-2V7h2v10zm4 0h-2v-4h2v4z\"/>\n",
              "    </g>\n",
              "</svg>\n",
              "  </button>\n",
              "\n",
              "<style>\n",
              "  .colab-df-quickchart {\n",
              "      --bg-color: #E8F0FE;\n",
              "      --fill-color: #1967D2;\n",
              "      --hover-bg-color: #E2EBFA;\n",
              "      --hover-fill-color: #174EA6;\n",
              "      --disabled-fill-color: #AAA;\n",
              "      --disabled-bg-color: #DDD;\n",
              "  }\n",
              "\n",
              "  [theme=dark] .colab-df-quickchart {\n",
              "      --bg-color: #3B4455;\n",
              "      --fill-color: #D2E3FC;\n",
              "      --hover-bg-color: #434B5C;\n",
              "      --hover-fill-color: #FFFFFF;\n",
              "      --disabled-bg-color: #3B4455;\n",
              "      --disabled-fill-color: #666;\n",
              "  }\n",
              "\n",
              "  .colab-df-quickchart {\n",
              "    background-color: var(--bg-color);\n",
              "    border: none;\n",
              "    border-radius: 50%;\n",
              "    cursor: pointer;\n",
              "    display: none;\n",
              "    fill: var(--fill-color);\n",
              "    height: 32px;\n",
              "    padding: 0;\n",
              "    width: 32px;\n",
              "  }\n",
              "\n",
              "  .colab-df-quickchart:hover {\n",
              "    background-color: var(--hover-bg-color);\n",
              "    box-shadow: 0 1px 2px rgba(60, 64, 67, 0.3), 0 1px 3px 1px rgba(60, 64, 67, 0.15);\n",
              "    fill: var(--button-hover-fill-color);\n",
              "  }\n",
              "\n",
              "  .colab-df-quickchart-complete:disabled,\n",
              "  .colab-df-quickchart-complete:disabled:hover {\n",
              "    background-color: var(--disabled-bg-color);\n",
              "    fill: var(--disabled-fill-color);\n",
              "    box-shadow: none;\n",
              "  }\n",
              "\n",
              "  .colab-df-spinner {\n",
              "    border: 2px solid var(--fill-color);\n",
              "    border-color: transparent;\n",
              "    border-bottom-color: var(--fill-color);\n",
              "    animation:\n",
              "      spin 1s steps(1) infinite;\n",
              "  }\n",
              "\n",
              "  @keyframes spin {\n",
              "    0% {\n",
              "      border-color: transparent;\n",
              "      border-bottom-color: var(--fill-color);\n",
              "      border-left-color: var(--fill-color);\n",
              "    }\n",
              "    20% {\n",
              "      border-color: transparent;\n",
              "      border-left-color: var(--fill-color);\n",
              "      border-top-color: var(--fill-color);\n",
              "    }\n",
              "    30% {\n",
              "      border-color: transparent;\n",
              "      border-left-color: var(--fill-color);\n",
              "      border-top-color: var(--fill-color);\n",
              "      border-right-color: var(--fill-color);\n",
              "    }\n",
              "    40% {\n",
              "      border-color: transparent;\n",
              "      border-right-color: var(--fill-color);\n",
              "      border-top-color: var(--fill-color);\n",
              "    }\n",
              "    60% {\n",
              "      border-color: transparent;\n",
              "      border-right-color: var(--fill-color);\n",
              "    }\n",
              "    80% {\n",
              "      border-color: transparent;\n",
              "      border-right-color: var(--fill-color);\n",
              "      border-bottom-color: var(--fill-color);\n",
              "    }\n",
              "    90% {\n",
              "      border-color: transparent;\n",
              "      border-bottom-color: var(--fill-color);\n",
              "    }\n",
              "  }\n",
              "</style>\n",
              "\n",
              "  <script>\n",
              "    async function quickchart(key) {\n",
              "      const quickchartButtonEl =\n",
              "        document.querySelector('#' + key + ' button');\n",
              "      quickchartButtonEl.disabled = true;  // To prevent multiple clicks.\n",
              "      quickchartButtonEl.classList.add('colab-df-spinner');\n",
              "      try {\n",
              "        const charts = await google.colab.kernel.invokeFunction(\n",
              "            'suggestCharts', [key], {});\n",
              "      } catch (error) {\n",
              "        console.error('Error during call to suggestCharts:', error);\n",
              "      }\n",
              "      quickchartButtonEl.classList.remove('colab-df-spinner');\n",
              "      quickchartButtonEl.classList.add('colab-df-quickchart-complete');\n",
              "    }\n",
              "    (() => {\n",
              "      let quickchartButtonEl =\n",
              "        document.querySelector('#df-abb989e1-5d27-48fa-94bb-9ce4ce717434 button');\n",
              "      quickchartButtonEl.style.display =\n",
              "        google.colab.kernel.accessAllowed ? 'block' : 'none';\n",
              "    })();\n",
              "  </script>\n",
              "</div>\n",
              "    </div>\n",
              "  </div>\n"
            ]
          },
          "metadata": {},
          "execution_count": 28
        }
      ]
    },
    {
      "cell_type": "code",
      "source": [
        "plt.figure(figsize=(16,5))\n",
        "ax = sns.countplot(x='text_len', data=df[(df['text_len']<=1000) & (df['text_len']>10)], palette='Blues_r')\n",
        "plt.title('Count of lyrics with high number of words', fontsize=25)\n",
        "plt.yticks([])\n",
        "ax.bar_label(ax.containers[0])\n",
        "plt.ylabel('count')\n",
        "plt.xlabel('')\n",
        "plt.show()"
      ],
      "metadata": {
        "id": "Zt9YFv935QsY",
        "outputId": "67f0ef47-ae45-4fd9-a965-1f23833d8b80",
        "_kg_hide-input": true,
        "execution": {
          "iopub.status.busy": "2023-06-02T02:03:24.487533Z",
          "iopub.execute_input": "2023-06-02T02:03:24.487823Z",
          "iopub.status.idle": "2023-06-02T02:03:25.449266Z",
          "shell.execute_reply.started": "2023-06-02T02:03:24.487779Z",
          "shell.execute_reply": "2023-06-02T02:03:25.448515Z"
        },
        "trusted": true,
        "colab": {
          "base_uri": "https://localhost:8080/",
          "height": 506
        }
      },
      "execution_count": 29,
      "outputs": [
        {
          "output_type": "display_data",
          "data": {
            "text/plain": [
              "<Figure size 1600x500 with 1 Axes>"
            ],
            "image/png": "[encoded data removed]"
          },
          "metadata": {}
        }
      ]
    },
    {
      "cell_type": "markdown",
      "source": [
        "We also will remove lyrics that are too long (with more than 100 words)."
      ],
      "metadata": {
        "id": "JzY9dDnF5QsY"
      }
    },
    {
      "cell_type": "code",
      "source": [
        "df = df[df['text_len'] < df['text_len'].quantile(0.995)]"
      ],
      "metadata": {
        "id": "teb7a02F5QsY",
        "execution": {
          "iopub.status.busy": "2023-06-02T02:03:25.450767Z",
          "iopub.execute_input": "2023-06-02T02:03:25.451257Z",
          "iopub.status.idle": "2023-06-02T02:03:25.462174Z",
          "shell.execute_reply.started": "2023-06-02T02:03:25.451215Z",
          "shell.execute_reply": "2023-06-02T02:03:25.461429Z"
        },
        "trusted": true
      },
      "execution_count": 30,
      "outputs": []
    },
    {
      "cell_type": "markdown",
      "source": [
        "Then we also get the length of the longest lyric since it will be useful later."
      ],
      "metadata": {
        "id": "MtUO6xyIsE1p"
      }
    },
    {
      "cell_type": "code",
      "source": [
        "max_len = np.max(df['text_len'])\n",
        "max_len"
      ],
      "metadata": {
        "id": "HyQak-0QI9Mk",
        "outputId": "dd861738-dad4-49d8-feae-de709fefb800",
        "execution": {
          "iopub.status.busy": "2023-06-02T02:03:25.463808Z",
          "iopub.execute_input": "2023-06-02T02:03:25.464173Z",
          "iopub.status.idle": "2023-06-02T02:03:25.471732Z",
          "shell.execute_reply.started": "2023-06-02T02:03:25.464134Z",
          "shell.execute_reply": "2023-06-02T02:03:25.470728Z"
        },
        "trusted": true,
        "colab": {
          "base_uri": "https://localhost:8080/"
        }
      },
      "execution_count": 31,
      "outputs": [
        {
          "output_type": "execute_result",
          "data": {
            "text/plain": [
              "509"
            ]
          },
          "metadata": {},
          "execution_count": 31
        }
      ]
    },
    {
      "cell_type": "code",
      "source": [
        "df.sort_values(by=[\"text_len\"], ascending=False)"
      ],
      "metadata": {
        "id": "NZD-8GJd5Qsa",
        "outputId": "74421ab4-d80c-472b-a52b-89632f72a44e",
        "execution": {
          "iopub.status.busy": "2023-06-02T02:03:25.473243Z",
          "iopub.execute_input": "2023-06-02T02:03:25.473594Z",
          "iopub.status.idle": "2023-06-02T02:03:25.493626Z",
          "shell.execute_reply.started": "2023-06-02T02:03:25.473539Z",
          "shell.execute_reply": "2023-06-02T02:03:25.492834Z"
        },
        "trusted": true,
        "colab": {
          "base_uri": "https://localhost:8080/",
          "height": 424
        }
      },
      "execution_count": 32,
      "outputs": [
        {
          "output_type": "execute_result",
          "data": {
            "text/plain": [
              "                                                 artist             song  \\\n",
              "2022                        YoungBoy Never Broke Again   I Hate YoungBoy   \n",
              "2229   Young Thug', {'label': 'spotify:artist:13y7Cg...           Bricks   \n",
              "2238                                            Eminem   Stay Wide Awake   \n",
              "2676                                               D12       Shit On You   \n",
              "2413                                    Bad Meets Evil       The Reunion   \n",
              "...                                                 ...              ...   \n",
              "1844                                         Nate Dogg        Dedication   \n",
              "1661                                      David Guetta     What the Fuck   \n",
              "2270   50 Cent', {'label': 'spotify:artist:1UE4l8O8P...        Emotional   \n",
              "1060                                      The Neptunes             Intro   \n",
              "254                                                Ween      Ode To Rene   \n",
              "\n",
              "                                                  lyric     label  \\\n",
              "2022  I Hate Young Boy Lyrics Say  10Let's hear this...  explicit   \n",
              "2229  Bricks Lyrics Got a hundred bands in the back ...  explicit   \n",
              "2238  Stay Wide Awake Lyrics Yo  yo  follow me Come ...  explicit   \n",
              "2676  Shit On You Lyrics I'll shit on you  da-da  da...  explicit   \n",
              "2413  The Reunion Lyrics Ayo   this next song  is a ...  explicit   \n",
              "...                                                 ...       ...   \n",
              "1844  Dedication Lyrics This is dedicated to the nig...  explicit   \n",
              "1661  What the Fuck Lyrics What the fuck What the fu...  explicit   \n",
              "2270  Emotional Lyrics I get emotional You might als...  explicit   \n",
              "1060  Intro Lyrics1  2  3  41  2  3  41  2  3  4  1C...  explicit   \n",
              "254   We gotta be tight, why'know   Ok, here it goes...  explicit   \n",
              "\n",
              "                                            lyric_clean  text_len  \n",
              "2022  hate young boy lyric say let hear shit rell ho...       509  \n",
              "2229  brick lyric got hundred band back pickup let r...       506  \n",
              "2238  stay wide awake lyric yo yo follow come dark s...       504  \n",
              "2676  shit lyric shit dada dada dada shit dada dada ...       503  \n",
              "2413  reunion lyric ayo next song explicit story thi...       502  \n",
              "...                                                 ...       ...  \n",
              "1844  dedication lyric dedicated nigga really day on...        16  \n",
              "1661  fuck lyric fuck fuck fuck fuck fuck might also...        11  \n",
              "2270  emotional lyric get emotional might also like ...         8  \n",
              "1060            intro lyric clone might also like embed         7  \n",
              "254                                                             0  \n",
              "\n",
              "[5445 rows x 6 columns]"
            ],
            "text/html": [
              "\n",
              "  <div id=\"df-c9871d1f-bea4-43f6-8132-87c609bba10a\" class=\"colab-df-container\">\n",
              "    <div>\n",
              "<style scoped>\n",
              "    .dataframe tbody tr th:only-of-type {\n",
              "        vertical-align: middle;\n",
              "    }\n",
              "\n",
              "    .dataframe tbody tr th {\n",
              "        vertical-align: top;\n",
              "    }\n",
              "\n",
              "    .dataframe thead th {\n",
              "        text-align: right;\n",
              "    }\n",
              "</style>\n",
              "<table border=\"1\" class=\"dataframe\">\n",
              "  <thead>\n",
              "    <tr style=\"text-align: right;\">\n",
              "      <th></th>\n",
              "      <th>artist</th>\n",
              "      <th>song</th>\n",
              "      <th>lyric</th>\n",
              "      <th>label</th>\n",
              "      <th>lyric_clean</th>\n",
              "      <th>text_len</th>\n",
              "    </tr>\n",
              "  </thead>\n",
              "  <tbody>\n",
              "    <tr>\n",
              "      <th>2022</th>\n",
              "      <td>YoungBoy Never Broke Again</td>\n",
              "      <td>I Hate YoungBoy</td>\n",
              "      <td>I Hate Young Boy Lyrics Say  10Let's hear this...</td>\n",
              "      <td>explicit</td>\n",
              "      <td>hate young boy lyric say let hear shit rell ho...</td>\n",
              "      <td>509</td>\n",
              "    </tr>\n",
              "    <tr>\n",
              "      <th>2229</th>\n",
              "      <td>Young Thug', {'label': 'spotify:artist:13y7Cg...</td>\n",
              "      <td>Bricks</td>\n",
              "      <td>Bricks Lyrics Got a hundred bands in the back ...</td>\n",
              "      <td>explicit</td>\n",
              "      <td>brick lyric got hundred band back pickup let r...</td>\n",
              "      <td>506</td>\n",
              "    </tr>\n",
              "    <tr>\n",
              "      <th>2238</th>\n",
              "      <td>Eminem</td>\n",
              "      <td>Stay Wide Awake</td>\n",
              "      <td>Stay Wide Awake Lyrics Yo  yo  follow me Come ...</td>\n",
              "      <td>explicit</td>\n",
              "      <td>stay wide awake lyric yo yo follow come dark s...</td>\n",
              "      <td>504</td>\n",
              "    </tr>\n",
              "    <tr>\n",
              "      <th>2676</th>\n",
              "      <td>D12</td>\n",
              "      <td>Shit On You</td>\n",
              "      <td>Shit On You Lyrics I'll shit on you  da-da  da...</td>\n",
              "      <td>explicit</td>\n",
              "      <td>shit lyric shit dada dada dada shit dada dada ...</td>\n",
              "      <td>503</td>\n",
              "    </tr>\n",
              "    <tr>\n",
              "      <th>2413</th>\n",
              "      <td>Bad Meets Evil</td>\n",
              "      <td>The Reunion</td>\n",
              "      <td>The Reunion Lyrics Ayo   this next song  is a ...</td>\n",
              "      <td>explicit</td>\n",
              "      <td>reunion lyric ayo next song explicit story thi...</td>\n",
              "      <td>502</td>\n",
              "    </tr>\n",
              "    <tr>\n",
              "      <th>...</th>\n",
              "      <td>...</td>\n",
              "      <td>...</td>\n",
              "      <td>...</td>\n",
              "      <td>...</td>\n",
              "      <td>...</td>\n",
              "      <td>...</td>\n",
              "    </tr>\n",
              "    <tr>\n",
              "      <th>1844</th>\n",
              "      <td>Nate Dogg</td>\n",
              "      <td>Dedication</td>\n",
              "      <td>Dedication Lyrics This is dedicated to the nig...</td>\n",
              "      <td>explicit</td>\n",
              "      <td>dedication lyric dedicated nigga really day on...</td>\n",
              "      <td>16</td>\n",
              "    </tr>\n",
              "    <tr>\n",
              "      <th>1661</th>\n",
              "      <td>David Guetta</td>\n",
              "      <td>What the Fuck</td>\n",
              "      <td>What the Fuck Lyrics What the fuck What the fu...</td>\n",
              "      <td>explicit</td>\n",
              "      <td>fuck lyric fuck fuck fuck fuck fuck might also...</td>\n",
              "      <td>11</td>\n",
              "    </tr>\n",
              "    <tr>\n",
              "      <th>2270</th>\n",
              "      <td>50 Cent', {'label': 'spotify:artist:1UE4l8O8P...</td>\n",
              "      <td>Emotional</td>\n",
              "      <td>Emotional Lyrics I get emotional You might als...</td>\n",
              "      <td>explicit</td>\n",
              "      <td>emotional lyric get emotional might also like ...</td>\n",
              "      <td>8</td>\n",
              "    </tr>\n",
              "    <tr>\n",
              "      <th>1060</th>\n",
              "      <td>The Neptunes</td>\n",
              "      <td>Intro</td>\n",
              "      <td>Intro Lyrics1  2  3  41  2  3  41  2  3  4  1C...</td>\n",
              "      <td>explicit</td>\n",
              "      <td>intro lyric clone might also like embed</td>\n",
              "      <td>7</td>\n",
              "    </tr>\n",
              "    <tr>\n",
              "      <th>254</th>\n",
              "      <td>Ween</td>\n",
              "      <td>Ode To Rene</td>\n",
              "      <td>We gotta be tight, why'know   Ok, here it goes...</td>\n",
              "      <td>explicit</td>\n",
              "      <td></td>\n",
              "      <td>0</td>\n",
              "    </tr>\n",
              "  </tbody>\n",
              "</table>\n",
              "<p>5445 rows × 6 columns</p>\n",
              "</div>\n",
              "    <div class=\"colab-df-buttons\">\n",
              "\n",
              "  <div class=\"colab-df-container\">\n",
              "    <button class=\"colab-df-convert\" onclick=\"convertToInteractive('df-c9871d1f-bea4-43f6-8132-87c609bba10a')\"\n",
              "            title=\"Convert this dataframe to an interactive table.\"\n",
              "            style=\"display:none;\">\n",
              "\n",
              "  <svg xmlns=\"http://www.w3.org/2000/svg\" height=\"24px\" viewBox=\"0 -960 960 960\">\n",
              "    <path d=\"M120-120v-720h720v720H120Zm60-500h600v-160H180v160Zm220 220h160v-160H400v160Zm0 220h160v-160H400v160ZM180-400h160v-160H180v160Zm440 0h160v-160H620v160ZM180-180h160v-160H180v160Zm440 0h160v-160H620v160Z\"/>\n",
              "  </svg>\n",
              "    </button>\n",
              "\n",
              "  <style>\n",
              "    .colab-df-container {\n",
              "      display:flex;\n",
              "      gap: 12px;\n",
              "    }\n",
              "\n",
              "    .colab-df-convert {\n",
              "      background-color: #E8F0FE;\n",
              "      border: none;\n",
              "      border-radius: 50%;\n",
              "      cursor: pointer;\n",
              "      display: none;\n",
              "      fill: #1967D2;\n",
              "      height: 32px;\n",
              "      padding: 0 0 0 0;\n",
              "      width: 32px;\n",
              "    }\n",
              "\n",
              "    .colab-df-convert:hover {\n",
              "      background-color: #E2EBFA;\n",
              "      box-shadow: 0px 1px 2px rgba(60, 64, 67, 0.3), 0px 1px 3px 1px rgba(60, 64, 67, 0.15);\n",
              "      fill: #174EA6;\n",
              "    }\n",
              "\n",
              "    .colab-df-buttons div {\n",
              "      margin-bottom: 4px;\n",
              "    }\n",
              "\n",
              "    [theme=dark] .colab-df-convert {\n",
              "      background-color: #3B4455;\n",
              "      fill: #D2E3FC;\n",
              "    }\n",
              "\n",
              "    [theme=dark] .colab-df-convert:hover {\n",
              "      background-color: #434B5C;\n",
              "      box-shadow: 0px 1px 3px 1px rgba(0, 0, 0, 0.15);\n",
              "      filter: drop-shadow(0px 1px 2px rgba(0, 0, 0, 0.3));\n",
              "      fill: #FFFFFF;\n",
              "    }\n",
              "  </style>\n",
              "\n",
              "    <script>\n",
              "      const buttonEl =\n",
              "        document.querySelector('#df-c9871d1f-bea4-43f6-8132-87c609bba10a button.colab-df-convert');\n",
              "      buttonEl.style.display =\n",
              "        google.colab.kernel.accessAllowed ? 'block' : 'none';\n",
              "\n",
              "      async function convertToInteractive(key) {\n",
              "        const element = document.querySelector('#df-c9871d1f-bea4-43f6-8132-87c609bba10a');\n",
              "        const dataTable =\n",
              "          await google.colab.kernel.invokeFunction('convertToInteractive',\n",
              "                                                    [key], {});\n",
              "        if (!dataTable) return;\n",
              "\n",
              "        const docLinkHtml = 'Like what you see? Visit the ' +\n",
              "          '<a target=\"_blank\" href=https://colab.research.google.com/notebooks/data_table.ipynb>data table notebook</a>'\n",
              "          + ' to learn more about interactive tables.';\n",
              "        element.innerHTML = '';\n",
              "        dataTable['output_type'] = 'display_data';\n",
              "        await google.colab.output.renderOutput(dataTable, element);\n",
              "        const docLink = document.createElement('div');\n",
              "        docLink.innerHTML = docLinkHtml;\n",
              "        element.appendChild(docLink);\n",
              "      }\n",
              "    </script>\n",
              "  </div>\n",
              "\n",
              "\n",
              "<div id=\"df-06fe2297-c876-4b54-ac05-d49f4ab5a50d\">\n",
              "  <button class=\"colab-df-quickchart\" onclick=\"quickchart('df-06fe2297-c876-4b54-ac05-d49f4ab5a50d')\"\n",
              "            title=\"Suggest charts.\"\n",
              "            style=\"display:none;\">\n",
              "\n",
              "<svg xmlns=\"http://www.w3.org/2000/svg\" height=\"24px\"viewBox=\"0 0 24 24\"\n",
              "     width=\"24px\">\n",
              "    <g>\n",
              "        <path d=\"M19 3H5c-1.1 0-2 .9-2 2v14c0 1.1.9 2 2 2h14c1.1 0 2-.9 2-2V5c0-1.1-.9-2-2-2zM9 17H7v-7h2v7zm4 0h-2V7h2v10zm4 0h-2v-4h2v4z\"/>\n",
              "    </g>\n",
              "</svg>\n",
              "  </button>\n",
              "\n",
              "<style>\n",
              "  .colab-df-quickchart {\n",
              "      --bg-color: #E8F0FE;\n",
              "      --fill-color: #1967D2;\n",
              "      --hover-bg-color: #E2EBFA;\n",
              "      --hover-fill-color: #174EA6;\n",
              "      --disabled-fill-color: #AAA;\n",
              "      --disabled-bg-color: #DDD;\n",
              "  }\n",
              "\n",
              "  [theme=dark] .colab-df-quickchart {\n",
              "      --bg-color: #3B4455;\n",
              "      --fill-color: #D2E3FC;\n",
              "      --hover-bg-color: #434B5C;\n",
              "      --hover-fill-color: #FFFFFF;\n",
              "      --disabled-bg-color: #3B4455;\n",
              "      --disabled-fill-color: #666;\n",
              "  }\n",
              "\n",
              "  .colab-df-quickchart {\n",
              "    background-color: var(--bg-color);\n",
              "    border: none;\n",
              "    border-radius: 50%;\n",
              "    cursor: pointer;\n",
              "    display: none;\n",
              "    fill: var(--fill-color);\n",
              "    height: 32px;\n",
              "    padding: 0;\n",
              "    width: 32px;\n",
              "  }\n",
              "\n",
              "  .colab-df-quickchart:hover {\n",
              "    background-color: var(--hover-bg-color);\n",
              "    box-shadow: 0 1px 2px rgba(60, 64, 67, 0.3), 0 1px 3px 1px rgba(60, 64, 67, 0.15);\n",
              "    fill: var(--button-hover-fill-color);\n",
              "  }\n",
              "\n",
              "  .colab-df-quickchart-complete:disabled,\n",
              "  .colab-df-quickchart-complete:disabled:hover {\n",
              "    background-color: var(--disabled-bg-color);\n",
              "    fill: var(--disabled-fill-color);\n",
              "    box-shadow: none;\n",
              "  }\n",
              "\n",
              "  .colab-df-spinner {\n",
              "    border: 2px solid var(--fill-color);\n",
              "    border-color: transparent;\n",
              "    border-bottom-color: var(--fill-color);\n",
              "    animation:\n",
              "      spin 1s steps(1) infinite;\n",
              "  }\n",
              "\n",
              "  @keyframes spin {\n",
              "    0% {\n",
              "      border-color: transparent;\n",
              "      border-bottom-color: var(--fill-color);\n",
              "      border-left-color: var(--fill-color);\n",
              "    }\n",
              "    20% {\n",
              "      border-color: transparent;\n",
              "      border-left-color: var(--fill-color);\n",
              "      border-top-color: var(--fill-color);\n",
              "    }\n",
              "    30% {\n",
              "      border-color: transparent;\n",
              "      border-left-color: var(--fill-color);\n",
              "      border-top-color: var(--fill-color);\n",
              "      border-right-color: var(--fill-color);\n",
              "    }\n",
              "    40% {\n",
              "      border-color: transparent;\n",
              "      border-right-color: var(--fill-color);\n",
              "      border-top-color: var(--fill-color);\n",
              "    }\n",
              "    60% {\n",
              "      border-color: transparent;\n",
              "      border-right-color: var(--fill-color);\n",
              "    }\n",
              "    80% {\n",
              "      border-color: transparent;\n",
              "      border-right-color: var(--fill-color);\n",
              "      border-bottom-color: var(--fill-color);\n",
              "    }\n",
              "    90% {\n",
              "      border-color: transparent;\n",
              "      border-bottom-color: var(--fill-color);\n",
              "    }\n",
              "  }\n",
              "</style>\n",
              "\n",
              "  <script>\n",
              "    async function quickchart(key) {\n",
              "      const quickchartButtonEl =\n",
              "        document.querySelector('#' + key + ' button');\n",
              "      quickchartButtonEl.disabled = true;  // To prevent multiple clicks.\n",
              "      quickchartButtonEl.classList.add('colab-df-spinner');\n",
              "      try {\n",
              "        const charts = await google.colab.kernel.invokeFunction(\n",
              "            'suggestCharts', [key], {});\n",
              "      } catch (error) {\n",
              "        console.error('Error during call to suggestCharts:', error);\n",
              "      }\n",
              "      quickchartButtonEl.classList.remove('colab-df-spinner');\n",
              "      quickchartButtonEl.classList.add('colab-df-quickchart-complete');\n",
              "    }\n",
              "    (() => {\n",
              "      let quickchartButtonEl =\n",
              "        document.querySelector('#df-06fe2297-c876-4b54-ac05-d49f4ab5a50d button');\n",
              "      quickchartButtonEl.style.display =\n",
              "        google.colab.kernel.accessAllowed ? 'block' : 'none';\n",
              "    })();\n",
              "  </script>\n",
              "</div>\n",
              "    </div>\n",
              "  </div>\n"
            ]
          },
          "metadata": {},
          "execution_count": 32
        }
      ]
    },
    {
      "cell_type": "markdown",
      "source": [
        "## Sentiment column encoding"
      ],
      "metadata": {
        "id": "LPChFM2OsE1r"
      }
    },
    {
      "cell_type": "markdown",
      "source": [
        "The target column will be encoded by ordinal encoding"
      ],
      "metadata": {
        "id": "0SAh-ChMsE1s"
      }
    },
    {
      "cell_type": "code",
      "source": [
        "df['label'] = df['label'].replace({'explicit':1,'non_explicit':0})"
      ],
      "metadata": {
        "id": "NIS_nyXBG416",
        "execution": {
          "iopub.status.busy": "2023-06-02T02:03:25.495104Z",
          "iopub.execute_input": "2023-06-02T02:03:25.495386Z",
          "iopub.status.idle": "2023-06-02T02:03:25.526715Z",
          "shell.execute_reply.started": "2023-06-02T02:03:25.495347Z",
          "shell.execute_reply": "2023-06-02T02:03:25.525925Z"
        },
        "trusted": true
      },
      "execution_count": 33,
      "outputs": []
    },
    {
      "cell_type": "markdown",
      "source": [
        "## Train - Test split"
      ],
      "metadata": {
        "id": "ELMGaiE-F7yn"
      }
    },
    {
      "cell_type": "markdown",
      "source": [
        "Now we need to split the dataset into a train and test sets."
      ],
      "metadata": {
        "id": "jrLwRbummpEq"
      }
    },
    {
      "cell_type": "code",
      "source": [
        "X = df['lyric_clean']\n",
        "y = df['label']"
      ],
      "metadata": {
        "id": "BF01CgBtBONZ",
        "execution": {
          "iopub.status.busy": "2023-06-02T02:03:25.528179Z",
          "iopub.execute_input": "2023-06-02T02:03:25.528482Z",
          "iopub.status.idle": "2023-06-02T02:03:25.532944Z",
          "shell.execute_reply.started": "2023-06-02T02:03:25.528442Z",
          "shell.execute_reply": "2023-06-02T02:03:25.532221Z"
        },
        "trusted": true
      },
      "execution_count": 34,
      "outputs": []
    },
    {
      "cell_type": "code",
      "source": [
        "X_train, X_test, y_train, y_test = train_test_split(X, y, test_size=0.2, stratify=y, random_state=seed_value)"
      ],
      "metadata": {
        "id": "fvQexohPGAZf",
        "execution": {
          "iopub.status.busy": "2023-06-02T02:03:25.534082Z",
          "iopub.execute_input": "2023-06-02T02:03:25.534808Z",
          "iopub.status.idle": "2023-06-02T02:03:25.567159Z",
          "shell.execute_reply.started": "2023-06-02T02:03:25.534766Z",
          "shell.execute_reply": "2023-06-02T02:03:25.566498Z"
        },
        "trusted": true
      },
      "execution_count": 35,
      "outputs": []
    },
    {
      "cell_type": "markdown",
      "source": [
        "## Train - Validation split"
      ],
      "metadata": {
        "id": "A0d0lSX0GbNS"
      }
    },
    {
      "cell_type": "markdown",
      "source": [
        "Moreover, we will further split the training set to extract a validation set, which will be used to monior the accuracy and loss to avoid overfitting during the model training."
      ],
      "metadata": {
        "id": "0OsrkfnCmtk0"
      }
    },
    {
      "cell_type": "code",
      "source": [
        "X_train, X_valid, y_train, y_valid = train_test_split(X_train, y_train, test_size=0.2, stratify=y_train, random_state=seed_value)"
      ],
      "metadata": {
        "id": "1KyTh6H5GbR4",
        "execution": {
          "iopub.status.busy": "2023-06-02T02:03:25.568474Z",
          "iopub.execute_input": "2023-06-02T02:03:25.568755Z",
          "iopub.status.idle": "2023-06-02T02:03:25.594169Z",
          "shell.execute_reply.started": "2023-06-02T02:03:25.568718Z",
          "shell.execute_reply": "2023-06-02T02:03:25.593523Z"
        },
        "trusted": true
      },
      "execution_count": 36,
      "outputs": []
    },
    {
      "cell_type": "code",
      "source": [
        "(unique, counts) = np.unique(y_train, return_counts=True)\n",
        "np.asarray((unique, counts)).T"
      ],
      "metadata": {
        "id": "N-mC3qyuBONc",
        "outputId": "a2ec4259-4c12-415e-fa44-ee8c144aae0d",
        "execution": {
          "iopub.status.busy": "2023-06-02T02:03:25.595524Z",
          "iopub.execute_input": "2023-06-02T02:03:25.595803Z",
          "iopub.status.idle": "2023-06-02T02:03:25.604632Z",
          "shell.execute_reply.started": "2023-06-02T02:03:25.595767Z",
          "shell.execute_reply": "2023-06-02T02:03:25.603918Z"
        },
        "trusted": true,
        "colab": {
          "base_uri": "https://localhost:8080/"
        }
      },
      "execution_count": 37,
      "outputs": [
        {
          "output_type": "execute_result",
          "data": {
            "text/plain": [
              "array([[   0, 1830],\n",
              "       [   1, 1654]])"
            ]
          },
          "metadata": {},
          "execution_count": 37
        }
      ]
    },
    {
      "cell_type": "markdown",
      "source": [
        "The classes are unbalanced, so it could be a good idea to oversample the training set such that all classes have the same count as the most populated one."
      ],
      "metadata": {
        "id": "45AGAxHSnCXW"
      }
    },
    {
      "cell_type": "markdown",
      "source": [
        "# Oversampling of training set"
      ],
      "metadata": {
        "id": "Geqa3e3zGUNL"
      }
    },
    {
      "cell_type": "code",
      "source": [
        "ros = RandomOverSampler()\n",
        "X_train, y_train = ros.fit_resample(np.array(X_train).reshape(-1, 1), np.array(y_train).reshape(-1, 1));\n",
        "train_os = pd.DataFrame(list(zip([x[0] for x in X_train], y_train)), columns = ['lyric_clean', 'label']);"
      ],
      "metadata": {
        "id": "JN5OCli8BONe",
        "execution": {
          "iopub.status.busy": "2023-06-02T02:03:25.605813Z",
          "iopub.execute_input": "2023-06-02T02:03:25.606268Z",
          "iopub.status.idle": "2023-06-02T02:03:25.659048Z",
          "shell.execute_reply.started": "2023-06-02T02:03:25.606225Z",
          "shell.execute_reply": "2023-06-02T02:03:25.658307Z"
        },
        "trusted": true
      },
      "execution_count": 38,
      "outputs": []
    },
    {
      "cell_type": "code",
      "source": [
        "X_train = train_os['lyric_clean'].values\n",
        "y_train = train_os['label'].values"
      ],
      "metadata": {
        "id": "qAwnlrGoBONe",
        "execution": {
          "iopub.status.busy": "2023-06-02T02:03:25.660310Z",
          "iopub.execute_input": "2023-06-02T02:03:25.660657Z",
          "iopub.status.idle": "2023-06-02T02:03:25.665758Z",
          "shell.execute_reply.started": "2023-06-02T02:03:25.660615Z",
          "shell.execute_reply": "2023-06-02T02:03:25.664901Z"
        },
        "trusted": true
      },
      "execution_count": 39,
      "outputs": []
    },
    {
      "cell_type": "code",
      "source": [
        "(unique, counts) = np.unique(y_train, return_counts=True)\n",
        "np.asarray((unique, counts)).T"
      ],
      "metadata": {
        "id": "zNopbN4gBONe",
        "outputId": "2d8cafe8-f577-42df-bda9-dc967adbfa62",
        "execution": {
          "iopub.status.busy": "2023-06-02T02:03:25.667173Z",
          "iopub.execute_input": "2023-06-02T02:03:25.667562Z",
          "iopub.status.idle": "2023-06-02T02:03:25.681800Z",
          "shell.execute_reply.started": "2023-06-02T02:03:25.667522Z",
          "shell.execute_reply": "2023-06-02T02:03:25.681064Z"
        },
        "trusted": true,
        "colab": {
          "base_uri": "https://localhost:8080/"
        }
      },
      "execution_count": 40,
      "outputs": [
        {
          "output_type": "execute_result",
          "data": {
            "text/plain": [
              "array([[   0, 1830],\n",
              "       [   1, 1830]])"
            ]
          },
          "metadata": {},
          "execution_count": 40
        }
      ]
    },
    {
      "cell_type": "markdown",
      "source": [
        "# Naive Bayes baseline model"
      ],
      "metadata": {
        "id": "HUAeiaH5sE14"
      }
    },
    {
      "cell_type": "markdown",
      "source": [
        "The first algorithm we will implement is Naive Bayes, which will be used as a simple baseline model. In order to use this algorithm, we need first need to preprocess the text data. <br>\n",
        "First, we will create a bag of words using CountVectorizer."
      ],
      "metadata": {
        "id": "19JTnuT3sE14"
      }
    },
    {
      "cell_type": "code",
      "source": [
        "clf = CountVectorizer()\n",
        "X_train_cv =  clf.fit_transform(X_train)\n",
        "X_test_cv = clf.transform(X_test)"
      ],
      "metadata": {
        "id": "lRCIXRz5BONe",
        "execution": {
          "iopub.status.busy": "2023-06-02T02:03:25.685099Z",
          "iopub.execute_input": "2023-06-02T02:03:25.685312Z",
          "iopub.status.idle": "2023-06-02T02:03:26.382481Z",
          "shell.execute_reply.started": "2023-06-02T02:03:25.685285Z",
          "shell.execute_reply": "2023-06-02T02:03:26.381685Z"
        },
        "trusted": true
      },
      "execution_count": 41,
      "outputs": []
    },
    {
      "cell_type": "markdown",
      "source": [
        "Then we apply TF-IFD transformation to associate weigths to the different words based on their frequency (rarer words will be given more importance)."
      ],
      "metadata": {
        "id": "1uByecw5sE16"
      }
    },
    {
      "cell_type": "code",
      "source": [
        "tf_transformer = TfidfTransformer(use_idf=True).fit(X_train_cv)\n",
        "X_train_tf = tf_transformer.transform(X_train_cv)\n",
        "X_test_tf = tf_transformer.transform(X_test_cv)"
      ],
      "metadata": {
        "id": "B_FoQa2cBONf",
        "execution": {
          "iopub.status.busy": "2023-06-02T02:03:26.383786Z",
          "iopub.execute_input": "2023-06-02T02:03:26.384210Z",
          "iopub.status.idle": "2023-06-02T02:03:26.424232Z",
          "shell.execute_reply.started": "2023-06-02T02:03:26.384165Z",
          "shell.execute_reply": "2023-06-02T02:03:26.423500Z"
        },
        "trusted": true
      },
      "execution_count": 42,
      "outputs": []
    },
    {
      "cell_type": "markdown",
      "source": [
        "Finally we can instantiate the Naive Bayes model."
      ],
      "metadata": {
        "id": "9IhS8-8EsE17"
      }
    },
    {
      "cell_type": "code",
      "source": [
        "nb_clf = MultinomialNB()"
      ],
      "metadata": {
        "id": "ecHNDL60BONf",
        "execution": {
          "iopub.status.busy": "2023-06-02T02:03:26.425452Z",
          "iopub.execute_input": "2023-06-02T02:03:26.426842Z",
          "iopub.status.idle": "2023-06-02T02:03:26.430717Z",
          "shell.execute_reply.started": "2023-06-02T02:03:26.426800Z",
          "shell.execute_reply": "2023-06-02T02:03:26.430009Z"
        },
        "trusted": true
      },
      "execution_count": 43,
      "outputs": []
    },
    {
      "cell_type": "code",
      "source": [
        "nb_clf.fit(X_train_tf, y_train)"
      ],
      "metadata": {
        "id": "gj-9CqO9BONf",
        "outputId": "49d5c88d-e563-4235-dec8-73e9b8336c71",
        "execution": {
          "iopub.status.busy": "2023-06-02T02:03:26.438230Z",
          "iopub.execute_input": "2023-06-02T02:03:26.438796Z",
          "iopub.status.idle": "2023-06-02T02:03:26.459289Z",
          "shell.execute_reply.started": "2023-06-02T02:03:26.438765Z",
          "shell.execute_reply": "2023-06-02T02:03:26.458570Z"
        },
        "trusted": true,
        "colab": {
          "base_uri": "https://localhost:8080/",
          "height": 75
        }
      },
      "execution_count": 44,
      "outputs": [
        {
          "output_type": "execute_result",
          "data": {
            "text/plain": [
              "MultinomialNB()"
            ],
            "text/html": [
              "<style>#sk-container-id-1 {color: black;background-color: white;}#sk-container-id-1 pre{padding: 0;}#sk-container-id-1 div.sk-toggleable {background-color: white;}#sk-container-id-1 label.sk-toggleable__label {cursor: pointer;display: block;width: 100%;margin-bottom: 0;padding: 0.3em;box-sizing: border-box;text-align: center;}#sk-container-id-1 label.sk-toggleable__label-arrow:before {content: \"▸\";float: left;margin-right: 0.25em;color: #696969;}#sk-container-id-1 label.sk-toggleable__label-arrow:hover:before {color: black;}#sk-container-id-1 div.sk-estimator:hover label.sk-toggleable__label-arrow:before {color: black;}#sk-container-id-1 div.sk-toggleable__content {max-height: 0;max-width: 0;overflow: hidden;text-align: left;background-color: #f0f8ff;}#sk-container-id-1 div.sk-toggleable__content pre {margin: 0.2em;color: black;border-radius: 0.25em;background-color: #f0f8ff;}#sk-container-id-1 input.sk-toggleable__control:checked~div.sk-toggleable__content {max-height: 200px;max-width: 100%;overflow: auto;}#sk-container-id-1 input.sk-toggleable__control:checked~label.sk-toggleable__label-arrow:before {content: \"▾\";}#sk-container-id-1 div.sk-estimator input.sk-toggleable__control:checked~label.sk-toggleable__label {background-color: #d4ebff;}#sk-container-id-1 div.sk-label input.sk-toggleable__control:checked~label.sk-toggleable__label {background-color: #d4ebff;}#sk-container-id-1 input.sk-hidden--visually {border: 0;clip: rect(1px 1px 1px 1px);clip: rect(1px, 1px, 1px, 1px);height: 1px;margin: -1px;overflow: hidden;padding: 0;position: absolute;width: 1px;}#sk-container-id-1 div.sk-estimator {font-family: monospace;background-color: #f0f8ff;border: 1px dotted black;border-radius: 0.25em;box-sizing: border-box;margin-bottom: 0.5em;}#sk-container-id-1 div.sk-estimator:hover {background-color: #d4ebff;}#sk-container-id-1 div.sk-parallel-item::after {content: \"\";width: 100%;border-bottom: 1px solid gray;flex-grow: 1;}#sk-container-id-1 div.sk-label:hover label.sk-toggleable__label {background-color: #d4ebff;}#sk-container-id-1 div.sk-serial::before {content: \"\";position: absolute;border-left: 1px solid gray;box-sizing: border-box;top: 0;bottom: 0;left: 50%;z-index: 0;}#sk-container-id-1 div.sk-serial {display: flex;flex-direction: column;align-items: center;background-color: white;padding-right: 0.2em;padding-left: 0.2em;position: relative;}#sk-container-id-1 div.sk-item {position: relative;z-index: 1;}#sk-container-id-1 div.sk-parallel {display: flex;align-items: stretch;justify-content: center;background-color: white;position: relative;}#sk-container-id-1 div.sk-item::before, #sk-container-id-1 div.sk-parallel-item::before {content: \"\";position: absolute;border-left: 1px solid gray;box-sizing: border-box;top: 0;bottom: 0;left: 50%;z-index: -1;}#sk-container-id-1 div.sk-parallel-item {display: flex;flex-direction: column;z-index: 1;position: relative;background-color: white;}#sk-container-id-1 div.sk-parallel-item:first-child::after {align-self: flex-end;width: 50%;}#sk-container-id-1 div.sk-parallel-item:last-child::after {align-self: flex-start;width: 50%;}#sk-container-id-1 div.sk-parallel-item:only-child::after {width: 0;}#sk-container-id-1 div.sk-dashed-wrapped {border: 1px dashed gray;margin: 0 0.4em 0.5em 0.4em;box-sizing: border-box;padding-bottom: 0.4em;background-color: white;}#sk-container-id-1 div.sk-label label {font-family: monospace;font-weight: bold;display: inline-block;line-height: 1.2em;}#sk-container-id-1 div.sk-label-container {text-align: center;}#sk-container-id-1 div.sk-container {/* jupyter's `normalize.less` sets `[hidden] { display: none; }` but bootstrap.min.css set `[hidden] { display: none !important; }` so we also need the `!important` here to be able to override the default hidden behavior on the sphinx rendered scikit-learn.org. See: https://github.com/scikit-learn/scikit-learn/issues/21755 */display: inline-block !important;position: relative;}#sk-container-id-1 div.sk-text-repr-fallback {display: none;}</style><div id=\"sk-container-id-1\" class=\"sk-top-container\"><div class=\"sk-text-repr-fallback\"><pre>MultinomialNB()</pre><b>In a Jupyter environment, please rerun this cell to show the HTML representation or trust the notebook. <br />On GitHub, the HTML representation is unable to render, please try loading this page with nbviewer.org.</b></div><div class=\"sk-container\" hidden><div class=\"sk-item\"><div class=\"sk-estimator sk-toggleable\"><input class=\"sk-toggleable__control sk-hidden--visually\" id=\"sk-estimator-id-1\" type=\"checkbox\" checked><label for=\"sk-estimator-id-1\" class=\"sk-toggleable__label sk-toggleable__label-arrow\">MultinomialNB</label><div class=\"sk-toggleable__content\"><pre>MultinomialNB()</pre></div></div></div></div></div>"
            ]
          },
          "metadata": {},
          "execution_count": 44
        }
      ]
    },
    {
      "cell_type": "code",
      "source": [
        "nb_pred = nb_clf.predict(X_test_tf)"
      ],
      "metadata": {
        "id": "Evr5z6nhBONf",
        "execution": {
          "iopub.status.busy": "2023-06-02T02:03:26.460619Z",
          "iopub.execute_input": "2023-06-02T02:03:26.460935Z",
          "iopub.status.idle": "2023-06-02T02:03:26.467279Z",
          "shell.execute_reply.started": "2023-06-02T02:03:26.460896Z",
          "shell.execute_reply": "2023-06-02T02:03:26.466491Z"
        },
        "trusted": true
      },
      "execution_count": 46,
      "outputs": []
    },
    {
      "cell_type": "code",
      "source": [
        "print('Classification Report for Naive Bayes:\\n',classification_report(y_test, nb_pred, target_names=label))"
      ],
      "metadata": {
        "id": "4pUzmmo6BONf",
        "outputId": "53b20f6e-21ce-4c25-d842-279f47ff6a0f",
        "_kg_hide-input": true,
        "execution": {
          "iopub.status.busy": "2023-06-02T02:03:26.468949Z",
          "iopub.execute_input": "2023-06-02T02:03:26.469226Z",
          "iopub.status.idle": "2023-06-02T02:03:26.490900Z",
          "shell.execute_reply.started": "2023-06-02T02:03:26.469186Z",
          "shell.execute_reply": "2023-06-02T02:03:26.490022Z"
        },
        "trusted": true,
        "colab": {
          "base_uri": "https://localhost:8080/"
        }
      },
      "execution_count": 47,
      "outputs": [
        {
          "output_type": "stream",
          "name": "stdout",
          "text": [
            "Classification Report for Naive Bayes:\n",
            "               precision    recall  f1-score   support\n",
            "\n",
            "    explicit       0.88      0.85      0.87       572\n",
            "    inplicit       0.84      0.87      0.86       517\n",
            "\n",
            "    accuracy                           0.86      1089\n",
            "   macro avg       0.86      0.86      0.86      1089\n",
            "weighted avg       0.86      0.86      0.86      1089\n",
            "\n"
          ]
        }
      ]
    },
    {
      "cell_type": "code",
      "source": [
        "conf_matrix(y_test,nb_pred,'Naive Bayes Sentiment Analysis\\nConfusion Matrix', label)"
      ],
      "metadata": {
        "_kg_hide-input": true,
        "execution": {
          "iopub.status.busy": "2023-06-02T02:03:26.492423Z",
          "iopub.execute_input": "2023-06-02T02:03:26.492722Z",
          "iopub.status.idle": "2023-06-02T02:03:26.843489Z",
          "shell.execute_reply.started": "2023-06-02T02:03:26.492663Z",
          "shell.execute_reply": "2023-06-02T02:03:26.842752Z"
        },
        "trusted": true,
        "colab": {
          "base_uri": "https://localhost:8080/",
          "height": 757
        },
        "id": "HTY0Zef1sE2E",
        "outputId": "e9e74d35-b1cc-4d52-d348-b19cbb3fc486"
      },
      "execution_count": 48,
      "outputs": [
        {
          "output_type": "display_data",
          "data": {
            "text/plain": [
              "<Figure size 750x750 with 1 Axes>"
            ],
            "image/png": "[encoded data removed]"
          },
          "metadata": {}
        }
      ]
    },
    {
      "cell_type": "markdown",
      "source": [
        "**The performance scores of the algorithm is very good, with an overall accurcy of 87%.<br>\n",
        "We can observe how the predictions for the more populated classes have very high F1 scores (over 85%), while for the class \"non-cyberbullying\" the score is much lower (58%).**"
      ],
      "metadata": {
        "id": "b8lfGUmEsE2F"
      }
    },
    {
      "cell_type": "markdown",
      "source": [
        "*Next we will implement a more complex algorithm to perform the classification, aiming to achieve higher accurcy than the baseline Naive Bayes model.*"
      ],
      "metadata": {
        "id": "_ilxNlDNsE2G"
      }
    },
    {
      "cell_type": "markdown",
      "source": [
        "# PyTorch LSTM RNN w/ Attention"
      ],
      "metadata": {
        "id": "TDMq89cosE2H"
      }
    },
    {
      "cell_type": "markdown",
      "source": [
        "In this section, we will define a custom Unidirectional and Bidirectional LSTM using PyTorch in order to perform the Sentiment Analysis on the lyrics."
      ],
      "metadata": {
        "id": "O3z23CvesE2H"
      }
    },
    {
      "cell_type": "markdown",
      "source": [
        "## Data preprocessing for LSTM"
      ],
      "metadata": {
        "id": "QZpta6PbBONf"
      }
    },
    {
      "cell_type": "markdown",
      "source": [
        "Similarly to what we did with Naive Bayes, we need to preprocess the data: in particular we will tokenize the sentences with a custom defined function. <br>\n",
        "The sentences will be converted to lists of number with padding to the max number of words in a sentence."
      ],
      "metadata": {
        "id": "_7EBzbu2sE2I"
      }
    },
    {
      "cell_type": "code",
      "source": [
        "def Tokenize(column, seq_len):\n",
        "    ##Create vocabulary of words from column\n",
        "    corpus = [word for lyric in column for word in lyric.split()]\n",
        "    count_words = Counter(corpus)\n",
        "    sorted_words = count_words.most_common()\n",
        "    vocab_to_int = {w:i+1 for i, (w,c) in enumerate(sorted_words)}\n",
        "\n",
        "    ##Tokenize the columns text using the vocabulary\n",
        "    lyric_int = []\n",
        "    for lyric in column:\n",
        "        r = [vocab_to_int[word] for word in lyric.split()]\n",
        "        lyric_int.append(r)\n",
        "    ##Add padding to tokens\n",
        "    features = np.zeros((len(lyric_int), seq_len), dtype = int)\n",
        "    for i, review in enumerate(lyric_int):\n",
        "        if len(review) <= seq_len:\n",
        "            zeros = list(np.zeros(seq_len - len(review)))\n",
        "            new = zeros + review\n",
        "        else:\n",
        "            new = review[: seq_len]\n",
        "        features[i, :] = np.array(new)\n",
        "\n",
        "    return sorted_words, features"
      ],
      "metadata": {
        "id": "PAhPX58mpM0i",
        "execution": {
          "iopub.status.busy": "2023-06-02T02:03:26.844596Z",
          "iopub.execute_input": "2023-06-02T02:03:26.844852Z",
          "iopub.status.idle": "2023-06-02T02:03:26.854699Z",
          "shell.execute_reply.started": "2023-06-02T02:03:26.844819Z",
          "shell.execute_reply": "2023-06-02T02:03:26.853433Z"
        },
        "trusted": true
      },
      "execution_count": 49,
      "outputs": []
    },
    {
      "cell_type": "code",
      "source": [
        "vocabulary, tokenized_column = Tokenize(df[\"lyric_clean\"], max_len)"
      ],
      "metadata": {
        "id": "Huovl-tkq9pr",
        "execution": {
          "iopub.status.busy": "2023-06-02T02:03:26.856858Z",
          "iopub.execute_input": "2023-06-02T02:03:26.857297Z",
          "iopub.status.idle": "2023-06-02T02:03:27.691485Z",
          "shell.execute_reply.started": "2023-06-02T02:03:26.857251Z",
          "shell.execute_reply": "2023-06-02T02:03:27.690675Z"
        },
        "trusted": true
      },
      "execution_count": 50,
      "outputs": []
    },
    {
      "cell_type": "markdown",
      "source": [
        "We can check how each lyric has been tokenized with an example:"
      ],
      "metadata": {
        "id": "OOb31_eWsE2L"
      }
    },
    {
      "cell_type": "code",
      "source": [
        "df[\"lyric_clean\"].iloc[0]"
      ],
      "metadata": {
        "execution": {
          "iopub.status.busy": "2023-06-02T02:03:27.692741Z",
          "iopub.execute_input": "2023-06-02T02:03:27.693018Z",
          "iopub.status.idle": "2023-06-02T02:03:27.698560Z",
          "shell.execute_reply.started": "2023-06-02T02:03:27.692981Z",
          "shell.execute_reply": "2023-06-02T02:03:27.697866Z"
        },
        "trusted": true,
        "colab": {
          "base_uri": "https://localhost:8080/",
          "height": 174
        },
        "id": "vqD9-F4-sE2L",
        "outputId": "9e53eb79-d172-4e0a-f192-1b50775b9213"
      },
      "execution_count": 51,
      "outputs": [
        {
          "output_type": "execute_result",
          "data": {
            "text/plain": [
              "'verse tyga yall know still og young tyg hated nigga still keep shittin nigga lowkey fuck third degree keep dmv owe three schemin low tryna make nigga profitly get money fuck sleep run mayor runnin shit barely maintainin bitch shit break neck busta shit shit til infinity predict bitch going chance outdone called enemy spit game talk shit grab gat call clique ball hard need assist best keep shit nigga knew gamell look bullshit drive shit hook tyga get fucked yesterday freshest nigga america swear god lyin bruh lyin bruh america get fucked nigga talkin bout oh shit pull like oh shit look whose talkin bitch look whose talkin bitch yeah get fucked shit shit shit loved one get fucked shit shit trust nigga trust fund nigga verse chris brown nowadays everybody want talk like got something say nothing come move lip extended clip make buddha shit shawty comin pullin hooter tip never use nigga abuse dick let pussy let air drop boat nigga right coast european caribbean sweatin hair dye get fucked got handful match fuckin bad bitch nigga savage better loc damn tragedy casualty metal body nigga check anatomy oh shit pillow talkin ho shit nigga geek still talkin bout fucking yo bitch can not lie can not lie got bunch bad hoe wife side believe fly shit want like mike die step right can not name nigga fuck imma bring pain gon gamechangers face bustin nut hook verse pusha yall think would let dough freeze ho please better bow knee think taught throw think taught rap key dress phillip limb slps like snoop dodouble nigga murda case motherfuck police yall nigga soft like emojis heart eye yall part sky yall cloud killas aimin nigga soldier blacker apartheid coupe nigga nigga riding four door like uber nigga pilin whore canopy stamen enough pamela anderson lee katy perry afraid carry shit sniff taylor swift nigga talk yet remains myth never seen dream rap interview toy car little jewel hook'"
            ],
            "application/vnd.google.colaboratory.intrinsic+json": {
              "type": "string"
            }
          },
          "metadata": {},
          "execution_count": 51
        }
      ]
    },
    {
      "cell_type": "markdown",
      "source": [
        "This sentence is transformed to the vector:"
      ],
      "metadata": {
        "id": "8zZcHLQtsE2M"
      }
    },
    {
      "cell_type": "code",
      "source": [
        "tokenized_column[10]"
      ],
      "metadata": {
        "execution": {
          "iopub.status.busy": "2023-06-02T02:03:27.699731Z",
          "iopub.execute_input": "2023-06-02T02:03:27.700273Z",
          "iopub.status.idle": "2023-06-02T02:03:27.710123Z",
          "shell.execute_reply.started": "2023-06-02T02:03:27.700232Z",
          "shell.execute_reply": "2023-06-02T02:03:27.709394Z"
        },
        "trusted": true,
        "colab": {
          "base_uri": "https://localhost:8080/"
        },
        "id": "E01McE_NsE2R",
        "outputId": "e0c93b42-942c-4885-8415-99dde1002d31"
      },
      "execution_count": 52,
      "outputs": [
        {
          "output_type": "execute_result",
          "data": {
            "text/plain": [
              "array([    0,     0,     0,     0,     0,     0,     0,     0,     0,\n",
              "           0,     0,     0,     0,     0,     0,     0,     0,     0,\n",
              "           0,     0,     0,     0,     0,     0,     0,     0,     0,\n",
              "           0,     0,     0,     0,     0,     0,     0,     0,     0,\n",
              "           0,     0,     0,     0,     0,     0,     0,     0,     0,\n",
              "           0,     0,     0,     0,     0,     0,     0,     0,     0,\n",
              "           0,     0,     0,     0,     0,     0,     0,     0,     0,\n",
              "           0,     0,     0,     0,     0,     0,     0,     0,     0,\n",
              "           0,     0,     0,     0,     0,     0,     0,     0,     0,\n",
              "           0,     0,     0,     0,     0,     0,     0,     0,     0,\n",
              "           0,     0,     0,     0,     0,     0,     0,     0,     0,\n",
              "           0,     0,     0,     0,     0,     0,     0,     0,     0,\n",
              "           0,     0,     0,     0,     0,     0,     0,     0,     0,\n",
              "           0,     0,     0,     0,     0,     0,     0,     0,     0,\n",
              "           0,     0,     0,     0,     0,     0,     0,     0,     0,\n",
              "           0,     0,     0,     0,     0,     0,     0,     0,     0,\n",
              "           0,     0,     0,     0,     0,     0,     0,     0,     0,\n",
              "           0,     0,     0,     0,     0,     0,     0,     0,     0,\n",
              "           0,     0,     0,     0,     0,     0,     0,     0,     0,\n",
              "           0,     0,     0,     0,     0,     0,     0,     0,     0,\n",
              "           0,     0,     0,     0,     0,     0,     0,     0,     0,\n",
              "           0,     0,     0,     0,     0,     0,     0,     0,     0,\n",
              "           0,     0,     0,     0,     0,     0,     0,     0,     0,\n",
              "           0,     0,     0,     0,     0,     0,     0,     0,     0,\n",
              "           0,     0,     0,     0,     0,     0,     0,     0,     0,\n",
              "           0,     0,     0,     0,     0,     0,     0,     0,     0,\n",
              "           0,     0,     0,     0,     0,     0,     0,     0,     0,\n",
              "           0,     0,     0,     0,     0,     0,     0,     0,     0,\n",
              "           0,     0,     0,     0,     0,     0,     0,     0,     0,\n",
              "           0,     0,     0,     0,     0,     0,     0,     0,     0,\n",
              "           0,     0,     0,     0,     0,     0,     0,     0,     0,\n",
              "           0,     0,     0,     0,     0,     0,     0,     0,     0,\n",
              "           0,     0,     0,     0,     0,     0,     0,     0,     0,\n",
              "           0,     0,     0,     0,     0,     0,     0,     0,     0,\n",
              "           0,     0,     0,     0,     0,     0,     0,     0,     0,\n",
              "           0,     0,     0,     0,     0,     0,     0,     0,     0,\n",
              "           0,     0,     0,     0,     0,     0,     0,     0,     0,\n",
              "           0,     0,     0,     0,     0,     0,     0,     0,     0,\n",
              "           0,     0,     0,     0,     0,     0,     0,     0,     0,\n",
              "           0,     0,     0,     0,     0,     0,     0,     0,     0,\n",
              "           0,     0,     0,     0,     0,     0,     0,     0,     0,\n",
              "           0,     0,     0,     0,     0,     0,     0,     0,     0,\n",
              "           0,     0,     0,     0,     0,     0,     0,     0,     0,\n",
              "          13,   557,  1311,   798,   133,  7339,   149,    26,    32,\n",
              "          99,   271,    20,   329,   329,   952,   396,   133,    23,\n",
              "         329,   329,   952,   396,   133,   188,  7340,    57,    41,\n",
              "         250,   406,  1608,   723,    20,   191,   309, 12046,    77,\n",
              "        2179,    59,    57,    41,   329,   329,   952,   396,   133,\n",
              "          23,     8,   329,   329,   952,   396,   133,   329,    54,\n",
              "         442,   133,   776,    33,   830,    41,    13,    77,   139,\n",
              "          13,  1376,    45,   368,    27,    46,     4,    54,    54,\n",
              "          46,    98,    56,    24,     2,   413,  3281,     2,    54,\n",
              "          63,  2603,   329,   329,   952,   396,   133,    23,   329,\n",
              "         329,   952,   396,   133,   329,    54,   442,   133,   776,\n",
              "          33,   830,    41,    18,   238,     3,    99,  1337,   133,\n",
              "           2,    42,     9,    82,   329,   150,   329,   329,   185,\n",
              "         329,   329,   150,   329,   329])"
            ]
          },
          "metadata": {},
          "execution_count": 52
        }
      ]
    },
    {
      "cell_type": "markdown",
      "source": [
        "Moreover we can also check the TOP 20 most common words by extracting them from the vocabulary python dictionary we created with the tokenizer."
      ],
      "metadata": {
        "id": "ie39EOrBsE2T"
      }
    },
    {
      "cell_type": "code",
      "source": [
        "keys = []\n",
        "values = []\n",
        "for key, value in vocabulary[:20]:\n",
        "    keys.append(key)\n",
        "    values.append(value)"
      ],
      "metadata": {
        "execution": {
          "iopub.status.busy": "2023-06-02T02:03:27.711233Z",
          "iopub.execute_input": "2023-06-02T02:03:27.712030Z",
          "iopub.status.idle": "2023-06-02T02:03:27.717792Z",
          "shell.execute_reply.started": "2023-06-02T02:03:27.711982Z",
          "shell.execute_reply": "2023-06-02T02:03:27.717082Z"
        },
        "trusted": true,
        "id": "rDarGAdSsE2U"
      },
      "execution_count": 53,
      "outputs": []
    },
    {
      "cell_type": "code",
      "source": [
        "plt.figure(figsize=(15, 5))\n",
        "ax = sns.barplot(keys, values, palette='mako')\n",
        "plt.title('Top 20 most common words', size=25)\n",
        "ax.bar_label(ax.containers[0])\n",
        "plt.ylabel(\"Words count\")\n",
        "plt.show()"
      ],
      "metadata": {
        "_kg_hide-input": true,
        "execution": {
          "iopub.status.busy": "2023-06-02T02:03:27.718892Z",
          "iopub.execute_input": "2023-06-02T02:03:27.719757Z",
          "iopub.status.idle": "2023-06-02T02:03:28.304275Z",
          "shell.execute_reply.started": "2023-06-02T02:03:27.719710Z",
          "shell.execute_reply": "2023-06-02T02:03:28.303513Z"
        },
        "trusted": true,
        "colab": {
          "base_uri": "https://localhost:8080/",
          "height": 263
        },
        "id": "l1xp8M8JsE2V",
        "outputId": "96ad011b-c08f-4f66-8542-58ff9e143f6a"
      },
      "execution_count": 54,
      "outputs": [
        {
          "output_type": "error",
          "ename": "TypeError",
          "evalue": "ignored",
          "traceback": [
            "\u001b[0;31m---------------------------------------------------------------------------\u001b[0m",
            "\u001b[0;31mTypeError\u001b[0m                                 Traceback (most recent call last)",
            "\u001b[0;32m<ipython-input-54-5dde6892b90f>\u001b[0m in \u001b[0;36m<cell line: 2>\u001b[0;34m()\u001b[0m\n\u001b[1;32m      1\u001b[0m \u001b[0mplt\u001b[0m\u001b[0;34m.\u001b[0m\u001b[0mfigure\u001b[0m\u001b[0;34m(\u001b[0m\u001b[0mfigsize\u001b[0m\u001b[0;34m=\u001b[0m\u001b[0;34m(\u001b[0m\u001b[0;36m15\u001b[0m\u001b[0;34m,\u001b[0m \u001b[0;36m5\u001b[0m\u001b[0;34m)\u001b[0m\u001b[0;34m)\u001b[0m\u001b[0;34m\u001b[0m\u001b[0;34m\u001b[0m\u001b[0m\n\u001b[0;32m----> 2\u001b[0;31m \u001b[0max\u001b[0m \u001b[0;34m=\u001b[0m \u001b[0msns\u001b[0m\u001b[0;34m.\u001b[0m\u001b[0mbarplot\u001b[0m\u001b[0;34m(\u001b[0m\u001b[0mkeys\u001b[0m\u001b[0;34m,\u001b[0m \u001b[0mvalues\u001b[0m\u001b[0;34m,\u001b[0m \u001b[0mpalette\u001b[0m\u001b[0;34m=\u001b[0m\u001b[0;34m'mako'\u001b[0m\u001b[0;34m)\u001b[0m\u001b[0;34m\u001b[0m\u001b[0;34m\u001b[0m\u001b[0m\n\u001b[0m\u001b[1;32m      3\u001b[0m \u001b[0mplt\u001b[0m\u001b[0;34m.\u001b[0m\u001b[0mtitle\u001b[0m\u001b[0;34m(\u001b[0m\u001b[0;34m'Top 20 most common words'\u001b[0m\u001b[0;34m,\u001b[0m \u001b[0msize\u001b[0m\u001b[0;34m=\u001b[0m\u001b[0;36m25\u001b[0m\u001b[0;34m)\u001b[0m\u001b[0;34m\u001b[0m\u001b[0;34m\u001b[0m\u001b[0m\n\u001b[1;32m      4\u001b[0m \u001b[0max\u001b[0m\u001b[0;34m.\u001b[0m\u001b[0mbar_label\u001b[0m\u001b[0;34m(\u001b[0m\u001b[0max\u001b[0m\u001b[0;34m.\u001b[0m\u001b[0mcontainers\u001b[0m\u001b[0;34m[\u001b[0m\u001b[0;36m0\u001b[0m\u001b[0;34m]\u001b[0m\u001b[0;34m)\u001b[0m\u001b[0;34m\u001b[0m\u001b[0;34m\u001b[0m\u001b[0m\n\u001b[1;32m      5\u001b[0m \u001b[0mplt\u001b[0m\u001b[0;34m.\u001b[0m\u001b[0mylabel\u001b[0m\u001b[0;34m(\u001b[0m\u001b[0;34m\"Words count\"\u001b[0m\u001b[0;34m)\u001b[0m\u001b[0;34m\u001b[0m\u001b[0;34m\u001b[0m\u001b[0m\n",
            "\u001b[0;31mTypeError\u001b[0m: barplot() takes from 0 to 1 positional arguments but 2 positional arguments (and 1 keyword-only argument) were given"
          ]
        },
        {
          "output_type": "display_data",
          "data": {
            "text/plain": [
              "<Figure size 1500x500 with 0 Axes>"
            ]
          },
          "metadata": {}
        }
      ]
    },
    {
      "cell_type": "markdown",
      "source": [
        "# Word Embedding by Word2Vec"
      ],
      "metadata": {
        "id": "ByDfC9_AsE2W"
      }
    },
    {
      "cell_type": "markdown",
      "source": [
        "Next, we will create a word embedding matrix using the original text lyrics and the pre trained model Word2vec.<br>\n",
        "First, we create a list of words from the X_train vector created before."
      ],
      "metadata": {
        "id": "fl_1M-mfsE2X"
      }
    },
    {
      "cell_type": "code",
      "source": [
        "Word2vec_train_data = list(map(lambda x: x.split(), X_train))"
      ],
      "metadata": {
        "execution": {
          "iopub.status.busy": "2023-06-02T02:03:28.305569Z",
          "iopub.execute_input": "2023-06-02T02:03:28.306370Z",
          "iopub.status.idle": "2023-06-02T02:03:28.346348Z",
          "shell.execute_reply.started": "2023-06-02T02:03:28.306326Z",
          "shell.execute_reply": "2023-06-02T02:03:28.345580Z"
        },
        "trusted": true,
        "id": "9ASv_ru0sE2X"
      },
      "execution_count": 55,
      "outputs": []
    },
    {
      "cell_type": "markdown",
      "source": [
        "We set a dimension of the embedding words, which can be seen as the number of featurs of each transformed word."
      ],
      "metadata": {
        "id": "lo4pNr2EsE2Y"
      }
    },
    {
      "cell_type": "code",
      "source": [
        "EMBEDDING_DIM = 200"
      ],
      "metadata": {
        "execution": {
          "iopub.status.busy": "2023-06-02T02:03:28.347610Z",
          "iopub.execute_input": "2023-06-02T02:03:28.347985Z",
          "iopub.status.idle": "2023-06-02T02:03:28.352454Z",
          "shell.execute_reply.started": "2023-06-02T02:03:28.347938Z",
          "shell.execute_reply": "2023-06-02T02:03:28.351471Z"
        },
        "trusted": true,
        "id": "GL16sBWtsE2Y"
      },
      "execution_count": 56,
      "outputs": []
    },
    {
      "cell_type": "markdown",
      "source": [
        "Then we can instaniate the Word2Vec model by passing the training words and chosen embedding dimension to the imported Word2vec object."
      ],
      "metadata": {
        "id": "RjkkAEjvsE2Z"
      }
    },
    {
      "cell_type": "code",
      "source": [
        "word2vec_model = Word2Vec(Word2vec_train_data, vector_size=EMBEDDING_DIM)"
      ],
      "metadata": {
        "execution": {
          "iopub.status.busy": "2023-06-02T02:03:28.353924Z",
          "iopub.execute_input": "2023-06-02T02:03:28.354418Z",
          "iopub.status.idle": "2023-06-02T02:03:31.171524Z",
          "shell.execute_reply.started": "2023-06-02T02:03:28.354378Z",
          "shell.execute_reply": "2023-06-02T02:03:31.170733Z"
        },
        "trusted": true,
        "id": "8EjC1-GQsE2a"
      },
      "execution_count": 57,
      "outputs": []
    },
    {
      "cell_type": "markdown",
      "source": [
        "Before defining the embedding matrix, we also need to choose the max number of words. We will extract the number of words from the vocabulary python dictionary we created before."
      ],
      "metadata": {
        "id": "Hs8MyML3sE2b"
      }
    },
    {
      "cell_type": "code",
      "source": [
        "print(f\"Vocabulary size: {len(vocabulary) + 1}\")"
      ],
      "metadata": {
        "execution": {
          "iopub.status.busy": "2023-06-02T02:03:31.174938Z",
          "iopub.execute_input": "2023-06-02T02:03:31.175157Z",
          "iopub.status.idle": "2023-06-02T02:03:31.182099Z",
          "shell.execute_reply.started": "2023-06-02T02:03:31.175127Z",
          "shell.execute_reply": "2023-06-02T02:03:31.181346Z"
        },
        "trusted": true,
        "colab": {
          "base_uri": "https://localhost:8080/"
        },
        "id": "vRA_JY0OsE2c",
        "outputId": "1beb7d90-e804-4692-a272-39fd801320da"
      },
      "execution_count": 58,
      "outputs": [
        {
          "output_type": "stream",
          "name": "stdout",
          "text": [
            "Vocabulary size: 38850\n"
          ]
        }
      ]
    },
    {
      "cell_type": "code",
      "source": [
        "VOCAB_SIZE = len(vocabulary) + 1 #+1 for the padding"
      ],
      "metadata": {
        "execution": {
          "iopub.status.busy": "2023-06-02T02:03:31.183301Z",
          "iopub.execute_input": "2023-06-02T02:03:31.183782Z",
          "iopub.status.idle": "2023-06-02T02:03:31.190430Z",
          "shell.execute_reply.started": "2023-06-02T02:03:31.183742Z",
          "shell.execute_reply": "2023-06-02T02:03:31.189618Z"
        },
        "trusted": true,
        "id": "2wmzccPGsE2d"
      },
      "execution_count": 60,
      "outputs": []
    },
    {
      "cell_type": "markdown",
      "source": [
        "Finally we can define the embedding matrix."
      ],
      "metadata": {
        "id": "rHpBfONpsE2e"
      }
    },
    {
      "cell_type": "code",
      "source": [
        "# Define an empty embedding matrix of shape (VOCAB_SIZE, EMBEDDING_DIM)\n",
        "embedding_matrix = np.zeros((VOCAB_SIZE, EMBEDDING_DIM))\n",
        "\n",
        "# Fill the embedding matrix with pre-trained values from word2vec\n",
        "for word, token in vocabulary:\n",
        "    # Check if the word is present in the word2vec model's vocabulary\n",
        "    if word in word2vec_model.wv.key_to_index:\n",
        "        # If the word is present, retrieve its embedding vector and add it to the embedding matrix\n",
        "        embedding_vector = word2vec_model.wv[word]\n",
        "        embedding_matrix[token] = embedding_vector\n",
        "\n",
        "# Print the shape of the embedding matrix\n",
        "print(\"Embedding Matrix Shape:\", embedding_matrix.shape)"
      ],
      "metadata": {
        "execution": {
          "iopub.status.busy": "2023-06-02T02:03:31.191982Z",
          "iopub.execute_input": "2023-06-02T02:03:31.192256Z",
          "iopub.status.idle": "2023-06-02T02:03:31.237607Z",
          "shell.execute_reply.started": "2023-06-02T02:03:31.192219Z",
          "shell.execute_reply": "2023-06-02T02:03:31.236826Z"
        },
        "trusted": true,
        "colab": {
          "base_uri": "https://localhost:8080/"
        },
        "id": "tWtyZ6CXsE2g",
        "outputId": "ca26053e-6597-4fee-f2a4-8204f77265d3"
      },
      "execution_count": 61,
      "outputs": [
        {
          "output_type": "stream",
          "name": "stdout",
          "text": [
            "Embedding Matrix Shape: (38850, 200)\n"
          ]
        }
      ]
    },
    {
      "cell_type": "markdown",
      "source": [
        "## Train - Validation - Test split"
      ],
      "metadata": {
        "id": "X277v6rZsE2h"
      }
    },
    {
      "cell_type": "markdown",
      "source": [
        "Now we will use the tokenized sentences to create a training, validation and test datasets."
      ],
      "metadata": {
        "id": "n52LesqZsE2i"
      }
    },
    {
      "cell_type": "code",
      "source": [
        "X = tokenized_column\n",
        "y = df['label'].values"
      ],
      "metadata": {
        "id": "xPzbx9jFBONg",
        "execution": {
          "iopub.status.busy": "2023-06-02T02:03:31.238945Z",
          "iopub.execute_input": "2023-06-02T02:03:31.239404Z",
          "iopub.status.idle": "2023-06-02T02:03:31.243421Z",
          "shell.execute_reply.started": "2023-06-02T02:03:31.239364Z",
          "shell.execute_reply": "2023-06-02T02:03:31.242713Z"
        },
        "trusted": true
      },
      "execution_count": 62,
      "outputs": []
    },
    {
      "cell_type": "code",
      "source": [
        "X_train, X_test, y_train, y_test = train_test_split(X, y, test_size=0.2, stratify=y, random_state=seed_value)"
      ],
      "metadata": {
        "id": "HQJ-XSMzBONg",
        "execution": {
          "iopub.status.busy": "2023-06-02T02:03:31.244933Z",
          "iopub.execute_input": "2023-06-02T02:03:31.245407Z",
          "iopub.status.idle": "2023-06-02T02:03:31.280401Z",
          "shell.execute_reply.started": "2023-06-02T02:03:31.245368Z",
          "shell.execute_reply": "2023-06-02T02:03:31.279619Z"
        },
        "trusted": true
      },
      "execution_count": 63,
      "outputs": []
    },
    {
      "cell_type": "code",
      "source": [
        "X_train, X_valid, y_train, y_valid = train_test_split(X_train, y_train, test_size=0.2, stratify=y_train, random_state=seed_value)"
      ],
      "metadata": {
        "id": "aeca_zUVBONg",
        "execution": {
          "iopub.status.busy": "2023-06-02T02:03:31.281667Z",
          "iopub.execute_input": "2023-06-02T02:03:31.281967Z",
          "iopub.status.idle": "2023-06-02T02:03:31.309990Z",
          "shell.execute_reply.started": "2023-06-02T02:03:31.281928Z",
          "shell.execute_reply": "2023-06-02T02:03:31.309282Z"
        },
        "trusted": true
      },
      "execution_count": 64,
      "outputs": []
    },
    {
      "cell_type": "markdown",
      "source": [
        "We can check the balance of the target classes:"
      ],
      "metadata": {
        "id": "RxSghd9QsE2o"
      }
    },
    {
      "cell_type": "code",
      "source": [
        "(unique, counts) = np.unique(y_train, return_counts=True)\n",
        "np.asarray((unique, counts)).T"
      ],
      "metadata": {
        "id": "FX77tlMuBONg",
        "outputId": "03aa4eac-04b5-42d1-f50b-4d390e079b66",
        "execution": {
          "iopub.status.busy": "2023-06-02T02:03:31.311127Z",
          "iopub.execute_input": "2023-06-02T02:03:31.311626Z",
          "iopub.status.idle": "2023-06-02T02:03:31.320095Z",
          "shell.execute_reply.started": "2023-06-02T02:03:31.311585Z",
          "shell.execute_reply": "2023-06-02T02:03:31.319040Z"
        },
        "trusted": true,
        "colab": {
          "base_uri": "https://localhost:8080/"
        }
      },
      "execution_count": 65,
      "outputs": [
        {
          "output_type": "execute_result",
          "data": {
            "text/plain": [
              "array([[   0, 1830],\n",
              "       [   1, 1654]])"
            ]
          },
          "metadata": {},
          "execution_count": 65
        }
      ]
    },
    {
      "cell_type": "markdown",
      "source": [
        "And then apply random oversampling on the training set."
      ],
      "metadata": {
        "id": "8VmAVlX6sE2q"
      }
    },
    {
      "cell_type": "code",
      "source": [
        "ros = RandomOverSampler()\n",
        "X_train_os, y_train_os = ros.fit_resample(np.array(X_train),np.array(y_train));"
      ],
      "metadata": {
        "id": "sFRMuSdrBONh",
        "execution": {
          "iopub.status.busy": "2023-06-02T02:03:31.321809Z",
          "iopub.execute_input": "2023-06-02T02:03:31.322117Z",
          "iopub.status.idle": "2023-06-02T02:03:31.344222Z",
          "shell.execute_reply.started": "2023-06-02T02:03:31.322076Z",
          "shell.execute_reply": "2023-06-02T02:03:31.343454Z"
        },
        "trusted": true
      },
      "execution_count": 66,
      "outputs": []
    },
    {
      "cell_type": "code",
      "source": [
        "(unique, counts) = np.unique(y_train_os, return_counts=True)\n",
        "np.asarray((unique, counts)).T"
      ],
      "metadata": {
        "id": "OQl1UY2BUt-m",
        "outputId": "262ea878-356f-4b79-eca2-95f737d1a642",
        "execution": {
          "iopub.status.busy": "2023-06-02T02:03:31.345550Z",
          "iopub.execute_input": "2023-06-02T02:03:31.345848Z",
          "iopub.status.idle": "2023-06-02T02:03:31.353139Z",
          "shell.execute_reply.started": "2023-06-02T02:03:31.345809Z",
          "shell.execute_reply": "2023-06-02T02:03:31.352195Z"
        },
        "trusted": true,
        "colab": {
          "base_uri": "https://localhost:8080/"
        }
      },
      "execution_count": 67,
      "outputs": [
        {
          "output_type": "execute_result",
          "data": {
            "text/plain": [
              "array([[   0, 1830],\n",
              "       [   1, 1830]])"
            ]
          },
          "metadata": {},
          "execution_count": 67
        }
      ]
    },
    {
      "cell_type": "markdown",
      "source": [
        "## PyTorch datasets and dataloaders"
      ],
      "metadata": {
        "id": "SsBlw0IdsE2t"
      }
    },
    {
      "cell_type": "markdown",
      "source": [
        "The three sets will be transformed to tensor datasets and dataloaders so we can extract the data in batches for the LSTM training, validation and testing."
      ],
      "metadata": {
        "id": "12EEq2nTsE2w"
      }
    },
    {
      "cell_type": "code",
      "source": [
        "train_data = TensorDataset(torch.from_numpy(X_train_os), torch.from_numpy(y_train_os))\n",
        "test_data = TensorDataset(torch.from_numpy(X_test), torch.from_numpy(y_test))\n",
        "valid_data = TensorDataset(torch.from_numpy(X_valid), torch.from_numpy(y_valid))"
      ],
      "metadata": {
        "id": "O-e9FHZp5Qsc",
        "execution": {
          "iopub.status.busy": "2023-06-02T02:03:31.354580Z",
          "iopub.execute_input": "2023-06-02T02:03:31.354996Z",
          "iopub.status.idle": "2023-06-02T02:03:31.362974Z",
          "shell.execute_reply.started": "2023-06-02T02:03:31.354959Z",
          "shell.execute_reply": "2023-06-02T02:03:31.362158Z"
        },
        "trusted": true
      },
      "execution_count": 68,
      "outputs": []
    },
    {
      "cell_type": "code",
      "source": [
        "BATCH_SIZE = 32"
      ],
      "metadata": {
        "id": "RfzfdlUFX8al",
        "execution": {
          "iopub.status.busy": "2023-06-02T02:03:31.364358Z",
          "iopub.execute_input": "2023-06-02T02:03:31.364634Z",
          "iopub.status.idle": "2023-06-02T02:03:31.370533Z",
          "shell.execute_reply.started": "2023-06-02T02:03:31.364597Z",
          "shell.execute_reply": "2023-06-02T02:03:31.369765Z"
        },
        "trusted": true
      },
      "execution_count": 69,
      "outputs": []
    },
    {
      "cell_type": "code",
      "source": [
        "train_loader = DataLoader(train_data, shuffle=True, batch_size=BATCH_SIZE, drop_last=True)\n",
        "valid_loader = DataLoader(valid_data, shuffle=False, batch_size=BATCH_SIZE, drop_last=True)\n",
        "test_loader = DataLoader(test_data, shuffle=False, batch_size=BATCH_SIZE, drop_last=True)"
      ],
      "metadata": {
        "id": "S2TGQjB4X7UQ",
        "execution": {
          "iopub.status.busy": "2023-06-02T02:03:31.372030Z",
          "iopub.execute_input": "2023-06-02T02:03:31.372341Z",
          "iopub.status.idle": "2023-06-02T02:03:31.380031Z",
          "shell.execute_reply.started": "2023-06-02T02:03:31.372261Z",
          "shell.execute_reply": "2023-06-02T02:03:31.379264Z"
        },
        "trusted": true
      },
      "execution_count": 70,
      "outputs": []
    },
    {
      "cell_type": "markdown",
      "source": [
        "# PyTorch LSTM modeling with Attention Layer"
      ],
      "metadata": {
        "id": "78NXYaJnsE20"
      }
    },
    {
      "cell_type": "markdown",
      "source": [
        "In this chapter we implement two Python classes: Attention and LSTM_Sentiment_Classifier.\n",
        "\n",
        "The Attention class defines our attention mechanism. This technique is commonly used in Natural Language Processing tasks to allow our model to focus on specific parts of the input sequence when generating output. It learns to assign weights to different parts of the input data, indicating their relevance. This class initializes an attention layer which takes into account whether our LSTM network is bidirectional or not.\n",
        "\n",
        "In the Attention class forward method, we first calculate the attention weights. These weights are computed by applying a tanh activation function to the concatenated hidden states and encoder outputs. A softmax is then applied to the attention weights, ensuring they sum to 1 and hence can be interpreted as probabilities.\n",
        "\n",
        "Next, we define our LSTM_Sentiment_Classifier class, which uses the Attention mechanism to make predictions. This class includes an LSTM network which takes embedded word representations as input and outputs hidden states. It also includes an attention layer, which uses these hidden states to compute attention weights and apply them to the encoder outputs to get a context vector. This context vector is passed through a fully connected layer followed by a log-softmax function to produce the final output probabilities.\n",
        "\n",
        "In the forward method of LSTM_Sentiment_Classifier, we pass our inputs through an embedding layer, followed by the LSTM network. We then calculate the attention weights and form a context vector. This context vector serves as a summary of the entire input sequence, weighted by the attention mechanism's output. We pass this context vector through a fully connected layer and a log-softmax function to make our final prediction.\n",
        "\n",
        "Lastly, we define a method init_hidden to initialize the hidden state of our LSTM network. Depending on whether our LSTM network is bidirectional or not, we may need to double the size of our hidden state.\n",
        "\n",
        "This LSTM model with attention allows us to better handle the complexities of language understanding by giving more importance to the relevant parts of our text data. This enhances the model's ability to understand context and thereby, improves the performance of our Sentiment Analysis task."
      ],
      "metadata": {
        "id": "91UHwq2FsE21"
      }
    },
    {
      "cell_type": "code",
      "source": [
        "class Attention(nn.Module):\n",
        "    def __init__(self, hidden_dim, is_bidirectional):\n",
        "        super(Attention, self).__init__()\n",
        "        self.is_bidirectional = is_bidirectional\n",
        "        # The attention linear layer which transforms the input data to the hidden space\n",
        "        self.attn = nn.Linear(hidden_dim * (4 if is_bidirectional else 2), hidden_dim * (2 if is_bidirectional else 1))\n",
        "        # The linear layer that calculates the attention scores\n",
        "        self.v = nn.Linear(hidden_dim * (2 if is_bidirectional else 1), 1, bias=False)\n",
        "\n",
        "    def forward(self, hidden, encoder_outputs):\n",
        "        seq_len = encoder_outputs.size(1)\n",
        "        # Concatenate the last two hidden states in case of a bidirectional LSTM\n",
        "        if self.is_bidirectional:\n",
        "            hidden = torch.cat((hidden[-2], hidden[-1]), dim=-1)\n",
        "        else:\n",
        "            hidden = hidden[-1]\n",
        "        # Repeat the hidden state across the sequence length\n",
        "        hidden_repeated = hidden.unsqueeze(1).repeat(1, seq_len, 1)\n",
        "        # Calculate attention weights\n",
        "        attn_weights = torch.tanh(self.attn(torch.cat((hidden_repeated, encoder_outputs), dim=2)))\n",
        "        # Compute attention scores\n",
        "        attn_weights = self.v(attn_weights).squeeze(2)\n",
        "        # Apply softmax to get valid probabilities\n",
        "        return nn.functional.softmax(attn_weights, dim=1)\n",
        "\n",
        "\n",
        "class LSTM_Sentiment_Classifier(nn.Module):\n",
        "    def __init__(self, vocab_size, embedding_dim, hidden_dim, num_classes, lstm_layers, dropout, is_bidirectional):\n",
        "        super(LSTM_Sentiment_Classifier, self).__init__()\n",
        "        self.hidden_dim = hidden_dim\n",
        "        self.num_layers = lstm_layers\n",
        "        self.is_bidirectional = is_bidirectional\n",
        "\n",
        "        # The Embedding layer that converts input words to embeddings\n",
        "        self.embedding = nn.Embedding(vocab_size, embedding_dim)\n",
        "        # LSTM layer which processes the embeddings\n",
        "        self.lstm = nn.LSTM(embedding_dim, hidden_dim, lstm_layers, batch_first=True, bidirectional=is_bidirectional)\n",
        "        # Attention layer to compute the context vector\n",
        "        self.attention = Attention(hidden_dim, is_bidirectional)\n",
        "        # Fully connected layer which classifies the context vector into classes\n",
        "        self.fc = nn.Linear(hidden_dim * (2 if is_bidirectional else 1), num_classes)\n",
        "        # Apply LogSoftmax to outputs for numerical stability\n",
        "        self.softmax = nn.LogSoftmax(dim=1)\n",
        "        # Dropout layer for regularisation\n",
        "        self.dropout = nn.Dropout(dropout)\n",
        "\n",
        "    def forward(self, x, hidden):\n",
        "        # Transform words to embeddings\n",
        "        embedded = self.embedding(x)\n",
        "        # Pass embeddings to LSTM\n",
        "        out, hidden = self.lstm(embedded, hidden)\n",
        "        # Calculate attention weights\n",
        "        attn_weights = self.attention(hidden[0], out)\n",
        "        # Calculate context vector by taking the weighted sum of LSTM outputs\n",
        "        context = attn_weights.unsqueeze(1).bmm(out).squeeze(1)\n",
        "        # Classify the context vector\n",
        "        out = self.softmax(self.fc(context))\n",
        "        return out, hidden\n",
        "\n",
        "    def init_hidden(self, batch_size):\n",
        "        # Factor determines the size of hidden states depending on bidirectionality\n",
        "        factor = 2 if self.is_bidirectional else 1\n",
        "        # Initial hidden and cell states are zero\n",
        "        h0 = torch.zeros(self.num_layers * factor, batch_size, self.hidden_dim).to(DEVICE)\n",
        "        c0 = torch.zeros(self.num_layers * factor, batch_size, self.hidden_dim).to(DEVICE)\n",
        "        #hidden"
      ],
      "metadata": {
        "execution": {
          "iopub.status.busy": "2023-06-02T02:03:31.381479Z",
          "iopub.execute_input": "2023-06-02T02:03:31.382065Z",
          "iopub.status.idle": "2023-06-02T02:03:31.400363Z",
          "shell.execute_reply.started": "2023-06-02T02:03:31.382026Z",
          "shell.execute_reply": "2023-06-02T02:03:31.399719Z"
        },
        "trusted": true,
        "id": "FnBae5HjsE23"
      },
      "execution_count": 71,
      "outputs": []
    },
    {
      "cell_type": "code",
      "source": [
        "NUM_CLASSES = 2 #We are dealing with a multiclass classification of 5 classes\n",
        "HIDDEN_DIM = 100 #number of neurons of the internal state (internal neural network in the LSTM)\n",
        "LSTM_LAYERS = 1 #Number of stacked LSTM layers\n",
        "\n",
        "IS_BIDIRECTIONAL = False # Set this to False for unidirectional LSTM, and True for bidirectional LSTM\n",
        "\n",
        "LR = 4e-4 #Learning rate\n",
        "DROPOUT = 0.5 #LSTM Dropout\n",
        "EPOCHS = 10 #Number of training epoch\n",
        "\n",
        "DEVICE = 'cuda' if torch.cuda.is_available() else 'cpu'\n",
        "\n",
        "model = LSTM_Sentiment_Classifier(VOCAB_SIZE, EMBEDDING_DIM, HIDDEN_DIM, NUM_CLASSES, LSTM_LAYERS, DROPOUT, IS_BIDIRECTIONAL)\n",
        "\n",
        "model = model.to(DEVICE)\n",
        "\n",
        "# Initialize the embedding layer with the previously defined embedding matrix\n",
        "model.embedding.weight.data.copy_(torch.from_numpy(embedding_matrix))\n",
        "# Allow the embedding matrix to be fine-tuned to better adapt to our dataset and get higher accuracy\n",
        "model.embedding.weight.requires_grad = True\n",
        "\n",
        "# Set up the criterion (loss function)\n",
        "criterion = nn.NLLLoss()\n",
        "optimizer = torch.optim.AdamW(model.parameters(), lr=LR, weight_decay = 5e-6)\n",
        "\n",
        "print(model)"
      ],
      "metadata": {
        "execution": {
          "iopub.status.busy": "2023-06-02T02:03:31.401924Z",
          "iopub.execute_input": "2023-06-02T02:03:31.402462Z",
          "iopub.status.idle": "2023-06-02T02:03:34.082516Z",
          "shell.execute_reply.started": "2023-06-02T02:03:31.402423Z",
          "shell.execute_reply": "2023-06-02T02:03:34.081710Z"
        },
        "trusted": true,
        "colab": {
          "base_uri": "https://localhost:8080/"
        },
        "id": "M2bFp69KsE26",
        "outputId": "c791171e-eb2b-4e3d-d303-bc41531f3419"
      },
      "execution_count": 72,
      "outputs": [
        {
          "output_type": "stream",
          "name": "stdout",
          "text": [
            "LSTM_Sentiment_Classifier(\n",
            "  (embedding): Embedding(38850, 200)\n",
            "  (lstm): LSTM(200, 100, batch_first=True)\n",
            "  (attention): Attention(\n",
            "    (attn): Linear(in_features=200, out_features=100, bias=True)\n",
            "    (v): Linear(in_features=100, out_features=1, bias=False)\n",
            "  )\n",
            "  (fc): Linear(in_features=100, out_features=2, bias=True)\n",
            "  (softmax): LogSoftmax(dim=1)\n",
            "  (dropout): Dropout(p=0.5, inplace=False)\n",
            ")\n"
          ]
        }
      ]
    },
    {
      "cell_type": "markdown",
      "source": [
        "# LSTM Training loop"
      ],
      "metadata": {
        "id": "TscNZXpzsE27"
      }
    },
    {
      "cell_type": "markdown",
      "source": [
        "Now we will define a custom training loop, where we include an early stopping functionality, and save only the best models in terms of validation accuracy."
      ],
      "metadata": {
        "id": "FvVNTiOXsE28"
      }
    },
    {
      "cell_type": "code",
      "source": [
        "total_step = len(train_loader)\n",
        "total_step_val = len(valid_loader)\n",
        "\n",
        "early_stopping_patience = 4\n",
        "early_stopping_counter = 0\n",
        "\n",
        "valid_acc_max = 0 # Initialize best accuracy top 0\n",
        "\n",
        "for e in range(EPOCHS):\n",
        "\n",
        "    #lists to host the train and validation losses of every batch for each epoch\n",
        "    train_loss, valid_loss  = [], []\n",
        "    #lists to host the train and validation accuracy of every batch for each epoch\n",
        "    train_acc, valid_acc  = [], []\n",
        "\n",
        "    #lists to host the train and validation predictions of every batch for each epoch\n",
        "    y_train_list, y_val_list = [], []\n",
        "\n",
        "    #initalize number of total and correctly classified texts during training and validation\n",
        "    correct, correct_val = 0, 0\n",
        "    total, total_val = 0, 0\n",
        "    running_loss, running_loss_val = 0, 0\n",
        "\n",
        "\n",
        "    ####TRAINING LOOP####\n",
        "\n",
        "    model.train()\n",
        "\n",
        "    for inputs, labels in train_loader:\n",
        "        inputs, labels = inputs.to(DEVICE), labels.to(DEVICE) #load features and targets in device\n",
        "\n",
        "        h = model.init_hidden(labels.size(0))\n",
        "\n",
        "        model.zero_grad() #reset gradients\n",
        "\n",
        "        output, h = model(inputs,h) #get output and hidden states from LSTM network\n",
        "\n",
        "        loss = criterion(output, labels)\n",
        "        loss.backward()\n",
        "\n",
        "        running_loss += loss.item()\n",
        "\n",
        "        optimizer.step()\n",
        "\n",
        "        y_pred_train = torch.argmax(output, dim=1) #get tensor of predicted values on the training set\n",
        "        y_train_list.extend(y_pred_train.squeeze().tolist()) #transform tensor to list and the values to the list\n",
        "\n",
        "        correct += torch.sum(y_pred_train==labels).item() #count correctly classified texts per batch\n",
        "        total += labels.size(0) #count total texts per batch\n",
        "\n",
        "    train_loss.append(running_loss / total_step)\n",
        "    train_acc.append(100 * correct / total)\n",
        "\n",
        "    ####VALIDATION LOOP####\n",
        "\n",
        "    with torch.no_grad():\n",
        "\n",
        "        model.eval()\n",
        "\n",
        "        for inputs, labels in valid_loader:\n",
        "            inputs, labels = inputs.to(DEVICE), labels.to(DEVICE)\n",
        "\n",
        "            val_h = model.init_hidden(labels.size(0))\n",
        "\n",
        "            output, val_h = model(inputs, val_h)\n",
        "\n",
        "            val_loss = criterion(output, labels)\n",
        "            running_loss_val += val_loss.item()\n",
        "\n",
        "            y_pred_val = torch.argmax(output, dim=1)\n",
        "            y_val_list.extend(y_pred_val.squeeze().tolist())\n",
        "\n",
        "            correct_val += torch.sum(y_pred_val==labels).item()\n",
        "            total_val += labels.size(0)\n",
        "\n",
        "        valid_loss.append(running_loss_val / total_step_val)\n",
        "        valid_acc.append(100 * correct_val / total_val)\n",
        "\n",
        "    #Save model if validation accuracy increases\n",
        "    if np.mean(valid_acc) >= valid_acc_max:\n",
        "        torch.save(model.state_dict(), './state_dict.pt')\n",
        "        print(f'Epoch {e+1}:Validation accuracy increased ({valid_acc_max:.6f} --> {np.mean(valid_acc):.6f}).  Saving model ...')\n",
        "        valid_acc_max = np.mean(valid_acc)\n",
        "        early_stopping_counter=0 #reset counter if validation accuracy increases\n",
        "    else:\n",
        "        print(f'Epoch {e+1}:Validation accuracy did not increase')\n",
        "        early_stopping_counter+=1 #increase counter if validation accuracy does not increase\n",
        "\n",
        "    if early_stopping_counter > early_stopping_patience:\n",
        "        print('Early stopped at epoch :', e+1)\n",
        "        break\n",
        "\n",
        "    print(f'\\tTrain_loss : {np.mean(train_loss):.4f} Val_loss : {np.mean(valid_loss):.4f}')\n",
        "    print(f'\\tTrain_acc : {np.mean(train_acc):.3f}% Val_acc : {np.mean(valid_acc):.3f}%')"
      ],
      "metadata": {
        "id": "5rK3YPVT5Qsd",
        "execution": {
          "iopub.status.busy": "2023-06-02T02:03:34.084043Z",
          "iopub.execute_input": "2023-06-02T02:03:34.084493Z",
          "iopub.status.idle": "2023-06-02T02:04:08.723187Z",
          "shell.execute_reply.started": "2023-06-02T02:03:34.084452Z",
          "shell.execute_reply": "2023-06-02T02:04:08.722377Z"
        },
        "trusted": true,
        "colab": {
          "base_uri": "https://localhost:8080/"
        },
        "outputId": "2d7e3088-e25c-4331-c82c-29459a8130cb"
      },
      "execution_count": 73,
      "outputs": [
        {
          "output_type": "stream",
          "name": "stdout",
          "text": [
            "Epoch 1:Validation accuracy increased (0.000000 --> 82.407407).  Saving model ...\n",
            "\tTrain_loss : 0.5406 Val_loss : 0.4117\n",
            "\tTrain_acc : 72.012% Val_acc : 82.407%\n",
            "Epoch 2:Validation accuracy increased (82.407407 --> 86.921296).  Saving model ...\n",
            "\tTrain_loss : 0.3962 Val_loss : 0.3274\n",
            "\tTrain_acc : 82.922% Val_acc : 86.921%\n",
            "Epoch 3:Validation accuracy increased (86.921296 --> 88.657407).  Saving model ...\n",
            "\tTrain_loss : 0.3662 Val_loss : 0.3029\n",
            "\tTrain_acc : 86.184% Val_acc : 88.657%\n",
            "Epoch 4:Validation accuracy increased (88.657407 --> 89.236111).  Saving model ...\n",
            "\tTrain_loss : 0.3064 Val_loss : 0.2794\n",
            "\tTrain_acc : 88.048% Val_acc : 89.236%\n",
            "Epoch 5:Validation accuracy did not increase\n",
            "\tTrain_loss : 0.2361 Val_loss : 0.2899\n",
            "\tTrain_acc : 91.118% Val_acc : 88.426%\n",
            "Epoch 6:Validation accuracy did not increase\n",
            "\tTrain_loss : 0.1960 Val_loss : 0.4707\n",
            "\tTrain_acc : 93.147% Val_acc : 80.556%\n",
            "Epoch 7:Validation accuracy did not increase\n",
            "\tTrain_loss : 0.1763 Val_loss : 0.2877\n",
            "\tTrain_acc : 93.832% Val_acc : 88.773%\n",
            "Epoch 8:Validation accuracy increased (89.236111 --> 89.583333).  Saving model ...\n",
            "\tTrain_loss : 0.1003 Val_loss : 0.3208\n",
            "\tTrain_acc : 96.820% Val_acc : 89.583%\n",
            "Epoch 9:Validation accuracy did not increase\n",
            "\tTrain_loss : 0.0840 Val_loss : 0.5743\n",
            "\tTrain_acc : 97.451% Val_acc : 86.574%\n",
            "Epoch 10:Validation accuracy did not increase\n",
            "\tTrain_loss : 0.0715 Val_loss : 0.3561\n",
            "\tTrain_acc : 97.862% Val_acc : 89.468%\n"
          ]
        }
      ]
    },
    {
      "cell_type": "code",
      "source": [
        "# Loading the best model\n",
        "model.load_state_dict(torch.load('./state_dict.pt'))"
      ],
      "metadata": {
        "id": "wfTLdAi45Qsd",
        "execution": {
          "iopub.status.busy": "2023-06-02T02:04:08.724569Z",
          "iopub.execute_input": "2023-06-02T02:04:08.724848Z",
          "iopub.status.idle": "2023-06-02T02:04:08.756488Z",
          "shell.execute_reply.started": "2023-06-02T02:04:08.724816Z",
          "shell.execute_reply": "2023-06-02T02:04:08.755527Z"
        },
        "trusted": true,
        "colab": {
          "base_uri": "https://localhost:8080/"
        },
        "outputId": "b1eb7f35-3bfb-4263-dd8a-bc6092cf9c1a"
      },
      "execution_count": 74,
      "outputs": [
        {
          "output_type": "execute_result",
          "data": {
            "text/plain": [
              "<All keys matched successfully>"
            ]
          },
          "metadata": {},
          "execution_count": 74
        }
      ]
    },
    {
      "cell_type": "markdown",
      "source": [
        "# LSTM Testing"
      ],
      "metadata": {
        "id": "NjfqPLQlsE3E"
      }
    },
    {
      "cell_type": "code",
      "source": [
        "def evaluate_model(model, test_loader):\n",
        "    model.eval()\n",
        "    y_pred_list = []\n",
        "    y_test_list = []\n",
        "\n",
        "    with torch.no_grad():\n",
        "        for inputs, labels in test_loader:\n",
        "            inputs, labels = inputs.to(DEVICE), labels.to(DEVICE)\n",
        "            test_h = model.init_hidden(labels.size(0))\n",
        "\n",
        "            output, val_h = model(inputs, test_h)\n",
        "            y_pred_test = torch.argmax(output, dim=1)\n",
        "            y_pred_list.extend(y_pred_test.squeeze().tolist())\n",
        "            y_test_list.extend(labels.squeeze().tolist())\n",
        "\n",
        "    return y_pred_list, y_test_list\n",
        "\n",
        "y_pred_list, y_test_list = evaluate_model(model, test_loader)"
      ],
      "metadata": {
        "id": "3ERsOjzW41tF",
        "execution": {
          "iopub.status.busy": "2023-06-02T02:04:08.758109Z",
          "iopub.execute_input": "2023-06-02T02:04:08.758414Z",
          "iopub.status.idle": "2023-06-02T02:04:09.053117Z",
          "shell.execute_reply.started": "2023-06-02T02:04:08.758375Z",
          "shell.execute_reply": "2023-06-02T02:04:09.052297Z"
        },
        "trusted": true
      },
      "execution_count": 75,
      "outputs": []
    },
    {
      "cell_type": "code",
      "source": [
        "print('Classification Report for Bi-LSTM :\\n', classification_report(y_test_list, y_pred_list, target_names=label))"
      ],
      "metadata": {
        "id": "tu6ex4zC5Qse",
        "_kg_hide-input": true,
        "execution": {
          "iopub.status.busy": "2023-06-02T02:04:09.054605Z",
          "iopub.execute_input": "2023-06-02T02:04:09.054901Z",
          "iopub.status.idle": "2023-06-02T02:04:09.081449Z",
          "shell.execute_reply.started": "2023-06-02T02:04:09.054859Z",
          "shell.execute_reply": "2023-06-02T02:04:09.080599Z"
        },
        "trusted": true,
        "colab": {
          "base_uri": "https://localhost:8080/"
        },
        "outputId": "07792560-7d4e-4e9c-9099-9c30fad33345"
      },
      "execution_count": 76,
      "outputs": [
        {
          "output_type": "stream",
          "name": "stdout",
          "text": [
            "Classification Report for Bi-LSTM :\n",
            "               precision    recall  f1-score   support\n",
            "\n",
            "    explicit       0.86      0.91      0.89       572\n",
            "    inplicit       0.89      0.84      0.87       516\n",
            "\n",
            "    accuracy                           0.88      1088\n",
            "   macro avg       0.88      0.88      0.88      1088\n",
            "weighted avg       0.88      0.88      0.88      1088\n",
            "\n"
          ]
        }
      ]
    },
    {
      "cell_type": "code",
      "source": [
        "conf_matrix(y_test_list,y_pred_list,'PyTorch Bi-LSTM Sentiment Analysis\\nConfusion Matrix', label)"
      ],
      "metadata": {
        "id": "vmE9K77s1qv_",
        "_kg_hide-input": true,
        "execution": {
          "iopub.status.busy": "2023-06-02T02:04:09.082977Z",
          "iopub.execute_input": "2023-06-02T02:04:09.083251Z",
          "iopub.status.idle": "2023-06-02T02:04:09.436261Z",
          "shell.execute_reply.started": "2023-06-02T02:04:09.083214Z",
          "shell.execute_reply": "2023-06-02T02:04:09.435568Z"
        },
        "trusted": true,
        "colab": {
          "base_uri": "https://localhost:8080/",
          "height": 757
        },
        "outputId": "8197b78b-671f-4692-aa05-1d9e2786a262"
      },
      "execution_count": 77,
      "outputs": [
        {
          "output_type": "display_data",
          "data": {
            "text/plain": [
              "<Figure size 750x750 with 1 Axes>"
            ],
            "image/png": "[encoded data removed]"
          },
          "metadata": {}
        }
      ]
    },
    {
      "cell_type": "markdown",
      "source": [
        "**The performance scores of the algorithm are very high, with an overall accuracy of 93%.**<br>\n",
        "**In particular, the F1 scores for the more populated classes are over 95%**"
      ],
      "metadata": {
        "id": "eWIeQXutsE3I"
      }
    },
    {
      "cell_type": "markdown",
      "source": [
        "# BERT Classification"
      ],
      "metadata": {
        "id": "mKYuGnmhsE3I"
      }
    },
    {
      "cell_type": "markdown",
      "source": [
        "In this section, we will load a pre trained BERT model from the Hugging Face library and fine tune it for our classification task."
      ],
      "metadata": {
        "id": "pgsbJrrosE3J"
      }
    },
    {
      "cell_type": "markdown",
      "source": [
        "First, we need to split the dataset into train - validation - test again since we need to tokenize the sentences differently from before (Naive Bayes and LSTM)."
      ],
      "metadata": {
        "id": "lXjggDBFsE3J"
      }
    },
    {
      "cell_type": "markdown",
      "source": [
        "## Train - Validation - Test split"
      ],
      "metadata": {
        "id": "zajKgAo7sE3K"
      }
    },
    {
      "cell_type": "code",
      "source": [
        "X = df['lyric_clean'].values\n",
        "y = df['label'].values"
      ],
      "metadata": {
        "execution": {
          "iopub.status.busy": "2023-06-02T02:04:09.437588Z",
          "iopub.execute_input": "2023-06-02T02:04:09.438232Z",
          "iopub.status.idle": "2023-06-02T02:04:09.442761Z",
          "shell.execute_reply.started": "2023-06-02T02:04:09.438188Z",
          "shell.execute_reply": "2023-06-02T02:04:09.441866Z"
        },
        "trusted": true,
        "id": "Nr_eV7e5sE3K"
      },
      "execution_count": 78,
      "outputs": []
    },
    {
      "cell_type": "code",
      "source": [
        "X_train, X_test, y_train, y_test = train_test_split(X, y, test_size=0.2, stratify=y, random_state=seed_value)"
      ],
      "metadata": {
        "execution": {
          "iopub.status.busy": "2023-06-02T02:04:09.444438Z",
          "iopub.execute_input": "2023-06-02T02:04:09.444736Z",
          "iopub.status.idle": "2023-06-02T02:04:09.475888Z",
          "shell.execute_reply.started": "2023-06-02T02:04:09.444697Z",
          "shell.execute_reply": "2023-06-02T02:04:09.475228Z"
        },
        "trusted": true,
        "id": "LhTObpDIsE3M"
      },
      "execution_count": 79,
      "outputs": []
    },
    {
      "cell_type": "code",
      "source": [
        "X_train, X_valid, y_train, y_valid = train_test_split(X_train, y_train, test_size=0.2, stratify=y_train, random_state=seed_value)"
      ],
      "metadata": {
        "execution": {
          "iopub.status.busy": "2023-06-02T02:04:09.476916Z",
          "iopub.execute_input": "2023-06-02T02:04:09.477154Z",
          "iopub.status.idle": "2023-06-02T02:04:09.504359Z",
          "shell.execute_reply.started": "2023-06-02T02:04:09.477117Z",
          "shell.execute_reply": "2023-06-02T02:04:09.503570Z"
        },
        "trusted": true,
        "id": "KK22MuKKsE3N"
      },
      "execution_count": 80,
      "outputs": []
    },
    {
      "cell_type": "markdown",
      "source": [
        "As seen before, we oversample the text to the majority class."
      ],
      "metadata": {
        "id": "wUdWvrwysE3O"
      }
    },
    {
      "cell_type": "code",
      "source": [
        "ros = RandomOverSampler()\n",
        "X_train_os, y_train_os = ros.fit_resample(np.array(X_train).reshape(-1,1),np.array(y_train).reshape(-1,1))"
      ],
      "metadata": {
        "execution": {
          "iopub.status.busy": "2023-06-02T02:04:09.505518Z",
          "iopub.execute_input": "2023-06-02T02:04:09.505965Z",
          "iopub.status.idle": "2023-06-02T02:04:09.522121Z",
          "shell.execute_reply.started": "2023-06-02T02:04:09.505926Z",
          "shell.execute_reply": "2023-06-02T02:04:09.521446Z"
        },
        "trusted": true,
        "id": "ybSYb15_sE3P"
      },
      "execution_count": 81,
      "outputs": []
    },
    {
      "cell_type": "code",
      "source": [
        "X_train_os = X_train_os.flatten()\n",
        "y_train_os = y_train_os.flatten()"
      ],
      "metadata": {
        "execution": {
          "iopub.status.busy": "2023-06-02T02:04:09.523151Z",
          "iopub.execute_input": "2023-06-02T02:04:09.523414Z",
          "iopub.status.idle": "2023-06-02T02:04:09.527605Z",
          "shell.execute_reply.started": "2023-06-02T02:04:09.523376Z",
          "shell.execute_reply": "2023-06-02T02:04:09.526921Z"
        },
        "trusted": true,
        "id": "hR82W03JsE3R"
      },
      "execution_count": 82,
      "outputs": []
    },
    {
      "cell_type": "code",
      "source": [
        "(unique, counts) = np.unique(y_train_os, return_counts=True)\n",
        "np.asarray((unique, counts)).T"
      ],
      "metadata": {
        "execution": {
          "iopub.status.busy": "2023-06-02T02:04:09.528781Z",
          "iopub.execute_input": "2023-06-02T02:04:09.529647Z",
          "iopub.status.idle": "2023-06-02T02:04:09.540434Z",
          "shell.execute_reply.started": "2023-06-02T02:04:09.529606Z",
          "shell.execute_reply": "2023-06-02T02:04:09.539499Z"
        },
        "trusted": true,
        "colab": {
          "base_uri": "https://localhost:8080/"
        },
        "id": "V39joOv8sE3T",
        "outputId": "5f28aeab-de97-4360-e673-388468ff0ff7"
      },
      "execution_count": 83,
      "outputs": [
        {
          "output_type": "execute_result",
          "data": {
            "text/plain": [
              "array([[   0, 1830],\n",
              "       [   1, 1830]])"
            ]
          },
          "metadata": {},
          "execution_count": 83
        }
      ]
    },
    {
      "cell_type": "markdown",
      "source": [
        "# BERT Tokenization"
      ],
      "metadata": {
        "id": "66NbiphTsE3U"
      }
    },
    {
      "cell_type": "markdown",
      "source": [
        "Since we need to tokenize the lyrics (get \"input ids\" and \"attention masks\") for BERT, we load the specific BERT tokenizer from the Hugging Face library."
      ],
      "metadata": {
        "id": "IEp0BYpzsE3W"
      }
    },
    {
      "cell_type": "code",
      "source": [
        "tokenizer = BertTokenizer.from_pretrained('bert-base-uncased', do_lower_case=True)"
      ],
      "metadata": {
        "execution": {
          "iopub.status.busy": "2023-06-02T02:04:09.541864Z",
          "iopub.execute_input": "2023-06-02T02:04:09.542271Z",
          "iopub.status.idle": "2023-06-02T02:04:11.285025Z",
          "shell.execute_reply.started": "2023-06-02T02:04:09.542234Z",
          "shell.execute_reply": "2023-06-02T02:04:11.284253Z"
        },
        "trusted": true,
        "id": "Nxp-_XDdsE3Y",
        "colab": {
          "base_uri": "https://localhost:8080/",
          "height": 113,
          "referenced_widgets": [
            "08939c381171420db3b391dfc18347c0",
            "2fe25df0daee48a2be7a06c380223b09",
            "92a6ba8761de4153ae97e0dbda300808",
            "4d9405b10d83427daffa31a0fd0327ef",
            "75369ef19ea2429b94647c20b7e4cff5",
            "285ce51c1dc64f30a829f3656bb9e524",
            "9595b925993b4a88a4681d9ef12ad0e1",
            "4578d64770b24a9b8fce5a898c14aab7",
            "eab52aeeacee4edaaa50e1799f00a230",
            "859be3e03ed84fa6818e8e58cc2c8b67",
            "86de8478313a4d7c8ee4143be31fbf6a",
            "31418e8d3d8844139ea8b75519feafeb",
            "da5f3ea359ba49ec99f699512679342d",
            "3e572c9ea1854cb59ace76221de5c5ad",
            "951f7c794e61456ba8241f1ad3f3ff3d",
            "b903e9d8de1349c4b2f893fb1493b44b",
            "3190e499d81e4e21aea58cc55b95a869",
            "679bfa90d4f84573b8d66a898b365bf4",
            "bbd5d7be3d08431a84267c178351c353",
            "cadd178ac3774d92abd7e21d69b2dbab",
            "e4320f0718634517b6967e3a428ba191",
            "5af32aa299fb4f73abbf0e3ea9e4885d",
            "dc235987d6ef4b02badda239d17558c1",
            "09c6e04daf6f404597709ce28ce32480",
            "17b573c164d44f199d05d92df103d226",
            "f4fabf9fcdb34e25919cbf8c23223a94",
            "31acd9ac16db425ea2c575aa6646713d",
            "176a7ae7320540da86a3e42606cf0152",
            "2c99618ad5cf4cc793d56e0efdab4a68",
            "ec76da5aca0c4463b00236332685a268",
            "fced05ff131042d3bfa77ee75b2143ae",
            "193022492ac649dc96acbf0d52968915",
            "f515bca24c1941c3aabef0eec458dae2"
          ]
        },
        "outputId": "8f293119-904a-4584-fccd-5a2de27fbb20"
      },
      "execution_count": 84,
      "outputs": [
        {
          "output_type": "display_data",
          "data": {
            "text/plain": [
              "Downloading (…)solve/main/vocab.txt:   0%|          | 0.00/232k [00:00<?, ?B/s]"
            ],
            "application/vnd.jupyter.widget-view+json": {
              "version_major": 2,
              "version_minor": 0,
              "model_id": "08939c381171420db3b391dfc18347c0"
            }
          },
          "metadata": {}
        },
        {
          "output_type": "display_data",
          "data": {
            "text/plain": [
              "Downloading (…)okenizer_config.json:   0%|          | 0.00/28.0 [00:00<?, ?B/s]"
            ],
            "application/vnd.jupyter.widget-view+json": {
              "version_major": 2,
              "version_minor": 0,
              "model_id": "31418e8d3d8844139ea8b75519feafeb"
            }
          },
          "metadata": {}
        },
        {
          "output_type": "display_data",
          "data": {
            "text/plain": [
              "Downloading (…)lve/main/config.json:   0%|          | 0.00/570 [00:00<?, ?B/s]"
            ],
            "application/vnd.jupyter.widget-view+json": {
              "version_major": 2,
              "version_minor": 0,
              "model_id": "dc235987d6ef4b02badda239d17558c1"
            }
          },
          "metadata": {}
        }
      ]
    },
    {
      "cell_type": "markdown",
      "source": [
        "Then we define a custom tokenizer function using the loaded tokenizer."
      ],
      "metadata": {
        "execution": {
          "iopub.status.busy": "2022-03-15T08:35:46.046010Z",
          "iopub.execute_input": "2022-03-15T08:35:46.046364Z",
          "iopub.status.idle": "2022-03-15T08:35:46.076692Z",
          "shell.execute_reply.started": "2022-03-15T08:35:46.046277Z",
          "shell.execute_reply": "2022-03-15T08:35:46.075417Z"
        },
        "id": "wLqhSwnasE3Z"
      }
    },
    {
      "cell_type": "code",
      "source": [
        "def bert_tokenizer(data):\n",
        "    input_ids = []\n",
        "    attention_masks = []\n",
        "    for sent in data:\n",
        "        encoded_sent = tokenizer.encode_plus(\n",
        "            text=sent,\n",
        "            add_special_tokens=True,        # Add `[CLS]` and `[SEP]` special tokens\n",
        "            max_length=MAX_LEN,             # Choose max length to truncate/pad\n",
        "            pad_to_max_length=True,         # Pad sentence to max length\n",
        "            return_attention_mask=True      # Return attention mask\n",
        "            )\n",
        "        input_ids.append(encoded_sent.get('input_ids'))\n",
        "        attention_masks.append(encoded_sent.get('attention_mask'))\n",
        "\n",
        "    # Convert lists to tensors\n",
        "    input_ids = torch.tensor(input_ids)\n",
        "    attention_masks = torch.tensor(attention_masks)\n",
        "\n",
        "    return input_ids, attention_masks"
      ],
      "metadata": {
        "execution": {
          "iopub.status.busy": "2023-06-02T02:04:11.286483Z",
          "iopub.execute_input": "2023-06-02T02:04:11.286770Z",
          "iopub.status.idle": "2023-06-02T02:04:11.294126Z",
          "shell.execute_reply.started": "2023-06-02T02:04:11.286730Z",
          "shell.execute_reply": "2023-06-02T02:04:11.293214Z"
        },
        "trusted": true,
        "id": "011I82NdsE3a"
      },
      "execution_count": 85,
      "outputs": []
    },
    {
      "cell_type": "markdown",
      "source": [
        "Since we need to specify the length of the longest tokenized sentence, we tokenize the train lyrics using the \"encode\" method of the original BERT tokenizer and check the longest sentence."
      ],
      "metadata": {
        "id": "wAdCboQtsE3c"
      }
    },
    {
      "cell_type": "code",
      "source": [
        "# Tokenize train lyrics\n",
        "encoded_lyrics = [tokenizer.encode(sent, add_special_tokens=True) for sent in X_train]\n",
        "\n",
        "# Find the longest tokenized lyric\n",
        "max_len = max([len(sent) for sent in encoded_lyrics])\n",
        "print('Max length: ', max_len)"
      ],
      "metadata": {
        "execution": {
          "iopub.status.busy": "2023-06-02T02:04:11.295883Z",
          "iopub.execute_input": "2023-06-02T02:04:11.296203Z",
          "iopub.status.idle": "2023-06-02T02:04:29.249206Z",
          "shell.execute_reply.started": "2023-06-02T02:04:11.296165Z",
          "shell.execute_reply": "2023-06-02T02:04:29.247551Z"
        },
        "trusted": true,
        "colab": {
          "base_uri": "https://localhost:8080/"
        },
        "id": "djMZXUqAsE3c",
        "outputId": "71303d99-0048-4b09-884d-b3dde26ef892"
      },
      "execution_count": 86,
      "outputs": [
        {
          "output_type": "stream",
          "name": "stderr",
          "text": [
            "Token indices sequence length is longer than the specified maximum sequence length for this model (519 > 512). Running this sequence through the model will result in indexing errors\n"
          ]
        },
        {
          "output_type": "stream",
          "name": "stdout",
          "text": [
            "Max length:  736\n"
          ]
        }
      ]
    },
    {
      "cell_type": "markdown",
      "source": [
        "We can choose the max length as 128."
      ],
      "metadata": {
        "id": "_HPvLtKYsE3d"
      }
    },
    {
      "cell_type": "code",
      "source": [
        "MAX_LEN = 128"
      ],
      "metadata": {
        "execution": {
          "iopub.status.busy": "2023-06-02T02:04:29.250706Z",
          "iopub.execute_input": "2023-06-02T02:04:29.251156Z",
          "iopub.status.idle": "2023-06-02T02:04:29.254856Z",
          "shell.execute_reply.started": "2023-06-02T02:04:29.251113Z",
          "shell.execute_reply": "2023-06-02T02:04:29.254078Z"
        },
        "trusted": true,
        "id": "7rszMs9ZsE3e"
      },
      "execution_count": 87,
      "outputs": []
    },
    {
      "cell_type": "markdown",
      "source": [
        "Then we can tokenize the train, validation and test lyrics using the custom define tokenizer."
      ],
      "metadata": {
        "id": "mJnptglgsE3e"
      }
    },
    {
      "cell_type": "code",
      "source": [
        "train_inputs, train_masks = bert_tokenizer(X_train_os)\n",
        "val_inputs, val_masks = bert_tokenizer(X_valid)\n",
        "test_inputs, test_masks = bert_tokenizer(X_test)"
      ],
      "metadata": {
        "_kg_hide-output": true,
        "execution": {
          "iopub.status.busy": "2023-06-02T02:04:29.256411Z",
          "iopub.execute_input": "2023-06-02T02:04:29.256909Z",
          "iopub.status.idle": "2023-06-02T02:05:01.094688Z",
          "shell.execute_reply.started": "2023-06-02T02:04:29.256869Z",
          "shell.execute_reply": "2023-06-02T02:05:01.093823Z"
        },
        "trusted": true,
        "colab": {
          "base_uri": "https://localhost:8080/"
        },
        "id": "NHiHH8c_sE3j",
        "outputId": "ffc0137e-837c-4959-d87c-85c8fc25a6ee"
      },
      "execution_count": 88,
      "outputs": [
        {
          "output_type": "stream",
          "name": "stderr",
          "text": [
            "Truncation was not explicitly activated but `max_length` is provided a specific value, please use `truncation=True` to explicitly truncate examples to max length. Defaulting to 'longest_first' truncation strategy. If you encode pairs of sequences (GLUE-style) with the tokenizer you can select this strategy more precisely by providing a specific strategy to `truncation`.\n",
            "/usr/local/lib/python3.10/dist-packages/transformers/tokenization_utils_base.py:2418: FutureWarning: The `pad_to_max_length` argument is deprecated and will be removed in a future version, use `padding=True` or `padding='longest'` to pad to the longest sequence in the batch, or use `padding='max_length'` to pad to a max length. In this case, you can give a specific length with `max_length` (e.g. `max_length=45`) or leave max_length to None to pad to the maximal input size of the model (e.g. 512 for Bert).\n",
            "  warnings.warn(\n"
          ]
        }
      ]
    },
    {
      "cell_type": "markdown",
      "source": [
        "## Data preprocessing for PyTorch BERT model"
      ],
      "metadata": {
        "id": "mP0VYPQgsE3k"
      }
    },
    {
      "cell_type": "markdown",
      "source": [
        "Since we are using the BERT model built on PyTorch, we need to convert the arrays to pytorch tensors and create dataloaders for the data."
      ],
      "metadata": {
        "id": "2fa14kTjsE3k"
      }
    },
    {
      "cell_type": "code",
      "source": [
        "# Convert target columns to pytorch tensors format\n",
        "train_labels = torch.from_numpy(y_train_os)\n",
        "val_labels = torch.from_numpy(y_valid)\n",
        "test_labels = torch.from_numpy(y_test)"
      ],
      "metadata": {
        "execution": {
          "iopub.status.busy": "2023-06-02T02:05:01.096172Z",
          "iopub.execute_input": "2023-06-02T02:05:01.096439Z",
          "iopub.status.idle": "2023-06-02T02:05:01.100535Z",
          "shell.execute_reply.started": "2023-06-02T02:05:01.096400Z",
          "shell.execute_reply": "2023-06-02T02:05:01.099735Z"
        },
        "trusted": true,
        "id": "yPcG0j4usE3l"
      },
      "execution_count": 89,
      "outputs": []
    },
    {
      "cell_type": "markdown",
      "source": [
        "## Dataloaders"
      ],
      "metadata": {
        "id": "dOTVOvFLsE3m"
      }
    },
    {
      "cell_type": "markdown",
      "source": [
        "To fine-tune the BERT model, the original authors recommend a batch size of 16 or 32."
      ],
      "metadata": {
        "id": "JGInAui2sE3m"
      }
    },
    {
      "cell_type": "code",
      "source": [
        "batch_size = 32"
      ],
      "metadata": {
        "execution": {
          "iopub.status.busy": "2023-06-02T02:05:01.102262Z",
          "iopub.execute_input": "2023-06-02T02:05:01.102537Z",
          "iopub.status.idle": "2023-06-02T02:05:01.114354Z",
          "shell.execute_reply.started": "2023-06-02T02:05:01.102491Z",
          "shell.execute_reply": "2023-06-02T02:05:01.113650Z"
        },
        "trusted": true,
        "id": "GvbBjEoPsE3n"
      },
      "execution_count": 90,
      "outputs": []
    },
    {
      "cell_type": "code",
      "source": [
        "# Create the DataLoader for our training set\n",
        "train_data = TensorDataset(train_inputs, train_masks, train_labels)\n",
        "train_sampler = RandomSampler(train_data)\n",
        "train_dataloader = DataLoader(train_data, sampler=train_sampler, batch_size=batch_size)\n",
        "\n",
        "# Create the DataLoader for our validation set\n",
        "val_data = TensorDataset(val_inputs, val_masks, val_labels)\n",
        "val_sampler = SequentialSampler(val_data)\n",
        "val_dataloader = DataLoader(val_data, sampler=val_sampler, batch_size=batch_size)\n",
        "\n",
        "# Create the DataLoader for our test set\n",
        "test_data = TensorDataset(test_inputs, test_masks, test_labels)\n",
        "test_sampler = SequentialSampler(test_data)\n",
        "test_dataloader = DataLoader(test_data, sampler=test_sampler, batch_size=batch_size)"
      ],
      "metadata": {
        "execution": {
          "iopub.status.busy": "2023-06-02T02:05:01.115581Z",
          "iopub.execute_input": "2023-06-02T02:05:01.115907Z",
          "iopub.status.idle": "2023-06-02T02:05:01.126224Z",
          "shell.execute_reply.started": "2023-06-02T02:05:01.115865Z",
          "shell.execute_reply": "2023-06-02T02:05:01.125464Z"
        },
        "trusted": true,
        "id": "oT8HQzkysE3n"
      },
      "execution_count": 91,
      "outputs": []
    },
    {
      "cell_type": "markdown",
      "source": [
        "# BERT Modeling"
      ],
      "metadata": {
        "id": "Hezzo4nPsE3o"
      }
    },
    {
      "cell_type": "markdown",
      "source": [
        "Now we can create a custom BERT classifier class, including the original BERT model (made of transformer layers) and additional Dense layers to perform the desired classification task."
      ],
      "metadata": {
        "id": "4gaySqj6sE3p"
      }
    },
    {
      "cell_type": "code",
      "source": [
        "class Bert_Classifier(nn.Module):\n",
        "    def __init__(self, freeze_bert=False):\n",
        "        super(Bert_Classifier, self).__init__()\n",
        "        # Specify hidden size of BERT, hidden size of the classifier, and number of labels\n",
        "        n_input = 768\n",
        "        n_hidden = 50\n",
        "        n_output = 2\n",
        "\n",
        "        # Instantiate BERT model\n",
        "        self.bert = BertModel.from_pretrained('bert-base-uncased')\n",
        "\n",
        "        # Instantiate the classifier (a fully connected layer followed by a ReLU activation and another fully connected layer)\n",
        "        self.classifier = nn.Sequential(\n",
        "            nn.Linear(n_input, n_hidden),\n",
        "            nn.ReLU(),\n",
        "            nn.Linear(n_hidden, n_output)\n",
        "        )\n",
        "\n",
        "        # Freeze the BERT model weights if freeze_bert is True (useful for feature extraction without fine-tuning)\n",
        "        if freeze_bert:\n",
        "            for param in self.bert.parameters():\n",
        "                param.requires_grad = False\n",
        "\n",
        "    def forward(self, input_ids, attention_mask):\n",
        "        # Feed input data (input_ids and attention_mask) to BERT\n",
        "        outputs = self.bert(input_ids=input_ids,\n",
        "                            attention_mask=attention_mask)\n",
        "\n",
        "        # Extract the last hidden state of the `[CLS]` token from the BERT output (useful for classification tasks)\n",
        "        last_hidden_state_cls = outputs[0][:, 0, :]\n",
        "\n",
        "        # Feed the extracted hidden state to the classifier to compute logits\n",
        "        logits = self.classifier(last_hidden_state_cls)\n",
        "\n",
        "        return logits"
      ],
      "metadata": {
        "execution": {
          "iopub.status.busy": "2023-06-02T02:05:01.127533Z",
          "iopub.execute_input": "2023-06-02T02:05:01.127961Z",
          "iopub.status.idle": "2023-06-02T02:05:01.139718Z",
          "shell.execute_reply.started": "2023-06-02T02:05:01.127919Z",
          "shell.execute_reply": "2023-06-02T02:05:01.138831Z"
        },
        "trusted": true,
        "id": "1O-smRFJsE3r"
      },
      "execution_count": 92,
      "outputs": []
    },
    {
      "cell_type": "markdown",
      "source": [
        "Moreover, since we want to define a learning rate scheduler, we define a custom \"initalize_model\" function as follows."
      ],
      "metadata": {
        "id": "j7DRIklrsE3s"
      }
    },
    {
      "cell_type": "code",
      "source": [
        "# Function for initializing the BERT Classifier model, optimizer, and learning rate scheduler\n",
        "def initialize_model(epochs=4):\n",
        "    # Instantiate Bert Classifier\n",
        "    bert_classifier = Bert_Classifier(freeze_bert=False)\n",
        "\n",
        "    bert_classifier.to(device)\n",
        "\n",
        "    # Set up optimizer\n",
        "    optimizer = AdamW(bert_classifier.parameters(),\n",
        "                      lr=5e-5,    # learning rate, set to default value\n",
        "                      eps=1e-8    # decay, set to default value\n",
        "                      )\n",
        "\n",
        "    # Calculate total number of training steps\n",
        "    total_steps = len(train_dataloader) * epochs\n",
        "\n",
        "    # Define the learning rate scheduler\n",
        "    scheduler = get_linear_schedule_with_warmup(optimizer,\n",
        "                                                num_warmup_steps=0, # Default value\n",
        "                                                num_training_steps=total_steps)\n",
        "    return bert_classifier, optimizer, scheduler"
      ],
      "metadata": {
        "execution": {
          "iopub.status.busy": "2023-06-02T02:05:01.140963Z",
          "iopub.execute_input": "2023-06-02T02:05:01.141755Z",
          "iopub.status.idle": "2023-06-02T02:05:01.153984Z",
          "shell.execute_reply.started": "2023-06-02T02:05:01.141715Z",
          "shell.execute_reply": "2023-06-02T02:05:01.153141Z"
        },
        "trusted": true,
        "id": "Mlm2CprJsE3s"
      },
      "execution_count": 93,
      "outputs": []
    },
    {
      "cell_type": "markdown",
      "source": [
        "We also specify the use of GPU if present (highly recommended for the fine tuning)"
      ],
      "metadata": {
        "id": "VidDI2zHsE3t"
      }
    },
    {
      "cell_type": "code",
      "source": [
        "device = 'cuda' if torch.cuda.is_available() else 'cpu'\n",
        "EPOCHS=2"
      ],
      "metadata": {
        "execution": {
          "iopub.status.busy": "2023-06-02T02:05:01.155042Z",
          "iopub.execute_input": "2023-06-02T02:05:01.156025Z",
          "iopub.status.idle": "2023-06-02T02:05:01.166688Z",
          "shell.execute_reply.started": "2023-06-02T02:05:01.155979Z",
          "shell.execute_reply": "2023-06-02T02:05:01.165952Z"
        },
        "trusted": true,
        "id": "3ozqK-HfsE3u"
      },
      "execution_count": 94,
      "outputs": []
    },
    {
      "cell_type": "markdown",
      "source": [
        "And then we intialize the BERT model calling the \"initialize_model\" function we defined."
      ],
      "metadata": {
        "id": "8-kafDrgsE3u"
      }
    },
    {
      "cell_type": "code",
      "source": [
        "bert_classifier, optimizer, scheduler = initialize_model(epochs=EPOCHS)"
      ],
      "metadata": {
        "_kg_hide-output": true,
        "execution": {
          "iopub.status.busy": "2023-06-02T02:05:01.167823Z",
          "iopub.execute_input": "2023-06-02T02:05:01.168188Z",
          "iopub.status.idle": "2023-06-02T02:05:03.081637Z",
          "shell.execute_reply.started": "2023-06-02T02:05:01.168146Z",
          "shell.execute_reply": "2023-06-02T02:05:03.080731Z"
        },
        "trusted": true,
        "colab": {
          "base_uri": "https://localhost:8080/",
          "height": 104,
          "referenced_widgets": [
            "5d9bbc0de6a046ac906c39f3e946dc48",
            "bed00869948f4fefb64329f7193b3626",
            "d5c284609c8447718a93464f5bd4c9e0",
            "2f2935842a664e58978bf4fe787d629c",
            "ea2b7f64be2e422d82c2e7c5e5393ed5",
            "cecc3f16d02649cb960a79fe0966d4cf",
            "829267687cb94b158d002211d79a5017",
            "eb5544e83fa543238778fafea87a2618",
            "da16bd15da8c46e3a468c69d2024b738",
            "541b45f7ea2e4987a23d31ed9e3818ab",
            "1d0fafddb6e44cc786f440357a855dbc"
          ]
        },
        "id": "kSv2rcGfsE3v",
        "outputId": "02988131-a140-47d3-bae0-593202c072c8"
      },
      "execution_count": 95,
      "outputs": [
        {
          "output_type": "display_data",
          "data": {
            "text/plain": [
              "Downloading model.safetensors:   0%|          | 0.00/440M [00:00<?, ?B/s]"
            ],
            "application/vnd.jupyter.widget-view+json": {
              "version_major": 2,
              "version_minor": 0,
              "model_id": "5d9bbc0de6a046ac906c39f3e946dc48"
            }
          },
          "metadata": {}
        },
        {
          "output_type": "stream",
          "name": "stderr",
          "text": [
            "/usr/local/lib/python3.10/dist-packages/transformers/optimization.py:411: FutureWarning: This implementation of AdamW is deprecated and will be removed in a future version. Use the PyTorch implementation torch.optim.AdamW instead, or set `no_deprecation_warning=True` to disable this warning\n",
            "  warnings.warn(\n"
          ]
        }
      ]
    },
    {
      "cell_type": "markdown",
      "source": [
        "# BERT Training"
      ],
      "metadata": {
        "id": "DgbSj2TusE3w"
      }
    },
    {
      "cell_type": "markdown",
      "source": [
        "After defining the custom BERT classifier model, we are ready to start the training."
      ],
      "metadata": {
        "id": "FfhdoZtIsE3w"
      }
    },
    {
      "cell_type": "code",
      "source": [
        "# Define Cross entropy Loss function for the multiclass classification task\n",
        "loss_fn = nn.CrossEntropyLoss()\n",
        "\n",
        "def bert_train(model, train_dataloader, val_dataloader=None, epochs=4, evaluation=False):\n",
        "\n",
        "    print(\"Start training...\\n\")\n",
        "    for epoch_i in range(epochs):\n",
        "        print(\"-\"*10)\n",
        "        print(\"Epoch : {}\".format(epoch_i+1))\n",
        "        print(\"-\"*10)\n",
        "        print(\"-\"*38)\n",
        "        print(f\"{'BATCH NO.':^7} | {'TRAIN LOSS':^12} | {'ELAPSED (s)':^9}\")\n",
        "        print(\"-\"*38)\n",
        "\n",
        "        # Measure the elapsed time of each epoch\n",
        "        t0_epoch, t0_batch = time.time(), time.time()\n",
        "\n",
        "        # Reset tracking variables at the beginning of each epoch\n",
        "        total_loss, batch_loss, batch_counts = 0, 0, 0\n",
        "\n",
        "        ###TRAINING###\n",
        "\n",
        "        # Put the model into the training mode\n",
        "        model.train()\n",
        "\n",
        "        for step, batch in enumerate(train_dataloader):\n",
        "            batch_counts +=1\n",
        "\n",
        "            b_input_ids, b_attn_mask, b_labels = tuple(t.to(device) for t in batch)\n",
        "\n",
        "            # Zero out any previously calculated gradients\n",
        "            model.zero_grad()\n",
        "\n",
        "            # Perform a forward pass and get logits.\n",
        "            logits = model(b_input_ids, b_attn_mask)\n",
        "\n",
        "            # Compute loss and accumulate the loss values\n",
        "            loss = loss_fn(logits, b_labels)\n",
        "            batch_loss += loss.item()\n",
        "            total_loss += loss.item()\n",
        "\n",
        "            # Perform a backward pass to calculate gradients\n",
        "            loss.backward()\n",
        "\n",
        "            # Clip the norm of the gradients to 1.0 to prevent \"exploding gradients\"\n",
        "            torch.nn.utils.clip_grad_norm_(model.parameters(), 1.0)\n",
        "\n",
        "            # Update model parameters:\n",
        "            # fine tune BERT params and train additional dense layers\n",
        "            optimizer.step()\n",
        "            # update learning rate\n",
        "            scheduler.step()\n",
        "\n",
        "            # Print the loss values and time elapsed for every 100 batches\n",
        "            if (step % 100 == 0 and step != 0) or (step == len(train_dataloader) - 1):\n",
        "                # Calculate time elapsed for 20 batches\n",
        "                time_elapsed = time.time() - t0_batch\n",
        "\n",
        "                print(f\"{step:^9} | {batch_loss / batch_counts:^12.6f} | {time_elapsed:^9.2f}\")\n",
        "\n",
        "                # Reset batch tracking variables\n",
        "                batch_loss, batch_counts = 0, 0\n",
        "                t0_batch = time.time()\n",
        "\n",
        "        # Calculate the average loss over the entire training data\n",
        "        avg_train_loss = total_loss / len(train_dataloader)\n",
        "\n",
        "        ###EVALUATION###\n",
        "\n",
        "        # Put the model into the evaluation mode\n",
        "        model.eval()\n",
        "\n",
        "        # Define empty lists to host accuracy and validation for each batch\n",
        "        val_accuracy = []\n",
        "        val_loss = []\n",
        "\n",
        "        for batch in val_dataloader:\n",
        "            batch_input_ids, batch_attention_mask, batch_labels = tuple(t.to(device) for t in batch)\n",
        "\n",
        "            # We do not want to update the params during the evaluation,\n",
        "            # So we specify that we dont want to compute the gradients of the tensors\n",
        "            # by calling the torch.no_grad() method\n",
        "            with torch.no_grad():\n",
        "                logits = model(batch_input_ids, batch_attention_mask)\n",
        "\n",
        "            loss = loss_fn(logits, batch_labels)\n",
        "\n",
        "            val_loss.append(loss.item())\n",
        "\n",
        "            # Get the predictions starting from the logits (get index of highest logit)\n",
        "            preds = torch.argmax(logits, dim=1).flatten()\n",
        "\n",
        "            # Calculate the validation accuracy\n",
        "            accuracy = (preds == batch_labels).cpu().numpy().mean() * 100\n",
        "            val_accuracy.append(accuracy)\n",
        "\n",
        "        # Compute the average accuracy and loss over the validation set\n",
        "        val_loss = np.mean(val_loss)\n",
        "        val_accuracy = np.mean(val_accuracy)\n",
        "\n",
        "        # Print performance over the entire training data\n",
        "        time_elapsed = time.time() - t0_epoch\n",
        "        print(\"-\"*61)\n",
        "        print(f\"{'AVG TRAIN LOSS':^12} | {'VAL LOSS':^10} | {'VAL ACCURACY (%)':^9} | {'ELAPSED (s)':^9}\")\n",
        "        print(\"-\"*61)\n",
        "        print(f\"{avg_train_loss:^14.6f} | {val_loss:^10.6f} | {val_accuracy:^17.2f} | {time_elapsed:^9.2f}\")\n",
        "        print(\"-\"*61)\n",
        "        print(\"\\n\")\n",
        "\n",
        "    print(\"Training complete!\")"
      ],
      "metadata": {
        "execution": {
          "iopub.status.busy": "2023-06-02T02:05:03.083230Z",
          "iopub.execute_input": "2023-06-02T02:05:03.083500Z",
          "iopub.status.idle": "2023-06-02T02:05:03.102832Z",
          "shell.execute_reply.started": "2023-06-02T02:05:03.083460Z",
          "shell.execute_reply": "2023-06-02T02:05:03.102029Z"
        },
        "trusted": true,
        "id": "DpPHq3igsE3y"
      },
      "execution_count": 96,
      "outputs": []
    },
    {
      "cell_type": "code",
      "source": [
        "bert_train(bert_classifier, train_dataloader, val_dataloader, epochs=EPOCHS)"
      ],
      "metadata": {
        "execution": {
          "iopub.status.busy": "2023-06-02T02:05:03.104233Z",
          "iopub.execute_input": "2023-06-02T02:05:03.105292Z",
          "iopub.status.idle": "2023-06-02T02:15:53.834438Z",
          "shell.execute_reply.started": "2023-06-02T02:05:03.105259Z",
          "shell.execute_reply": "2023-06-02T02:15:53.833452Z"
        },
        "trusted": true,
        "colab": {
          "base_uri": "https://localhost:8080/"
        },
        "id": "R3uyT-HssE33",
        "outputId": "9c38b71e-d7ad-4a65-cdd4-dc5602cdf037"
      },
      "execution_count": 97,
      "outputs": [
        {
          "output_type": "stream",
          "name": "stdout",
          "text": [
            "Start training...\n",
            "\n",
            "----------\n",
            "Epoch : 1\n",
            "----------\n",
            "--------------------------------------\n",
            "BATCH NO. |  TRAIN LOSS  | ELAPSED (s)\n",
            "--------------------------------------\n",
            "   100    |   0.270499   |  4546.44 \n",
            "   114    |   0.199799   |  599.62  \n",
            "-------------------------------------------------------------\n",
            "AVG TRAIN LOSS |  VAL LOSS  | VAL ACCURACY (%) | ELAPSED (s)\n",
            "-------------------------------------------------------------\n",
            "   0.261892    |  0.208309  |       93.30       |  5542.86 \n",
            "-------------------------------------------------------------\n",
            "\n",
            "\n",
            "----------\n",
            "Epoch : 2\n",
            "----------\n",
            "--------------------------------------\n",
            "BATCH NO. |  TRAIN LOSS  | ELAPSED (s)\n",
            "--------------------------------------\n",
            "   100    |   0.151398   |  4540.68 \n",
            "   114    |   0.195469   |  595.81  \n",
            "-------------------------------------------------------------\n",
            "AVG TRAIN LOSS |  VAL LOSS  | VAL ACCURACY (%) | ELAPSED (s)\n",
            "-------------------------------------------------------------\n",
            "   0.156763    |  0.200071  |       93.42       |  5535.66 \n",
            "-------------------------------------------------------------\n",
            "\n",
            "\n",
            "Training complete!\n"
          ]
        }
      ]
    },
    {
      "cell_type": "markdown",
      "source": [
        "# BERT Prediction"
      ],
      "metadata": {
        "id": "c0ZIOtyEsE35"
      }
    },
    {
      "cell_type": "markdown",
      "source": [
        "Now we define a function similar to the model \"evaluation\", where we feed to the model the test data instead of the validation data."
      ],
      "metadata": {
        "id": "l1rGSCGxsE35"
      }
    },
    {
      "cell_type": "code",
      "source": [
        "def bert_predict(model, test_dataloader):\n",
        "\n",
        "    # Define empty list to host the predictions\n",
        "    preds_list = []\n",
        "\n",
        "    # Put the model into evaluation mode\n",
        "    model.eval()\n",
        "\n",
        "    for batch in test_dataloader:\n",
        "        batch_input_ids, batch_attention_mask = tuple(t.to(device) for t in batch)[:2]\n",
        "\n",
        "        # Avoid gradient calculation of tensors by using \"no_grad()\" method\n",
        "        with torch.no_grad():\n",
        "            logit = model(batch_input_ids, batch_attention_mask)\n",
        "\n",
        "        # Get index of highest logit\n",
        "        pred = torch.argmax(logit,dim=1).cpu().numpy()\n",
        "        # Append predicted class to list\n",
        "        preds_list.extend(pred)\n",
        "\n",
        "    return preds_list"
      ],
      "metadata": {
        "execution": {
          "iopub.status.busy": "2023-06-02T02:15:53.836041Z",
          "iopub.execute_input": "2023-06-02T02:15:53.836407Z",
          "iopub.status.idle": "2023-06-02T02:15:53.844432Z",
          "shell.execute_reply.started": "2023-06-02T02:15:53.836365Z",
          "shell.execute_reply": "2023-06-02T02:15:53.843261Z"
        },
        "trusted": true,
        "id": "xlscrFOesE36"
      },
      "execution_count": 98,
      "outputs": []
    },
    {
      "cell_type": "markdown",
      "source": [
        "Then we can call the defined function and get the class predictions of the test data."
      ],
      "metadata": {
        "id": "vgC0ZG7FsE37"
      }
    },
    {
      "cell_type": "code",
      "source": [
        "bert_preds = bert_predict(bert_classifier, test_dataloader)"
      ],
      "metadata": {
        "execution": {
          "iopub.status.busy": "2023-06-02T02:15:53.845986Z",
          "iopub.execute_input": "2023-06-02T02:15:53.846259Z",
          "iopub.status.idle": "2023-06-02T02:16:21.645265Z",
          "shell.execute_reply.started": "2023-06-02T02:15:53.846222Z",
          "shell.execute_reply": "2023-06-02T02:16:21.644443Z"
        },
        "trusted": true,
        "id": "pU4ROEmisE37"
      },
      "execution_count": 99,
      "outputs": []
    },
    {
      "cell_type": "code",
      "source": [
        "print('Classification Report for BERT :\\n', classification_report(y_test, bert_preds, target_names=label))"
      ],
      "metadata": {
        "execution": {
          "iopub.status.busy": "2023-06-02T02:16:21.646916Z",
          "iopub.execute_input": "2023-06-02T02:16:21.647186Z",
          "iopub.status.idle": "2023-06-02T02:16:21.670352Z",
          "shell.execute_reply.started": "2023-06-02T02:16:21.647147Z",
          "shell.execute_reply": "2023-06-02T02:16:21.669487Z"
        },
        "trusted": true,
        "id": "kBu31HdosE38",
        "colab": {
          "base_uri": "https://localhost:8080/"
        },
        "outputId": "6e1c8ffd-003f-4ac1-ed09-88a679f0c913"
      },
      "execution_count": 101,
      "outputs": [
        {
          "output_type": "stream",
          "name": "stdout",
          "text": [
            "Classification Report for BERT :\n",
            "               precision    recall  f1-score   support\n",
            "\n",
            "    explicit       0.91      0.95      0.93       572\n",
            "    inplicit       0.94      0.90      0.92       517\n",
            "\n",
            "    accuracy                           0.93      1089\n",
            "   macro avg       0.93      0.92      0.93      1089\n",
            "weighted avg       0.93      0.93      0.93      1089\n",
            "\n"
          ]
        }
      ]
    },
    {
      "cell_type": "code",
      "source": [
        "conf_matrix(y_test, bert_preds,' BERT Sentiment Analysis\\nConfusion Matrix', label)"
      ],
      "metadata": {
        "execution": {
          "iopub.status.busy": "2023-06-02T02:16:21.671819Z",
          "iopub.execute_input": "2023-06-02T02:16:21.672093Z",
          "iopub.status.idle": "2023-06-02T02:16:22.103134Z",
          "shell.execute_reply.started": "2023-06-02T02:16:21.672055Z",
          "shell.execute_reply": "2023-06-02T02:16:22.102395Z"
        },
        "trusted": true,
        "id": "nTt0POiAsE3-",
        "colab": {
          "base_uri": "https://localhost:8080/",
          "height": 757
        },
        "outputId": "315b4260-09f5-4596-c83f-a63b1ebd5995"
      },
      "execution_count": 103,
      "outputs": [
        {
          "output_type": "display_data",
          "data": {
            "text/plain": [
              "<Figure size 750x750 with 1 Axes>"
            ],
            "image/png": "[encoded data removed]"
          },
          "metadata": {}
        }
      ]
    },
    {
      "cell_type": "markdown",
      "source": [
        "**The performance scores of BERT Classifier are quite high and higher than those achieved using the LSTM model, with an overall accuracy around 95% and F1 scores well over 95%.**<br>"
      ],
      "metadata": {
        "id": "GOXC8cO1sE4A"
      }
    },
    {
      "cell_type": "markdown",
      "source": [
        "Thank your for checking out my notebook! Let me know if you have comments or if you want me to check out your work! :)"
      ],
      "metadata": {
        "id": "1M6MjQwHsE4B"
      }
    }
  ]
}