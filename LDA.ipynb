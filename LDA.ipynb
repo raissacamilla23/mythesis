{
  "cells": [
    {
      "cell_type": "markdown",
      "metadata": {
        "id": "view-in-github",
        "colab_type": "text"
      },
      "source": [
        "<a href=\"https://colab.research.google.com/github/raissacamilla23/mythesis/blob/main/LDA.ipynb\" target=\"_parent\"><img src=\"https://colab.research.google.com/assets/colab-badge.svg\" alt=\"Open In Colab\"/></a>"
      ]
    },
    {
      "cell_type": "code",
      "execution_count": null,
      "metadata": {
        "id": "0RCof1nkAHrE",
        "outputId": "11dc650b-e087-4243-c099-1d1b0da21c9d"
      },
      "outputs": [
        {
          "name": "stdout",
          "output_type": "stream",
          "text": [
            "Collecting pyLDAvis\n",
            "  Downloading pyLDAvis-2.1.2.tar.gz (1.6 MB)\n",
            "\u001b[K     |████████████████████████████████| 1.6 MB 2.6 MB/s eta 0:00:01\n",
            "\u001b[?25hRequirement already satisfied: wheel>=0.23.0 in /Users/yaojiaqi/anaconda3/lib/python3.7/site-packages (from pyLDAvis) (0.31.1)\n",
            "Requirement already satisfied: numpy>=1.9.2 in /Users/yaojiaqi/anaconda3/lib/python3.7/site-packages (from pyLDAvis) (1.15.1)\n",
            "Requirement already satisfied: scipy>=0.18.0 in /Users/yaojiaqi/anaconda3/lib/python3.7/site-packages (from pyLDAvis) (1.1.0)\n",
            "Requirement already satisfied: pandas>=0.17.0 in /Users/yaojiaqi/anaconda3/lib/python3.7/site-packages (from pyLDAvis) (0.23.4)\n",
            "Collecting joblib>=0.8.4\n",
            "  Downloading joblib-0.15.1-py3-none-any.whl (298 kB)\n",
            "\u001b[K     |████████████████████████████████| 298 kB 5.8 MB/s eta 0:00:01\n",
            "\u001b[?25hRequirement already satisfied: jinja2>=2.7.2 in /Users/yaojiaqi/anaconda3/lib/python3.7/site-packages (from pyLDAvis) (2.10)\n",
            "Requirement already satisfied: numexpr in /Users/yaojiaqi/anaconda3/lib/python3.7/site-packages (from pyLDAvis) (2.6.8)\n",
            "Requirement already satisfied: pytest in /Users/yaojiaqi/anaconda3/lib/python3.7/site-packages (from pyLDAvis) (3.8.0)\n",
            "Collecting future\n",
            "  Downloading future-0.18.2.tar.gz (829 kB)\n",
            "\u001b[K     |████████████████████████████████| 829 kB 6.1 MB/s eta 0:00:01\n",
            "\u001b[?25hCollecting funcy\n",
            "  Downloading funcy-1.14.tar.gz (548 kB)\n",
            "\u001b[K     |████████████████████████████████| 548 kB 6.1 MB/s eta 0:00:01\n",
            "\u001b[?25hRequirement already satisfied: python-dateutil>=2.5.0 in /Users/yaojiaqi/anaconda3/lib/python3.7/site-packages (from pandas>=0.17.0->pyLDAvis) (2.7.3)\n",
            "Requirement already satisfied: pytz>=2011k in /Users/yaojiaqi/anaconda3/lib/python3.7/site-packages (from pandas>=0.17.0->pyLDAvis) (2018.5)\n",
            "Requirement already satisfied: MarkupSafe>=0.23 in /Users/yaojiaqi/anaconda3/lib/python3.7/site-packages (from jinja2>=2.7.2->pyLDAvis) (1.0)\n",
            "Requirement already satisfied: py>=1.5.0 in /Users/yaojiaqi/anaconda3/lib/python3.7/site-packages (from pytest->pyLDAvis) (1.6.0)\n",
            "Requirement already satisfied: six>=1.10.0 in /Users/yaojiaqi/anaconda3/lib/python3.7/site-packages (from pytest->pyLDAvis) (1.11.0)\n",
            "Requirement already satisfied: setuptools in /Users/yaojiaqi/anaconda3/lib/python3.7/site-packages (from pytest->pyLDAvis) (40.2.0)\n",
            "Requirement already satisfied: attrs>=17.4.0 in /Users/yaojiaqi/anaconda3/lib/python3.7/site-packages (from pytest->pyLDAvis) (18.2.0)\n",
            "Requirement already satisfied: more-itertools>=4.0.0 in /Users/yaojiaqi/anaconda3/lib/python3.7/site-packages (from pytest->pyLDAvis) (4.3.0)\n",
            "Requirement already satisfied: atomicwrites>=1.0 in /Users/yaojiaqi/anaconda3/lib/python3.7/site-packages (from pytest->pyLDAvis) (1.2.1)\n",
            "Requirement already satisfied: pluggy>=0.7 in /Users/yaojiaqi/anaconda3/lib/python3.7/site-packages (from pytest->pyLDAvis) (0.7.1)\n",
            "Building wheels for collected packages: pyLDAvis, future, funcy\n",
            "  Building wheel for pyLDAvis (setup.py) ... \u001b[?25ldone\n",
            "\u001b[?25h  Created wheel for pyLDAvis: filename=pyLDAvis-2.1.2-py2.py3-none-any.whl size=96445 sha256=b3680b66a93e5b4e85d0e517d84f5a42ee76bbeb9b20f8bb7e632ac9651993ab\n",
            "  Stored in directory: /Users/yaojiaqi/Library/Caches/pip/wheels/3b/fb/41/e32e5312da9f440d34c4eff0d2207b46dc9332a7b931ef1e89\n",
            "  Building wheel for future (setup.py) ... \u001b[?25ldone\n",
            "\u001b[?25h  Created wheel for future: filename=future-0.18.2-py3-none-any.whl size=491096 sha256=1a76b164bac8aaae61e218ec78bac582599c488849ecba372b8740091425dbc4\n",
            "  Stored in directory: /Users/yaojiaqi/Library/Caches/pip/wheels/56/b0/fe/4410d17b32f1f0c3cf54cdfb2bc04d7b4b8f4ae377e2229ba0\n",
            "  Building wheel for funcy (setup.py) ... \u001b[?25ldone\n",
            "\u001b[?25h  Created wheel for funcy: filename=funcy-1.14-py2.py3-none-any.whl size=32056 sha256=06455319912f545b33a8a26b080a0dd6e3167e17072bb7e2f94413287bbb4131\n",
            "  Stored in directory: /Users/yaojiaqi/Library/Caches/pip/wheels/3c/33/97/805b282e129f60bb4e87cea622338f30b65f21eaf65219971f\n",
            "Successfully built pyLDAvis future funcy\n",
            "Installing collected packages: joblib, future, funcy, pyLDAvis\n",
            "Successfully installed funcy-1.14 future-0.18.2 joblib-0.15.1 pyLDAvis-2.1.2\n"
          ]
        }
      ],
      "source": [
        "!pip install pyLDAvis"
      ]
    },
    {
      "cell_type": "code",
      "execution_count": null,
      "metadata": {
        "id": "MElpeWmaAHrW",
        "outputId": "0a5aa8fd-913e-487e-fca5-e44a30918627"
      },
      "outputs": [
        {
          "name": "stdout",
          "output_type": "stream",
          "text": [
            "[nltk_data] Downloading package wordnet to\n",
            "[nltk_data]     /Users/yaojiaqi/nltk_data...\n",
            "[nltk_data]   Unzipping corpora/wordnet.zip.\n"
          ]
        }
      ],
      "source": [
        "import numpy as np\n",
        "import pandas as pd\n",
        "import re\n",
        "import sklearn\n",
        "import nltk\n",
        "import gensim\n",
        "import matplotlib.pyplot as plt\n",
        "import pyLDAvis\n",
        "import pyLDAvis.gensim\n",
        "\n",
        "from sklearn.model_selection import train_test_split, GridSearchCV\n",
        "from sklearn.feature_extraction.text import CountVectorizer\n",
        "from sklearn.feature_extraction.text import TfidfVectorizer\n",
        "from sklearn.metrics import confusion_matrix, precision_score, precision_recall_curve, recall_score, f1_score, classification_report\n",
        "from sklearn.linear_model import LogisticRegression\n",
        "from sklearn.decomposition import LatentDirichletAllocation\n",
        "import nltk\n",
        "nltk.download('wordnet')\n",
        "from nltk.stem import WordNetLemmatizer\n",
        "from nltk.stem.porter import *\n",
        "\n",
        "from gensim.utils import simple_preprocess\n",
        "from gensim.parsing.preprocessing import STOPWORDS\n",
        "from gensim.corpora import Dictionary\n",
        "from gensim.models import TfidfModel, LdaMulticore"
      ]
    },
    {
      "cell_type": "markdown",
      "metadata": {
        "id": "Y7uB_rdoAHrc"
      },
      "source": [
        "# 1. Data cleaning and splitting"
      ]
    },
    {
      "cell_type": "code",
      "execution_count": null,
      "metadata": {
        "id": "UD32zuOEAHrp"
      },
      "outputs": [],
      "source": [
        "#import dataset, remove the 'link' column and no match' rows\n",
        "song_data = pd.read_csv(\"subsongdata_57650.csv\")\n",
        "song_data = song_data[['artist','song','text','explicit_label']]\n",
        "song_data = song_data.loc[song_data['explicit_label'] != 'no match']"
      ]
    },
    {
      "cell_type": "code",
      "execution_count": null,
      "metadata": {
        "id": "wqjISLmYAHrs",
        "outputId": "3eb5ffd3-7725-45b7-aca2-13852d2b26b1"
      },
      "outputs": [
        {
          "data": {
            "text/html": [
              "<div>\n",
              "<style scoped>\n",
              "    .dataframe tbody tr th:only-of-type {\n",
              "        vertical-align: middle;\n",
              "    }\n",
              "\n",
              "    .dataframe tbody tr th {\n",
              "        vertical-align: top;\n",
              "    }\n",
              "\n",
              "    .dataframe thead th {\n",
              "        text-align: right;\n",
              "    }\n",
              "</style>\n",
              "<table border=\"1\" class=\"dataframe\">\n",
              "  <thead>\n",
              "    <tr style=\"text-align: right;\">\n",
              "      <th></th>\n",
              "      <th>artist</th>\n",
              "      <th>song</th>\n",
              "      <th>text</th>\n",
              "      <th>explicit_label</th>\n",
              "    </tr>\n",
              "  </thead>\n",
              "  <tbody>\n",
              "    <tr>\n",
              "      <th>1</th>\n",
              "      <td>ABBA</td>\n",
              "      <td>Andante, Andante</td>\n",
              "      <td>Take it easy with me, please   Touch me gently...</td>\n",
              "      <td>False</td>\n",
              "    </tr>\n",
              "    <tr>\n",
              "      <th>2</th>\n",
              "      <td>ABBA</td>\n",
              "      <td>As Good As New</td>\n",
              "      <td>I'll never know why I had to go   Why I had to...</td>\n",
              "      <td>False</td>\n",
              "    </tr>\n",
              "    <tr>\n",
              "      <th>4</th>\n",
              "      <td>ABBA</td>\n",
              "      <td>Bang-A-Boomerang</td>\n",
              "      <td>Making somebody happy is a question of give an...</td>\n",
              "      <td>False</td>\n",
              "    </tr>\n",
              "    <tr>\n",
              "      <th>7</th>\n",
              "      <td>ABBA</td>\n",
              "      <td>Chiquitita</td>\n",
              "      <td>Chiquitita, tell me what's wrong   You're ench...</td>\n",
              "      <td>False</td>\n",
              "    </tr>\n",
              "    <tr>\n",
              "      <th>11</th>\n",
              "      <td>ABBA</td>\n",
              "      <td>Dancing Queen</td>\n",
              "      <td>You can dance, you can jive, having the time o...</td>\n",
              "      <td>False</td>\n",
              "    </tr>\n",
              "    <tr>\n",
              "      <th>12</th>\n",
              "      <td>ABBA</td>\n",
              "      <td>Disillusion</td>\n",
              "      <td>Changing, moving in a circle   I can see your ...</td>\n",
              "      <td>False</td>\n",
              "    </tr>\n",
              "    <tr>\n",
              "      <th>13</th>\n",
              "      <td>ABBA</td>\n",
              "      <td>Does Your Mother Know</td>\n",
              "      <td>You're so hot, teasing me   So you're blue but...</td>\n",
              "      <td>False</td>\n",
              "    </tr>\n",
              "    <tr>\n",
              "      <th>15</th>\n",
              "      <td>ABBA</td>\n",
              "      <td>Dum Dum Diddle</td>\n",
              "      <td>I can hear how you work, practising hard   Pla...</td>\n",
              "      <td>False</td>\n",
              "    </tr>\n",
              "    <tr>\n",
              "      <th>18</th>\n",
              "      <td>ABBA</td>\n",
              "      <td>Fernando</td>\n",
              "      <td>Can you hear the drums Fernando?   I remember ...</td>\n",
              "      <td>False</td>\n",
              "    </tr>\n",
              "    <tr>\n",
              "      <th>21</th>\n",
              "      <td>ABBA</td>\n",
              "      <td>From A Twinkling Star To A Passing Angel</td>\n",
              "      <td>Twinkle, Twinkle little star   How I wonder wh...</td>\n",
              "      <td>False</td>\n",
              "    </tr>\n",
              "  </tbody>\n",
              "</table>\n",
              "</div>"
            ],
            "text/plain": [
              "   artist                                      song  \\\n",
              "1    ABBA                          Andante, Andante   \n",
              "2    ABBA                            As Good As New   \n",
              "4    ABBA                          Bang-A-Boomerang   \n",
              "7    ABBA                                Chiquitita   \n",
              "11   ABBA                             Dancing Queen   \n",
              "12   ABBA                               Disillusion   \n",
              "13   ABBA                     Does Your Mother Know   \n",
              "15   ABBA                            Dum Dum Diddle   \n",
              "18   ABBA                                  Fernando   \n",
              "21   ABBA  From A Twinkling Star To A Passing Angel   \n",
              "\n",
              "                                                 text explicit_label  \n",
              "1   Take it easy with me, please   Touch me gently...          False  \n",
              "2   I'll never know why I had to go   Why I had to...          False  \n",
              "4   Making somebody happy is a question of give an...          False  \n",
              "7   Chiquitita, tell me what's wrong   You're ench...          False  \n",
              "11  You can dance, you can jive, having the time o...          False  \n",
              "12  Changing, moving in a circle   I can see your ...          False  \n",
              "13  You're so hot, teasing me   So you're blue but...          False  \n",
              "15  I can hear how you work, practising hard   Pla...          False  \n",
              "18  Can you hear the drums Fernando?   I remember ...          False  \n",
              "21  Twinkle, Twinkle little star   How I wonder wh...          False  "
            ]
          },
          "execution_count": 36,
          "metadata": {},
          "output_type": "execute_result"
        }
      ],
      "source": [
        "#remove'\\n' from the lyrics\n",
        "re_drop = re.compile(r'\\n')\n",
        "song_data[['text']] = song_data[['text']].applymap(lambda x:re_drop.sub(' ',x))\n",
        "song_data.iloc[0:10]"
      ]
    },
    {
      "cell_type": "markdown",
      "metadata": {
        "id": "7ZMaPiCaAHrv"
      },
      "source": [
        "## Create explicit songs dataset: song_data_1"
      ]
    },
    {
      "cell_type": "code",
      "execution_count": null,
      "metadata": {
        "id": "xy637mTIAHrx",
        "outputId": "9665d57e-e88d-4c2d-b3b6-64dd71dfa39b"
      },
      "outputs": [
        {
          "data": {
            "text/html": [
              "<div>\n",
              "<style scoped>\n",
              "    .dataframe tbody tr th:only-of-type {\n",
              "        vertical-align: middle;\n",
              "    }\n",
              "\n",
              "    .dataframe tbody tr th {\n",
              "        vertical-align: top;\n",
              "    }\n",
              "\n",
              "    .dataframe thead th {\n",
              "        text-align: right;\n",
              "    }\n",
              "</style>\n",
              "<table border=\"1\" class=\"dataframe\">\n",
              "  <thead>\n",
              "    <tr style=\"text-align: right;\">\n",
              "      <th></th>\n",
              "      <th>artist</th>\n",
              "      <th>song</th>\n",
              "      <th>text</th>\n",
              "      <th>explicit_label</th>\n",
              "    </tr>\n",
              "  </thead>\n",
              "  <tbody>\n",
              "    <tr>\n",
              "      <th>128</th>\n",
              "      <td>Adam Sandler</td>\n",
              "      <td>Mr. Bake-O</td>\n",
              "      <td>I'm sitting in my chair watching the ...</td>\n",
              "      <td>True</td>\n",
              "    </tr>\n",
              "    <tr>\n",
              "      <th>129</th>\n",
              "      <td>Adam Sandler</td>\n",
              "      <td>Steve Polychronopolous</td>\n",
              "      <td>I'm a big fuckin' dick   I'm a pain in your as...</td>\n",
              "      <td>True</td>\n",
              "    </tr>\n",
              "    <tr>\n",
              "      <th>909</th>\n",
              "      <td>Avril Lavigne</td>\n",
              "      <td>Here's To Never Growing Up</td>\n",
              "      <td>Singing Radiohead at the top of our lungs   Wi...</td>\n",
              "      <td>True</td>\n",
              "    </tr>\n",
              "    <tr>\n",
              "      <th>929</th>\n",
              "      <td>Avril Lavigne</td>\n",
              "      <td>Rock N Roll</td>\n",
              "      <td>Let them know that we're still rock n roll   I...</td>\n",
              "      <td>True</td>\n",
              "    </tr>\n",
              "    <tr>\n",
              "      <th>2089</th>\n",
              "      <td>Bruno Mars</td>\n",
              "      <td>Treasure</td>\n",
              "      <td>Give me all, give me all, give me all your att...</td>\n",
              "      <td>True</td>\n",
              "    </tr>\n",
              "    <tr>\n",
              "      <th>2108</th>\n",
              "      <td>Cake</td>\n",
              "      <td>Alpha Beta Parking Lot</td>\n",
              "      <td>Standing in the Alpha Beta parking lot   Watch...</td>\n",
              "      <td>True</td>\n",
              "    </tr>\n",
              "    <tr>\n",
              "      <th>2116</th>\n",
              "      <td>Cake</td>\n",
              "      <td>Hem Of Your Garment</td>\n",
              "      <td>I have a heart that's made of wood   And I am ...</td>\n",
              "      <td>True</td>\n",
              "    </tr>\n",
              "    <tr>\n",
              "      <th>2132</th>\n",
              "      <td>Cake</td>\n",
              "      <td>Satan Is My Motor</td>\n",
              "      <td>I've got wheels of polished steel   I've tires...</td>\n",
              "      <td>True</td>\n",
              "    </tr>\n",
              "    <tr>\n",
              "      <th>2134</th>\n",
              "      <td>Cake</td>\n",
              "      <td>Sheep Go To Heaven</td>\n",
              "      <td>I'm not feeling alright today   I'm not feelin...</td>\n",
              "      <td>True</td>\n",
              "    </tr>\n",
              "    <tr>\n",
              "      <th>2144</th>\n",
              "      <td>Cake</td>\n",
              "      <td>You Turn The Screws</td>\n",
              "      <td>ou turn the screws   You tear down the bridge ...</td>\n",
              "      <td>True</td>\n",
              "    </tr>\n",
              "  </tbody>\n",
              "</table>\n",
              "</div>"
            ],
            "text/plain": [
              "             artist                        song  \\\n",
              "128    Adam Sandler                  Mr. Bake-O   \n",
              "129    Adam Sandler      Steve Polychronopolous   \n",
              "909   Avril Lavigne  Here's To Never Growing Up   \n",
              "929   Avril Lavigne                 Rock N Roll   \n",
              "2089     Bruno Mars                    Treasure   \n",
              "2108           Cake      Alpha Beta Parking Lot   \n",
              "2116           Cake         Hem Of Your Garment   \n",
              "2132           Cake           Satan Is My Motor   \n",
              "2134           Cake          Sheep Go To Heaven   \n",
              "2144           Cake         You Turn The Screws   \n",
              "\n",
              "                                                   text explicit_label  \n",
              "128            I'm sitting in my chair watching the ...           True  \n",
              "129   I'm a big fuckin' dick   I'm a pain in your as...           True  \n",
              "909   Singing Radiohead at the top of our lungs   Wi...           True  \n",
              "929   Let them know that we're still rock n roll   I...           True  \n",
              "2089  Give me all, give me all, give me all your att...           True  \n",
              "2108  Standing in the Alpha Beta parking lot   Watch...           True  \n",
              "2116  I have a heart that's made of wood   And I am ...           True  \n",
              "2132  I've got wheels of polished steel   I've tires...           True  \n",
              "2134  I'm not feeling alright today   I'm not feelin...           True  \n",
              "2144  ou turn the screws   You tear down the bridge ...           True  "
            ]
          },
          "execution_count": 37,
          "metadata": {},
          "output_type": "execute_result"
        }
      ],
      "source": [
        "#extract all the rows with explicit_label = True\n",
        "song_data_1 = song_data.loc[song_data['explicit_label'] == 'True']\n",
        "song_data_1.iloc[0:10]"
      ]
    },
    {
      "cell_type": "markdown",
      "metadata": {
        "id": "Il0eUaXQAHrz"
      },
      "source": [
        "## Create non-explicit songs dataset: song_data_0"
      ]
    },
    {
      "cell_type": "code",
      "execution_count": null,
      "metadata": {
        "scrolled": true,
        "id": "7JrfbZaEAHr1",
        "outputId": "96ffc827-0949-49e3-b19f-ce569dec7be1"
      },
      "outputs": [
        {
          "data": {
            "text/html": [
              "<div>\n",
              "<style scoped>\n",
              "    .dataframe tbody tr th:only-of-type {\n",
              "        vertical-align: middle;\n",
              "    }\n",
              "\n",
              "    .dataframe tbody tr th {\n",
              "        vertical-align: top;\n",
              "    }\n",
              "\n",
              "    .dataframe thead th {\n",
              "        text-align: right;\n",
              "    }\n",
              "</style>\n",
              "<table border=\"1\" class=\"dataframe\">\n",
              "  <thead>\n",
              "    <tr style=\"text-align: right;\">\n",
              "      <th></th>\n",
              "      <th>artist</th>\n",
              "      <th>song</th>\n",
              "      <th>text</th>\n",
              "      <th>explicit_label</th>\n",
              "    </tr>\n",
              "  </thead>\n",
              "  <tbody>\n",
              "    <tr>\n",
              "      <th>51337</th>\n",
              "      <td>Santana</td>\n",
              "      <td>Somewhere In Heaven</td>\n",
              "      <td>Somewhere   In heaven   There is a place   Wai...</td>\n",
              "      <td>False</td>\n",
              "    </tr>\n",
              "    <tr>\n",
              "      <th>28056</th>\n",
              "      <td>Cliff Richard</td>\n",
              "      <td>Can't Take The Hurt Anymore</td>\n",
              "      <td>Now that the past has ended   My life's an ope...</td>\n",
              "      <td>False</td>\n",
              "    </tr>\n",
              "    <tr>\n",
              "      <th>46109</th>\n",
              "      <td>Nitty Gritty Dirt Band</td>\n",
              "      <td>Stand A Little Rain</td>\n",
              "      <td>Dark cloud is coming   Headed straight for you...</td>\n",
              "      <td>False</td>\n",
              "    </tr>\n",
              "    <tr>\n",
              "      <th>19827</th>\n",
              "      <td>U2</td>\n",
              "      <td>Dirty Day</td>\n",
              "      <td>I don't know you   And you don't know the half...</td>\n",
              "      <td>False</td>\n",
              "    </tr>\n",
              "    <tr>\n",
              "      <th>44161</th>\n",
              "      <td>Misfits</td>\n",
              "      <td>Only Make Believe</td>\n",
              "      <td>People see us everywhere   They think you real...</td>\n",
              "      <td>False</td>\n",
              "    </tr>\n",
              "    <tr>\n",
              "      <th>44208</th>\n",
              "      <td>Modern Talking</td>\n",
              "      <td>Diamonds Never Made A Lady</td>\n",
              "      <td>Oh my heart is crying in the night for you   O...</td>\n",
              "      <td>False</td>\n",
              "    </tr>\n",
              "    <tr>\n",
              "      <th>25069</th>\n",
              "      <td>Bee Gees</td>\n",
              "      <td>Lion In Winter</td>\n",
              "      <td>Lion in my winter.   I'm a lion with no crown....</td>\n",
              "      <td>False</td>\n",
              "    </tr>\n",
              "    <tr>\n",
              "      <th>22957</th>\n",
              "      <td>Adele</td>\n",
              "      <td>He Won't Go</td>\n",
              "      <td>Some say, I'll be better without you,   They d...</td>\n",
              "      <td>False</td>\n",
              "    </tr>\n",
              "    <tr>\n",
              "      <th>29537</th>\n",
              "      <td>Depeche Mode</td>\n",
              "      <td>Leave In Silence</td>\n",
              "      <td>I've told myself so many times before   But th...</td>\n",
              "      <td>False</td>\n",
              "    </tr>\n",
              "    <tr>\n",
              "      <th>18982</th>\n",
              "      <td>Sting</td>\n",
              "      <td>Dienda</td>\n",
              "      <td>How like the fall   To be gone in a day   Just...</td>\n",
              "      <td>False</td>\n",
              "    </tr>\n",
              "  </tbody>\n",
              "</table>\n",
              "</div>"
            ],
            "text/plain": [
              "                       artist                         song  \\\n",
              "51337                 Santana          Somewhere In Heaven   \n",
              "28056           Cliff Richard  Can't Take The Hurt Anymore   \n",
              "46109  Nitty Gritty Dirt Band          Stand A Little Rain   \n",
              "19827                      U2                    Dirty Day   \n",
              "44161                 Misfits            Only Make Believe   \n",
              "44208          Modern Talking   Diamonds Never Made A Lady   \n",
              "25069                Bee Gees               Lion In Winter   \n",
              "22957                   Adele                  He Won't Go   \n",
              "29537            Depeche Mode             Leave In Silence   \n",
              "18982                   Sting                       Dienda   \n",
              "\n",
              "                                                    text explicit_label  \n",
              "51337  Somewhere   In heaven   There is a place   Wai...          False  \n",
              "28056  Now that the past has ended   My life's an ope...          False  \n",
              "46109  Dark cloud is coming   Headed straight for you...          False  \n",
              "19827  I don't know you   And you don't know the half...          False  \n",
              "44161  People see us everywhere   They think you real...          False  \n",
              "44208  Oh my heart is crying in the night for you   O...          False  \n",
              "25069  Lion in my winter.   I'm a lion with no crown....          False  \n",
              "22957  Some say, I'll be better without you,   They d...          False  \n",
              "29537  I've told myself so many times before   But th...          False  \n",
              "18982  How like the fall   To be gone in a day   Just...          False  "
            ]
          },
          "execution_count": 38,
          "metadata": {},
          "output_type": "execute_result"
        }
      ],
      "source": [
        "#ramdomly extract 4068 rows with explicit_label = False, which is 3 times as many as song_data_1\n",
        "song_data_0 = song_data.loc[song_data['explicit_label'] == 'False']\n",
        "song_data_0 = song_data_0.sample(n=4068, replace=False, random_state=100)\n",
        "song_data_0.iloc[0:10]"
      ]
    },
    {
      "cell_type": "markdown",
      "metadata": {
        "id": "1q0MBWErAHr5"
      },
      "source": [
        "# 2. Topic Modeling"
      ]
    },
    {
      "cell_type": "markdown",
      "metadata": {
        "id": "i04uzM8BAHr7"
      },
      "source": [
        "## Data processing: lemmatization & stemming"
      ]
    },
    {
      "cell_type": "code",
      "execution_count": null,
      "metadata": {
        "id": "OtXy5dxxAHr7",
        "outputId": "dab09622-59f8-4241-acc1-9f5789097171"
      },
      "outputs": [
        {
          "data": {
            "text/plain": [
              "341"
            ]
          },
          "execution_count": 15,
          "metadata": {},
          "output_type": "execute_result"
        }
      ],
      "source": [
        "len(STOPWORDS)\n",
        "stopwords = set(STOPWORDS)\n",
        "stopwords.update([\"yeah\", \"oh\", \"ya\", \"let\"])\n",
        "len(stopwords)"
      ]
    },
    {
      "cell_type": "code",
      "execution_count": null,
      "metadata": {
        "id": "l0nQtqc1AHr9"
      },
      "outputs": [],
      "source": [
        "def lemmatization(text):\n",
        "    wnl = WordNetLemmatizer()\n",
        "    lemmatization = wnl.lemmatize(text, pos='n')\n",
        "    return lemmatization"
      ]
    },
    {
      "cell_type": "code",
      "execution_count": null,
      "metadata": {
        "id": "BatbgUtoAHr9"
      },
      "outputs": [],
      "source": [
        "def lemmatization_stemming(text):\n",
        "    wnl = WordNetLemmatizer()\n",
        "    lemmatization = wnl.lemmatize(text, pos='n')\n",
        "\n",
        "    stemmer = PorterStemmer()\n",
        "    stemming = stemmer.stem(lemmatization)\n",
        "    return stemming"
      ]
    },
    {
      "cell_type": "code",
      "execution_count": null,
      "metadata": {
        "id": "alsMh7InAHr-"
      },
      "outputs": [],
      "source": [
        "def text_preprocess(text):\n",
        "    result = []\n",
        "    for token in simple_preprocess(text):\n",
        "        if token not in stopwords and len(token) > 3:\n",
        "            result.append(lemmatization_stemming(token))\n",
        "    return result"
      ]
    },
    {
      "cell_type": "code",
      "execution_count": null,
      "metadata": {
        "id": "3X6fjLJhAHr_",
        "outputId": "95eb3282-d519-4b02-e712-9cf0dd2b2ca4"
      },
      "outputs": [
        {
          "data": {
            "text/plain": [
              "128      [sit, chair, watch, plenti, crazi, shit, frien...\n",
              "129      [fuckin, dick, pain, drink, beer, slice, charl...\n",
              "909      [sing, radiohead, lung, boom, blare, fall, lov...\n",
              "929      [know, rock, roll, care, makeup, like, better,...\n",
              "2089     [attent, babi, tell, littl, wonder, flawless, ...\n",
              "2108     [stand, alpha, beta, park, watch, forget, watc...\n",
              "2116     [heart, wood, bide, time, recit, memor, line, ...\n",
              "2132     [wheel, polish, steel, tire, grab, road, seat,...\n",
              "2134     [feel, alright, today, feel, great, catch, tod...\n",
              "2144     [turn, screw, tear, bridg, flimsi, busi, like,...\n",
              "2711     [turn, know, safe, right, lay, face, face, gir...\n",
              "2724     [think, waterb, sheet, soak, glad, gotta, work...\n",
              "2725     [hook, need, nigga, section, bitch, bitch, bit...\n",
              "2766     [vers, littl, mama, heard, lost, come, love, h...\n",
              "2783     [vers, time, time, tell, chang, right, probabl...\n",
              "2790     [vers, liquor, get, thicker, help, stare, girl...\n",
              "2893     [bitter, mayb, littl, know, appl, worm, singl,...\n",
              "2921     [know, tonight, feel, littl, control, wanna, c...\n",
              "3705     [cosmic, cowboy, time, player, like, pantera, ...\n",
              "3821     [blast, time, blow, best, cover, self, destroy...\n",
              "3843     [girl, begin, seen, bout, said, friend, think,...\n",
              "4508     [vers, boomin, south, gwinnett, like, like, gi...\n",
              "4510     [know, girl, think, song, confus, one, choru, ...\n",
              "4512     [vers, word, road, cliqu, blow, gotta, tell, k...\n",
              "4513     [type, night, morn, come, soon, watch, go, wen...\n",
              "4515     [psychot, icon, want, sober, lift, mistress, c...\n",
              "4516     [strung, compliment, overdos, confid, start, f...\n",
              "4518     [drake, ex, live, texa, like, georg, strait, g...\n",
              "4524     [intro, wallet, wallet, wallet, wallet, wallet...\n",
              "4525     [day, get, money, way, dirti, clean, glass, co...\n",
              "                               ...                        \n",
              "57464    [life, pose, like, robberi, poverti, hour, shi...\n",
              "57466    [poetri, motion, daddi, person, ladi, gentlema...\n",
              "57468    [unit, aiyyo, dollar, pocket, aiyyo, nois, bit...\n",
              "57469    [unit, better, kill, lemm, nigga, buck, brush,...\n",
              "57470    [intro, nigga, unit, nigga, dayum, neva, knew,...\n",
              "57471    [young, buck, young, buck, flip, david, banner...\n",
              "57473    [young, know, ecstasi, grand, hustl, nigga, ca...\n",
              "57474    [hannenin, young, fuckin, teach, nigga, fuckin...\n",
              "57476    [know, know, niggaz, swear, know, smokin, thin...\n",
              "57506    [hook, motherfuck, slow, hell, go, jail, caus,...\n",
              "57507    [hook, booti, club, playa, break, pimp, club, ...\n",
              "57509    [sean, paul, john, youngbloodz, know, homeboy,...\n",
              "57510    [money, drive, car, everybodi, know, money, dr...\n",
              "57514    [youngbloodz, streetboy, everybodi, pull, whip...\n",
              "57519    [hide, pride, afraid, share, insid, walk, righ...\n",
              "57520    [life, fill, path, choic, come, think, straigh...\n",
              "57522    [wake, live, wake, live, life, caus, life, mea...\n",
              "57524    [octob, year, born, young, nigga, readi, blood...\n",
              "57527    [know, weed, song, album, bitch, smoke, stay, ...\n",
              "57528    [niggaz, thug, lordz, bitch, salut, nigga, sal...\n",
              "57530    [choru, hoe, lose, mind, stunt, dope, boy, los...\n",
              "57537    [leav, drank, feel, feel, feel, good, feel, li...\n",
              "57539    [time, hate, fuck, badg, wish, bitch, slow, tr...\n",
              "57541    [know, nigga, king, ghetto, time, shit, good, ...\n",
              "57543    [talk, sinner, tone, better, known, essay, coc...\n",
              "57544    [bitch, fuck, motherfuck, citi, bitch, know, h...\n",
              "57545    [hook, guerilla, till, mama, come, blast, guer...\n",
              "57550    [choru, lord, tell, child, thing, gonna, easie...\n",
              "57560    [bitch, nina, enemi, want, nigga, seen, hater,...\n",
              "57561    [houston, texa, citi, ridgemont, block, trust,...\n",
              "Name: text, Length: 1356, dtype: object"
            ]
          },
          "execution_count": 25,
          "metadata": {},
          "output_type": "execute_result"
        }
      ],
      "source": [
        "processed_lyrics = song_data_1['text'].map(text_preprocess)\n",
        "processed_lyrics"
      ]
    },
    {
      "cell_type": "code",
      "execution_count": null,
      "metadata": {
        "id": "N4pRiROFAHsA"
      },
      "outputs": [],
      "source": [
        "dictionary = Dictionary(processed_lyrics)\n",
        "dictionary.filter_extremes()"
      ]
    },
    {
      "cell_type": "code",
      "execution_count": null,
      "metadata": {
        "id": "GmZQalqYAHsB"
      },
      "outputs": [],
      "source": [
        "bow_corpus = [dictionary.doc2bow(doc) for doc in processed_lyrics]\n",
        "#bow_corpus"
      ]
    },
    {
      "cell_type": "code",
      "execution_count": null,
      "metadata": {
        "id": "F5KdZCJAAHsC"
      },
      "outputs": [],
      "source": [
        "tfidf_model = TfidfModel(bow_corpus)\n",
        "tfidf_corpus = tfidf_model[bow_corpus]"
      ]
    },
    {
      "cell_type": "markdown",
      "metadata": {
        "id": "HGOA9VtmAHsD"
      },
      "source": [
        "## LDA for explicit songs"
      ]
    },
    {
      "cell_type": "code",
      "execution_count": null,
      "metadata": {
        "id": "NDcLsxFiAHsD",
        "outputId": "b45aa659-1971-4dd4-da69-6bedca3b3c86"
      },
      "outputs": [
        {
          "name": "stdout",
          "output_type": "stream",
          "text": [
            "Topic: 0 \n",
            "Words: 0.003*\"nigga\" + 0.003*\"choru\" + 0.003*\"love\" + 0.003*\"girl\" + 0.003*\"gonna\" + 0.003*\"want\" + 0.003*\"babi\" + 0.003*\"shit\" + 0.002*\"bitch\" + 0.002*\"gotta\"\n",
            "Topic: 1 \n",
            "Words: 0.005*\"nigga\" + 0.003*\"love\" + 0.003*\"bitch\" + 0.003*\"right\" + 0.003*\"feel\" + 0.002*\"want\" + 0.002*\"life\" + 0.002*\"time\" + 0.002*\"come\" + 0.002*\"babi\"\n"
          ]
        }
      ],
      "source": [
        "lda_model3 = gensim.models.ldamodel.LdaModel(tfidf_corpus, num_topics=2, id2word=dictionary)\n",
        "for idx, topic in lda_model3.print_topics(-1):\n",
        "    print('Topic: {} \\nWords: {}'.format(idx, topic))"
      ]
    },
    {
      "cell_type": "code",
      "execution_count": null,
      "metadata": {
        "id": "dEC2UROjAHsE",
        "outputId": "9367f328-90da-4185-8d5e-dc4177980a9c"
      },
      "outputs": [
        {
          "name": "stderr",
          "output_type": "stream",
          "text": [
            "/Users/yaojiaqi/anaconda3/lib/python3.7/site-packages/pyLDAvis/_prepare.py:257: FutureWarning: Sorting because non-concatenation axis is not aligned. A future version\n",
            "of pandas will change to not sort by default.\n",
            "\n",
            "To accept the future behavior, pass 'sort=False'.\n",
            "\n",
            "To retain the current behavior and silence the warning, pass 'sort=True'.\n",
            "\n",
            "  return pd.concat([default_term_info] + list(topic_dfs))\n"
          ]
        },
        {
          "data": {
            "text/html": [
              "\n",
              "<link rel=\"stylesheet\" type=\"text/css\" href=\"https://cdn.rawgit.com/bmabey/pyLDAvis/files/ldavis.v1.0.0.css\">\n",
              "\n",
              "\n",
              "<div id=\"ldavis_el3912111220854717677113334\"></div>\n",
              "<script type=\"text/javascript\">\n",
              "\n",
              "var ldavis_el3912111220854717677113334_data = {\"mdsDat\": {\"x\": [0.00498991459608078, -0.00498991459608078], \"y\": [0.0, 0.0], \"topics\": [1, 2], \"cluster\": [1, 1], \"Freq\": [52.47251510620117, 47.52748107910156]}, \"tinfo\": {\"Category\": [\"Default\", \"Default\", \"Default\", \"Default\", \"Default\", \"Default\", \"Default\", \"Default\", \"Default\", \"Default\", \"Default\", \"Default\", \"Default\", \"Default\", \"Default\", \"Default\", \"Default\", \"Default\", \"Default\", \"Default\", \"Default\", \"Default\", \"Default\", \"Default\", \"Default\", \"Default\", \"Default\", \"Default\", \"Default\", \"Default\", \"Topic1\", \"Topic1\", \"Topic1\", \"Topic1\", \"Topic1\", \"Topic1\", \"Topic1\", \"Topic1\", \"Topic1\", \"Topic1\", \"Topic1\", \"Topic1\", \"Topic1\", \"Topic1\", \"Topic1\", \"Topic1\", \"Topic1\", \"Topic1\", \"Topic1\", \"Topic1\", \"Topic1\", \"Topic1\", \"Topic1\", \"Topic1\", \"Topic1\", \"Topic1\", \"Topic1\", \"Topic1\", \"Topic1\", \"Topic1\", \"Topic1\", \"Topic1\", \"Topic1\", \"Topic1\", \"Topic1\", \"Topic1\", \"Topic1\", \"Topic1\", \"Topic1\", \"Topic1\", \"Topic1\", \"Topic1\", \"Topic1\", \"Topic1\", \"Topic1\", \"Topic1\", \"Topic1\", \"Topic1\", \"Topic1\", \"Topic1\", \"Topic1\", \"Topic1\", \"Topic1\", \"Topic1\", \"Topic1\", \"Topic1\", \"Topic1\", \"Topic1\", \"Topic1\", \"Topic1\", \"Topic1\", \"Topic1\", \"Topic1\", \"Topic1\", \"Topic1\", \"Topic1\", \"Topic1\", \"Topic1\", \"Topic1\", \"Topic1\", \"Topic1\", \"Topic2\", \"Topic2\", \"Topic2\", \"Topic2\", \"Topic2\", \"Topic2\", \"Topic2\", \"Topic2\", \"Topic2\", \"Topic2\", \"Topic2\", \"Topic2\", \"Topic2\", \"Topic2\", \"Topic2\", \"Topic2\", \"Topic2\", \"Topic2\", \"Topic2\", \"Topic2\", \"Topic2\", \"Topic2\", \"Topic2\", \"Topic2\", \"Topic2\", \"Topic2\", \"Topic2\", \"Topic2\", \"Topic2\", \"Topic2\", \"Topic2\", \"Topic2\", \"Topic2\", \"Topic2\", \"Topic2\", \"Topic2\", \"Topic2\", \"Topic2\", \"Topic2\", \"Topic2\", \"Topic2\", \"Topic2\", \"Topic2\", \"Topic2\", \"Topic2\", \"Topic2\", \"Topic2\", \"Topic2\", \"Topic2\", \"Topic2\", \"Topic2\", \"Topic2\", \"Topic2\", \"Topic2\", \"Topic2\", \"Topic2\", \"Topic2\", \"Topic2\", \"Topic2\", \"Topic2\", \"Topic2\", \"Topic2\", \"Topic2\", \"Topic2\", \"Topic2\", \"Topic2\", \"Topic2\", \"Topic2\", \"Topic2\"], \"Freq\": [15.0, 13.0, 8.0, 21.0, 4.0, 13.0, 10.0, 8.0, 7.0, 2.0, 7.0, 12.0, 17.0, 6.0, 9.0, 11.0, 9.0, 20.0, 6.0, 11.0, 6.0, 4.0, 3.0, 10.0, 14.0, 7.0, 5.0, 9.0, 8.0, 14.0, 3.393311023712158, 7.867781162261963, 1.2712688446044922, 5.48644495010376, 1.479449987411499, 4.899998188018799, 1.473475694656372, 1.6873536109924316, 2.4650723934173584, 2.8976662158966064, 2.155362606048584, 1.2644002437591553, 3.228226661682129, 1.7012418508529663, 2.3710460662841797, 1.5896916389465332, 2.122851610183716, 1.5380538702011108, 1.4659864902496338, 3.698188543319702, 4.0811333656311035, 1.3908777236938477, 3.151721954345703, 3.8917224407196045, 0.9166482090950012, 2.69004225730896, 1.095518946647644, 1.541817545890808, 1.1622480154037476, 1.64789879322052, 2.4758100509643555, 11.648512840270996, 5.312710285186768, 3.844499349594116, 6.842903137207031, 3.7144052982330322, 4.893407821655273, 20.451961517333984, 5.863450527191162, 7.006424427032471, 9.975397109985352, 3.30618953704834, 6.211935520172119, 4.401786804199219, 11.016478538513184, 14.376022338867188, 8.80228328704834, 8.876701354980469, 6.1242852210998535, 11.721688270568848, 5.966837406158447, 6.5380706787109375, 8.244712829589844, 9.511571884155273, 7.514766693115234, 9.162459373474121, 8.67760181427002, 5.429094314575195, 9.407922744750977, 10.580683708190918, 7.595527648925781, 6.945252418518066, 8.476876258850098, 7.423192501068115, 9.269208908081055, 8.885551452636719, 8.875200271606445, 8.694056510925293, 6.427006721496582, 6.771604537963867, 6.649870872497559, 2.2262625694274902, 3.3574957847595215, 6.021582126617432, 10.974536895751953, 1.6292113065719604, 1.3799062967300415, 9.299314498901367, 1.812453031539917, 1.1057136058807373, 1.1109031438827515, 1.8513303995132446, 2.66884446144104, 2.0353121757507324, 2.406111717224121, 2.2464711666107178, 1.6025656461715698, 5.029821395874023, 1.8763418197631836, 1.2826950550079346, 1.478302240371704, 5.257735252380371, 4.21997594833374, 1.1327824592590332, 1.1736139059066772, 1.391955852508545, 1.0976221561431885, 0.8034195303916931, 1.371640682220459, 1.019681692123413, 3.1654462814331055, 1.7782114744186401, 8.162150382995605, 3.9947509765625, 3.037417411804199, 5.5065789222717285, 5.925681114196777, 12.355188369750977, 3.491192102432251, 7.611271858215332, 6.756044864654541, 6.709146499633789, 11.1338529586792, 4.7510199546813965, 6.235229015350342, 8.21043872833252, 8.018858909606934, 5.61946439743042, 5.151924133300781, 6.026615142822266, 9.863876342773438, 7.482111930847168, 9.960838317871094, 7.151891708374023, 6.405956745147705, 6.4388957023620605, 10.259676933288574, 5.324173450469971, 11.328021049499512, 12.882963180541992, 9.328659057617188, 8.183948516845703, 7.758245944976807, 7.996829509735107, 7.517971515655518, 7.22067403793335, 6.7521071434021, 6.364576816558838, 6.2712578773498535, 6.2506256103515625], \"Term\": [\"gonna\", \"gotta\", \"came\", \"choru\", \"gimm\", \"live\", \"walk\", \"drop\", \"crazi\", \"kany\", \"pain\", \"kill\", \"right\", \"comin\", \"bout\", \"mind\", \"parti\", \"girl\", \"boom\", \"fuckin\", \"music\", \"goddamn\", \"dude\", \"leav\", \"thing\", \"told\", \"south\", \"wait\", \"work\", \"said\", \"goddamn\", \"walk\", \"modern\", \"pain\", \"legend\", \"boom\", \"pumpkin\", \"excit\", \"anim\", \"drunk\", \"mami\", \"societi\", \"gang\", \"tortur\", \"yesterday\", \"solo\", \"natur\", \"wire\", \"revolut\", \"dark\", \"block\", \"trade\", \"wind\", \"wonder\", \"lot\", \"brick\", \"unto\", \"paradis\", \"strut\", \"creat\", \"felt\", \"right\", \"hold\", \"freak\", \"hook\", \"tast\", \"smoke\", \"nigga\", \"bodi\", \"gone\", \"life\", \"style\", \"eye\", \"death\", \"feel\", \"love\", \"think\", \"tell\", \"roll\", \"bitch\", \"tri\", \"face\", \"good\", \"time\", \"hate\", \"money\", \"need\", \"black\", \"come\", \"want\", \"away\", \"world\", \"wanna\", \"look\", \"babi\", \"shit\", \"girl\", \"choru\", \"turn\", \"better\", \"night\", \"kany\", \"gimm\", \"came\", \"gonna\", \"ash\", \"cocki\", \"gotta\", \"person\", \"loc\", \"whine\", \"key\", \"dude\", \"admit\", \"mane\", \"chop\", \"givin\", \"crazi\", \"dawg\", \"explod\", \"join\", \"drop\", \"comin\", \"extend\", \"askin\", \"fagot\", \"ronni\", \"spaceship\", \"purpos\", \"flawless\", \"south\", \"clap\", \"live\", \"music\", \"tryna\", \"parti\", \"bout\", \"choru\", \"understand\", \"kill\", \"mind\", \"fuckin\", \"girl\", \"told\", \"leav\", \"thing\", \"said\", \"wait\", \"work\", \"play\", \"shit\", \"littl\", \"babi\", \"head\", \"motherfuck\", \"vers\", \"want\", \"burn\", \"love\", \"nigga\", \"bitch\", \"come\", \"wanna\", \"feel\", \"time\", \"money\", \"need\", \"look\", \"tell\", \"life\"], \"Total\": [15.0, 13.0, 8.0, 21.0, 4.0, 13.0, 10.0, 8.0, 7.0, 2.0, 7.0, 12.0, 17.0, 6.0, 9.0, 11.0, 9.0, 20.0, 6.0, 11.0, 6.0, 4.0, 3.0, 10.0, 14.0, 7.0, 5.0, 9.0, 8.0, 14.0, 4.5501179695129395, 10.809852600097656, 1.7533998489379883, 7.584765434265137, 2.045959711074829, 6.829588890075684, 2.0734057426452637, 2.385740280151367, 3.490725517272949, 4.109918594360352, 3.075100898742676, 1.8083314895629883, 4.6252336502075195, 2.4437522888183594, 3.423591375350952, 2.306180477142334, 3.097383975982666, 2.2476112842559814, 2.143524646759033, 5.411267280578613, 5.974105358123779, 2.0392324924468994, 4.62825870513916, 5.720702648162842, 1.3480453491210938, 3.958369731903076, 1.612687349319458, 2.2753026485443115, 1.7164256572723389, 2.4388928413391113, 3.6685099601745605, 17.548446655273438, 7.964482307434082, 5.7754364013671875, 10.463706970214844, 5.601433753967285, 7.498459815979004, 33.334922790527344, 9.106821060180664, 11.093147277832031, 16.226022720336914, 4.998176574707031, 9.962045669555664, 6.890756607055664, 19.013307571411133, 25.704044342041016, 14.998483657836914, 15.147958755493164, 9.995199203491211, 21.05034637451172, 9.777655601501465, 10.901847839355469, 14.37558364868164, 17.029542922973633, 12.892313957214355, 16.383132934570312, 15.429708480834961, 8.831121444702148, 17.59187126159668, 20.840360641479492, 13.74605655670166, 12.314410209655762, 16.235122680664062, 13.787769317626953, 19.23004722595215, 18.749427795410156, 20.009052276611328, 21.049243927001953, 11.157262802124023, 12.725624084472656, 12.732168197631836, 2.9933464527130127, 4.525698184967041, 8.269453048706055, 15.520137786865234, 2.340045690536499, 1.9845860004425049, 13.504322052001953, 2.6483654975891113, 1.6302956342697144, 1.63991117477417, 2.742537021636963, 3.9928359985351562, 3.063490867614746, 3.6626691818237305, 3.447861671447754, 2.463674545288086, 7.757575035095215, 2.894456386566162, 1.9809036254882812, 2.290952682495117, 8.161688804626465, 6.56534481048584, 1.7685903310775757, 1.8333065509796143, 2.1827001571655273, 1.7296595573425293, 1.2682912349700928, 2.1667444705963135, 1.610886812210083, 5.004969596862793, 2.812925338745117, 13.117635726928711, 6.37779426574707, 4.881985187530518, 9.021808624267578, 9.773222923278809, 21.049243927001953, 5.647553443908691, 12.896300315856934, 11.395622253417969, 11.533562660217285, 20.009052276611328, 7.937167644500732, 10.694263458251953, 14.613076210021973, 14.43466567993164, 9.689790725708008, 8.796751976013184, 10.558591842651367, 18.749427795410156, 13.686046600341797, 19.23004722595215, 13.061702728271484, 11.503111839294434, 11.701436042785645, 20.840360641479492, 9.34782600402832, 25.704044342041016, 33.334922790527344, 21.05034637451172, 17.59187126159668, 16.235122680664062, 19.013307571411133, 17.029542922973633, 16.383132934570312, 15.429708480834961, 13.787769317626953, 15.147958755493164, 16.226022720336914], \"loglift\": [30.0, 29.0, 28.0, 27.0, 26.0, 25.0, 24.0, 23.0, 22.0, 21.0, 20.0, 19.0, 18.0, 17.0, 16.0, 15.0, 14.0, 13.0, 12.0, 11.0, 10.0, 9.0, 8.0, 7.0, 6.0, 5.0, 4.0, 3.0, 2.0, 1.0, 0.351500004529953, 0.3271999955177307, 0.32330000400543213, 0.32100000977516174, 0.3206999897956848, 0.31290000677108765, 0.30329999327659607, 0.2985000014305115, 0.296999990940094, 0.2953999936580658, 0.28949999809265137, 0.2870999872684479, 0.28529998660087585, 0.2827000021934509, 0.2775000035762787, 0.2727999985218048, 0.2671000063419342, 0.265500009059906, 0.26499998569488525, 0.26420000195503235, 0.2637999951839447, 0.2621999979019165, 0.2606000006198883, 0.2596000134944916, 0.25920000672340393, 0.25859999656677246, 0.2581999897956848, 0.2556999921798706, 0.2549999952316284, 0.25279998779296875, 0.2517000138759613, 0.23510000109672546, 0.23999999463558197, 0.2379000037908554, 0.22020000219345093, 0.23409999907016754, 0.21809999644756317, 0.15639999508857727, 0.2046000063419342, 0.18539999425411224, 0.15839999914169312, 0.23160000145435333, 0.17260000109672546, 0.19670000672340393, 0.09910000115633011, 0.06379999965429306, 0.11190000176429749, 0.1103999987244606, 0.1550000011920929, 0.05939999967813492, 0.1509999930858612, 0.13359999656677246, 0.08889999985694885, 0.06239999830722809, 0.10509999841451645, 0.06369999796152115, 0.06930000334978104, 0.15839999914169312, 0.01899999938905239, -0.032999999821186066, 0.05169999971985817, 0.0722000002861023, -0.004999999888241291, 0.025699999183416367, -0.08489999920129776, -0.10189999639987946, -0.1679999977350235, -0.23929999768733978, 0.093299999833107, 0.014000000432133675, -0.004699999932199717, 0.44780001044273376, 0.44530001282691956, 0.42660000920295715, 0.39730000495910645, 0.38179999589920044, 0.3804999887943268, 0.3707999885082245, 0.3646000027656555, 0.3555999994277954, 0.35440000891685486, 0.35089999437332153, 0.3409999907016754, 0.33500000834465027, 0.3237000107765198, 0.3154999911785126, 0.31380000710487366, 0.31060001254081726, 0.31040000915527344, 0.3093000054359436, 0.3057999908924103, 0.30410000681877136, 0.3018999993801117, 0.29840001463890076, 0.2978000044822693, 0.2939999997615814, 0.2890999913215637, 0.2872999906539917, 0.2865999937057495, 0.2865999937057495, 0.2856999933719635, 0.28519999980926514, 0.2694000005722046, 0.2759999930858612, 0.26930001378059387, 0.2502000033855438, 0.2434999942779541, 0.2110999971628189, 0.2628999948501587, 0.21660000085830688, 0.22110000252723694, 0.2020999938249588, 0.15770000219345093, 0.23070000112056732, 0.20440000295639038, 0.16740000247955322, 0.15600000321865082, 0.19900000095367432, 0.20880000293254852, 0.18310000002384186, 0.10159999877214432, 0.14000000059604645, 0.0860000029206276, 0.14159999787807465, 0.15850000083446503, 0.14650000631809235, 0.03519999980926514, 0.1809999942779541, -0.0754999965429306, -0.20679999887943268, -0.07000000029802322, -0.021400000900030136, 0.005400000140070915, -0.12219999730587006, -0.0737999975681305, -0.07540000230073929, -0.08259999752044678, -0.029200000688433647, -0.1379999965429306, -0.210099995136261], \"logprob\": [30.0, 29.0, 28.0, 27.0, 26.0, 25.0, 24.0, 23.0, 22.0, 21.0, 20.0, 19.0, 18.0, 17.0, 16.0, 15.0, 14.0, 13.0, 12.0, 11.0, 10.0, 9.0, 8.0, 7.0, 6.0, 5.0, 4.0, 3.0, 2.0, 1.0, -7.14709997177124, -6.306099891662598, -8.128899574279785, -6.666600227355957, -7.97730016708374, -6.779699802398682, -7.981299877166748, -7.845799922943115, -7.466700077056885, -7.304999828338623, -7.60099983215332, -8.134300231933594, -7.197000026702881, -7.837600231170654, -7.5055999755859375, -7.905399799346924, -7.616199970245361, -7.938399791717529, -7.986400127410889, -7.061100006103516, -6.962500095367432, -8.038999557495117, -7.2210001945495605, -7.0100998878479, -8.456000328063965, -7.37939977645874, -8.277700424194336, -7.935999870300293, -8.218600273132324, -7.8694000244140625, -7.462399959564209, -5.913700103759766, -6.698800086975098, -7.022299766540527, -6.445700168609619, -7.056700229644775, -6.781000137329102, -5.350800037384033, -6.600200176239014, -6.422100067138672, -6.06879997253418, -7.173099994659424, -6.542500019073486, -6.886899948120117, -5.9695000648498535, -5.703400135040283, -6.193900108337402, -6.185500144958496, -6.556700229644775, -5.90749979019165, -6.582699775695801, -6.491300106048584, -6.259399890899658, -6.116399765014648, -6.352099895477295, -6.153800010681152, -6.208199977874756, -6.677199840545654, -6.127399921417236, -6.009900093078613, -6.341400146484375, -6.4309000968933105, -6.231599807739258, -6.364299774169922, -6.142199993133545, -6.184500217437744, -6.185699939727783, -6.206299781799316, -6.508399963378906, -6.456200122833252, -6.474299907684326, -7.469600200653076, -7.058700084686279, -6.474599838256836, -5.8744001388549805, -7.781799793243408, -7.94789981842041, -6.039999961853027, -7.675300121307373, -8.169500350952148, -8.164799690246582, -7.6539998054504395, -7.288300037384033, -7.559299945831299, -7.391900062561035, -7.460599899291992, -7.798299789428711, -6.654600143432617, -7.640600204467773, -8.020999908447266, -7.879000186920166, -6.610199928283691, -6.830100059509277, -8.145299911499023, -8.10990047454834, -7.939199924468994, -8.176799774169922, -8.488800048828125, -7.95389986038208, -8.250499725341797, -7.117599964141846, -7.694300174713135, -6.170400142669678, -6.885000228881836, -7.158899784088135, -6.564000129699707, -6.490600109100342, -5.755899906158447, -7.019700050354004, -6.240300178527832, -6.359499931335449, -6.366499900817871, -5.860000133514404, -6.711599826812744, -6.439700126647949, -6.1645002365112305, -6.1880998611450195, -6.543700218200684, -6.6305999755859375, -6.473800182342529, -5.981100082397461, -6.257400035858154, -5.97130012512207, -6.302599906921387, -6.412700176239014, -6.407599925994873, -5.941699981689453, -6.597700119018555, -5.842700004577637, -5.714000225067139, -6.036900043487549, -6.167799949645996, -6.221199989318848, -6.190899848937988, -6.252600193023682, -6.293000221252441, -6.360099792480469, -6.4191999435424805, -6.434000015258789, -6.437300205230713]}, \"token.table\": {\"Topic\": [1, 2, 1, 2, 1, 2, 1, 2, 1, 2, 1, 2, 1, 2, 1, 2, 1, 2, 1, 2, 1, 2, 1, 2, 1, 2, 1, 2, 1, 2, 1, 2, 1, 2, 1, 2, 1, 2, 1, 2, 1, 2, 1, 2, 1, 2, 1, 2, 1, 2, 1, 2, 1, 2, 1, 2, 1, 2, 1, 2, 1, 2, 1, 2, 1, 2, 1, 2, 1, 2, 1, 2, 1, 2, 1, 2, 1, 2, 1, 2, 1, 2, 1, 2, 1, 2, 1, 2, 1, 2, 1, 2, 1, 2, 1, 2, 1, 2, 1, 2, 1, 2, 1, 2, 1, 2, 1, 2, 1, 2, 1, 2, 1, 2, 1, 2, 1, 2, 1, 2, 1, 2, 1, 2, 1, 2, 1, 2, 1, 2, 1, 1, 2, 1, 2, 1, 2, 1, 2, 1, 1, 2, 1, 2, 1, 2, 1, 2, 1, 2, 1, 2, 1, 2, 1, 2, 1, 2, 1, 2, 1, 2, 1, 2, 1, 2, 1, 2, 1, 2, 1, 2, 1, 2, 1, 2, 1, 2, 1, 2, 1, 2, 1, 2, 1, 2, 1, 2, 2, 1, 2, 1, 2, 1, 2, 1, 2, 1, 2, 1, 2, 1, 2, 1, 2, 1, 2, 1, 2, 1, 2, 1, 2, 1, 2, 1, 2, 1, 2, 1, 2, 1, 2, 1, 2, 1, 2, 1, 2, 1, 2, 1, 2, 1, 2, 1, 2, 1, 2, 1, 2, 1, 2], \"Freq\": [0.3264249861240387, 0.6528499722480774, 0.5729467868804932, 0.2864733934402466, 0.42734208703041077, 0.8546841740608215, 0.5454624891281128, 0.5454624891281128, 0.5819851160049438, 0.4364888072013855, 0.468017578125, 0.52001953125, 0.5500712394714355, 0.47148963809013367, 0.5700618624687195, 0.4275464117527008, 0.5661795139312744, 0.33970770239830017, 0.6695563197135925, 0.33477815985679626, 0.6588467955589294, 0.3294233977794647, 0.732108473777771, 0.29284340143203735, 0.40928158164024353, 0.6139223575592041, 0.7578877806663513, 0.25262925028800964, 0.42790699005126953, 0.5348837375640869, 0.2418539673089981, 0.7255619168281555, 0.29003483057022095, 0.5800696611404419, 0.42756879329681396, 0.570091724395752, 0.35550180077552795, 0.7110036015510559, 0.503883421421051, 0.503883421421051, 0.5115998983383179, 0.4547554850578308, 0.3046298623085022, 0.6092597246170044, 0.3867187798023224, 0.6445313096046448, 0.820044219493866, 0.410022109746933, 0.7391983866691589, 0.36959919333457947, 0.3454880118370056, 0.6909760236740112, 0.5804877877235413, 0.29024389386177063, 0.36757099628448486, 0.6126183271408081, 0.7299414873123169, 0.24331381916999817, 0.2504485547542572, 0.7513456344604492, 0.8383142352104187, 0.41915711760520935, 0.5048201084136963, 0.5048201084136963, 0.5654220581054688, 0.5654220581054688, 0.6022859215736389, 0.4015239477157593, 0.6420930027961731, 0.36691027879714966, 0.45814812183380127, 0.45814812183380127, 0.578542172908783, 0.420757919549942, 0.5451804995536804, 0.2725902497768402, 0.6207760572433472, 0.6207760572433472, 0.6925883293151855, 0.3462941646575928, 0.4335173964500427, 0.6069243550300598, 0.6486158967018127, 0.21620529890060425, 0.22096037864685059, 0.6628811359405518, 0.4497964084148407, 0.5497511625289917, 0.40589776635169983, 0.8117955327033997, 0.6593235731124878, 0.2197745144367218, 0.631020188331604, 0.36058297753334045, 0.32216209173202515, 0.7087565660476685, 0.5564991235733032, 0.4173743724822998, 0.2962014675140381, 0.6664533019065857, 0.6205247640609741, 0.38782796263694763, 0.45935818552970886, 0.5359178781509399, 0.627787172794342, 0.37667232751846313, 0.6689789891242981, 0.38227370381355286, 0.43649962544441223, 0.43649962544441223, 0.3340742588043213, 0.6681485176086426, 0.3646259009838104, 0.7292518019676208, 0.3877080976963043, 0.6203329563140869, 0.37403231859207153, 0.5610484480857849, 0.48876819014549255, 0.48876819014549255, 0.6162939667701721, 0.3697763979434967, 0.4384027123451233, 0.511469841003418, 0.3811662495136261, 0.6098660230636597, 0.6133856773376465, 0.6133856773376465, 0.5076963305473328, 0.4351682960987091, 0.7418147921562195, 0.5446613430976868, 0.4279482066631317, 0.6503851413726807, 0.32519257068634033, 0.27302491664886475, 0.5460498332977295, 0.4387649893760681, 0.6142709851264954, 0.5703205466270447, 0.5493454933166504, 0.42726871371269226, 0.4346649944782257, 0.5215979814529419, 0.31358805298805237, 0.6271761059761047, 0.6457061767578125, 0.32285308837890625, 0.5832903385162354, 0.4536702632904053, 0.5999714136123657, 0.3899814188480377, 0.5497885346412659, 0.4712473154067993, 0.6592161655426025, 0.26368647813796997, 0.8790039420127869, 0.43950197100639343, 0.4433700740337372, 0.6650550961494446, 0.3775913715362549, 0.7551827430725098, 0.4735479950904846, 0.5682575702667236, 0.48229825496673584, 0.48229825496673584, 0.4615218937397003, 0.4615218937397003, 0.46652135252952576, 0.46652135252952576, 0.6838212013244629, 0.34191060066223145, 0.6002882122993469, 0.40019211173057556, 0.5781484842300415, 0.5781484842300415, 0.41566601395606995, 0.5542213320732117, 0.4800146520137787, 0.5333496332168579, 0.6668035984039307, 0.40008217096328735, 0.5529959797859192, 0.5529959797859192, 0.8672348260879517, 0.43361741304397583, 0.39960283041000366, 0.5994042158126831, 0.7884624600410461, 0.5826060771942139, 0.5826060771942139, 0.6002188920974731, 0.40014591813087463, 0.7141028642654419, 0.35705143213272095, 0.5941394567489624, 0.3960929811000824, 0.41059115529060364, 0.5474548935890198, 0.6000606417655945, 0.4000404477119446, 0.5872148275375366, 0.4697718620300293, 0.37796857953071594, 0.6299476623535156, 0.8184135556221008, 0.4092067778110504, 0.49038058519363403, 0.49038058519363403, 0.613644003868103, 0.40909603238105774, 0.4096693992614746, 0.6145040988922119, 0.5377662777900696, 0.44813859462738037, 0.354135662317276, 0.5312034487724304, 0.6200829744338989, 0.6200829744338989, 0.427297979593277, 0.5127575993537903, 0.41280561685562134, 0.6192083954811096, 0.7400655746459961, 0.27752459049224854, 0.4927588403224945, 0.4927588403224945, 0.527821958065033, 0.47983813285827637, 0.6097891330718994, 0.6097891330718994, 0.6481919288635254, 0.2160639762878418, 0.8898335695266724, 0.4449167847633362, 0.6992148160934448, 0.3496074080467224, 0.45471328496932983, 0.5683916211128235, 0.5684397220611572, 0.4060283899307251, 0.5841818451881409, 0.29209092259407043], \"Term\": [\"admit\", \"admit\", \"anim\", \"anim\", \"ash\", \"ash\", \"askin\", \"askin\", \"away\", \"away\", \"babi\", \"babi\", \"better\", \"better\", \"bitch\", \"bitch\", \"black\", \"black\", \"block\", \"block\", \"bodi\", \"bodi\", \"boom\", \"boom\", \"bout\", \"bout\", \"brick\", \"brick\", \"burn\", \"burn\", \"came\", \"came\", \"chop\", \"chop\", \"choru\", \"choru\", \"clap\", \"clap\", \"cocki\", \"cocki\", \"come\", \"come\", \"comin\", \"comin\", \"crazi\", \"crazi\", \"creat\", \"creat\", \"dark\", \"dark\", \"dawg\", \"dawg\", \"death\", \"death\", \"drop\", \"drop\", \"drunk\", \"drunk\", \"dude\", \"dude\", \"excit\", \"excit\", \"explod\", \"explod\", \"extend\", \"extend\", \"eye\", \"eye\", \"face\", \"face\", \"fagot\", \"fagot\", \"feel\", \"feel\", \"felt\", \"felt\", \"flawless\", \"flawless\", \"freak\", \"freak\", \"fuckin\", \"fuckin\", \"gang\", \"gang\", \"gimm\", \"gimm\", \"girl\", \"girl\", \"givin\", \"givin\", \"goddamn\", \"goddamn\", \"gone\", \"gone\", \"gonna\", \"gonna\", \"good\", \"good\", \"gotta\", \"gotta\", \"hate\", \"hate\", \"head\", \"head\", \"hold\", \"hold\", \"hook\", \"hook\", \"join\", \"join\", \"kany\", \"kany\", \"key\", \"key\", \"kill\", \"kill\", \"leav\", \"leav\", \"legend\", \"legend\", \"life\", \"life\", \"littl\", \"littl\", \"live\", \"live\", \"loc\", \"loc\", \"look\", \"look\", \"lot\", \"love\", \"love\", \"mami\", \"mami\", \"mane\", \"mane\", \"mind\", \"mind\", \"modern\", \"money\", \"money\", \"motherfuck\", \"motherfuck\", \"music\", \"music\", \"natur\", \"natur\", \"need\", \"need\", \"nigga\", \"nigga\", \"night\", \"night\", \"pain\", \"pain\", \"paradis\", \"paradis\", \"parti\", \"parti\", \"person\", \"person\", \"play\", \"play\", \"pumpkin\", \"pumpkin\", \"purpos\", \"purpos\", \"revolut\", \"revolut\", \"right\", \"right\", \"roll\", \"roll\", \"ronni\", \"ronni\", \"said\", \"said\", \"shit\", \"shit\", \"smoke\", \"smoke\", \"societi\", \"societi\", \"solo\", \"solo\", \"south\", \"south\", \"spaceship\", \"strut\", \"strut\", \"style\", \"style\", \"tast\", \"tast\", \"tell\", \"tell\", \"thing\", \"thing\", \"think\", \"think\", \"time\", \"time\", \"told\", \"told\", \"tortur\", \"tortur\", \"trade\", \"trade\", \"tri\", \"tri\", \"tryna\", \"tryna\", \"turn\", \"turn\", \"understand\", \"understand\", \"unto\", \"unto\", \"vers\", \"vers\", \"wait\", \"wait\", \"walk\", \"walk\", \"wanna\", \"wanna\", \"want\", \"want\", \"whine\", \"whine\", \"wind\", \"wind\", \"wire\", \"wire\", \"wonder\", \"wonder\", \"work\", \"work\", \"world\", \"world\", \"yesterday\", \"yesterday\"]}, \"R\": 30, \"lambda.step\": 0.01, \"plot.opts\": {\"xlab\": \"PC1\", \"ylab\": \"PC2\"}, \"topic.order\": [2, 1]};\n",
              "\n",
              "function LDAvis_load_lib(url, callback){\n",
              "  var s = document.createElement('script');\n",
              "  s.src = url;\n",
              "  s.async = true;\n",
              "  s.onreadystatechange = s.onload = callback;\n",
              "  s.onerror = function(){console.warn(\"failed to load library \" + url);};\n",
              "  document.getElementsByTagName(\"head\")[0].appendChild(s);\n",
              "}\n",
              "\n",
              "if(typeof(LDAvis) !== \"undefined\"){\n",
              "   // already loaded: just create the visualization\n",
              "   !function(LDAvis){\n",
              "       new LDAvis(\"#\" + \"ldavis_el3912111220854717677113334\", ldavis_el3912111220854717677113334_data);\n",
              "   }(LDAvis);\n",
              "}else if(typeof define === \"function\" && define.amd){\n",
              "   // require.js is available: use it to load d3/LDAvis\n",
              "   require.config({paths: {d3: \"https://cdnjs.cloudflare.com/ajax/libs/d3/3.5.5/d3.min\"}});\n",
              "   require([\"d3\"], function(d3){\n",
              "      window.d3 = d3;\n",
              "      LDAvis_load_lib(\"https://cdn.rawgit.com/bmabey/pyLDAvis/files/ldavis.v1.0.0.js\", function(){\n",
              "        new LDAvis(\"#\" + \"ldavis_el3912111220854717677113334\", ldavis_el3912111220854717677113334_data);\n",
              "      });\n",
              "    });\n",
              "}else{\n",
              "    // require.js not available: dynamically load d3 & LDAvis\n",
              "    LDAvis_load_lib(\"https://cdnjs.cloudflare.com/ajax/libs/d3/3.5.5/d3.min.js\", function(){\n",
              "         LDAvis_load_lib(\"https://cdn.rawgit.com/bmabey/pyLDAvis/files/ldavis.v1.0.0.js\", function(){\n",
              "                 new LDAvis(\"#\" + \"ldavis_el3912111220854717677113334\", ldavis_el3912111220854717677113334_data);\n",
              "            })\n",
              "         });\n",
              "}\n",
              "</script>"
            ],
            "text/plain": [
              "PreparedData(topic_coordinates=             x    y  topics  cluster       Freq\n",
              "topic                                          \n",
              "1      0.00499  0.0       1        1  52.472515\n",
              "0     -0.00499  0.0       2        1  47.527481, topic_info=     Category       Freq        Term      Total  loglift  logprob\n",
              "term                                                             \n",
              "123   Default  15.000000       gonna  15.000000  30.0000  30.0000\n",
              "331   Default  13.000000       gotta  13.000000  29.0000  29.0000\n",
              "8     Default   8.000000        came   8.000000  28.0000  28.0000\n",
              "411   Default  21.000000       choru  21.000000  27.0000  27.0000\n",
              "1183  Default   4.000000        gimm   4.000000  26.0000  26.0000\n",
              "129   Default  13.000000        live  13.000000  25.0000  25.0000\n",
              "179   Default  10.000000        walk  10.000000  24.0000  24.0000\n",
              "585   Default   8.000000        drop   8.000000  23.0000  23.0000\n",
              "10    Default   7.000000       crazi   7.000000  22.0000  22.0000\n",
              "770   Default   2.000000        kany   2.000000  21.0000  21.0000\n",
              "87    Default   7.000000        pain   7.000000  20.0000  20.0000\n",
              "204   Default  12.000000        kill  12.000000  19.0000  19.0000\n",
              "195   Default  17.000000       right  17.000000  18.0000  18.0000\n",
              "892   Default   6.000000       comin   6.000000  17.0000  17.0000\n",
              "290   Default   9.000000        bout   9.000000  16.0000  16.0000\n",
              "225   Default  11.000000        mind  11.000000  15.0000  15.0000\n",
              "89    Default   9.000000       parti   9.000000  14.0000  14.0000\n",
              "170   Default  20.000000        girl  20.000000  13.0000  13.0000\n",
              "112   Default   6.000000        boom   6.000000  12.0000  12.0000\n",
              "74    Default  11.000000      fuckin  11.000000  11.0000  11.0000\n",
              "464   Default   6.000000       music   6.000000  10.0000  10.0000\n",
              "2177  Default   4.000000     goddamn   4.000000   9.0000   9.0000\n",
              "365   Default   3.000000        dude   3.000000   8.0000   8.0000\n",
              "81    Default  10.000000        leav  10.000000   7.0000   7.0000\n",
              "314   Default  14.000000       thing  14.000000   6.0000   6.0000\n",
              "54    Default   7.000000        told   7.000000   5.0000   5.0000\n",
              "568   Default   5.000000       south   5.000000   4.0000   4.0000\n",
              "410   Default   9.000000        wait   9.000000   3.0000   3.0000\n",
              "258   Default   8.000000        work   8.000000   2.0000   2.0000\n",
              "41    Default  14.000000        said  14.000000   1.0000   1.0000\n",
              "...       ...        ...         ...        ...      ...      ...\n",
              "225    Topic2   6.756045        mind  11.395622   0.2211  -6.3595\n",
              "74     Topic2   6.709146      fuckin  11.533563   0.2021  -6.3665\n",
              "170    Topic2  11.133853        girl  20.009052   0.1577  -5.8600\n",
              "54     Topic2   4.751020        told   7.937168   0.2307  -6.7116\n",
              "81     Topic2   6.235229        leav  10.694263   0.2044  -6.4397\n",
              "314    Topic2   8.210439       thing  14.613076   0.1674  -6.1645\n",
              "41     Topic2   8.018859        said  14.434666   0.1560  -6.1881\n",
              "410    Topic2   5.619464        wait   9.689791   0.1990  -6.5437\n",
              "258    Topic2   5.151924        work   8.796752   0.2088  -6.6306\n",
              "39     Topic2   6.026615        play  10.558592   0.1831  -6.4738\n",
              "42     Topic2   9.863876        shit  18.749428   0.1016  -5.9811\n",
              "150    Topic2   7.482112       littl  13.686047   0.1400  -6.2574\n",
              "164    Topic2   9.960838        babi  19.230047   0.0860  -5.9713\n",
              "20     Topic2   7.151892        head  13.061703   0.1416  -6.3026\n",
              "83     Topic2   6.405957  motherfuck  11.503112   0.1585  -6.4127\n",
              "409    Topic2   6.438896        vers  11.701436   0.1465  -6.4076\n",
              "57     Topic2  10.259677        want  20.840361   0.0352  -5.9417\n",
              "637    Topic2   5.324173        burn   9.347826   0.1810  -6.5977\n",
              "130    Topic2  11.328021        love  25.704044  -0.0755  -5.8427\n",
              "386    Topic2  12.882963       nigga  33.334923  -0.2068  -5.7140\n",
              "321    Topic2   9.328659       bitch  21.050346  -0.0700  -6.0369\n",
              "166    Topic2   8.183949        come  17.591871  -0.0214  -6.1678\n",
              "180    Topic2   7.758246       wanna  16.235123   0.0054  -6.2212\n",
              "200    Topic2   7.996830        feel  19.013308  -0.1222  -6.1909\n",
              "161    Topic2   7.517972        time  17.029543  -0.0738  -6.2526\n",
              "337    Topic2   7.220674       money  16.383133  -0.0754  -6.2930\n",
              "85     Topic2   6.752107        need  15.429708  -0.0826  -6.3601\n",
              "28     Topic2   6.364577        look  13.787769  -0.0292  -6.4192\n",
              "106    Topic2   6.271258        tell  15.147959  -0.1380  -6.4340\n",
              "378    Topic2   6.250626        life  16.226023  -0.2101  -6.4373\n",
              "\n",
              "[170 rows x 6 columns], token_table=      Topic      Freq        Term\n",
              "term                             \n",
              "713       1  0.326425       admit\n",
              "713       2  0.652850       admit\n",
              "1529      1  0.572947        anim\n",
              "1529      2  0.286473        anim\n",
              "2863      1  0.427342         ash\n",
              "2863      2  0.854684         ash\n",
              "2078      1  0.545462       askin\n",
              "2078      2  0.545462       askin\n",
              "62        1  0.581985        away\n",
              "62        2  0.436489        away\n",
              "164       1  0.468018        babi\n",
              "164       2  0.520020        babi\n",
              "3         1  0.550071      better\n",
              "3         2  0.471490      better\n",
              "321       1  0.570062       bitch\n",
              "321       2  0.427546       bitch\n",
              "971       1  0.566180       black\n",
              "971       2  0.339708       black\n",
              "1340      1  0.669556       block\n",
              "1340      2  0.334778       block\n",
              "289       1  0.658847        bodi\n",
              "289       2  0.329423        bodi\n",
              "112       1  0.732108        boom\n",
              "112       2  0.292843        boom\n",
              "290       1  0.409282        bout\n",
              "290       2  0.613922        bout\n",
              "1817      1  0.757888       brick\n",
              "1817      2  0.252629       brick\n",
              "637       1  0.427907        burn\n",
              "637       2  0.534884        burn\n",
              "...     ...       ...         ...\n",
              "162       1  0.537766        turn\n",
              "162       2  0.448139        turn\n",
              "235       1  0.354136  understand\n",
              "235       2  0.531203  understand\n",
              "3173      1  0.620083        unto\n",
              "3173      2  0.620083        unto\n",
              "409       1  0.427298        vers\n",
              "409       2  0.512758        vers\n",
              "410       1  0.412806        wait\n",
              "410       2  0.619208        wait\n",
              "179       1  0.740066        walk\n",
              "179       2  0.277525        walk\n",
              "180       1  0.492759       wanna\n",
              "180       2  0.492759       wanna\n",
              "57        1  0.527822        want\n",
              "57        2  0.479838        want\n",
              "3038      1  0.609789       whine\n",
              "3038      2  0.609789       whine\n",
              "2629      1  0.648192        wind\n",
              "2629      2  0.216064        wind\n",
              "61        1  0.889834        wire\n",
              "61        2  0.444917        wire\n",
              "183       1  0.699215      wonder\n",
              "183       2  0.349607      wonder\n",
              "258       1  0.454713        work\n",
              "258       2  0.568392        work\n",
              "318       1  0.568440       world\n",
              "318       2  0.406028       world\n",
              "1107      1  0.584182   yesterday\n",
              "1107      2  0.292091   yesterday\n",
              "\n",
              "[243 rows x 3 columns], R=30, lambda_step=0.01, plot_opts={'xlab': 'PC1', 'ylab': 'PC2'}, topic_order=[2, 1])"
            ]
          },
          "execution_count": 30,
          "metadata": {},
          "output_type": "execute_result"
        }
      ],
      "source": [
        "pyLDAvis.enable_notebook()\n",
        "id2word = dictionary\n",
        "vis = pyLDAvis.gensim.prepare(lda_model3, tfidf_corpus, id2word)\n",
        "vis"
      ]
    },
    {
      "cell_type": "markdown",
      "metadata": {
        "id": "wnKJNpezAHsF"
      },
      "source": [
        "## LDA for non-explicit songs"
      ]
    },
    {
      "cell_type": "code",
      "execution_count": null,
      "metadata": {
        "id": "YPIfg-JaAHsG",
        "outputId": "774601de-aca1-4c66-d59a-8a967d081ced"
      },
      "outputs": [
        {
          "data": {
            "text/plain": [
              "341"
            ]
          },
          "execution_count": 31,
          "metadata": {},
          "output_type": "execute_result"
        }
      ],
      "source": [
        "stopwords = set(STOPWORDS)\n",
        "#stopwords.update(bad_words)\n",
        "stopwords.update([\"yeah\",\"oh\", \"ya\", \"let\"])\n",
        "len(stopwords)"
      ]
    },
    {
      "cell_type": "code",
      "execution_count": null,
      "metadata": {
        "id": "CSW7YemQAHsI"
      },
      "outputs": [],
      "source": [
        "def text_preprocess(text):\n",
        "    result = []\n",
        "    for token in simple_preprocess(text):\n",
        "        if token not in stopwords and len(token) > 3:\n",
        "            result.append(lemmatization_stemming(token))\n",
        "    return result"
      ]
    },
    {
      "cell_type": "code",
      "execution_count": null,
      "metadata": {
        "id": "QneTZKWaAHsJ",
        "outputId": "825a36ee-b38f-455e-e588-618565f15cdd"
      },
      "outputs": [
        {
          "name": "stdout",
          "output_type": "stream",
          "text": [
            "Topic: 0 \n",
            "Words: 0.009*\"safe\" + 0.007*\"fortress\" + 0.006*\"goodby\" + 0.006*\"distanc\" + 0.006*\"feel\" + 0.006*\"love\" + 0.006*\"sacr\" + 0.006*\"chain\" + 0.005*\"mari\" + 0.005*\"tearin\"\n",
            "Topic: 1 \n",
            "Words: 0.008*\"love\" + 0.007*\"want\" + 0.006*\"good\" + 0.005*\"like\" + 0.005*\"littl\" + 0.005*\"come\" + 0.005*\"tonight\" + 0.004*\"gone\" + 0.004*\"babi\" + 0.004*\"caus\"\n",
            "Topic: 2 \n",
            "Words: 0.008*\"lisa\" + 0.007*\"lost\" + 0.007*\"awhil\" + 0.007*\"mighti\" + 0.005*\"lift\" + 0.005*\"travelin\" + 0.005*\"pave\" + 0.004*\"burn\" + 0.004*\"walk\" + 0.004*\"want\"\n",
            "Topic: 3 \n",
            "Words: 0.007*\"tomorrow\" + 0.007*\"eddi\" + 0.006*\"jesu\" + 0.006*\"love\" + 0.005*\"thousand\" + 0.005*\"temptat\" + 0.005*\"year\" + 0.005*\"choru\" + 0.004*\"think\" + 0.004*\"matter\"\n"
          ]
        }
      ],
      "source": [
        "processed_normal_lyrics = song_data_0['text'].map(text_preprocess)\n",
        "\n",
        "normal_dictionary = Dictionary(processed_normal_lyrics)\n",
        "normal_dictionary.filter_extremes()\n",
        "\n",
        "bow_corpus_normal = [normal_dictionary.doc2bow(doc) for doc in processed_normal_lyrics]\n",
        "\n",
        "tfidf_model_normal = TfidfModel(bow_corpus_normal)\n",
        "tfidf_corpus_normal = tfidf_model_normal[bow_corpus_normal]\n",
        "\n",
        "lda_model_normal = gensim.models.ldamodel.LdaModel(tfidf_corpus_normal, num_topics=4, id2word=normal_dictionary)\n",
        "\n",
        "for idx, topic in lda_model_normal.print_topics(-1):\n",
        "    print('Topic: {} \\nWords: {}'.format(idx, topic))"
      ]
    },
    {
      "cell_type": "code",
      "execution_count": null,
      "metadata": {
        "id": "sE3IVVDhAHsK",
        "outputId": "3c0f3018-c666-4421-d62b-d2653ab16c9d"
      },
      "outputs": [
        {
          "name": "stderr",
          "output_type": "stream",
          "text": [
            "/Users/yaojiaqi/anaconda3/lib/python3.7/site-packages/pyLDAvis/_prepare.py:257: FutureWarning: Sorting because non-concatenation axis is not aligned. A future version\n",
            "of pandas will change to not sort by default.\n",
            "\n",
            "To accept the future behavior, pass 'sort=False'.\n",
            "\n",
            "To retain the current behavior and silence the warning, pass 'sort=True'.\n",
            "\n",
            "  return pd.concat([default_term_info] + list(topic_dfs))\n"
          ]
        },
        {
          "data": {
            "text/html": [
              "\n",
              "<link rel=\"stylesheet\" type=\"text/css\" href=\"https://cdn.rawgit.com/bmabey/pyLDAvis/files/ldavis.v1.0.0.css\">\n",
              "\n",
              "\n",
              "<div id=\"ldavis_el391211122170995046473229391\"></div>\n",
              "<script type=\"text/javascript\">\n",
              "\n",
              "var ldavis_el391211122170995046473229391_data = {\"mdsDat\": {\"x\": [-0.09025422526474132, 0.041352294949442044, 0.01779274908878834, 0.031109181226510865], \"y\": [-0.0012457574106282203, -0.05172160384278454, -0.02843110700845871, 0.08139846826187148], \"topics\": [1, 2, 3, 4], \"cluster\": [1, 1, 1, 1], \"Freq\": [46.153961181640625, 19.983566284179688, 18.82432746887207, 15.038141250610352]}, \"tinfo\": {\"Category\": [\"Default\", \"Default\", \"Default\", \"Default\", \"Default\", \"Default\", \"Default\", \"Default\", \"Default\", \"Default\", \"Default\", \"Default\", \"Default\", \"Default\", \"Default\", \"Default\", \"Default\", \"Default\", \"Default\", \"Default\", \"Default\", \"Default\", \"Default\", \"Default\", \"Default\", \"Default\", \"Default\", \"Default\", \"Default\", \"Default\", \"Topic1\", \"Topic1\", \"Topic1\", \"Topic1\", \"Topic1\", \"Topic1\", \"Topic1\", \"Topic1\", \"Topic1\", \"Topic1\", \"Topic1\", \"Topic1\", \"Topic1\", \"Topic1\", \"Topic1\", \"Topic1\", \"Topic1\", \"Topic1\", \"Topic1\", \"Topic1\", \"Topic1\", \"Topic1\", \"Topic1\", \"Topic1\", \"Topic1\", \"Topic1\", \"Topic1\", \"Topic1\", \"Topic1\", \"Topic1\", \"Topic1\", \"Topic1\", \"Topic1\", \"Topic1\", \"Topic1\", \"Topic1\", \"Topic1\", \"Topic1\", \"Topic1\", \"Topic1\", \"Topic1\", \"Topic1\", \"Topic1\", \"Topic1\", \"Topic1\", \"Topic1\", \"Topic1\", \"Topic1\", \"Topic1\", \"Topic1\", \"Topic1\", \"Topic1\", \"Topic1\", \"Topic1\", \"Topic1\", \"Topic1\", \"Topic1\", \"Topic1\", \"Topic1\", \"Topic1\", \"Topic1\", \"Topic1\", \"Topic1\", \"Topic1\", \"Topic1\", \"Topic1\", \"Topic1\", \"Topic2\", \"Topic2\", \"Topic2\", \"Topic2\", \"Topic2\", \"Topic2\", \"Topic2\", \"Topic2\", \"Topic2\", \"Topic2\", \"Topic2\", \"Topic2\", \"Topic2\", \"Topic2\", \"Topic2\", \"Topic2\", \"Topic2\", \"Topic2\", \"Topic2\", \"Topic2\", \"Topic2\", \"Topic2\", \"Topic2\", \"Topic2\", \"Topic2\", \"Topic2\", \"Topic2\", \"Topic2\", \"Topic2\", \"Topic2\", \"Topic2\", \"Topic2\", \"Topic2\", \"Topic2\", \"Topic2\", \"Topic2\", \"Topic2\", \"Topic2\", \"Topic2\", \"Topic2\", \"Topic2\", \"Topic2\", \"Topic2\", \"Topic2\", \"Topic2\", \"Topic2\", \"Topic2\", \"Topic2\", \"Topic2\", \"Topic2\", \"Topic2\", \"Topic2\", \"Topic2\", \"Topic2\", \"Topic2\", \"Topic2\", \"Topic2\", \"Topic2\", \"Topic2\", \"Topic2\", \"Topic2\", \"Topic2\", \"Topic2\", \"Topic2\", \"Topic3\", \"Topic3\", \"Topic3\", \"Topic3\", \"Topic3\", \"Topic3\", \"Topic3\", \"Topic3\", \"Topic3\", \"Topic3\", \"Topic3\", \"Topic3\", \"Topic3\", \"Topic3\", \"Topic3\", \"Topic3\", \"Topic3\", \"Topic3\", \"Topic3\", \"Topic3\", \"Topic3\", \"Topic3\", \"Topic3\", \"Topic3\", \"Topic3\", \"Topic3\", \"Topic3\", \"Topic3\", \"Topic3\", \"Topic3\", \"Topic3\", \"Topic3\", \"Topic3\", \"Topic3\", \"Topic3\", \"Topic3\", \"Topic3\", \"Topic3\", \"Topic3\", \"Topic3\", \"Topic3\", \"Topic3\", \"Topic3\", \"Topic3\", \"Topic3\", \"Topic3\", \"Topic3\", \"Topic3\", \"Topic3\", \"Topic3\", \"Topic3\", \"Topic3\", \"Topic3\", \"Topic3\", \"Topic3\", \"Topic3\", \"Topic3\", \"Topic3\", \"Topic3\", \"Topic3\", \"Topic3\", \"Topic4\", \"Topic4\", \"Topic4\", \"Topic4\", \"Topic4\", \"Topic4\", \"Topic4\", \"Topic4\", \"Topic4\", \"Topic4\", \"Topic4\", \"Topic4\", \"Topic4\", \"Topic4\", \"Topic4\", \"Topic4\", \"Topic4\", \"Topic4\", \"Topic4\", \"Topic4\", \"Topic4\", \"Topic4\", \"Topic4\", \"Topic4\", \"Topic4\", \"Topic4\", \"Topic4\", \"Topic4\", \"Topic4\", \"Topic4\", \"Topic4\", \"Topic4\", \"Topic4\", \"Topic4\", \"Topic4\", \"Topic4\", \"Topic4\", \"Topic4\", \"Topic4\", \"Topic4\", \"Topic4\", \"Topic4\", \"Topic4\", \"Topic4\", \"Topic4\", \"Topic4\", \"Topic4\", \"Topic4\", \"Topic4\", \"Topic4\", \"Topic4\", \"Topic4\", \"Topic4\", \"Topic4\", \"Topic4\", \"Topic4\", \"Topic4\"], \"Freq\": [29.0, 30.0, 29.0, 25.0, 22.0, 30.0, 20.0, 46.0, 21.0, 17.0, 28.0, 16.0, 15.0, 15.0, 19.0, 24.0, 18.0, 31.0, 22.0, 51.0, 31.0, 41.0, 31.0, 16.0, 20.0, 14.0, 17.0, 15.0, 19.0, 25.0, 19.09111213684082, 19.093849182128906, 32.3170051574707, 23.17441177368164, 16.687374114990234, 17.230789184570312, 14.274621963500977, 14.519081115722656, 20.944578170776367, 23.111400604248047, 23.904470443725586, 18.257993698120117, 32.12055587768555, 8.409879684448242, 8.963775634765625, 9.518424034118652, 7.765326976776123, 23.639753341674805, 16.662471771240234, 15.210965156555176, 10.812333106994629, 8.18542766571045, 26.941415786743164, 26.155920028686523, 10.162214279174805, 7.3473615646362305, 12.620050430297852, 6.929554462432861, 11.801353454589844, 9.392556190490723, 9.7069091796875, 32.40854263305664, 24.208641052246094, 19.47671127319336, 30.16158676147461, 25.099327087402344, 26.374774932861328, 21.087915420532227, 49.6520881652832, 27.585655212402344, 30.386680603027344, 40.27698516845703, 64.76947784423828, 34.362606048583984, 30.34551239013672, 27.412212371826172, 67.21930694580078, 40.831092834472656, 32.07291030883789, 35.27961730957031, 37.31163024902344, 33.66620635986328, 42.69281768798828, 34.28834915161133, 36.96900177001953, 40.77296447753906, 38.01136016845703, 35.728309631347656, 35.46875, 33.70344161987305, 36.717559814453125, 32.162967681884766, 30.864595413208008, 32.4495735168457, 32.56243133544922, 30.25817108154297, 30.656402587890625, 28.503406524658203, 19.946914672851562, 27.827255249023438, 17.9622859954834, 7.033777236938477, 8.700940132141113, 9.538469314575195, 8.19797420501709, 7.890806198120117, 6.652651786804199, 5.821747303009033, 9.67862319946289, 5.008211612701416, 25.397220611572266, 6.32829475402832, 8.086014747619629, 5.641591548919678, 7.921186923980713, 5.732840061187744, 2.9739015102386475, 5.5733418464660645, 4.224839687347412, 7.22334623336792, 2.7258543968200684, 5.822019577026367, 2.884263038635254, 2.592022180557251, 7.698680400848389, 5.01691198348999, 5.633789539337158, 6.848918914794922, 6.726661682128906, 5.23310661315918, 6.695173740386963, 20.3066463470459, 9.33187198638916, 28.02611541748047, 12.531984329223633, 10.462394714355469, 11.636075019836426, 13.398134231567383, 8.933450698852539, 11.32242202758789, 16.853147506713867, 7.7754411697387695, 13.201667785644531, 10.284120559692383, 15.965068817138672, 13.81568717956543, 11.918184280395508, 12.257184028625488, 14.068312644958496, 14.745022773742676, 15.185404777526855, 13.556859970092773, 15.737098693847656, 11.617124557495117, 15.486577033996582, 12.582252502441406, 12.895730018615723, 11.841938972473145, 11.360274314880371, 10.384459495544434, 10.487981796264648, 23.908679962158203, 7.71087646484375, 7.73879861831665, 7.823965072631836, 4.548713207244873, 5.692652702331543, 9.457715034484863, 13.745916366577148, 9.291043281555176, 17.92276954650879, 3.168933868408203, 4.4134392738342285, 6.487020969390869, 4.820066452026367, 5.890985012054443, 5.114033222198486, 3.5853586196899414, 5.742703914642334, 3.4127914905548096, 4.858582973480225, 5.908222675323486, 1.7300641536712646, 5.518968105316162, 6.105079174041748, 5.922493934631348, 5.696347713470459, 1.3564443588256836, 10.177763938903809, 1.3274521827697754, 1.9237682819366455, 4.772871494293213, 20.459428787231445, 13.00688648223877, 26.65840721130371, 11.558834075927734, 8.395663261413574, 7.237473964691162, 19.59970474243164, 16.63693618774414, 7.982921123504639, 14.075333595275879, 8.02586841583252, 16.125200271606445, 10.499018669128418, 15.321898460388184, 19.979141235351562, 13.334516525268555, 10.511747360229492, 13.065723419189453, 12.688602447509766, 11.268050193786621, 12.825363159179688, 10.574411392211914, 11.485860824584961, 11.435659408569336, 11.095755577087402, 9.858654975891113, 10.71341609954834, 9.258614540100098, 9.614680290222168, 9.608366966247559, 14.792574882507324, 14.648111343383789, 14.890987396240234, 20.085838317871094, 15.862024307250977, 7.513647556304932, 7.147737503051758, 7.159562110900879, 4.170989513397217, 4.1873579025268555, 5.837730884552002, 4.159521102905273, 4.362835884094238, 6.887355804443359, 6.6796183586120605, 15.180501937866211, 4.753925323486328, 8.350305557250977, 16.992467880249023, 6.045759201049805, 24.356435775756836, 4.378861904144287, 3.0892388820648193, 2.9238390922546387, 5.554195880889893, 4.323715686798096, 4.817540645599365, 3.252514362335205, 3.903444766998291, 4.07697057723999, 6.266628265380859, 10.30646800994873, 10.702873229980469, 6.075623512268066, 15.731907844543457, 17.517192840576172, 11.131285667419434, 6.765936374664307, 11.861010551452637, 9.359652519226074, 14.19940185546875, 9.472941398620605, 9.624260902404785, 6.947873592376709, 16.578210830688477, 8.994810104370117, 16.530658721923828, 10.174471855163574, 10.752283096313477, 10.347158432006836, 10.562307357788086, 9.095993041992188, 9.700485229492188, 9.330448150634766, 8.82235336303711, 9.165060043334961, 9.450614929199219], \"Term\": [\"lisa\", \"safe\", \"awhil\", \"eddi\", \"fortress\", \"mighti\", \"travelin\", \"tomorrow\", \"distanc\", \"sacr\", \"goodby\", \"tearin\", \"puso\", \"wala\", \"pave\", \"chain\", \"mari\", \"lift\", \"temptat\", \"lost\", \"jesu\", \"thousand\", \"stay\", \"park\", \"anymor\", \"sunday\", \"sunshin\", \"darl\", \"cure\", \"style\", \"mann\", \"ooooh\", \"abl\", \"hallelujah\", \"foolin\", \"darkest\", \"bald\", \"weird\", \"weigh\", \"cowboy\", \"spread\", \"colder\", \"bitter\", \"eager\", \"keyboard\", \"mistleto\", \"pearli\", \"celebr\", \"husband\", \"lawn\", \"dread\", \"sadder\", \"goin\", \"lucki\", \"clover\", \"disintegr\", \"vocal\", \"vaniti\", \"bliss\", \"hush\", \"male\", \"bell\", \"straight\", \"harder\", \"mama\", \"ring\", \"crazi\", \"snow\", \"good\", \"round\", \"wanna\", \"tonight\", \"want\", \"wrong\", \"aliv\", \"born\", \"love\", \"littl\", \"peopl\", \"thing\", \"babi\", \"sing\", \"like\", \"right\", \"caus\", \"come\", \"gone\", \"life\", \"world\", \"need\", \"feel\", \"gonna\", \"hold\", \"choru\", \"know\", \"time\", \"think\", \"lisa\", \"travelin\", \"awhil\", \"pave\", \"clam\", \"alarm\", \"seventi\", \"bibl\", \"colour\", \"mobil\", \"belov\", \"skylin\", \"maker\", \"mighti\", \"ambit\", \"milk\", \"paul\", \"bowl\", \"oyster\", \"reliev\", \"hymn\", \"greas\", \"plant\", \"trickl\", \"reign\", \"yang\", \"badli\", \"shall\", \"await\", \"fame\", \"join\", \"templ\", \"defend\", \"clock\", \"lift\", \"forgot\", \"lost\", \"fire\", \"power\", \"everyday\", \"style\", \"design\", \"built\", \"burn\", \"sent\", \"head\", \"keep\", \"walk\", \"ride\", \"dust\", \"high\", \"dream\", \"know\", \"feel\", \"heart\", \"want\", \"breath\", \"love\", \"away\", \"come\", \"world\", \"like\", \"leav\", \"gone\", \"eddi\", \"robert\", \"accid\", \"solut\", \"chat\", \"headlin\", \"pierc\", \"park\", \"glorifi\", \"temptat\", \"law\", \"slam\", \"lesson\", \"belief\", \"messag\", \"hurtin\", \"davi\", \"fail\", \"muscl\", \"boogi\", \"spot\", \"rider\", \"john\", \"castl\", \"problem\", \"moonlit\", \"companion\", \"hello\", \"georgia\", \"nearli\", \"fallin\", \"jesu\", \"paradis\", \"tomorrow\", \"hole\", \"deni\", \"miracl\", \"thousand\", \"year\", \"wouldn\", \"matter\", \"repeat\", \"choru\", \"lord\", \"think\", \"love\", \"walk\", \"lone\", \"gonna\", \"heart\", \"burn\", \"know\", \"fall\", \"littl\", \"gone\", \"life\", \"long\", \"come\", \"mayb\", \"babi\", \"feel\", \"puso\", \"wala\", \"tearin\", \"fortress\", \"sacr\", \"lang\", \"coin\", \"dri\", \"nang\", \"ngunit\", \"england\", \"buhay\", \"quietli\", \"kong\", \"galaxi\", \"mari\", \"defin\", \"postcard\", \"distanc\", \"myth\", \"safe\", \"dwell\", \"nile\", \"poverti\", \"local\", \"lean\", \"chose\", \"bench\", \"porch\", \"ray\", \"sea\", \"sunday\", \"darl\", \"toss\", \"chain\", \"goodby\", \"sunshin\", \"quiet\", \"anymor\", \"dawn\", \"stay\", \"alright\", \"cure\", \"endless\", \"feel\", \"warm\", \"love\", \"wish\", \"wait\", \"long\", \"night\", \"star\", \"think\", \"dream\", \"fall\", \"world\", \"want\"], \"Total\": [29.0, 30.0, 29.0, 25.0, 22.0, 30.0, 20.0, 46.0, 21.0, 17.0, 28.0, 16.0, 15.0, 15.0, 19.0, 24.0, 18.0, 31.0, 22.0, 51.0, 31.0, 41.0, 31.0, 16.0, 20.0, 14.0, 17.0, 15.0, 19.0, 25.0, 19.759790420532227, 19.816160202026367, 33.722320556640625, 24.199125289916992, 17.451126098632812, 18.02948760986328, 14.993175506591797, 15.256536483764648, 22.022483825683594, 24.440534591674805, 25.418298721313477, 19.42318344116211, 34.45254898071289, 9.046319007873535, 9.64769172668457, 10.253122329711914, 8.409136772155762, 25.6428165435791, 18.09096336364746, 16.528736114501953, 11.773120880126953, 8.927518844604492, 29.39757537841797, 28.59471893310547, 11.114334106445312, 8.04122257232666, 13.821359634399414, 7.595370292663574, 12.964742660522461, 10.394356727600098, 10.745680809020996, 36.90208435058594, 27.723983764648438, 22.135709762573242, 35.37193298339844, 29.65253257751465, 31.643945693969727, 24.768653869628906, 63.862953186035156, 33.80068588256836, 38.29203796386719, 54.3436393737793, 97.36160278320312, 46.0395393371582, 40.44444274902344, 35.58954620361328, 119.21568298339844, 62.070064544677734, 44.81793212890625, 51.41851806640625, 56.076560974121094, 48.76420211791992, 71.54544067382812, 50.93464279174805, 59.752105712890625, 71.99848175048828, 65.3636474609375, 64.41529846191406, 64.5277328491211, 58.083717346191406, 78.08954620361328, 55.899723052978516, 51.35805892944336, 64.53607177734375, 66.66424560546875, 55.16381072998047, 64.98350524902344, 29.33073616027832, 20.6344051361084, 29.668350219726562, 19.174604415893555, 7.679671764373779, 9.590791702270508, 10.709746360778809, 9.361879348754883, 9.153861999511719, 7.776339054107666, 6.8552565574646, 11.441039085388184, 5.923011779785156, 30.133262634277344, 7.516769886016846, 9.616698265075684, 6.755463600158691, 9.496078491210938, 7.013504981994629, 3.6912734508514404, 6.956128120422363, 5.337173938751221, 9.199899673461914, 3.4854350090026855, 7.4507060050964355, 3.7063372135162354, 3.376596450805664, 10.11912727355957, 6.627113342285156, 7.459801197052002, 9.113428115844727, 9.12714672088623, 6.98615026473999, 9.122047424316406, 31.329133987426758, 13.51806354522705, 51.17655563354492, 20.03072166442871, 17.107826232910156, 19.94832992553711, 25.18181037902832, 14.273433685302734, 20.680967330932617, 42.70505905151367, 11.6569242477417, 31.689411163330078, 20.53106689453125, 50.620155334472656, 43.52414321899414, 31.117536544799805, 37.911346435546875, 57.79380416870117, 66.66424560546875, 78.08954620361328, 57.11894226074219, 97.36160278320312, 37.61421585083008, 119.21568298339844, 54.46674728393555, 71.99848175048828, 64.5277328491211, 71.54544067382812, 31.31061553955078, 65.3636474609375, 25.09796905517578, 8.43901538848877, 8.503289222717285, 8.635401725769043, 5.262694358825684, 6.687675476074219, 11.24993896484375, 16.81519317626953, 11.607487678527832, 22.6302547454834, 4.020841121673584, 5.661083221435547, 8.344609260559082, 6.2187628746032715, 7.732171535491943, 6.730740070343018, 4.785968780517578, 7.785126209259033, 4.636011123657227, 6.642123222351074, 8.101411819458008, 2.420177936553955, 7.732008457183838, 8.586112976074219, 8.619739532470703, 8.302021980285645, 2.004669189453125, 15.058328628540039, 1.978076696395874, 2.881256580352783, 7.196981906890869, 31.5090274810791, 20.16386604309082, 46.55436706542969, 19.010196685791016, 13.701586723327637, 11.467621803283691, 41.51472473144531, 42.46097183227539, 13.977579116821289, 38.2671012878418, 15.817861557006836, 64.53607177734375, 29.463844299316406, 64.98350524902344, 119.21568298339844, 50.620155334472656, 32.14986801147461, 55.899723052978516, 57.11894226074219, 42.70505905151367, 66.66424560546875, 40.71764373779297, 62.070064544677734, 65.3636474609375, 64.41529846191406, 40.53694152832031, 71.99848175048828, 27.237699508666992, 56.076560974121094, 78.08954620361328, 15.533453941345215, 15.410882949829102, 16.301523208618164, 22.00575828552246, 17.423301696777344, 8.492586135864258, 8.186731338500977, 8.332874298095703, 4.863955974578857, 4.983651161193848, 7.087215423583984, 5.062646865844727, 5.311508655548096, 8.402339935302734, 8.201793670654297, 18.657318115234375, 5.84624719619751, 10.343436241149902, 21.11563491821289, 7.536266803741455, 30.961090087890625, 5.580479145050049, 3.938516139984131, 3.7539498805999756, 7.234454154968262, 5.760691165924072, 6.427146911621094, 4.353515625, 5.244476318359375, 5.477960109710693, 8.509506225585938, 14.40599250793457, 15.444019317626953, 8.421876907348633, 24.44585418701172, 28.573837280273438, 17.65707015991211, 9.694015502929688, 20.272693634033203, 15.500497817993164, 31.63748550415039, 17.291614532470703, 19.68661117553711, 11.365127563476562, 78.08954620361328, 20.398771286010742, 119.21568298339844, 32.85530090332031, 39.919677734375, 40.53694152832031, 55.14746856689453, 32.884864807128906, 64.98350524902344, 57.79380416870117, 40.71764373779297, 64.5277328491211, 97.36160278320312], \"loglift\": [30.0, 29.0, 28.0, 27.0, 26.0, 25.0, 24.0, 23.0, 22.0, 21.0, 20.0, 19.0, 18.0, 17.0, 16.0, 15.0, 14.0, 13.0, 12.0, 11.0, 10.0, 9.0, 8.0, 7.0, 6.0, 5.0, 4.0, 3.0, 2.0, 1.0, 0.7387999892234802, 0.7361000180244446, 0.7305999994277954, 0.7299000024795532, 0.7283999919891357, 0.7279000282287598, 0.7240999937057495, 0.7235999703407288, 0.7229999899864197, 0.7172999978065491, 0.7117999792098999, 0.7113000154495239, 0.7031000256538391, 0.7002000212669373, 0.6996999979019165, 0.6988000273704529, 0.6934999823570251, 0.6919000148773193, 0.6909000277519226, 0.6901000142097473, 0.6880999803543091, 0.6863999962806702, 0.6858999729156494, 0.6840000152587891, 0.6836000084877014, 0.6829000115394592, 0.6822999715805054, 0.6814000010490417, 0.6791999936103821, 0.6718000173568726, 0.671500027179718, 0.6432999968528748, 0.6376000046730042, 0.6452000141143799, 0.6137999892234802, 0.6065000295639038, 0.5910000205039978, 0.6122999787330627, 0.5214999914169312, 0.5699999928474426, 0.5418999791145325, 0.47360000014305115, 0.36559998989105225, 0.48069998621940613, 0.48590001463890076, 0.5120999813079834, 0.20020000636577606, 0.35440000891685486, 0.43860000371932983, 0.39649999141693115, 0.36579999327659607, 0.4027000069618225, 0.25690001249313354, 0.3774000108242035, 0.2930999994277954, 0.2046000063419342, 0.23109999299049377, 0.18379999697208405, 0.17470000684261322, 0.2289000004529953, 0.01860000006854534, 0.22040000557899475, 0.2639999985694885, 0.08569999784231186, 0.056699998676776886, 0.17260000109672546, 0.021900000050663948, 1.5815999507904053, 1.5764000415802002, 1.5462000370025635, 1.5448999404907227, 1.5224000215530396, 1.5128999948501587, 1.4944000244140625, 1.4774999618530273, 1.4617999792099, 1.454200029373169, 1.4467999935150146, 1.4429999589920044, 1.4424999952316284, 1.4392999410629272, 1.4381999969482422, 1.436900019645691, 1.4300999641418457, 1.4289000034332275, 1.4085999727249146, 1.3941999673843384, 1.3885999917984009, 1.3765000104904175, 1.368399977684021, 1.364400029182434, 1.3636000156402588, 1.3595000505447388, 1.3458000421524048, 1.336899995803833, 1.3319000005722046, 1.3294999599456787, 1.3245999813079834, 1.3050999641418457, 1.3213000297546387, 1.3009999990463257, 1.1766999959945679, 1.2396999597549438, 1.0081000328063965, 1.1412999629974365, 1.118499994277954, 1.0712000131607056, 0.9793000221252441, 1.141700029373169, 1.0077999830245972, 0.6804999709129333, 1.205299973487854, 0.7346000075340271, 0.9189000129699707, 0.4562999904155731, 0.4627000093460083, 0.650600016117096, 0.4810999929904938, 0.1973000019788742, 0.1014999970793724, -0.027300000190734863, 0.1720000058412552, -0.21220000088214874, 0.43540000915527344, -0.43070000410079956, 0.14499999582767487, -0.10949999839067459, -0.0851999968290329, -0.23000000417232513, 0.506600022315979, -0.21950000524520874, 1.621500015258789, 1.579800009727478, 1.5757999420166016, 1.5713000297546387, 1.5241999626159668, 1.5089000463485718, 1.496500015258789, 1.468500018119812, 1.4473999738693237, 1.4368000030517578, 1.4319000244140625, 1.4211000204086304, 1.4182000160217285, 1.4151999950408936, 1.3981000185012817, 1.395300030708313, 1.3811999559402466, 1.3657000064849854, 1.363700032234192, 1.357300043106079, 1.3543000221252441, 1.3343000411987305, 1.332800030708313, 1.3289999961853027, 1.294700026512146, 1.2933000326156616, 1.2793999910354614, 1.2783000469207764, 1.2711999416351318, 1.2661000490188599, 1.2592999935150146, 1.2381999492645264, 1.231600046157837, 1.1124999523162842, 1.1725000143051147, 1.1801999807357788, 1.2098000049591064, 0.9194999933242798, 0.7330999970436096, 1.1098999977111816, 0.6699000000953674, 0.991599977016449, 0.2831999957561493, 0.6381000280380249, 0.22519999742507935, -0.11620000004768372, 0.335999995470047, 0.5521000027656555, 0.21649999916553497, 0.1656000018119812, 0.3377000093460083, 0.021800000220537186, 0.32179999351501465, -0.017100000753998756, -0.07320000231266022, -0.08879999816417694, 0.25619998574256897, -0.23510000109672546, 0.5910000205039978, -0.0934000015258789, -0.4251999855041504, 1.8457000255584717, 1.8437999486923218, 1.8041000366210938, 1.8033000230789185, 1.8006999492645264, 1.7720999717712402, 1.7589000463485718, 1.742799997329712, 1.7409000396728516, 1.7204999923706055, 1.700600028038025, 1.698099970817566, 1.6978000402450562, 1.6957999467849731, 1.6892999410629272, 1.6884000301361084, 1.6878000497817993, 1.6805000305175781, 1.677299976348877, 1.6742000579833984, 1.6546000242233276, 1.6520999670028687, 1.6517000198364258, 1.644700050354004, 1.6303000450134277, 1.6075999736785889, 1.6062999963760376, 1.6030000448226929, 1.5993000268936157, 1.5992000102996826, 1.5886000394821167, 1.5597000122070312, 1.527899980545044, 1.5679999589920044, 1.4537999629974365, 1.4053000211715698, 1.4332000017166138, 1.534999966621399, 1.3586000204086304, 1.3901000022888184, 1.093400001525879, 1.292799949645996, 1.1789000034332275, 1.402500033378601, 0.3447999954223633, 1.0757999420166016, -0.08110000193119049, 0.7222999930381775, 0.5827999711036682, 0.5291000008583069, 0.2418999969959259, 0.6093999743461609, -0.007400000002235174, 0.07100000232458115, 0.365200012922287, -0.057100001722574234, -0.43779999017715454], \"logprob\": [30.0, 29.0, 28.0, 27.0, 26.0, 25.0, 24.0, 23.0, 22.0, 21.0, 20.0, 19.0, 18.0, 17.0, 16.0, 15.0, 14.0, 13.0, 12.0, 11.0, 10.0, 9.0, 8.0, 7.0, 6.0, 5.0, 4.0, 3.0, 2.0, 1.0, -6.127099990844727, -6.126999855041504, -5.6006999015808105, -5.933300018310547, -6.26170015335083, -6.229599952697754, -6.417900085449219, -6.400899887084961, -6.0345001220703125, -5.935999870300293, -5.902299880981445, -6.1717000007629395, -5.606800079345703, -6.946899890899658, -6.8831000328063965, -6.8231000900268555, -7.026700019836426, -5.913400173187256, -6.263199806213379, -6.354300022125244, -6.6956000328063965, -6.973999977111816, -5.782700061798096, -5.812300205230713, -6.757699966430664, -7.081999778747559, -6.540999889373779, -7.140500068664551, -6.608099937438965, -6.836400032043457, -6.803500175476074, -5.597899913787842, -5.889599800109863, -6.107100009918213, -5.6697998046875, -5.853499889373779, -5.803899765014648, -6.027599811553955, -5.171299934387207, -5.758999824523926, -5.662300109863281, -5.3805999755859375, -4.9054999351501465, -5.539400100708008, -5.663700103759766, -5.7652997970581055, -4.8684000968933105, -5.3668999671936035, -5.60830020904541, -5.513000011444092, -5.456999778747559, -5.559800148010254, -5.322299957275391, -5.541500091552734, -5.466300010681152, -5.368299961090088, -5.438499927520752, -5.500400066375732, -5.507699966430664, -5.558700084686279, -5.473100185394287, -5.605500221252441, -5.646699905395508, -5.59660005569458, -5.593200206756592, -5.666600227355957, -5.653500080108643, -4.889200210571289, -5.246200084686279, -4.9131999015808105, -5.35099983215332, -6.28849983215332, -6.075799942016602, -5.98390007019043, -6.13539981842041, -6.173600196838379, -6.344200134277344, -6.477700233459473, -5.969299793243408, -6.628200054168701, -5.0046000480651855, -6.394199848175049, -6.149099826812744, -6.509099960327148, -6.1697001457214355, -6.493100166320801, -7.149400234222412, -6.521299839019775, -6.798299789428711, -6.261899948120117, -7.236499786376953, -6.47760009765625, -7.179999828338623, -7.286799907684326, -6.198200225830078, -6.626399993896484, -6.510499954223633, -6.315199851989746, -6.333199977874756, -6.5843000411987305, -6.337900161743164, -5.228300094604492, -6.005799770355225, -4.906099796295166, -5.710999965667725, -5.891499996185303, -5.785200119018555, -5.644100189208984, -6.049499988555908, -5.8125, -5.414700031280518, -6.188300132751465, -5.658899784088135, -5.908699989318848, -5.468900203704834, -5.613500118255615, -5.761199951171875, -5.7332000732421875, -5.595300197601318, -5.548399925231934, -5.518899917602539, -5.632400035858154, -5.4832000732421875, -5.786799907684326, -5.499300003051758, -5.706999778747559, -5.682400226593018, -5.767600059509277, -5.809100151062012, -5.89900016784668, -5.888999938964844, -5.005300045013428, -6.136899948120117, -6.133299827575684, -6.122300148010254, -6.664700031280518, -6.440299987792969, -5.932700157165527, -5.558800220489502, -5.950500011444092, -5.293399810791016, -7.026100158691406, -6.694799900054932, -6.309700012207031, -6.6066999435424805, -6.406099796295166, -6.547500133514404, -6.902599811553955, -6.431600093841553, -6.952000141143799, -6.598800182342529, -6.403200149536133, -7.63129997253418, -6.47130012512207, -6.3703999519348145, -6.400700092315674, -6.439700126647949, -7.874599933624268, -5.859300136566162, -7.896200180053711, -7.525199890136719, -6.616600036621094, -5.161099910736084, -5.613999843597412, -4.896399974822998, -5.732100009918213, -6.051799774169922, -6.200200080871582, -5.203999996185303, -5.3678998947143555, -6.102200031280518, -5.535099983215332, -6.096799850463867, -5.399099826812744, -5.828199863433838, -5.450200080871582, -5.184800148010254, -5.589099884033203, -5.827000141143799, -5.609499931335449, -5.638800144195557, -5.757500171661377, -5.6280999183654785, -5.821100234985352, -5.738399982452393, -5.742800235748291, -5.772900104522705, -5.891200065612793, -5.808000087738037, -5.95389986038208, -5.916200160980225, -5.916900157928467, -5.260799884796143, -5.270599842071533, -5.254199981689453, -4.954899787902832, -5.190999984741211, -5.938199996948242, -5.988100051879883, -5.986499786376953, -6.526800155639648, -6.522900104522705, -6.1905999183654785, -6.5295000076293945, -6.481800079345703, -6.025300025939941, -6.0559000968933105, -5.234899997711182, -6.395999908447266, -5.832600116729736, -5.122200012207031, -6.155600070953369, -4.7621002197265625, -6.4781999588012695, -6.827000141143799, -6.881999969482422, -6.2403998374938965, -6.490799903869629, -6.382699966430664, -6.7754998207092285, -6.593100070953369, -6.549600124359131, -6.119699954986572, -5.622200012207031, -5.584400177001953, -6.150700092315674, -5.1992998123168945, -5.091800212860107, -5.545199871063232, -6.043000221252441, -5.4816999435424805, -5.718500137329102, -5.301700115203857, -5.706500053405762, -5.690700054168701, -6.016499996185303, -5.146900177001953, -5.758299827575684, -5.149700164794922, -5.6350998878479, -5.579800128936768, -5.618199825286865, -5.597700119018555, -5.747099876403809, -5.682799816131592, -5.721700191497803, -5.777699947357178, -5.739500045776367, -5.708899974822998]}, \"token.table\": {\"Topic\": [1, 4, 3, 2, 1, 2, 3, 4, 1, 2, 3, 4, 2, 1, 2, 3, 4, 1, 2, 4, 1, 2, 3, 4, 1, 2, 1, 2, 3, 4, 2, 1, 1, 3, 1, 2, 3, 4, 2, 2, 4, 2, 3, 1, 2, 4, 1, 1, 3, 1, 2, 3, 4, 1, 2, 1, 2, 3, 4, 4, 1, 2, 4, 1, 2, 3, 4, 2, 3, 4, 1, 2, 3, 4, 1, 2, 3, 1, 2, 3, 4, 3, 1, 2, 3, 4, 1, 2, 4, 2, 1, 2, 4, 1, 4, 1, 2, 4, 1, 2, 3, 4, 3, 1, 3, 1, 2, 3, 4, 1, 2, 3, 4, 1, 1, 2, 3, 4, 1, 3, 1, 2, 3, 4, 1, 2, 4, 4, 1, 2, 3, 4, 1, 2, 1, 2, 3, 4, 1, 1, 2, 3, 4, 1, 4, 1, 2, 3, 4, 4, 1, 3, 4, 1, 2, 3, 4, 1, 4, 1, 2, 3, 4, 1, 2, 3, 1, 2, 3, 4, 1, 2, 3, 1, 2, 3, 1, 2, 3, 4, 1, 2, 3, 1, 1, 2, 3, 4, 2, 3, 4, 1, 2, 4, 3, 1, 2, 3, 1, 3, 4, 1, 2, 3, 4, 1, 2, 3, 4, 1, 2, 3, 4, 1, 2, 3, 4, 2, 1, 1, 2, 3, 4, 1, 2, 3, 4, 2, 3, 1, 2, 3, 4, 2, 3, 4, 1, 2, 3, 4, 1, 2, 3, 4, 1, 2, 3, 4, 1, 2, 3, 1, 2, 3, 1, 1, 2, 1, 2, 3, 4, 1, 3, 1, 2, 1, 2, 3, 4, 1, 1, 2, 3, 4, 1, 3, 4, 4, 3, 1, 3, 2, 4, 1, 2, 3, 4, 1, 3, 4, 1, 2, 3, 4, 1, 2, 3, 4, 1, 2, 3, 4, 2, 1, 2, 3, 4, 2, 4, 1, 2, 3, 4, 1, 2, 3, 4, 1, 2, 3, 4, 1, 2, 3, 4, 1, 2, 3, 4, 1, 2, 3, 4, 2, 1, 1, 2, 3, 4, 1, 2, 3, 4, 1, 2, 3, 4, 1, 2, 3, 4, 1, 2, 3, 1, 2, 3, 2, 4, 1, 2, 3, 1, 2, 2, 3, 4, 3, 1, 4, 4, 3, 1, 2, 3, 4, 4, 1, 2, 3, 4, 4, 1, 2, 1, 2, 3, 4, 1, 2, 3, 2, 3, 2, 3, 1, 1, 2, 3, 4, 2, 3, 1, 2, 1, 4, 1, 2, 4, 4, 1, 2, 3, 4, 1, 3, 4, 1, 2, 4, 4, 2, 4, 1, 2, 3, 2, 1, 2, 3, 4, 1, 2, 3, 4, 3, 1, 2, 3, 4, 1, 2, 3, 4, 3, 1, 2, 3, 4, 2, 4, 1, 1, 2, 3, 4, 1, 3, 4, 1, 2, 3, 4, 2, 3, 1, 2, 3, 1, 2, 3, 4, 1, 2, 3, 2, 3, 1, 2, 3, 4, 3, 1, 2, 3, 1, 2, 4, 1, 2, 3, 4, 1, 2, 3, 4, 1, 2, 3, 4, 1, 2, 3, 1, 3, 4, 1, 2, 3, 4, 1, 4, 1, 2, 3, 1, 2, 3, 1, 2, 3, 4, 1, 2, 3, 4, 1, 2, 3, 4, 1, 2, 3, 4, 1, 2, 3, 4, 1, 2, 3, 4, 1, 3, 4, 2, 2, 1, 1, 3, 1, 2, 3, 4, 4, 1, 2, 3, 4, 1, 2, 3, 4, 1, 2, 3, 4, 1, 2, 3, 4, 1, 2, 1, 1, 2, 3, 4, 1, 2, 3, 4, 1, 2, 3, 4, 1, 2, 3, 4, 2, 1, 2, 3, 4], \"Freq\": [0.9489263892173767, 0.029653949663043022, 0.9408124089241028, 0.9384000897407532, 0.7417582869529724, 0.09890110045671463, 0.09890110045671463, 0.049450550228357315, 0.17349450290203094, 0.17349450290203094, 0.11566299945116043, 0.5204834938049316, 0.7982152104377747, 0.14798231422901154, 0.049327436834573746, 0.19730974733829498, 0.5919292569160461, 0.15089526772499084, 0.7544763088226318, 0.15089526772499084, 0.4773554801940918, 0.2386777400970459, 0.16523844003677368, 0.12851877510547638, 0.033705953508615494, 0.9437666535377502, 0.6598122119903564, 0.08916381001472473, 0.17832762002944946, 0.07133105397224426, 0.8884686231613159, 0.9337581396102905, 0.1608036905527115, 0.8040184378623962, 0.8671596646308899, 0.05419747903943062, 0.02709873951971531, 0.02709873951971531, 0.8752407431602478, 0.22969941794872284, 0.6890982389450073, 0.8545292615890503, 0.10681615769863129, 0.9288136959075928, 0.029025427997112274, 0.029025427997112274, 0.9255872368812561, 0.15055426955223083, 0.7527713179588318, 0.7586497664451599, 0.14049069583415985, 0.05619627609848976, 0.02809813804924488, 0.10530662536621094, 0.8424530029296875, 0.5582995414733887, 0.3190283179283142, 0.05317138507962227, 0.07975707948207855, 0.7901005148887634, 0.14506091177463531, 0.5318900346755981, 0.24176818132400513, 0.3044135868549347, 0.3980793058872223, 0.2575807273387909, 0.0234164297580719, 0.11646714061498642, 0.6988028287887573, 0.11646714061498642, 0.619225025177002, 0.13388650119304657, 0.1171506866812706, 0.1171506866812706, 0.9359346032142639, 0.03899727761745453, 0.03899727761745453, 0.08181346207857132, 0.24544039368629456, 0.04090673103928566, 0.6545076966285706, 0.9500836730003357, 0.4958467185497284, 0.1239616796374321, 0.2479233592748642, 0.1239616796374321, 0.1555900275707245, 0.1555900275707245, 0.7779501676559448, 0.9114972949028015, 0.10962451249361038, 0.7673715949058533, 0.10962451249361038, 0.8997390270233154, 0.8550420999526978, 0.9267275929450989, 0.8739480376243591, 0.10924350470304489, 0.5694564580917358, 0.18055936694145203, 0.15278099477291107, 0.11111345142126083, 0.49883541464805603, 0.9410595893859863, 0.040915634483098984, 0.8216421604156494, 0.03160162270069122, 0.1264064908027649, 0.03160162270069122, 0.1523878276348114, 0.35557159781455994, 0.050795942544937134, 0.5079594254493713, 0.942899763584137, 0.12949997186660767, 0.06474998593330383, 0.12949997186660767, 0.7122498154640198, 0.20894411206245422, 0.8357764482498169, 0.19354216754436493, 0.1290281116962433, 0.06451405584812164, 0.5806264877319336, 0.14314034581184387, 0.7157017588615417, 0.14314034581184387, 0.8552495241165161, 0.2189527451992035, 0.0729842483997345, 0.583873987197876, 0.0729842483997345, 0.3503011465072632, 0.6305420398712158, 0.8705143928527832, 0.1420748233795166, 0.04735827445983887, 0.8050906658172607, 0.9343317151069641, 0.5017839074134827, 0.24224050343036652, 0.08651446551084518, 0.15572603046894073, 0.12000661343336105, 0.8400462865829468, 0.578451931476593, 0.3856346309185028, 0.032136220484972, 0.032136220484972, 0.7167843580245972, 0.8843376040458679, 0.9562526941299438, 0.039843861013650894, 0.08798845112323761, 0.17597690224647522, 0.08798845112323761, 0.6159191727638245, 0.14109914004802704, 0.8465948104858398, 0.20051804184913635, 0.6015540957450867, 0.05012951046228409, 0.20051804184913635, 0.12845006585121155, 0.12845006585121155, 0.7707003951072693, 0.36839067935943604, 0.14735627174377441, 0.2701531648635864, 0.22103440761566162, 0.13894712924957275, 0.13894712924957275, 0.6947356462478638, 0.1340518295764923, 0.8043109774589539, 0.1340518295764923, 0.47381502389907837, 0.19208717346191406, 0.12805812060832977, 0.21769879758358002, 0.2496165633201599, 0.6490030884742737, 0.14976994693279266, 0.9741491675376892, 0.0739750936627388, 0.6657758355140686, 0.1479501873254776, 0.0739750936627388, 0.04544265195727348, 0.04544265195727348, 0.9088530540466309, 0.12192454934120178, 0.12192454934120178, 0.8534718751907349, 0.5055415630340576, 0.08615128695964813, 0.08615128695964813, 0.7753615975379944, 0.9184430837631226, 0.03401641175150871, 0.03401641175150871, 0.5813629031181335, 0.15299023687839508, 0.16828925907611847, 0.07649511843919754, 0.5724536180496216, 0.08944588154554367, 0.23255929350852966, 0.10733506083488464, 0.7829264998435974, 0.07829265296459198, 0.09395118057727814, 0.04697559028863907, 0.20998229086399078, 0.03499704971909523, 0.10499114543199539, 0.6299468874931335, 0.7494602799415588, 0.9504475593566895, 0.8583415746688843, 0.04517587274312973, 0.04517587274312973, 0.04517587274312973, 0.31556281447410583, 0.41023167967796326, 0.12622512876987457, 0.15778140723705292, 0.14952878654003143, 0.897172749042511, 0.4376831650733948, 0.24510258436203003, 0.227595254778862, 0.10504396259784698, 0.0664084330201149, 0.6640843152999878, 0.2656337320804596, 0.5275465250015259, 0.31652793288230896, 0.07913198322057724, 0.07913198322057724, 0.6036053895950317, 0.17524026334285736, 0.09735570102930069, 0.13629798591136932, 0.0526033490896225, 0.315620094537735, 0.63124018907547, 0.0526033490896225, 0.14857207238674164, 0.14857207238674164, 0.7428603768348694, 0.9396956562995911, 0.05527621507644653, 0.05527621507644653, 0.8658544421195984, 0.1437581330537796, 0.862548828125, 0.2221585512161255, 0.09521080553531647, 0.6347387433052063, 0.031736936420202255, 0.12933249771595, 0.7759950160980225, 0.10972819477319717, 0.7680973410606384, 0.14612002670764923, 0.48706674575805664, 0.29224005341529846, 0.048706673085689545, 0.9328656196594238, 0.49501797556877136, 0.22500817477703094, 0.1950070858001709, 0.10500381141901016, 0.11901446431875229, 0.11901446431875229, 0.8331012725830078, 0.9419981241226196, 0.7461125254631042, 0.9075103998184204, 0.06050069257616997, 0.173590287566185, 0.69436115026474, 0.3193804919719696, 0.3193804919719696, 0.22356635332107544, 0.1596902459859848, 0.11983784288167953, 0.7190271019935608, 0.11983784288167953, 0.5588734745979309, 0.15524262189865112, 0.1707668900489807, 0.12419410049915314, 0.28727254271507263, 0.6383834481239319, 0.031919170171022415, 0.031919170171022415, 0.601016640663147, 0.15374843776226044, 0.1257941722869873, 0.1257941722869873, 0.9887239336967468, 0.6605438590049744, 0.09666495770215988, 0.17721907794475555, 0.04833247885107994, 0.1382274329662323, 0.8293645977973938, 0.4043562412261963, 0.09331297874450684, 0.3421475887298584, 0.15552163124084473, 0.3947017192840576, 0.0986754298210144, 0.24668855965137482, 0.24668855965137482, 0.3393990099430084, 0.2375793159008026, 0.3393990099430084, 0.0678798034787178, 0.2540225684642792, 0.547125518321991, 0.11724118143320084, 0.09770099073648453, 0.5620065927505493, 0.12582236528396606, 0.16776315867900848, 0.1425986886024475, 0.9092587828636169, 0.03497149422764778, 0.03497149422764778, 0.03497149422764778, 0.8441651463508606, 0.930606484413147, 0.8481300473213196, 0.02827100269496441, 0.05654200538992882, 0.08481300622224808, 0.9615486860275269, 0.05359826982021332, 0.10719653964042664, 0.8039740920066833, 0.47037792205810547, 0.05226421356201172, 0.36584949493408203, 0.10452842712402344, 0.4772796630859375, 0.11014146357774734, 0.33042436838150024, 0.07342763990163803, 0.12932977080345154, 0.12932977080345154, 0.7759786248207092, 0.033185917884111404, 0.829647958278656, 0.09955775737762451, 0.831886351108551, 0.10398579388856888, 0.0872020423412323, 0.2616061270236969, 0.6104142665863037, 0.9753126502037048, 0.9001665115356445, 0.12045258283615112, 0.7227154970169067, 0.24090516567230225, 0.6471080183982849, 0.13269169628620148, 0.7961501479148865, 0.8223758935928345, 0.6941415667533875, 0.5853619575500488, 0.17216528952121735, 0.13773223757743835, 0.10329917073249817, 0.8026244044303894, 0.5258627533912659, 0.14506559073925018, 0.14506559073925018, 0.19946518540382385, 0.7617081999778748, 0.9588134288787842, 0.855492353439331, 0.14878098666667938, 0.14878098666667938, 0.6447176337242126, 0.049593664705753326, 0.059470027685165405, 0.11894005537033081, 0.8325803875923157, 0.8881700038909912, 0.14802832901477814, 0.9387416839599609, 0.05215231329202652, 0.9513461589813232, 0.7139999270439148, 0.11156249046325684, 0.08924999088048935, 0.08924999088048935, 0.08888936787843704, 0.8000043630599976, 0.1086968407034874, 0.7608778476715088, 0.19067680835723877, 0.7627072334289551, 0.0966796725988388, 0.0966796725988388, 0.7734373807907104, 0.7991582751274109, 0.1753583401441574, 0.5845277905464172, 0.1169055625796318, 0.0584527812898159, 0.23202557861804962, 0.6960766911506653, 0.9656577110290527, 0.1031564250588417, 0.1031564250588417, 0.7220950126647949, 0.7530816793441772, 0.18254970014095306, 0.7301988005638123, 0.13421547412872314, 0.8052927851676941, 0.13421547412872314, 0.8127276301383972, 0.3160983622074127, 0.12643934786319733, 0.5057573914527893, 0.06321967393159866, 0.5743938684463501, 0.3216605484485626, 0.06892725825309753, 0.04595150798559189, 0.826385498046875, 0.667522132396698, 0.09816501289606094, 0.1570640206336975, 0.07853201031684875, 0.8430982828140259, 0.06744786351919174, 0.06744786351919174, 0.03372393175959587, 0.9479779005050659, 0.8283855319023132, 0.05917039513587952, 0.08875559270381927, 0.05917039513587952, 0.05739440396428108, 0.9183104634284973, 0.8961056470870972, 0.06459721177816391, 0.09689581394195557, 0.032298605889081955, 0.7751665115356445, 0.11751563102006912, 0.11751563102006912, 0.7050938010215759, 0.08578592538833618, 0.6862874031066895, 0.17157185077667236, 0.08578592538833618, 0.9337289333343506, 0.0933728963136673, 0.19764550030231476, 0.790582001209259, 0.09882275015115738, 0.6972327828407288, 0.1230410784482956, 0.1230410784482956, 0.0615205392241478, 0.08740464597940445, 0.8740465044975281, 0.08740464597940445, 0.17664463818073273, 0.7065785527229309, 0.8478458523750305, 0.04037361219525337, 0.04037361219525337, 0.04037361219525337, 0.9264189600944519, 0.12343527376651764, 0.12343527376651764, 0.7406116724014282, 0.944201648235321, 0.03934173658490181, 0.03934173658490181, 0.3953186273574829, 0.18245474994182587, 0.15204563736915588, 0.2736821472644806, 0.3160807490348816, 0.12643229961395264, 0.09482422471046448, 0.44251304864883423, 0.8656764626502991, 0.036069851368665695, 0.036069851368665695, 0.036069851368665695, 0.4368232488632202, 0.5162456631660461, 0.039711203426122665, 0.20824667811393738, 0.06941555440425873, 0.6941555738449097, 0.05663453787565231, 0.11326907575130463, 0.22653815150260925, 0.6229799389839172, 0.0613439604640007, 0.9201593995094299, 0.10956326872110367, 0.7669428586959839, 0.10956326872110367, 0.13256590068340302, 0.04418863356113434, 0.7953953742980957, 0.6806886196136475, 0.09724123030900955, 0.1361377239227295, 0.09724123030900955, 0.47704413533210754, 0.13849668204784393, 0.23082780838012695, 0.15388520061969757, 0.31314191222190857, 0.19270271062850952, 0.4817567765712738, 0.02408783882856369, 0.5438348054885864, 0.14502261579036713, 0.16315044462680817, 0.14502261579036713, 0.2792434096336365, 0.10740131139755249, 0.5799670815467834, 0.042960524559020996, 0.7360566854476929, 0.07360567152500153, 0.07360567152500153, 0.11040850728750229, 0.11873837560415268, 0.11873837560415268, 0.7124302387237549, 0.9692549705505371, 0.860724687576294, 0.9216140508651733, 0.9405731558799744, 0.07235178351402283, 0.37575453519821167, 0.2505030333995819, 0.12525151669979095, 0.27555331587791443, 0.9733381271362305, 0.29632464051246643, 0.31607961654663086, 0.2568146884441376, 0.11852986365556717, 0.7834526896476746, 0.10446035861968994, 0.05223017930984497, 0.05223017930984497, 0.6676143407821655, 0.16433583199977875, 0.07189692556858063, 0.09243890643119812, 0.392180472612381, 0.09804511815309525, 0.09804511815309525, 0.4412030577659607, 0.9535709023475647, 0.045408137142658234, 0.9831851720809937, 0.4261108338832855, 0.18261893093585968, 0.06087297946214676, 0.3043648898601532, 0.542402446269989, 0.18596655130386353, 0.12397769838571548, 0.13947491347789764, 0.21462944149971008, 0.1430862993001938, 0.5723451972007751, 0.0715431496500969, 0.7384956479072571, 0.06516138464212418, 0.10860230028629303, 0.0868818387389183, 0.8094244599342346, 0.4945718050003052, 0.09420415759086609, 0.4003676474094391, 0.023551039397716522], \"Term\": [\"abl\", \"abl\", \"accid\", \"alarm\", \"aliv\", \"aliv\", \"aliv\", \"aliv\", \"alright\", \"alright\", \"alright\", \"alright\", \"ambit\", \"anymor\", \"anymor\", \"anymor\", \"anymor\", \"await\", \"await\", \"await\", \"away\", \"away\", \"away\", \"away\", \"awhil\", \"awhil\", \"babi\", \"babi\", \"babi\", \"babi\", \"badli\", \"bald\", \"belief\", \"belief\", \"bell\", \"bell\", \"bell\", \"bell\", \"belov\", \"bench\", \"bench\", \"bibl\", \"bibl\", \"bitter\", \"bitter\", \"bitter\", \"bliss\", \"boogi\", \"boogi\", \"born\", \"born\", \"born\", \"born\", \"bowl\", \"bowl\", \"breath\", \"breath\", \"breath\", \"breath\", \"buhay\", \"built\", \"built\", \"built\", \"burn\", \"burn\", \"burn\", \"burn\", \"castl\", \"castl\", \"castl\", \"caus\", \"caus\", \"caus\", \"caus\", \"celebr\", \"celebr\", \"celebr\", \"chain\", \"chain\", \"chain\", \"chain\", \"chat\", \"choru\", \"choru\", \"choru\", \"choru\", \"chose\", \"chose\", \"chose\", \"clam\", \"clock\", \"clock\", \"clock\", \"clover\", \"coin\", \"colder\", \"colour\", \"colour\", \"come\", \"come\", \"come\", \"come\", \"companion\", \"cowboy\", \"cowboy\", \"crazi\", \"crazi\", \"crazi\", \"crazi\", \"cure\", \"cure\", \"cure\", \"cure\", \"darkest\", \"darl\", \"darl\", \"darl\", \"darl\", \"davi\", \"davi\", \"dawn\", \"dawn\", \"dawn\", \"dawn\", \"defend\", \"defend\", \"defend\", \"defin\", \"deni\", \"deni\", \"deni\", \"deni\", \"design\", \"design\", \"disintegr\", \"distanc\", \"distanc\", \"distanc\", \"dread\", \"dream\", \"dream\", \"dream\", \"dream\", \"dri\", \"dri\", \"dust\", \"dust\", \"dust\", \"dust\", \"dwell\", \"eager\", \"eddi\", \"eddi\", \"endless\", \"endless\", \"endless\", \"endless\", \"england\", \"england\", \"everyday\", \"everyday\", \"everyday\", \"everyday\", \"fail\", \"fail\", \"fail\", \"fall\", \"fall\", \"fall\", \"fall\", \"fallin\", \"fallin\", \"fallin\", \"fame\", \"fame\", \"fame\", \"feel\", \"feel\", \"feel\", \"feel\", \"fire\", \"fire\", \"fire\", \"foolin\", \"forgot\", \"forgot\", \"forgot\", \"forgot\", \"fortress\", \"fortress\", \"fortress\", \"galaxi\", \"galaxi\", \"galaxi\", \"georgia\", \"glorifi\", \"glorifi\", \"glorifi\", \"goin\", \"goin\", \"goin\", \"gone\", \"gone\", \"gone\", \"gone\", \"gonna\", \"gonna\", \"gonna\", \"gonna\", \"good\", \"good\", \"good\", \"good\", \"goodby\", \"goodby\", \"goodby\", \"goodby\", \"greas\", \"hallelujah\", \"harder\", \"harder\", \"harder\", \"harder\", \"head\", \"head\", \"head\", \"head\", \"headlin\", \"headlin\", \"heart\", \"heart\", \"heart\", \"heart\", \"hello\", \"hello\", \"hello\", \"high\", \"high\", \"high\", \"high\", \"hold\", \"hold\", \"hold\", \"hold\", \"hole\", \"hole\", \"hole\", \"hole\", \"hurtin\", \"hurtin\", \"hurtin\", \"husband\", \"husband\", \"husband\", \"hush\", \"hymn\", \"hymn\", \"jesu\", \"jesu\", \"jesu\", \"jesu\", \"john\", \"john\", \"join\", \"join\", \"keep\", \"keep\", \"keep\", \"keep\", \"keyboard\", \"know\", \"know\", \"know\", \"know\", \"kong\", \"kong\", \"kong\", \"lang\", \"law\", \"lawn\", \"lawn\", \"lean\", \"lean\", \"leav\", \"leav\", \"leav\", \"leav\", \"lesson\", \"lesson\", \"lesson\", \"life\", \"life\", \"life\", \"life\", \"lift\", \"lift\", \"lift\", \"lift\", \"like\", \"like\", \"like\", \"like\", \"lisa\", \"littl\", \"littl\", \"littl\", \"littl\", \"local\", \"local\", \"lone\", \"lone\", \"lone\", \"lone\", \"long\", \"long\", \"long\", \"long\", \"lord\", \"lord\", \"lord\", \"lord\", \"lost\", \"lost\", \"lost\", \"lost\", \"love\", \"love\", \"love\", \"love\", \"lucki\", \"lucki\", \"lucki\", \"lucki\", \"maker\", \"male\", \"mama\", \"mama\", \"mama\", \"mama\", \"mann\", \"mari\", \"mari\", \"mari\", \"matter\", \"matter\", \"matter\", \"matter\", \"mayb\", \"mayb\", \"mayb\", \"mayb\", \"messag\", \"messag\", \"messag\", \"mighti\", \"mighti\", \"mighti\", \"milk\", \"milk\", \"miracl\", \"miracl\", \"miracl\", \"mistleto\", \"mobil\", \"moonlit\", \"moonlit\", \"moonlit\", \"muscl\", \"myth\", \"myth\", \"nang\", \"nearli\", \"need\", \"need\", \"need\", \"need\", \"ngunit\", \"night\", \"night\", \"night\", \"night\", \"nile\", \"ooooh\", \"oyster\", \"paradis\", \"paradis\", \"paradis\", \"paradis\", \"park\", \"park\", \"park\", \"paul\", \"paul\", \"pave\", \"pave\", \"pearli\", \"peopl\", \"peopl\", \"peopl\", \"peopl\", \"pierc\", \"pierc\", \"plant\", \"plant\", \"porch\", \"porch\", \"postcard\", \"postcard\", \"postcard\", \"poverti\", \"power\", \"power\", \"power\", \"power\", \"problem\", \"problem\", \"puso\", \"quiet\", \"quiet\", \"quiet\", \"quietli\", \"ray\", \"ray\", \"reign\", \"reign\", \"reign\", \"reliev\", \"repeat\", \"repeat\", \"repeat\", \"repeat\", \"ride\", \"ride\", \"ride\", \"ride\", \"rider\", \"right\", \"right\", \"right\", \"right\", \"ring\", \"ring\", \"ring\", \"ring\", \"robert\", \"round\", \"round\", \"round\", \"round\", \"sacr\", \"sacr\", \"sadder\", \"safe\", \"safe\", \"safe\", \"safe\", \"sea\", \"sea\", \"sea\", \"sent\", \"sent\", \"sent\", \"sent\", \"seventi\", \"seventi\", \"shall\", \"shall\", \"shall\", \"sing\", \"sing\", \"sing\", \"sing\", \"skylin\", \"skylin\", \"skylin\", \"slam\", \"slam\", \"snow\", \"snow\", \"snow\", \"snow\", \"solut\", \"spot\", \"spot\", \"spot\", \"spread\", \"spread\", \"spread\", \"star\", \"star\", \"star\", \"star\", \"stay\", \"stay\", \"stay\", \"stay\", \"straight\", \"straight\", \"straight\", \"straight\", \"style\", \"style\", \"style\", \"sunday\", \"sunday\", \"sunday\", \"sunshin\", \"sunshin\", \"sunshin\", \"sunshin\", \"tearin\", \"tearin\", \"templ\", \"templ\", \"templ\", \"temptat\", \"temptat\", \"temptat\", \"thing\", \"thing\", \"thing\", \"thing\", \"think\", \"think\", \"think\", \"think\", \"thousand\", \"thousand\", \"thousand\", \"thousand\", \"time\", \"time\", \"time\", \"time\", \"tomorrow\", \"tomorrow\", \"tomorrow\", \"tomorrow\", \"tonight\", \"tonight\", \"tonight\", \"tonight\", \"toss\", \"toss\", \"toss\", \"travelin\", \"trickl\", \"vaniti\", \"vocal\", \"vocal\", \"wait\", \"wait\", \"wait\", \"wait\", \"wala\", \"walk\", \"walk\", \"walk\", \"walk\", \"wanna\", \"wanna\", \"wanna\", \"wanna\", \"want\", \"want\", \"want\", \"want\", \"warm\", \"warm\", \"warm\", \"warm\", \"weigh\", \"weigh\", \"weird\", \"wish\", \"wish\", \"wish\", \"wish\", \"world\", \"world\", \"world\", \"world\", \"wouldn\", \"wouldn\", \"wouldn\", \"wouldn\", \"wrong\", \"wrong\", \"wrong\", \"wrong\", \"yang\", \"year\", \"year\", \"year\", \"year\"]}, \"R\": 30, \"lambda.step\": 0.01, \"plot.opts\": {\"xlab\": \"PC1\", \"ylab\": \"PC2\"}, \"topic.order\": [2, 3, 4, 1]};\n",
              "\n",
              "function LDAvis_load_lib(url, callback){\n",
              "  var s = document.createElement('script');\n",
              "  s.src = url;\n",
              "  s.async = true;\n",
              "  s.onreadystatechange = s.onload = callback;\n",
              "  s.onerror = function(){console.warn(\"failed to load library \" + url);};\n",
              "  document.getElementsByTagName(\"head\")[0].appendChild(s);\n",
              "}\n",
              "\n",
              "if(typeof(LDAvis) !== \"undefined\"){\n",
              "   // already loaded: just create the visualization\n",
              "   !function(LDAvis){\n",
              "       new LDAvis(\"#\" + \"ldavis_el391211122170995046473229391\", ldavis_el391211122170995046473229391_data);\n",
              "   }(LDAvis);\n",
              "}else if(typeof define === \"function\" && define.amd){\n",
              "   // require.js is available: use it to load d3/LDAvis\n",
              "   require.config({paths: {d3: \"https://cdnjs.cloudflare.com/ajax/libs/d3/3.5.5/d3.min\"}});\n",
              "   require([\"d3\"], function(d3){\n",
              "      window.d3 = d3;\n",
              "      LDAvis_load_lib(\"https://cdn.rawgit.com/bmabey/pyLDAvis/files/ldavis.v1.0.0.js\", function(){\n",
              "        new LDAvis(\"#\" + \"ldavis_el391211122170995046473229391\", ldavis_el391211122170995046473229391_data);\n",
              "      });\n",
              "    });\n",
              "}else{\n",
              "    // require.js not available: dynamically load d3 & LDAvis\n",
              "    LDAvis_load_lib(\"https://cdnjs.cloudflare.com/ajax/libs/d3/3.5.5/d3.min.js\", function(){\n",
              "         LDAvis_load_lib(\"https://cdn.rawgit.com/bmabey/pyLDAvis/files/ldavis.v1.0.0.js\", function(){\n",
              "                 new LDAvis(\"#\" + \"ldavis_el391211122170995046473229391\", ldavis_el391211122170995046473229391_data);\n",
              "            })\n",
              "         });\n",
              "}\n",
              "</script>"
            ],
            "text/plain": [
              "PreparedData(topic_coordinates=              x         y  topics  cluster       Freq\n",
              "topic                                                \n",
              "1     -0.090254 -0.001246       1        1  46.153961\n",
              "2      0.041352 -0.051722       2        1  19.983566\n",
              "3      0.017793 -0.028431       3        1  18.824327\n",
              "0      0.031109  0.081398       4        1  15.038141, topic_info=     Category       Freq      Term       Total  loglift  logprob\n",
              "term                                                            \n",
              "1524  Default  29.000000      lisa   29.000000  30.0000  30.0000\n",
              "922   Default  30.000000      safe   30.000000  29.0000  29.0000\n",
              "1370  Default  29.000000     awhil   29.000000  28.0000  28.0000\n",
              "3208  Default  25.000000      eddi   25.000000  27.0000  27.0000\n",
              "1461  Default  22.000000  fortress   22.000000  26.0000  26.0000\n",
              "937   Default  30.000000    mighti   30.000000  25.0000  25.0000\n",
              "1731  Default  20.000000  travelin   20.000000  24.0000  24.0000\n",
              "390   Default  46.000000  tomorrow   46.000000  23.0000  23.0000\n",
              "565   Default  21.000000   distanc   21.000000  22.0000  22.0000\n",
              "1543  Default  17.000000      sacr   17.000000  21.0000  21.0000\n",
              "785   Default  28.000000    goodby   28.000000  20.0000  20.0000\n",
              "2555  Default  16.000000    tearin   16.000000  19.0000  19.0000\n",
              "2996  Default  15.000000      puso   15.000000  18.0000  18.0000\n",
              "3025  Default  15.000000      wala   15.000000  17.0000  17.0000\n",
              "3323  Default  19.000000      pave   19.000000  16.0000  16.0000\n",
              "1019  Default  24.000000     chain   24.000000  15.0000  15.0000\n",
              "638   Default  18.000000      mari   18.000000  14.0000  14.0000\n",
              "1432  Default  31.000000      lift   31.000000  13.0000  13.0000\n",
              "1424  Default  22.000000   temptat   22.000000  12.0000  12.0000\n",
              "28    Default  51.000000      lost   51.000000  11.0000  11.0000\n",
              "866   Default  31.000000      jesu   31.000000  10.0000  10.0000\n",
              "1565  Default  41.000000  thousand   41.000000   9.0000   9.0000\n",
              "251   Default  31.000000      stay   31.000000   8.0000   8.0000\n",
              "1276  Default  16.000000      park   16.000000   7.0000   7.0000\n",
              "10    Default  20.000000    anymor   20.000000   6.0000   6.0000\n",
              "754   Default  14.000000    sunday   14.000000   5.0000   5.0000\n",
              "160   Default  17.000000   sunshin   17.000000   4.0000   4.0000\n",
              "49    Default  15.000000      darl   15.000000   3.0000   3.0000\n",
              "1209  Default  19.000000      cure   19.000000   2.0000   2.0000\n",
              "792   Default  25.000000     style   25.000000   1.0000   1.0000\n",
              "...       ...        ...       ...         ...      ...      ...\n",
              "2010   Topic4   3.252514     bench    4.353516   1.6030  -6.7755\n",
              "2835   Topic4   3.903445     porch    5.244476   1.5993  -6.5931\n",
              "746    Topic4   4.076971       ray    5.477960   1.5992  -6.5496\n",
              "1609   Topic4   6.266628       sea    8.509506   1.5886  -6.1197\n",
              "754    Topic4  10.306468    sunday   14.405993   1.5597  -5.6222\n",
              "49     Topic4  10.702873      darl   15.444019   1.5279  -5.5844\n",
              "941    Topic4   6.075624      toss    8.421877   1.5680  -6.1507\n",
              "1019   Topic4  15.731908     chain   24.445854   1.4538  -5.1993\n",
              "785    Topic4  17.517193    goodby   28.573837   1.4053  -5.0918\n",
              "160    Topic4  11.131286   sunshin   17.657070   1.4332  -5.5452\n",
              "745    Topic4   6.765936     quiet    9.694016   1.5350  -6.0430\n",
              "10     Topic4  11.861011    anymor   20.272694   1.3586  -5.4817\n",
              "1495   Topic4   9.359653      dawn   15.500498   1.3901  -5.7185\n",
              "251    Topic4  14.199402      stay   31.637486   1.0934  -5.3017\n",
              "40     Topic4   9.472941   alright   17.291615   1.2928  -5.7065\n",
              "1209   Topic4   9.624261      cure   19.686611   1.1789  -5.6907\n",
              "460    Topic4   6.947874   endless   11.365128   1.4025  -6.0165\n",
              "131    Topic4  16.578211      feel   78.089546   0.3448  -5.1469\n",
              "141    Topic4   8.994810      warm   20.398771   1.0758  -5.7583\n",
              "29     Topic4  16.530659      love  119.215683  -0.0811  -5.1497\n",
              "758    Topic4  10.174472      wish   32.855301   0.7223  -5.6351\n",
              "9      Topic4  10.752283      wait   39.919678   0.5828  -5.5798\n",
              "242    Topic4  10.347158      long   40.536942   0.5291  -5.6182\n",
              "136    Topic4  10.562307     night   55.147469   0.2419  -5.5977\n",
              "99     Topic4   9.095993      star   32.884865   0.6094  -5.7471\n",
              "102    Topic4   9.700485     think   64.983505  -0.0074  -5.6828\n",
              "114    Topic4   9.330448     dream   57.793804   0.0710  -5.7217\n",
              "178    Topic4   8.822353      fall   40.717644   0.3652  -5.7777\n",
              "306    Topic4   9.165060     world   64.527733  -0.0571  -5.7395\n",
              "73     Topic4   9.450615      want   97.361603  -0.4378  -5.7089\n",
              "\n",
              "[279 rows x 6 columns], token_table=      Topic      Freq     Term\n",
              "term                          \n",
              "256       1  0.948926      abl\n",
              "256       4  0.029654      abl\n",
              "2384      3  0.940812    accid\n",
              "2107      2  0.938400    alarm\n",
              "489       1  0.741758     aliv\n",
              "489       2  0.098901     aliv\n",
              "489       3  0.098901     aliv\n",
              "489       4  0.049451     aliv\n",
              "40        1  0.173495  alright\n",
              "40        2  0.173495  alright\n",
              "40        3  0.115663  alright\n",
              "40        4  0.520483  alright\n",
              "3413      2  0.798215    ambit\n",
              "10        1  0.147982   anymor\n",
              "10        2  0.049327   anymor\n",
              "10        3  0.197310   anymor\n",
              "10        4  0.591929   anymor\n",
              "395       1  0.150895    await\n",
              "395       2  0.754476    await\n",
              "395       4  0.150895    await\n",
              "74        1  0.477355     away\n",
              "74        2  0.238678     away\n",
              "74        3  0.165238     away\n",
              "74        4  0.128519     away\n",
              "1370      1  0.033706    awhil\n",
              "1370      2  0.943767    awhil\n",
              "42        1  0.659812     babi\n",
              "42        2  0.089164     babi\n",
              "42        3  0.178328     babi\n",
              "42        4  0.071331     babi\n",
              "...     ...       ...      ...\n",
              "73        3  0.071897     want\n",
              "73        4  0.092439     want\n",
              "141       1  0.392180     warm\n",
              "141       2  0.098045     warm\n",
              "141       3  0.098045     warm\n",
              "141       4  0.441203     warm\n",
              "1975      1  0.953571    weigh\n",
              "1975      2  0.045408    weigh\n",
              "1707      1  0.983185    weird\n",
              "758       1  0.426111     wish\n",
              "758       2  0.182619     wish\n",
              "758       3  0.060873     wish\n",
              "758       4  0.304365     wish\n",
              "306       1  0.542402    world\n",
              "306       2  0.185967    world\n",
              "306       3  0.123978    world\n",
              "306       4  0.139475    world\n",
              "1402      1  0.214629   wouldn\n",
              "1402      2  0.143086   wouldn\n",
              "1402      3  0.572345   wouldn\n",
              "1402      4  0.071543   wouldn\n",
              "952       1  0.738496    wrong\n",
              "952       2  0.065161    wrong\n",
              "952       3  0.108602    wrong\n",
              "952       4  0.086882    wrong\n",
              "3070      2  0.809424     yang\n",
              "232       1  0.494572     year\n",
              "232       2  0.094204     year\n",
              "232       3  0.400368     year\n",
              "232       4  0.023551     year\n",
              "\n",
              "[595 rows x 3 columns], R=30, lambda_step=0.01, plot_opts={'xlab': 'PC1', 'ylab': 'PC2'}, topic_order=[2, 3, 4, 1])"
            ]
          },
          "execution_count": 39,
          "metadata": {},
          "output_type": "execute_result"
        }
      ],
      "source": [
        "pyLDAvis.enable_notebook()\n",
        "id2word = normal_dictionary\n",
        "vis = pyLDAvis.gensim.prepare(lda_model_normal, tfidf_corpus_normal, id2word)\n",
        "vis"
      ]
    },
    {
      "cell_type": "code",
      "execution_count": null,
      "metadata": {
        "id": "uoa63EroAHsL"
      },
      "outputs": [],
      "source": []
    }
  ],
  "metadata": {
    "kernelspec": {
      "display_name": "Python 3",
      "language": "python",
      "name": "python3"
    },
    "language_info": {
      "codemirror_mode": {
        "name": "ipython",
        "version": 3
      },
      "file_extension": ".py",
      "mimetype": "text/x-python",
      "name": "python",
      "nbconvert_exporter": "python",
      "pygments_lexer": "ipython3",
      "version": "3.7.0"
    },
    "colab": {
      "provenance": [],
      "include_colab_link": true
    }
  },
  "nbformat": 4,
  "nbformat_minor": 0
}